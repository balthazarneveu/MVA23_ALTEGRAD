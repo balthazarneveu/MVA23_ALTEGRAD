{
  "cells": [
    {
      "cell_type": "markdown",
      "metadata": {
        "id": "DsD-LMKT7XMt"
      },
      "source": [
        "<center><h2>ALTeGraD 2023<br>Lab Session 4: NLP Frameworks</h2> 07 / 11 / 2023<br> Dr. G. Shang, H. Abdine<br><br>\n",
        "\n",
        "\n",
        "<b>Student name:</b> [fill me]\n",
        "\n",
        "</center>\n",
        "\n",
        "In this lab you will learn how to use Fairseq and HuggingFace transformers - The most used libraries by researchers and developers  and finetune language models - to finetune a pretrained French language model ($RoBERTa_{small}^{fr}$) on the sentiment analysis dataset CLS_Books where each review is labeled as positive or negative and finetune a variant of BLOOM on a question/answer dataset."
      ]
    },
    {
      "cell_type": "markdown",
      "metadata": {
        "id": "GwN3KCm5Ec6r"
      },
      "source": [
        "## <b>Preparing the environment and installing libraries, models and data for Part 1 and Part 2</b>\n",
        "\n",
        "In this section, we will setup the environment on Google Colab (first cell), download the pretraind model (second cell) and the finetuning dataset (third cell). In case you are using your personal computer maket sure to:\n",
        "\n",
        "1- Use Ubuntu (or any similar linux distribution) or MacOS. <b> P.S. In case you have Windows, please use Google Colab. </b>\n",
        "\n",
        "2- <b>Use Anaconda</b> and create new environment if you already installed Fairseq since we will be using a slightly modified version of this library."
      ]
    },
    {
      "cell_type": "code",
      "execution_count": null,
      "metadata": {
        "id": "6cGqZ9ZB84Cd"
      },
      "outputs": [],
      "source": [
        "!mkdir altegrad.lab3 && cd altegrad.lab3 && mkdir libs\n",
        "%cd altegrad.lab3/libs\n",
        "!git clone https://github.com/hadi-abdine/fairseq\n",
        "!pip install git+https://github.com/hadi-abdine/fairseq\n",
        "!git clone https://github.com/huggingface/transformers.git\n",
        "!pip install git+https://github.com/huggingface/transformers.git\n",
        "!pip install datasets\n",
        "!pip install evaluate\n",
        "!pip install sentencepiece\n",
        "!pip install tensorboardX\n",
        "%load_ext tensorboard"
      ]
    },
    {
      "cell_type": "code",
      "execution_count": null,
      "metadata": {
        "id": "rxHffsPm-EqW"
      },
      "outputs": [],
      "source": [
        "!cd .. && mkdir models\n",
        "%cd ../models\n",
        "\n",
        "!wget -c 'https://nuage.lix.polytechnique.fr/index.php/s/E4otcD7B9jm2AWx/download/RoBERTa_small_fr.zip' -O \"model_fairseq.zip\"\n",
        "!unzip model_fairseq.zip\n",
        "!rm model_fairseq.zip\n",
        "!rm -rf __MACOSX/\n",
        "\n",
        "!wget -c \"https://nuage.lix.polytechnique.fr/index.php/s/yYQjg9XWekttG5j/download/RoBERTa_small_fr_HuggingFace.zip\" -O \"model_huggingface.zip\"\n",
        "!unzip model_huggingface.zip\n",
        "!rm model_huggingface.zip\n",
        "!rm -rf __MACOSX/"
      ]
    },
    {
      "cell_type": "code",
      "execution_count": null,
      "metadata": {
        "id": "HfZ_znATNdya"
      },
      "outputs": [],
      "source": [
        "!cd .. && mkdir data\n",
        "%cd ../data\n",
        "!wget -c \"https://nuage.lix.polytechnique.fr/index.php/s/EBHqfR776oCE2Nj/download/cls.books.zip\" -O \"cls.books.zip\"\n",
        "!unzip cls.books.zip\n",
        "!rm cls.books.zip\n",
        "!rm -rf __MACOSX/\n",
        "!mkdir cls.books-json\n",
        "%cd .."
      ]
    },
    {
      "cell_type": "markdown",
      "metadata": {
        "id": "H40TxVIvEWyu"
      },
      "source": [
        "# <b>Part 1: Fairseq</b>\n",
        "\n",
        "In the first part of this lab, you will finetune the given model on model on CLS_Books dataset using <b>Fairseq</b> by following these steps:<br>\n",
        "\n",
        " 1- <b>Tokenize the reviews</b> (Train, Valid and Test) using trained sentencepiece tokenizer provided alongside the pretrained model.[using sentencepiece library and setting the parameter <b>out_type=str</b> in the encode function].<br>\n",
        " 2- <b>Binarize the tokenized reviews and their labels</b> using the preprocess python script provided in Fairseq.<br>\n",
        " 3- <b>Fintune the pretrained $RoBERTa_{small}^{fr}$ model</b> using the train python script provided in Fairseq.<br>\n",
        "\n",
        " Finally, you will finish the first part by training a random $RoBERTa_{small}^{fr}$ model on the CLS_Books dataset and compare the results against the pretrained model while <b>visualizing the accuracies on tensorboard</b>."
      ]
    },
    {
      "cell_type": "markdown",
      "metadata": {
        "id": "TvpyZEexOXHm"
      },
      "source": [
        "## <b> Number of parameters of the model</b>\n",
        "\n",
        "In this section you have to compute the number of parameters of $RoBERTa_{small}^{fr}$ using PyTorch (Only the base model with out the head). (<b>Hint:</b> you can check the architecture of the model using model['model'])"
      ]
    },
    {
      "cell_type": "code",
      "execution_count": 6,
      "metadata": {
        "id": "j7isz60LOwlV"
      },
      "outputs": [
        {
          "name": "stderr",
          "output_type": "stream",
          "text": [
            "2023-11-10 17:07:09 | INFO | fairseq.file_utils | loading archive file ../models/RoBERTa_small_fr\n"
          ]
        },
        {
          "name": "stderr",
          "output_type": "stream",
          "text": [
            "2023-11-10 17:07:10 | INFO | fairseq.tasks.masked_lm | dictionary: 31999 types\n",
            "2023-11-10 17:07:10 | INFO | fairseq.models.roberta.model | {'_name': None, 'common': {'_name': None, 'no_progress_bar': False, 'log_interval': 50, 'log_format': None, 'log_file': None, 'aim_repo': None, 'aim_run_hash': None, 'tensorboard_logdir': 'pretraining_tensorboard', 'wandb_project': None, 'azureml_logging': False, 'seed': 1, 'cpu': False, 'tpu': False, 'bf16': False, 'memory_efficient_bf16': False, 'fp16': True, 'memory_efficient_fp16': True, 'fp16_no_flatten_grads': False, 'fp16_init_scale': 128, 'fp16_scale_window': None, 'fp16_scale_tolerance': 0.0, 'on_cpu_convert_precision': False, 'min_loss_scale': 0.0001, 'threshold_loss_scale': None, 'amp': False, 'amp_batch_retries': 2, 'amp_init_scale': 128, 'amp_scale_window': None, 'user_dir': None, 'empty_cache_freq': 0, 'all_gather_list_size': 16384, 'model_parallel_size': 1, 'quantization_config_path': None, 'profile': False, 'reset_logging': False, 'suppress_crashes': False, 'use_plasma_view': False, 'plasma_path': '/tmp/plasma'}, 'common_eval': {'_name': None, 'path': None, 'post_process': None, 'quiet': False, 'model_overrides': '{}', 'results_path': None}, 'distributed_training': {'_name': None, 'distributed_world_size': 2, 'distributed_num_procs': 2, 'distributed_rank': 0, 'distributed_backend': 'nccl', 'distributed_init_method': 'tcp://localhost:13395', 'distributed_port': -1, 'device_id': 0, 'distributed_no_spawn': False, 'ddp_backend': 'pytorch_ddp', 'ddp_comm_hook': 'none', 'bucket_cap_mb': 25, 'fix_batches_to_gpus': False, 'find_unused_parameters': False, 'gradient_as_bucket_view': False, 'fast_stat_sync': False, 'heartbeat_timeout': -1, 'broadcast_buffers': False, 'slowmo_momentum': None, 'slowmo_base_algorithm': 'localsgd', 'localsgd_frequency': 3, 'nprocs_per_node': 2, 'pipeline_model_parallel': False, 'pipeline_balance': None, 'pipeline_devices': None, 'pipeline_chunks': 0, 'pipeline_encoder_balance': None, 'pipeline_encoder_devices': None, 'pipeline_decoder_balance': None, 'pipeline_decoder_devices': None, 'pipeline_checkpoint': 'never', 'zero_sharding': 'none', 'fp16': True, 'memory_efficient_fp16': True, 'tpu': False, 'no_reshard_after_forward': False, 'fp32_reduce_scatter': False, 'cpu_offload': False, 'use_sharded_state': False, 'not_fsdp_flatten_parameters': False}, 'dataset': {'_name': None, 'num_workers': 1, 'skip_invalid_size_inputs_valid_test': True, 'max_tokens': 40000000, 'batch_size': 128, 'required_batch_size_multiple': 8, 'required_seq_len_multiple': 1, 'dataset_impl': None, 'data_buffer_size': 10, 'train_subset': 'train', 'valid_subset': 'valid', 'combine_valid_subsets': None, 'ignore_unused_valid_subsets': False, 'validate_interval': 1, 'validate_interval_updates': 0, 'validate_after_updates': 0, 'fixed_validation_seed': None, 'disable_validation': False, 'max_tokens_valid': 40000000, 'batch_size_valid': 128, 'max_valid_steps': None, 'curriculum': 0, 'gen_subset': 'test', 'num_shards': 1, 'shard_id': 0, 'grouped_shuffling': False, 'update_epoch_batch_itr': False, 'update_ordered_indices_seed': False}, 'optimization': {'_name': None, 'max_epoch': 10, 'max_update': 312500, 'stop_time_hours': 0.0, 'clip_norm': 0.1, 'sentence_avg': False, 'update_freq': [1], 'lr': [0.0001], 'stop_min_lr': -1.0, 'use_bmuf': False, 'skip_remainder_batch': False}, 'checkpoint': {'_name': None, 'save_dir': 'pretraining_checkpoints', 'restore_file': 'random.pt', 'continue_once': None, 'finetune_from_model': None, 'reset_dataloader': True, 'reset_lr_scheduler': False, 'reset_meters': True, 'reset_optimizer': True, 'optimizer_overrides': '{}', 'save_interval': 1, 'save_interval_updates': 50000, 'keep_interval_updates': -1, 'keep_interval_updates_pattern': -1, 'keep_last_epochs': -1, 'keep_best_checkpoints': -1, 'no_save': False, 'no_epoch_checkpoints': False, 'no_last_checkpoints': False, 'no_save_optimizer_state': False, 'best_checkpoint_metric': 'loss', 'maximize_best_checkpoint_metric': False, 'patience': -1, 'checkpoint_suffix': '', 'checkpoint_shard_count': 1, 'load_checkpoint_on_all_dp_ranks': False, 'write_checkpoints_asynchronously': False, 'model_parallel_size': 1}, 'bmuf': {'_name': None, 'block_lr': 1.0, 'block_momentum': 0.875, 'global_sync_iter': 50, 'warmup_iterations': 500, 'use_nbm': False, 'average_sync': False, 'distributed_world_size': 2}, 'generation': {'_name': None, 'beam': 5, 'nbest': 1, 'max_len_a': 0.0, 'max_len_b': 200, 'min_len': 1, 'match_source_len': False, 'unnormalized': False, 'no_early_stop': False, 'no_beamable_mm': False, 'lenpen': 1.0, 'unkpen': 0.0, 'replace_unk': None, 'sacrebleu': False, 'score_reference': False, 'prefix_size': 0, 'no_repeat_ngram_size': 0, 'sampling': False, 'sampling_topk': -1, 'sampling_topp': -1.0, 'constraints': None, 'temperature': 1.0, 'diverse_beam_groups': -1, 'diverse_beam_strength': 0.5, 'diversity_rate': -1.0, 'print_alignment': None, 'print_step': False, 'lm_path': None, 'lm_weight': 0.0, 'iter_decode_eos_penalty': 0.0, 'iter_decode_max_iter': 10, 'iter_decode_force_max_iter': False, 'iter_decode_with_beam': 1, 'iter_decode_with_external_reranker': False, 'retain_iter_history': False, 'retain_dropout': False, 'retain_dropout_modules': None, 'decoding_format': None, 'no_seed_provided': False, 'eos_token': None}, 'eval_lm': {'_name': None, 'output_word_probs': False, 'output_word_stats': False, 'context_window': 0, 'softmax_batch': 9223372036854775807}, 'interactive': {'_name': None, 'buffer_size': 0, 'input': '-'}, 'model': Namespace(no_progress_bar=False, log_interval=50, log_format=None, log_file=None, aim_repo=None, aim_run_hash=None, tensorboard_logdir='pretraining_tensorboard', wandb_project=None, azureml_logging=False, seed=1, cpu=False, tpu=False, bf16=False, memory_efficient_bf16=False, fp16=True, memory_efficient_fp16=True, fp16_no_flatten_grads=False, fp16_init_scale=128, fp16_scale_window=None, fp16_scale_tolerance=0.0, on_cpu_convert_precision=False, min_loss_scale=0.0001, threshold_loss_scale=None, amp=False, amp_batch_retries=2, amp_init_scale=128, amp_scale_window=None, user_dir=None, empty_cache_freq=0, all_gather_list_size=16384, model_parallel_size=1, quantization_config_path=None, profile=False, reset_logging=False, suppress_crashes=False, use_plasma_view=False, plasma_path='/tmp/plasma', criterion='cross_entropy', tokenizer=None, bpe='gpt2', optimizer='adam', lr_scheduler='polynomial_decay', scoring='bleu', task='masked_lm', num_workers=1, skip_invalid_size_inputs_valid_test=True, max_tokens=40000000, batch_size=128, required_batch_size_multiple=8, required_seq_len_multiple=1, dataset_impl=None, data_buffer_size=10, train_subset='train', valid_subset='valid', combine_valid_subsets=None, ignore_unused_valid_subsets=False, validate_interval=1, validate_interval_updates=0, validate_after_updates=0, fixed_validation_seed=None, disable_validation=False, max_tokens_valid=40000000, batch_size_valid=128, max_valid_steps=None, curriculum=0, gen_subset='test', num_shards=1, shard_id=0, grouped_shuffling=False, update_epoch_batch_itr=False, update_ordered_indices_seed=False, distributed_world_size=2, distributed_num_procs=2, distributed_rank=0, distributed_backend='nccl', distributed_init_method=None, distributed_port=-1, device_id=0, distributed_no_spawn=False, ddp_backend='pytorch_ddp', ddp_comm_hook='none', bucket_cap_mb=25, fix_batches_to_gpus=False, find_unused_parameters=False, gradient_as_bucket_view=False, fast_stat_sync=False, heartbeat_timeout=-1, broadcast_buffers=False, slowmo_momentum=None, slowmo_base_algorithm='localsgd', localsgd_frequency=3, nprocs_per_node=2, pipeline_model_parallel=False, pipeline_balance=None, pipeline_devices=None, pipeline_chunks=0, pipeline_encoder_balance=None, pipeline_encoder_devices=None, pipeline_decoder_balance=None, pipeline_decoder_devices=None, pipeline_checkpoint='never', zero_sharding='none', no_reshard_after_forward=False, fp32_reduce_scatter=False, cpu_offload=False, use_sharded_state=False, not_fsdp_flatten_parameters=False, arch='roberta_small', max_epoch=10, max_update=312500, stop_time_hours=0, clip_norm=0.1, sentence_avg=False, update_freq=[1], lr=[0.0001], stop_min_lr=-1.0, use_bmuf=False, skip_remainder_batch=False, save_dir='pretraining_checkpoints', restore_file='random.pt', continue_once=None, finetune_from_model=None, reset_dataloader=True, reset_lr_scheduler=False, reset_meters=True, reset_optimizer=True, optimizer_overrides='{}', save_interval=1, save_interval_updates=50000, keep_interval_updates=-1, keep_interval_updates_pattern=-1, keep_last_epochs=-1, keep_best_checkpoints=-1, no_save=False, no_epoch_checkpoints=False, no_last_checkpoints=False, no_save_optimizer_state=False, best_checkpoint_metric='loss', maximize_best_checkpoint_metric=False, patience=-1, checkpoint_suffix='', checkpoint_shard_count=1, load_checkpoint_on_all_dp_ranks=False, write_checkpoints_asynchronously=False, store_ema=False, ema_decay=0.9999, ema_start_update=0, ema_seed_model=None, ema_update_freq=1, ema_fp32=False, encoder_layerdrop=0, encoder_layers_to_keep=None, quant_noise_pq=0, quant_noise_pq_block_size=8, quant_noise_scalar=0, spectral_norm_classification_head=False, min_params_to_wrap=100000000, mha_reg_scale_factor=0.0, ffn_reg_scale_factor=0.0, mha_heads_to_keep=-1, ffn_blocks_to_remove=-1, layers_to_unfreeze=None, data='/home/user/MVA23_ALTEGRAD/Lab4/models/RoBERTa_small_fr', sample_break_mode='eos', tokens_per_sample=254, mask_prob=0.15, leave_unmasked_prob=0.1, random_token_prob=0.1, freq_weighted_replacement=False, mask_whole_words=False, mask_multiple_length=1, mask_stdev=0.0, shorten_method='truncate', shorten_data_split_list='', include_target_tokens=False, adam_betas='(0.9, 0.98)', adam_eps=1e-06, weight_decay=0.01, use_old_adam=False, fp16_adam_stats=False, warmup_updates=18750, force_anneal=None, end_learning_rate=0.0, power=1.0, total_num_update='312500', pad=1, eos=2, unk=3, max_positions=256, dropout=0.05, no_seed_provided=False, encoder_layers=4, encoder_embed_dim=512, encoder_ffn_embed_dim=512, encoder_attention_heads=8, attention_dropout=0.1, activation_dropout=0.0, pooler_dropout=0.0, max_source_positions=256, no_token_positional_embeddings=False, encoder_learned_pos=True, layernorm_embedding=True, no_scale_embedding=True, activation_fn='gelu', encoder_normalize_before=False, pooler_activation_fn='tanh', untie_weights_roberta=False, adaptive_input=False, _name='roberta_small', load_checkpoint_heads=True, sentencepiece_model='../models/RoBERTa_small_fr/sentencepiece.bpe.model'), 'task': {'_name': 'masked_lm', 'data': '/home/user/MVA23_ALTEGRAD/Lab4/models/RoBERTa_small_fr', 'sample_break_mode': 'eos', 'tokens_per_sample': 254, 'mask_prob': 0.15, 'leave_unmasked_prob': 0.1, 'random_token_prob': 0.1, 'freq_weighted_replacement': False, 'mask_whole_words': False, 'mask_multiple_length': 1, 'mask_stdev': 0.0, 'shorten_method': 'truncate', 'shorten_data_split_list': '', 'seed': 1, 'include_target_tokens': False}, 'criterion': {'_name': 'cross_entropy', 'sentence_avg': False}, 'optimizer': {'_name': 'adam', 'adam_betas': '(0.9, 0.98)', 'adam_eps': 1e-06, 'weight_decay': 0.01, 'use_old_adam': False, 'fp16_adam_stats': False, 'tpu': False, 'lr': [0.0001]}, 'lr_scheduler': {'_name': 'polynomial_decay', 'warmup_updates': 18750, 'force_anneal': None, 'end_learning_rate': 0.0, 'power': 1.0, 'total_num_update': 312500.0, 'lr': [0.0001]}, 'scoring': {'_name': 'bleu', 'pad': 1, 'eos': 2, 'unk': 3}, 'bpe': {'_name': 'gpt2', 'gpt2_encoder_json': 'https://dl.fbaipublicfiles.com/fairseq/gpt2_bpe/encoder.json', 'gpt2_vocab_bpe': 'https://dl.fbaipublicfiles.com/fairseq/gpt2_bpe/vocab.bpe'}, 'tokenizer': None, 'ema': {'_name': None, 'store_ema': False, 'ema_decay': 0.9999, 'ema_start_update': 0, 'ema_seed_model': None, 'ema_update_freq': 1, 'ema_fp32': False}}\n"
          ]
        },
        {
          "name": "stdout",
          "output_type": "stream",
          "text": [
            "The total number of parameters: \n"
          ]
        }
      ],
      "source": [
        "# import torch\n",
        "# model = torch.load(\"../models/RoBERTa_small_fr/model.pt\")\n",
        "\n",
        "\n"
      ]
    },
    {
      "cell_type": "code",
      "execution_count": 14,
      "metadata": {},
      "outputs": [],
      "source": [
        "from prettytable import PrettyTable\n",
        "from typing import List\n",
        "def count_parameters(current_model: torch.nn.Module, table_flag: bool =True, details: List[List[str]]=[]) -> int:\n",
        "    \"\"\"Created Count parameters for each torch module\n",
        "    \"\"\"\n",
        "    table = PrettyTable([\"Modules\", \"Parameters\", \"Analytic validation\", \"Analytic formula\"])\n",
        "    total_params = 0\n",
        "    for index, (name, parameter) in enumerate(current_model.named_parameters()):\n",
        "        if not parameter.requires_grad:\n",
        "            continue\n",
        "        params = parameter.numel()\n",
        "        detail = [\"\", \"\"] if index>=len(details) else details[index]\n",
        "        table.add_row([name, params, detail[0], detail[1]])\n",
        "        total_params += params\n",
        "    if table_flag:\n",
        "        print(table)\n",
        "    print(f\"Total Trainable Params: {total_params}\")\n",
        "    return total_params"
      ]
    },
    {
      "cell_type": "code",
      "execution_count": 8,
      "metadata": {},
      "outputs": [
        {
          "name": "stderr",
          "output_type": "stream",
          "text": [
            "2023-11-10 17:07:47 | INFO | fairseq.file_utils | loading archive file ../models/RoBERTa_small_fr\n",
            "2023-11-10 17:07:47 | INFO | fairseq.tasks.masked_lm | dictionary: 31999 types\n",
            "2023-11-10 17:07:48 | INFO | fairseq.models.roberta.model | {'_name': None, 'common': {'_name': None, 'no_progress_bar': False, 'log_interval': 50, 'log_format': None, 'log_file': None, 'aim_repo': None, 'aim_run_hash': None, 'tensorboard_logdir': 'pretraining_tensorboard', 'wandb_project': None, 'azureml_logging': False, 'seed': 1, 'cpu': False, 'tpu': False, 'bf16': False, 'memory_efficient_bf16': False, 'fp16': True, 'memory_efficient_fp16': True, 'fp16_no_flatten_grads': False, 'fp16_init_scale': 128, 'fp16_scale_window': None, 'fp16_scale_tolerance': 0.0, 'on_cpu_convert_precision': False, 'min_loss_scale': 0.0001, 'threshold_loss_scale': None, 'amp': False, 'amp_batch_retries': 2, 'amp_init_scale': 128, 'amp_scale_window': None, 'user_dir': None, 'empty_cache_freq': 0, 'all_gather_list_size': 16384, 'model_parallel_size': 1, 'quantization_config_path': None, 'profile': False, 'reset_logging': False, 'suppress_crashes': False, 'use_plasma_view': False, 'plasma_path': '/tmp/plasma'}, 'common_eval': {'_name': None, 'path': None, 'post_process': None, 'quiet': False, 'model_overrides': '{}', 'results_path': None}, 'distributed_training': {'_name': None, 'distributed_world_size': 2, 'distributed_num_procs': 2, 'distributed_rank': 0, 'distributed_backend': 'nccl', 'distributed_init_method': 'tcp://localhost:13395', 'distributed_port': -1, 'device_id': 0, 'distributed_no_spawn': False, 'ddp_backend': 'pytorch_ddp', 'ddp_comm_hook': 'none', 'bucket_cap_mb': 25, 'fix_batches_to_gpus': False, 'find_unused_parameters': False, 'gradient_as_bucket_view': False, 'fast_stat_sync': False, 'heartbeat_timeout': -1, 'broadcast_buffers': False, 'slowmo_momentum': None, 'slowmo_base_algorithm': 'localsgd', 'localsgd_frequency': 3, 'nprocs_per_node': 2, 'pipeline_model_parallel': False, 'pipeline_balance': None, 'pipeline_devices': None, 'pipeline_chunks': 0, 'pipeline_encoder_balance': None, 'pipeline_encoder_devices': None, 'pipeline_decoder_balance': None, 'pipeline_decoder_devices': None, 'pipeline_checkpoint': 'never', 'zero_sharding': 'none', 'fp16': True, 'memory_efficient_fp16': True, 'tpu': False, 'no_reshard_after_forward': False, 'fp32_reduce_scatter': False, 'cpu_offload': False, 'use_sharded_state': False, 'not_fsdp_flatten_parameters': False}, 'dataset': {'_name': None, 'num_workers': 1, 'skip_invalid_size_inputs_valid_test': True, 'max_tokens': 40000000, 'batch_size': 128, 'required_batch_size_multiple': 8, 'required_seq_len_multiple': 1, 'dataset_impl': None, 'data_buffer_size': 10, 'train_subset': 'train', 'valid_subset': 'valid', 'combine_valid_subsets': None, 'ignore_unused_valid_subsets': False, 'validate_interval': 1, 'validate_interval_updates': 0, 'validate_after_updates': 0, 'fixed_validation_seed': None, 'disable_validation': False, 'max_tokens_valid': 40000000, 'batch_size_valid': 128, 'max_valid_steps': None, 'curriculum': 0, 'gen_subset': 'test', 'num_shards': 1, 'shard_id': 0, 'grouped_shuffling': False, 'update_epoch_batch_itr': False, 'update_ordered_indices_seed': False}, 'optimization': {'_name': None, 'max_epoch': 10, 'max_update': 312500, 'stop_time_hours': 0.0, 'clip_norm': 0.1, 'sentence_avg': False, 'update_freq': [1], 'lr': [0.0001], 'stop_min_lr': -1.0, 'use_bmuf': False, 'skip_remainder_batch': False}, 'checkpoint': {'_name': None, 'save_dir': 'pretraining_checkpoints', 'restore_file': 'random.pt', 'continue_once': None, 'finetune_from_model': None, 'reset_dataloader': True, 'reset_lr_scheduler': False, 'reset_meters': True, 'reset_optimizer': True, 'optimizer_overrides': '{}', 'save_interval': 1, 'save_interval_updates': 50000, 'keep_interval_updates': -1, 'keep_interval_updates_pattern': -1, 'keep_last_epochs': -1, 'keep_best_checkpoints': -1, 'no_save': False, 'no_epoch_checkpoints': False, 'no_last_checkpoints': False, 'no_save_optimizer_state': False, 'best_checkpoint_metric': 'loss', 'maximize_best_checkpoint_metric': False, 'patience': -1, 'checkpoint_suffix': '', 'checkpoint_shard_count': 1, 'load_checkpoint_on_all_dp_ranks': False, 'write_checkpoints_asynchronously': False, 'model_parallel_size': 1}, 'bmuf': {'_name': None, 'block_lr': 1.0, 'block_momentum': 0.875, 'global_sync_iter': 50, 'warmup_iterations': 500, 'use_nbm': False, 'average_sync': False, 'distributed_world_size': 2}, 'generation': {'_name': None, 'beam': 5, 'nbest': 1, 'max_len_a': 0.0, 'max_len_b': 200, 'min_len': 1, 'match_source_len': False, 'unnormalized': False, 'no_early_stop': False, 'no_beamable_mm': False, 'lenpen': 1.0, 'unkpen': 0.0, 'replace_unk': None, 'sacrebleu': False, 'score_reference': False, 'prefix_size': 0, 'no_repeat_ngram_size': 0, 'sampling': False, 'sampling_topk': -1, 'sampling_topp': -1.0, 'constraints': None, 'temperature': 1.0, 'diverse_beam_groups': -1, 'diverse_beam_strength': 0.5, 'diversity_rate': -1.0, 'print_alignment': None, 'print_step': False, 'lm_path': None, 'lm_weight': 0.0, 'iter_decode_eos_penalty': 0.0, 'iter_decode_max_iter': 10, 'iter_decode_force_max_iter': False, 'iter_decode_with_beam': 1, 'iter_decode_with_external_reranker': False, 'retain_iter_history': False, 'retain_dropout': False, 'retain_dropout_modules': None, 'decoding_format': None, 'no_seed_provided': False, 'eos_token': None}, 'eval_lm': {'_name': None, 'output_word_probs': False, 'output_word_stats': False, 'context_window': 0, 'softmax_batch': 9223372036854775807}, 'interactive': {'_name': None, 'buffer_size': 0, 'input': '-'}, 'model': Namespace(no_progress_bar=False, log_interval=50, log_format=None, log_file=None, aim_repo=None, aim_run_hash=None, tensorboard_logdir='pretraining_tensorboard', wandb_project=None, azureml_logging=False, seed=1, cpu=False, tpu=False, bf16=False, memory_efficient_bf16=False, fp16=True, memory_efficient_fp16=True, fp16_no_flatten_grads=False, fp16_init_scale=128, fp16_scale_window=None, fp16_scale_tolerance=0.0, on_cpu_convert_precision=False, min_loss_scale=0.0001, threshold_loss_scale=None, amp=False, amp_batch_retries=2, amp_init_scale=128, amp_scale_window=None, user_dir=None, empty_cache_freq=0, all_gather_list_size=16384, model_parallel_size=1, quantization_config_path=None, profile=False, reset_logging=False, suppress_crashes=False, use_plasma_view=False, plasma_path='/tmp/plasma', criterion='cross_entropy', tokenizer=None, bpe='gpt2', optimizer='adam', lr_scheduler='polynomial_decay', scoring='bleu', task='masked_lm', num_workers=1, skip_invalid_size_inputs_valid_test=True, max_tokens=40000000, batch_size=128, required_batch_size_multiple=8, required_seq_len_multiple=1, dataset_impl=None, data_buffer_size=10, train_subset='train', valid_subset='valid', combine_valid_subsets=None, ignore_unused_valid_subsets=False, validate_interval=1, validate_interval_updates=0, validate_after_updates=0, fixed_validation_seed=None, disable_validation=False, max_tokens_valid=40000000, batch_size_valid=128, max_valid_steps=None, curriculum=0, gen_subset='test', num_shards=1, shard_id=0, grouped_shuffling=False, update_epoch_batch_itr=False, update_ordered_indices_seed=False, distributed_world_size=2, distributed_num_procs=2, distributed_rank=0, distributed_backend='nccl', distributed_init_method=None, distributed_port=-1, device_id=0, distributed_no_spawn=False, ddp_backend='pytorch_ddp', ddp_comm_hook='none', bucket_cap_mb=25, fix_batches_to_gpus=False, find_unused_parameters=False, gradient_as_bucket_view=False, fast_stat_sync=False, heartbeat_timeout=-1, broadcast_buffers=False, slowmo_momentum=None, slowmo_base_algorithm='localsgd', localsgd_frequency=3, nprocs_per_node=2, pipeline_model_parallel=False, pipeline_balance=None, pipeline_devices=None, pipeline_chunks=0, pipeline_encoder_balance=None, pipeline_encoder_devices=None, pipeline_decoder_balance=None, pipeline_decoder_devices=None, pipeline_checkpoint='never', zero_sharding='none', no_reshard_after_forward=False, fp32_reduce_scatter=False, cpu_offload=False, use_sharded_state=False, not_fsdp_flatten_parameters=False, arch='roberta_small', max_epoch=10, max_update=312500, stop_time_hours=0, clip_norm=0.1, sentence_avg=False, update_freq=[1], lr=[0.0001], stop_min_lr=-1.0, use_bmuf=False, skip_remainder_batch=False, save_dir='pretraining_checkpoints', restore_file='random.pt', continue_once=None, finetune_from_model=None, reset_dataloader=True, reset_lr_scheduler=False, reset_meters=True, reset_optimizer=True, optimizer_overrides='{}', save_interval=1, save_interval_updates=50000, keep_interval_updates=-1, keep_interval_updates_pattern=-1, keep_last_epochs=-1, keep_best_checkpoints=-1, no_save=False, no_epoch_checkpoints=False, no_last_checkpoints=False, no_save_optimizer_state=False, best_checkpoint_metric='loss', maximize_best_checkpoint_metric=False, patience=-1, checkpoint_suffix='', checkpoint_shard_count=1, load_checkpoint_on_all_dp_ranks=False, write_checkpoints_asynchronously=False, store_ema=False, ema_decay=0.9999, ema_start_update=0, ema_seed_model=None, ema_update_freq=1, ema_fp32=False, encoder_layerdrop=0, encoder_layers_to_keep=None, quant_noise_pq=0, quant_noise_pq_block_size=8, quant_noise_scalar=0, spectral_norm_classification_head=False, min_params_to_wrap=100000000, mha_reg_scale_factor=0.0, ffn_reg_scale_factor=0.0, mha_heads_to_keep=-1, ffn_blocks_to_remove=-1, layers_to_unfreeze=None, data='/home/user/MVA23_ALTEGRAD/Lab4/models/RoBERTa_small_fr', sample_break_mode='eos', tokens_per_sample=254, mask_prob=0.15, leave_unmasked_prob=0.1, random_token_prob=0.1, freq_weighted_replacement=False, mask_whole_words=False, mask_multiple_length=1, mask_stdev=0.0, shorten_method='truncate', shorten_data_split_list='', include_target_tokens=False, adam_betas='(0.9, 0.98)', adam_eps=1e-06, weight_decay=0.01, use_old_adam=False, fp16_adam_stats=False, warmup_updates=18750, force_anneal=None, end_learning_rate=0.0, power=1.0, total_num_update='312500', pad=1, eos=2, unk=3, max_positions=256, dropout=0.05, no_seed_provided=False, encoder_layers=4, encoder_embed_dim=512, encoder_ffn_embed_dim=512, encoder_attention_heads=8, attention_dropout=0.1, activation_dropout=0.0, pooler_dropout=0.0, max_source_positions=256, no_token_positional_embeddings=False, encoder_learned_pos=True, layernorm_embedding=True, no_scale_embedding=True, activation_fn='gelu', encoder_normalize_before=False, pooler_activation_fn='tanh', untie_weights_roberta=False, adaptive_input=False, _name='roberta_small', load_checkpoint_heads=True, sentencepiece_model='../models/RoBERTa_small_fr/sentencepiece.bpe.model'), 'task': {'_name': 'masked_lm', 'data': '/home/user/MVA23_ALTEGRAD/Lab4/models/RoBERTa_small_fr', 'sample_break_mode': 'eos', 'tokens_per_sample': 254, 'mask_prob': 0.15, 'leave_unmasked_prob': 0.1, 'random_token_prob': 0.1, 'freq_weighted_replacement': False, 'mask_whole_words': False, 'mask_multiple_length': 1, 'mask_stdev': 0.0, 'shorten_method': 'truncate', 'shorten_data_split_list': '', 'seed': 1, 'include_target_tokens': False}, 'criterion': {'_name': 'cross_entropy', 'sentence_avg': False}, 'optimizer': {'_name': 'adam', 'adam_betas': '(0.9, 0.98)', 'adam_eps': 1e-06, 'weight_decay': 0.01, 'use_old_adam': False, 'fp16_adam_stats': False, 'tpu': False, 'lr': [0.0001]}, 'lr_scheduler': {'_name': 'polynomial_decay', 'warmup_updates': 18750, 'force_anneal': None, 'end_learning_rate': 0.0, 'power': 1.0, 'total_num_update': 312500.0, 'lr': [0.0001]}, 'scoring': {'_name': 'bleu', 'pad': 1, 'eos': 2, 'unk': 3}, 'bpe': {'_name': 'gpt2', 'gpt2_encoder_json': 'https://dl.fbaipublicfiles.com/fairseq/gpt2_bpe/encoder.json', 'gpt2_vocab_bpe': 'https://dl.fbaipublicfiles.com/fairseq/gpt2_bpe/vocab.bpe'}, 'tokenizer': None, 'ema': {'_name': None, 'store_ema': False, 'ema_decay': 0.9999, 'ema_start_update': 0, 'ema_seed_model': None, 'ema_update_freq': 1, 'ema_fp32': False}}\n"
          ]
        }
      ],
      "source": [
        "from fairseq.models.roberta import RobertaModel\n",
        "model = RobertaModel.from_pretrained(\"../models/RoBERTa_small_fr\", checkpoint_file=\"model.pt\")"
      ]
    },
    {
      "cell_type": "code",
      "execution_count": 18,
      "metadata": {},
      "outputs": [
        {
          "name": "stdout",
          "output_type": "stream",
          "text": [
            "+---------------------------------------------------------------------+------------+---------------------+------------------+\n",
            "|                               Modules                               | Parameters | Analytic validation | Analytic formula |\n",
            "+---------------------------------------------------------------------+------------+---------------------+------------------+\n",
            "|          model.encoder.sentence_encoder.embed_tokens.weight         |  16384000  |                     |                  |\n",
            "|        model.encoder.sentence_encoder.embed_positions.weight        |   132096   |                     |                  |\n",
            "|      model.encoder.sentence_encoder.layernorm_embedding.weight      |    512     |                     |                  |\n",
            "|       model.encoder.sentence_encoder.layernorm_embedding.bias       |    512     |                     |                  |\n",
            "|   model.encoder.sentence_encoder.layers.0.self_attn.k_proj.weight   |   262144   |                     |                  |\n",
            "|    model.encoder.sentence_encoder.layers.0.self_attn.k_proj.bias    |    512     |                     |                  |\n",
            "|   model.encoder.sentence_encoder.layers.0.self_attn.v_proj.weight   |   262144   |                     |                  |\n",
            "|    model.encoder.sentence_encoder.layers.0.self_attn.v_proj.bias    |    512     |                     |                  |\n",
            "|   model.encoder.sentence_encoder.layers.0.self_attn.q_proj.weight   |   262144   |                     |                  |\n",
            "|    model.encoder.sentence_encoder.layers.0.self_attn.q_proj.bias    |    512     |                     |                  |\n",
            "|  model.encoder.sentence_encoder.layers.0.self_attn.out_proj.weight  |   262144   |                     |                  |\n",
            "|   model.encoder.sentence_encoder.layers.0.self_attn.out_proj.bias   |    512     |                     |                  |\n",
            "| model.encoder.sentence_encoder.layers.0.self_attn_layer_norm.weight |    512     |                     |                  |\n",
            "|  model.encoder.sentence_encoder.layers.0.self_attn_layer_norm.bias  |    512     |                     |                  |\n",
            "|          model.encoder.sentence_encoder.layers.0.fc1.weight         |   262144   |                     |                  |\n",
            "|           model.encoder.sentence_encoder.layers.0.fc1.bias          |    512     |                     |                  |\n",
            "|          model.encoder.sentence_encoder.layers.0.fc2.weight         |   262144   |                     |                  |\n",
            "|           model.encoder.sentence_encoder.layers.0.fc2.bias          |    512     |                     |                  |\n",
            "|   model.encoder.sentence_encoder.layers.0.final_layer_norm.weight   |    512     |                     |                  |\n",
            "|    model.encoder.sentence_encoder.layers.0.final_layer_norm.bias    |    512     |                     |                  |\n",
            "|   model.encoder.sentence_encoder.layers.1.self_attn.k_proj.weight   |   262144   |                     |                  |\n",
            "|    model.encoder.sentence_encoder.layers.1.self_attn.k_proj.bias    |    512     |                     |                  |\n",
            "|   model.encoder.sentence_encoder.layers.1.self_attn.v_proj.weight   |   262144   |                     |                  |\n",
            "|    model.encoder.sentence_encoder.layers.1.self_attn.v_proj.bias    |    512     |                     |                  |\n",
            "|   model.encoder.sentence_encoder.layers.1.self_attn.q_proj.weight   |   262144   |                     |                  |\n",
            "|    model.encoder.sentence_encoder.layers.1.self_attn.q_proj.bias    |    512     |                     |                  |\n",
            "|  model.encoder.sentence_encoder.layers.1.self_attn.out_proj.weight  |   262144   |                     |                  |\n",
            "|   model.encoder.sentence_encoder.layers.1.self_attn.out_proj.bias   |    512     |                     |                  |\n",
            "| model.encoder.sentence_encoder.layers.1.self_attn_layer_norm.weight |    512     |                     |                  |\n",
            "|  model.encoder.sentence_encoder.layers.1.self_attn_layer_norm.bias  |    512     |                     |                  |\n",
            "|          model.encoder.sentence_encoder.layers.1.fc1.weight         |   262144   |                     |                  |\n",
            "|           model.encoder.sentence_encoder.layers.1.fc1.bias          |    512     |                     |                  |\n",
            "|          model.encoder.sentence_encoder.layers.1.fc2.weight         |   262144   |                     |                  |\n",
            "|           model.encoder.sentence_encoder.layers.1.fc2.bias          |    512     |                     |                  |\n",
            "|   model.encoder.sentence_encoder.layers.1.final_layer_norm.weight   |    512     |                     |                  |\n",
            "|    model.encoder.sentence_encoder.layers.1.final_layer_norm.bias    |    512     |                     |                  |\n",
            "|   model.encoder.sentence_encoder.layers.2.self_attn.k_proj.weight   |   262144   |                     |                  |\n",
            "|    model.encoder.sentence_encoder.layers.2.self_attn.k_proj.bias    |    512     |                     |                  |\n",
            "|   model.encoder.sentence_encoder.layers.2.self_attn.v_proj.weight   |   262144   |                     |                  |\n",
            "|    model.encoder.sentence_encoder.layers.2.self_attn.v_proj.bias    |    512     |                     |                  |\n",
            "|   model.encoder.sentence_encoder.layers.2.self_attn.q_proj.weight   |   262144   |                     |                  |\n",
            "|    model.encoder.sentence_encoder.layers.2.self_attn.q_proj.bias    |    512     |                     |                  |\n",
            "|  model.encoder.sentence_encoder.layers.2.self_attn.out_proj.weight  |   262144   |                     |                  |\n",
            "|   model.encoder.sentence_encoder.layers.2.self_attn.out_proj.bias   |    512     |                     |                  |\n",
            "| model.encoder.sentence_encoder.layers.2.self_attn_layer_norm.weight |    512     |                     |                  |\n",
            "|  model.encoder.sentence_encoder.layers.2.self_attn_layer_norm.bias  |    512     |                     |                  |\n",
            "|          model.encoder.sentence_encoder.layers.2.fc1.weight         |   262144   |                     |                  |\n",
            "|           model.encoder.sentence_encoder.layers.2.fc1.bias          |    512     |                     |                  |\n",
            "|          model.encoder.sentence_encoder.layers.2.fc2.weight         |   262144   |                     |                  |\n",
            "|           model.encoder.sentence_encoder.layers.2.fc2.bias          |    512     |                     |                  |\n",
            "|   model.encoder.sentence_encoder.layers.2.final_layer_norm.weight   |    512     |                     |                  |\n",
            "|    model.encoder.sentence_encoder.layers.2.final_layer_norm.bias    |    512     |                     |                  |\n",
            "|   model.encoder.sentence_encoder.layers.3.self_attn.k_proj.weight   |   262144   |                     |                  |\n",
            "|    model.encoder.sentence_encoder.layers.3.self_attn.k_proj.bias    |    512     |                     |                  |\n",
            "|   model.encoder.sentence_encoder.layers.3.self_attn.v_proj.weight   |   262144   |                     |                  |\n",
            "|    model.encoder.sentence_encoder.layers.3.self_attn.v_proj.bias    |    512     |                     |                  |\n",
            "|   model.encoder.sentence_encoder.layers.3.self_attn.q_proj.weight   |   262144   |                     |                  |\n",
            "|    model.encoder.sentence_encoder.layers.3.self_attn.q_proj.bias    |    512     |                     |                  |\n",
            "|  model.encoder.sentence_encoder.layers.3.self_attn.out_proj.weight  |   262144   |                     |                  |\n",
            "|   model.encoder.sentence_encoder.layers.3.self_attn.out_proj.bias   |    512     |                     |                  |\n",
            "| model.encoder.sentence_encoder.layers.3.self_attn_layer_norm.weight |    512     |                     |                  |\n",
            "|  model.encoder.sentence_encoder.layers.3.self_attn_layer_norm.bias  |    512     |                     |                  |\n",
            "|          model.encoder.sentence_encoder.layers.3.fc1.weight         |   262144   |                     |                  |\n",
            "|           model.encoder.sentence_encoder.layers.3.fc1.bias          |    512     |                     |                  |\n",
            "|          model.encoder.sentence_encoder.layers.3.fc2.weight         |   262144   |                     |                  |\n",
            "|           model.encoder.sentence_encoder.layers.3.fc2.bias          |    512     |                     |                  |\n",
            "|   model.encoder.sentence_encoder.layers.3.final_layer_norm.weight   |    512     |                     |                  |\n",
            "|    model.encoder.sentence_encoder.layers.3.final_layer_norm.bias    |    512     |                     |                  |\n",
            "|                      model.encoder.lm_head.bias                     |   32000    |                     |                  |\n",
            "|                  model.encoder.lm_head.dense.weight                 |   262144   |                     |                  |\n",
            "|                   model.encoder.lm_head.dense.bias                  |    512     |                     |                  |\n",
            "|               model.encoder.lm_head.layer_norm.weight               |    512     |                     |                  |\n",
            "|                model.encoder.lm_head.layer_norm.bias                |    512     |                     |                  |\n",
            "+---------------------------------------------------------------------+------------+---------------------+------------------+\n",
            "Total Trainable Params: 23124736\n"
          ]
        }
      ],
      "source": [
        "total_params = count_parameters(model)"
      ]
    },
    {
      "cell_type": "code",
      "execution_count": 19,
      "metadata": {},
      "outputs": [
        {
          "name": "stdout",
          "output_type": "stream",
          "text": [
            "The total number of parameters:  23124736\n"
          ]
        }
      ],
      "source": [
        "print(\"The total number of parameters: \", total_params ) #fill the gap"
      ]
    },
    {
      "cell_type": "markdown",
      "metadata": {
        "id": "gz8fnWOSI0eF"
      },
      "source": [
        "## <b>Tokenizing the reviews</b>\n",
        "\n",
        "In this section we will tokenize the finetuning dataset using sentenpiece tokenizer. We have three splits in our datase: train valid and test sets.\n",
        "\n",
        "In this task you have to use the trained sentencepiece tokenizer (RoBERTa_small_fr/sentencepiece.bpe.model) to tokenize the three files <b>train.review</b>, <b>valid.review</b> and <b>test.review</b> and output the three files <b>train.spm.review</b>, <b>valid.spm.review</b> and <b>test.spm.review</b> containing the tokenized reviews.\n",
        "\n",
        "Documentation: https://github.com/google/sentencepiece#readme"
      ]
    },
    {
      "cell_type": "code",
      "execution_count": 52,
      "metadata": {
        "id": "D-hOlotmOW7f"
      },
      "outputs": [
        {
          "name": "stdout",
          "output_type": "stream",
          "text": [
            "Ce livre est tout simplement magique !  il vaut le detour suspense, humour, magie, tristesse, courage,sont parfaitement regroupés dans cet ouvrage ... Un vrai chef-d'oeuvre ! Bien que le sort de Harry soit prévisible, en raison de sa sortie quasi simultanée avec les deux tomes suivants ; ce livre est un régal que se soit pour les petits ou les grands !!! Johanne Kathleen Rowling a su alier plusieurs histoires qui paraissent totalement différentes mais avec une fin qui leur est communne et quasi introuvable jusqu'à la fin ! Elle à également su comment faire pour attirer une génération de non lecteurs avec ses livres \"énormes\" et sans images ! Entre nous il ya de quoi se demander qui le magicien Harry ou elle ? Bravo !!!\n",
            "\n",
            "../data/cls.books/train.spm.review\n",
            "J'ai lu ce livre car dans ma ville, tout le monde s'en sert et le commande. C'est ma pharmacienne qui me l'a conseillé, elle a tellement maigri que je lui ai demandé ce qu'elle avait fait et au lieu de me vendre du perlimpinpin en gélules, elle m'a conseillé ce livre à 5 euros. Bien sur, il faut faire un effort pour perdre 25 kilos mais avec le livre, j'avais un compagnon de route. L'auteur a su me parler simplement avec des arguments très forts et surtout j'ai senti qu'il connaissait bien des cas comme le mien. Il y a dans son texte de l'expérience, de la simplicité et de la compassion pour ceux qui comme moi vivait avec tout ce poids qui me collait au corps sans jamais vouloir partir. Je ne crois pas qu'il existe un régime miracle qui surpasse les autres mais je crois vraiment qu'il y a des personnes qui savent parler aux autres et faire naitre des déclics. Je croyais être faible mais ce livre m'a rendu forte, je l'ai tellement annoté que j'en suis à mon troisième. Quand on est très grosse comme je l'ai été, les non-gros ne vous comprennent pas ou ont peur de vous froisser en vous en parlant, alors ce livre a été comme un compagnon-journal.  Je suis pédicure et je l'ai conseillé à tous mes clients gros dont je lis la souffrance sur les pieds déformés et gonflés. je rends aux autres le service que m'a rendu ma pharmacienne. Je le conseille à tous ceux qui souffrent car après avoir maigri c'est un tel bonheur que j'ai accepté de passer à la phase 3 de ce plan qui impose 10 jours de consolidation pour chaque kilo perdu en s'ouvrant progressivement à tout. Maintenant, je suis en phase 4, c'est à dire que je mange de tout sauf le jeudi où je contrôle. Je remercierai jamais assez l'auteur de ce livre.\n",
            "\n",
            "../data/cls.books/test.spm.review\n",
            "Ce livre explique techniquement et de façon très compréhensible, même pour des néophytes en physique des matériaux, comment et pourquoi la version officielle concernant l'effondrement des 3 tours du WTC ne tient tout simplement pas debout. Et c'est sans appel ! Il constitue un très bon argumentaire scientifique permettant de soutenir l'hypothèse la plus vraisemblable pour expliquer ce qui s'est réellement passé à New York, ce jour-là, l'hypothèse d'une démolition contrôlée !  A lire absolument !\n",
            "\n",
            "../data/cls.books/valid.spm.review\n"
          ]
        }
      ],
      "source": [
        "import sentencepiece as spm\n",
        "s = spm.SentencePieceProcessor(model_file='../models/RoBERTa_small_fr/sentencepiece.bpe.model')\n",
        "\n",
        "SPLITS=['train', 'test', 'valid']\n",
        "SENTS=\"review\"\n",
        "DATA_BOOKS = '../data/cls.books/'\n",
        "for split in SPLITS:\n",
        "    with open(DATA_BOOKS+split+'.'+SENTS, 'r') as f:\n",
        "        reviews = f.readlines()\n",
        "        print(reviews[0])\n",
        "        tokenized = [\" \".join(s.encode(review, out_type=str)) for review in reviews]\n",
        "        # tokenize the data using s.encode and a loop(check the documentation)\n",
        "\n",
        "        # It should look something like this :\n",
        "        #▁An ci enne ▁VS ▁Nouvelle ▁version ▁plus\n",
        "\n",
        "    with open(DATA_BOOKS+split+'.spm.'+SENTS, 'w') as f:\n",
        "        for review in reviews:\n",
        "          f.write(\"\\n\".join(review)+'\\n')\n",
        "    \n",
        "    with open(DATA_BOOKS+split+'.spm.'+SENTS, 'w') as f:\n",
        "        f.writelines(\"\\n\".join(tokenized)+'\\n')"
      ]
    },
    {
      "cell_type": "code",
      "execution_count": 45,
      "metadata": {},
      "outputs": [
        {
          "data": {
            "text/plain": [
              "\"▁Se ul ▁ ouvrage ▁français ▁sur ▁le ▁thème ▁Produ its ▁Stru ctu rés ▁/ ▁fonds ▁à ▁formule , ▁il ▁permet ▁de ▁façon ▁pédagogique ▁d ' app ré hend er ▁parfaitement ▁les ▁mécanisme s ▁financier s ▁utilisé s . ▁Une ▁référence ▁pour ▁ceux ▁qui ▁veulent ▁comprendre ▁les ▁ technic ités ▁de ▁base ▁et ▁les ▁raisons ▁de ▁l ' en gou ement ▁des ▁invest isseur s ▁sur ▁ces ▁ actif s ▁à ▁hauteur ▁de ▁plusieurs ▁milliard s ▁d ' euros .\""
            ]
          },
          "execution_count": 45,
          "metadata": {},
          "output_type": "execute_result"
        }
      ],
      "source": [
        "tokenized[1]"
      ]
    },
    {
      "cell_type": "code",
      "execution_count": 47,
      "metadata": {},
      "outputs": [
        {
          "name": "stdout",
          "output_type": "stream",
          "text": [
            "▁Ce ▁livre ▁explique ▁technique ment ▁et ▁de ▁façon ▁très ▁com pré hen sible , ▁même ▁pour ▁des ▁né o phy tes ▁en ▁physique ▁des ▁matériaux , ▁comment ▁et ▁pourquoi ▁la ▁version ▁officielle ▁concernant ▁l ' ef fond re ment ▁des ▁3 ▁tour s ▁du ▁W TC ▁ne ▁tient ▁tout ▁simplement ▁pas ▁de bou t . ▁Et ▁c ' est ▁sans ▁appel ▁! ▁Il ▁constitu e ▁un ▁très ▁bon ▁argument aire ▁scientifique ▁permettant ▁de ▁soutenir ▁l ' hy po th èse ▁la ▁plus ▁vrai sem bla ble ▁pour ▁explique r ▁ce ▁qui ▁s ' est ▁réellement ▁passé ▁à ▁New ▁York , ▁ce ▁jour - là , ▁l ' hy po th èse ▁d ' une ▁dé moli tion ▁cont rô lé e ▁! ▁A ▁lire ▁absolument ▁!\n",
            "▁Se ul ▁ ouvrage ▁français ▁sur ▁le ▁thème ▁Produ its ▁Stru ctu rés ▁/ ▁fonds ▁à ▁formule , ▁il ▁permet ▁de ▁façon ▁pédagogique ▁d ' app ré hend er ▁parfaitement ▁les ▁mécanisme s ▁financier s ▁utilisé s . ▁Une ▁référence ▁pour ▁ceux ▁qui ▁veulent ▁comprendre ▁les ▁ technic ités ▁de ▁base ▁et ▁les ▁raisons ▁de ▁l ' en gou ement ▁des ▁invest isseur s ▁sur ▁ces ▁ actif s ▁à ▁hauteur ▁de ▁plusieurs ▁milliard s ▁d ' euros .\n",
            "▁Un ▁livre ▁magnifique . ▁Je ▁suis ▁pourtant ▁ath ée , ▁mais ▁ce ▁livre ▁ne ▁parle ▁pas ▁de ▁religion , ▁de ▁Dieu ▁à ▁tout ▁bout ▁de ▁champ . ▁Il ▁parle ▁de ▁l ' Ho mme , ▁de ▁la ▁vie , ▁de ▁la ▁mort . ▁J ' ai ▁découvert ▁So eur ▁Emmanuel le ▁dans ▁ses ▁Confe s sions , ▁et ▁l ' on ▁ne ▁peut ▁qu ' être ▁touch é ▁par ▁l ' é lan , ▁le ▁dyna m isme ▁de ▁cette ▁personne . ▁J ' ai ▁24 ▁ans , ▁mais ▁je ▁me ▁sens ▁vie ille ▁face ▁à ▁sa ▁jeunes se ▁d ' esprit , ▁sa ▁dé ter mination ▁à ▁ne ▁pas ▁baisse r ▁les ▁bras , ▁à ▁faire ▁ce ▁qu ' il ▁faut ▁pour ▁réduire ▁les ▁in égalité s ▁et ▁redo nner ▁aux ▁hommes ▁ reje tés ▁par ▁la ▁société ▁leur ▁digni té . ▁Le ▁style ▁est ▁lég er , ▁agréable ▁à ▁lire . ▁Ya lla , ▁fon ce z , ▁lise z - le , ▁vous ▁ne ▁se rez ▁pas ▁dé çu ▁!\n",
            "▁Voici ▁le ▁roman ▁sur ▁lequel ▁ Claude ▁Cha bro l ▁s ' est ▁bas é ▁pour ▁réaliser ▁le ▁film ▁\" La ▁C éré mo nie \". ▁Excellent ▁thriller ▁met tant ▁en ▁avant ▁la ▁psycholog ie ▁des ▁personnage s , en ▁particulier ▁celle ▁d ' Eu nice ▁Parc hman , ▁qui , ▁par ▁hon te ▁de ▁son ▁anal pha bé t isme , ▁ir a ▁jusqu ' à ▁comme t tre ▁l ' ir ré par able , ▁entra în ée ▁dans ▁la ▁criminal ité ▁par ▁son ▁a mie ▁qui ▁aura , ▁au ▁moins , ▁elle , ▁l ' ex cus e ▁d ' être ▁folle . ▁D écriv ant ▁avec ▁précis on ▁le ▁chemin ement ▁intérieur ▁des ▁pensée s ▁des ▁protagonist es , ▁le ▁roman ▁de ▁Ruth ▁Rendel l ▁par vien t ▁à ▁captiv er ▁le ▁lecteur ▁jusqu ' à ▁la ▁fin ▁tant ▁on ▁attend ▁une ▁réaction ▁suite ▁à ▁la ▁dé range ante ▁im pass i bilité ▁d ' Eu nice ▁face ▁à ▁l ' hor re ur ▁qu ' elle ▁a ▁commis e . ▁Ce ▁roman ▁m ' a ▁captiv é ▁et ▁donné ▁envie ▁d ' en ▁lire ▁d ' autres ▁de ▁Ruth ▁Rendel l .\n",
            "▁Un ▁top ▁d ' une ▁grande ▁utili té ▁tant ▁thé o rique ▁que ▁pratique . ▁Claire ment ▁expliqué ▁dans ▁un ▁language ▁accessible ▁à ▁tous , ▁il ▁ ouvre ▁une ▁voie ▁pour ▁les ▁né o phy tes ▁et ▁des ▁complément s ▁indispensable s ▁pour ▁les ▁in iti és . J ' ai ▁pour ▁ma ▁part ▁vécu ▁de ▁grand ▁moment ▁au ▁travers ▁de ▁certains ▁ ritu els ▁du ▁feu . C ela ▁fait ▁des ▁années ▁que ▁je ▁l ' ai ▁et ▁ne ▁compte ▁pas ▁m ' en ▁sé par er !\n",
            "▁The ▁Go on , ▁gor ille ▁dé figur é , ▁rè gne ▁dans ▁l ' ombre ▁sur ▁une ▁ville ▁dé jant ée ▁( une ▁sorte ▁de ▁Goth am ▁City ▁en ▁plus ▁rustic o - pour ri ), ▁dont ▁une ▁partie ▁est ▁aux ▁mains ▁des ▁zombie s , ▁l ' autre ▁à ▁sa ▁po gne . ▁Il ▁ra cket e , ▁explo se , ▁vole , ▁tue ... ▁les ▁mé chant s , ▁et ▁pro t ège ▁( à ▁sa ▁manière ) ▁les ▁juste s . ▁Par - dessus ▁tout ▁cela ▁se ▁gre ffe ▁une ▁joy euse ▁bande ▁de ▁tar és ▁sorti s ▁complètement ▁des ▁canon s ▁habitu els ▁des ▁mé chant s ▁et ▁gentil s ▁convention nel s ▁: ▁le ▁Prof ▁Hy eron imo us ▁All o y , ▁par ▁exemple , ▁cy borg ▁do ux ▁din gue ▁tira illé ▁entre ▁envie ▁d ' aider ▁( mala dro ite ment ) ▁son ▁prochain ▁et ▁so if ▁de ▁con qué rir ▁le ▁monde ▁au ▁moyen ▁d ' in vention s ▁aussi ▁extra vag antes ▁que ▁de struct rice s , ▁représente ▁l ' un ▁des ▁grands ▁( et ▁plus ▁origina ux ) ▁vila ins ▁de ▁la ▁série ... ▁mais ▁il ▁ya ▁aussi ▁le ▁chef ▁des ▁zombie s , ▁en ▁état ▁de ▁dé com position ▁avancé e , ▁et ▁tout ▁en ▁tas ▁de ▁personnage s ▁haut s ▁en ▁couleurs , ▁comme ▁le ▁ ché tif ▁mais ▁violent ▁bras ▁droit ▁du ▁Go on , ▁qui ▁n ' hésite ▁pas ▁à ▁explo ser ▁des ▁bo ites ▁cr an ienne s ▁au ▁moindre ▁regard ▁de ▁travers ▁! ▁Si ▁le ▁scénario ▁et ▁les ▁dialogue s ▁sont ▁excellent s , ▁très ▁déc a lés ▁et ▁parfois ▁sans ▁logique ▁pure , ▁le ▁dessin ▁est ▁quant ▁à ▁lui ▁tout ▁bonne ment ▁exceptionnel . ▁Les ▁ cra yon nés ▁de ▁base , ▁dont ▁des ▁cro quis ▁d ' es qui sses ▁en rich issent ▁les ▁fins ▁de ▁tous ▁les ▁volume s ▁sans ▁exception , ▁vous ▁en ▁dit ▁long ▁sur ▁la ▁maîtrise ▁d ' E ric ▁Po well , ▁l ' auteur . ▁Et ▁une ▁fois ▁en cré s , ▁ces ▁dessin s ▁à ▁la ▁ligne ▁clair e ▁vous ▁ren vo ient ▁50 ▁ans ▁plus ▁tô t ▁à ▁l ' époque ▁des ▁comic s ▁vintage . ▁Il ▁est ▁à ▁noter ▁que ▁si ▁d ' entrée ▁le ▁dessin ▁est ▁très ▁bon , ▁il ▁ne ▁ces se ▁de ▁s ' améliorer ▁au ▁fur ▁et ▁à ▁mesure ▁des ▁tome s ... ▁tout ▁bé nê f ' ▁! ▁La ▁série ▁constitu e ▁selon ▁moi ▁un ▁tout ▁indi visible , ▁certains ▁volume s ▁se ▁pen chant ▁sur ▁le ▁passé ▁des ▁hér os , ▁d ' autres ▁dans ▁le ▁\" présent \", ▁et ▁d ' autres ▁encore ▁é volu ant ▁sur ▁des ▁projets ▁para ll è les ▁à ▁la ▁série . ▁Dans ▁The ▁Go on , ▁tout ▁est ▁bon , ▁de ▁la ▁1 ere ▁à ▁la ▁dernière ▁gou tte ... ▁de ▁sang ▁!\n",
            "▁Aus si ▁bizarre ▁que ▁ça ▁puisse ▁par aître , ▁ce ▁livre ▁est ▁un ▁ana chron isme , ▁sans ▁pour ▁autant ▁que ▁cela ▁soit ▁négatif . ▁E crit ▁à ▁l ' époque ▁des ▁années ▁70 , ▁il ▁est ▁pourtant ▁plus ▁d ' actualité ▁aujourd ' hui ▁qu ' il ▁ne ▁l ' était ▁à ▁l ' époque , ▁vrai sem bla blement . ▁Les ▁mon ades ▁urbain es ▁dép ei ntes ▁dans ▁ces ▁nouvelles ▁sont ▁d ' une ▁cri ante ▁vérité ▁pour ▁notre ▁société ▁actuelle . ▁J ' en ▁reti ens ▁surtout ▁la ▁nouvelle ▁à ▁propos ▁de ▁l ' é va sion ▁des ▁mon ades , ▁qui ▁met ▁clairement ▁face ▁à ▁la ▁question ▁de ▁la ▁place ▁de ▁l ' homme ▁- ▁individuel ▁- ▁dans ▁les ▁société s ▁qu ' on ▁crée ▁aujourd ' hui . ▁Une ▁intéressant e ▁réflexion , ▁tout ▁en ▁étant ▁un ▁intéressant ▁di vert issement . ▁A ▁lire ▁!\n",
            "▁Ce ▁livre ▁est ▁vraiment ▁très ▁complet ▁et ▁très ▁détail ler , ▁c ' est ▁vraiment ▁la ▁bi ble ▁de ▁la ▁con ais s ance ▁de ▁l ' U . S ▁Nav y ▁! ▁Pour ▁les ▁connais s eurs ▁c ' est ▁du ▁plaisir ▁de ▁lire ▁ce ▁livre , ▁moi , ▁qui ▁fais ▁du ▁mod él isme , ▁c ' est ▁tout ▁ce ▁dont ▁j ' avais ▁besoin ▁!!!! ▁SUPER ▁A ▁RE COM MAN DER ▁!\n",
            "▁Ce ▁livre ▁propose ▁une ▁ approche ▁nouvelle ▁et ▁enfin ▁cr édi ble , ▁loin ▁de ▁tout ▁dog me ▁mais ▁hyper ▁série use ▁( cf ▁\" Les ▁Source s \") ▁de ▁la ▁vie ▁si ▁contro vers ée ▁de ▁Jésus . ▁Même ▁les ▁non ▁cro y ants ▁ne ▁peuvent ▁qu ' adh ér er ▁à ▁ce ▁ré cit ▁et ▁que ▁souhaite r ▁d ' en ▁connaître ▁la ▁suite . ▁Ce ▁livre ▁est ▁un ▁coup ▁de ▁pied ▁dans ▁la ▁four m ill ère ▁des ▁idées ▁reçu es ▁et ▁transmis es ▁depuis ▁2000 ▁ans . ▁Salut aire , ▁fantast ique !\n",
            "▁Super ▁livre , ▁avec ▁plein s ▁de ▁petits ▁objets ▁très ▁simples ▁à ▁réaliser ▁et ▁pour ▁une ▁fois : ▁très ▁origina ux !!!! ▁Fruit s , ▁légumes , ▁petits ▁animaux ▁marr ants , ▁extra - ter re stre , ▁sucre rie ! ▁Un ▁vrai ▁déli ce !!! ▁Parti cul ière ment ▁pour ▁les ▁enfants , ▁car ▁les ▁plans ▁sont ▁très ▁bien ▁fait s .\n",
            "▁Dans ▁notre ▁system e ▁educa tif ▁anglais , ▁nous ▁utili sons ▁ce ▁livre ▁de ▁la ▁matern elle ▁au ▁prima ire . ▁Il ▁permet ▁d ' in stru ire ▁les ▁enfants ▁au ▁niveau ▁ma thema tique ▁( comp ter ) ▁et ▁en ▁science ▁( la ▁che n ille ▁mange , ▁forme ▁un ▁co con ▁et ▁devient ▁un ▁pap illon ). ▁C ' est ▁un ▁livre ▁favori ▁dans ▁toutes ▁les ▁eco les ▁et ▁en ▁l ' intro du isant ▁dans ▁ma ▁langue ▁matern elle , ▁le ▁franca is , ▁j ' es pere ▁bien ▁ ouvrir ▁les ▁enfants ▁aux ▁langue s ▁et rang eres .\n",
            "▁Ce ▁fichier ▁représente ▁l ' application ▁des ▁nombreuses ▁manipula tions ▁qui ▁sont ▁men ées ▁avec ▁le ▁guide ▁pédagogique . ▁Depuis ▁plusieurs ▁années ▁je ▁travaille ▁avec ▁ce ▁support ▁et ▁le ▁plaisir ▁est ▁réel ▁de ▁voir ▁les ▁enfants ▁en ▁situation ▁de ▁recherche , ▁travailler ▁et ▁apprendre ▁sans ▁re chi gner . ▁La ▁présence ▁des ▁personnage s ▁est ▁intéressant e , ▁la ▁mise ▁en ▁page , ▁très ▁so ig née ▁et ▁nombre ▁d ' idée s ▁d ' activité s ▁sont ▁originale s .\n",
            "▁C ' est ▁avec ▁a cro ba ties , ▁face ties , ▁qu ' Ar le quin ▁ , ▁faut e ▁de ▁manger ▁a ▁sa ▁fa im ▁ , arrive ▁à ▁se ▁trouver ▁2 ▁M aître s ▁au ▁ gré ▁des ▁rencontre s ▁hasard euses ! ▁Cela ▁ne ▁serait ▁pas ▁aussi ▁drôle ▁si ▁ses ▁2 ▁nouveaux ▁mai tres , ▁l ' un ▁recherch é ▁pour ▁meu tre , ▁l ' autre ▁femme ▁traves tie ▁en ▁homme ... ne ▁se ▁connais s ait ▁pas ▁intim ement ▁... san s ▁se ▁reconnaît re ▁( qui proq u os ) ... chu t ▁je ▁ne ▁vous ▁en ▁dis ▁pas ▁plus ! ▁En ▁plus ▁de ▁la ▁lecture ▁de ▁ce ▁livre , ▁je ▁vous ▁souhaite ▁de ▁pouvoir ▁assist er ▁a ▁une ▁représentation ▁de ▁Com media ▁dell ' Art e ▁sur ▁cette ▁ oeuvre : ▁Le ▁jeu ▁theatr ale , ▁le ▁jeu ▁de ▁mas ques , ▁a cro ba ties ▁de ▁notre ▁Ar le quin ▁et ▁autres ▁personnage s : ▁la ▁valeur ▁de ▁cette ▁ oeuvre ▁n ' en ▁sera ▁que ▁grandi e ▁! ▁( Com pag nie ▁des ▁As pho d è les ▁L YON ▁par ▁exemple ...)\n",
            "▁je ▁suis ▁triste ▁car ▁Monsieur ▁Maurice ▁Dru on ▁viens ▁de ▁nous ▁qui t tez , ▁et ▁j ' ai ▁lue ▁la ▁tri logie ▁des ▁Ro is ▁Mau dit s ▁le ▁mois ▁dernier . ▁alors ▁je ▁voudrais ▁le ▁remercie r ▁car ▁avec ▁cette ▁tri logie ▁Monsieur ▁Dru on ▁laisser as ▁a ▁tous ▁Jama is ▁sont ▁empre inte . ▁Pas ▁Adi eu ▁Mais ▁Au ▁Re voir , ▁et ▁Merci\n",
            "▁Ce ▁livre , ▁cri ant ▁de ▁vérité , in vite ▁à ▁ ouvrir ▁les ▁yeux ▁sur ▁l ' é tern ité ▁de ▁la ▁vie . ▁Les ▁ré vél ations ▁sont ▁si ▁extra ordin aires , ▁qu ' elles ▁é bran lent ... ▁Après ▁le ▁doute , ▁la ▁cer titude : ▁un ▁chemin ement ▁qui ▁peut ▁être ▁initial isé ▁par ▁cette ▁lecture , ▁point ▁de ▁départ ▁d ' une ▁véritable ▁ enquête ▁qu ' il ▁convient ▁peut - être ▁de ▁mener ▁plus ▁loin .\n",
            "▁Deux ▁culture s ▁asia tiques ▁different es , ▁un ▁ guer rier ▁en vah isseur ▁et ▁une ▁civile ▁en vah ie , ▁et ▁évidemment ▁l ' im possibili té ▁de ▁vivre ▁un ▁ amour ▁ensemble . ▁Ca ▁fait ▁cliché ▁? ▁Peut - être ▁mais ▁quel ▁bonheur ▁de ▁plo nger ▁dans ▁ce ▁livre ▁et ▁de ▁vivre ▁un ▁peu ▁au ▁rythme ▁de ▁l ' A sie . ▁Pour ▁amateur s ▁de ▁l ' A sie ▁et ▁des ▁belles ▁histoire s ▁d ' amour .\n",
            "▁Ce ▁livre ▁est ▁vite ▁devenu ▁mon ▁out il ▁indispensable ▁pour ▁l ' utilisation ▁de ▁ma ▁machine ▁à ▁pain ... ▁Pra tique ▁avec ▁son ▁marque ▁page ▁intégré , ▁il ▁vous ▁permet ▁de ▁réaliser ▁facilement ▁des ▁pain s ▁vari és , ▁mais ▁aussi ▁des ▁ brio ches , ▁petits ▁pain s , ▁vien no ise ries ▁et ▁chaque ▁recette ▁est ▁il lust rée ▁d ' une ▁photo . ▁J ' ai ▁aussi ▁pu ▁découvrir ▁une ▁autre ▁ utilisation ▁de ▁la ▁machine ▁à ▁pain , ▁en ▁ré alis ant ▁des ▁pâte s ▁à ▁pain ▁( ou ▁pour ▁l ' ap éri tif ) ▁lev ées ▁à ▁température ▁amb i ante ▁et ▁cui tes ▁au ▁four , ▁un ▁vrai ▁déli ce !!! ▁Les ▁explica tions ▁sont ▁très ▁simples ▁et ▁clair es , ▁il ▁suffit ▁d ' avoir ▁en ▁sa ▁possession ▁toutes ▁les ▁farin es ▁recens ées ▁dans ▁la ▁recette . ▁A ▁recommande r ▁donc ▁et ▁pourquoi ▁pas ▁offrir ▁à ▁quelqu ' un ▁qui ▁cherche ▁un ▁bon ▁ ouvrage ▁sur ▁les ▁machines ▁à ▁pain ▁: ▁le ▁rapport ▁qualité ▁prix ▁est ▁vraiment ▁super .\n",
            "▁Ce ▁tome ▁so uff re ▁d ' un ▁complexe ▁d ' in fér ior ité ▁à ▁son ▁précédent . ▁En ▁effet ▁le ▁tome ▁5 ▁est ▁à ▁mon ▁sens ▁un ▁point ▁culmina nt ▁dans ▁la ▁saga , ▁l ' auteur ▁a ▁mis ▁beaucoup ▁dans ▁cet ▁opus . ▁Le ▁Prince ▁de ▁Sang - mê lé ▁re prend ▁bien ▁des ▁ingrédients ▁et ▁de ▁fait ▁est ▁bon ▁mais ▁il ▁n ' at te int ▁pas ▁le ▁niveau ▁de ▁son ▁précédent . ▁Toutefois , ▁l ' intrigue ▁est ▁bonne , ▁le ▁développement ▁des ▁nouveaux ▁éléments ▁crucial ▁et ▁les ▁re bond issement s ▁de ▁taille . ▁Un ▁très ▁bon ▁moment ▁dans ▁la ▁saga .\n",
            "▁Pour ▁ceux ▁qui ▁ai ment ▁les ▁livres . ▁Le ▁livre ▁est ▁le ▁Hero s ▁de ▁ce ▁livre . ▁Super be ment ▁écrit , ▁avec ▁suspens , ▁ humour . ▁Ce ▁livre ▁vous ▁hantera ▁longtemps ▁après ▁l ' avoir ▁terminé .\n",
            "▁Vous ▁connais s ez ▁Harry ▁Potter ▁? ▁Alle z , ▁ne ▁faites ▁pas ▁les ▁mal ins ▁: ▁vous ▁le ▁connais s ez ... ▁Impossible ▁de ▁faire ▁autre ment ▁du ▁reste , ▁tellement ▁les ▁media s ▁en ▁par lent , ▁qu ' il ▁s ' ag isse ▁des ▁nouveaux ▁films ▁ou ▁des ▁livres . ▁Re mar quez , ▁cela ▁n ' a ▁rien ▁de ▁sur prenant . ▁Harry ▁Potter ▁est ▁un ▁phénomène ▁d ' édi tion . ▁Un ▁titre ▁déjà ▁devenu ▁cult e . ▁Un ▁cycle ▁pour ▁la ▁jeunes se , ▁mais ▁haute ment ▁li sible ▁par ▁des ▁adult es . ▁Le ▁genre ▁de ▁livre ▁trop ▁rare . ▁Si ▁vous ▁n ' avez ▁jamais ▁lu ▁Harry ▁Potter , ▁il ▁va ▁vraiment ▁fallo ir ▁vous ▁y ▁mettre . ▁Oh , ▁on ▁a ▁tous ▁nos ▁petites ▁raisons ▁pour ▁ne ▁pas ▁vouloir ▁mettre ▁le ▁nez ▁dans ▁certains ▁gros ▁succès ▁du ▁moment . ▁La ▁sur exposition ▁du ▁titre ▁a ▁de ▁quoi ▁én er ver ▁plus ▁d ' un ▁lecteur . ▁Oui , ▁mais ▁là ... ▁Là , ▁il ▁va ▁vraiment ▁fallo ir ▁s ' y ▁mettre . ▁Pourquoi ▁? ▁Eh ▁bien , ▁rien ▁que ▁pour ▁ce ▁tome . ▁Pour ▁ce ▁si xi ème ▁volume ▁mira cul eux . ▁Cro y ez - moi , ▁ce ▁tome , ▁je ▁ne ▁voulais ▁pas ▁le ▁lire . ▁Lorsqu ' il ▁est ▁sorti ▁en ▁grand ▁format , ▁j ' ai ▁va gue ment ▁pensé ▁à ▁l ' acheter , ▁mais ▁le ▁problème ▁ven ait ▁du ▁cin qui ème ▁tome . ▁Après ▁quatre ▁volume s ▁gé ni aux , ▁intelligent s , ▁adult es , ▁trait ant ▁de ▁thé ma tiques ▁aussi ▁au da ci euses ▁que ▁les ▁enfants ▁bat tus , ▁l ' antis é mit isme ▁ou ▁la ▁my s tique ▁du ▁Gra al ▁en ▁se ▁servant ▁de ▁symbol es ▁moderne s ▁com pré hen sible s ▁pour ▁les ▁enfants , ▁J . ▁K . ▁Row ling ▁avait ▁lamentable ment ▁ra té ▁son ▁cin qui ème ▁roman ▁de ▁Harry ▁Potter . ▁Un ▁ échec ▁incomp ré hen sible . ▁Cho quant . ▁Un ▁énorme ▁pa vé ▁de ▁près ▁de ▁1 ▁000 ▁pages ▁durant ▁lequel ▁il ▁ne ▁se ▁passa it ▁rien . ▁Ou ▁presque , ▁car ▁la ▁dernière ▁ligne ▁droite ▁du ▁livre ▁se ▁ré vé lait ▁réussi e ▁avec ▁un ▁combat ▁de ▁sor ci ers ▁dét onnan t , ▁un ▁mort ▁à ▁la ▁clé ▁et ▁un ▁du el ▁Du mble dor e ▁/ ▁Vol de more ▁impression nant . ▁Mais ▁pour ▁le ▁reste ... ▁Alors , ▁forcément , ▁je ▁ne ▁voulais ▁pas ▁le ▁lire ▁ce ▁si xi ème ▁tome , ▁mais ▁je ▁n ' avais ▁rien ▁pour ▁m ' occuper ▁et ▁je ▁sent ais ▁que ▁j ' alla is ▁passer ▁un ▁mauvais ▁jour ▁de ▁con gé ▁sans ▁avoir ▁quelque ▁chose ▁sous ▁la ▁main , ▁alors ▁j ' ai ▁pris ▁Harry ▁Potter ▁et ▁le ▁prince ▁de ▁sang ▁mê lé . ▁Le ▁premier ▁chapitre ▁m ' a ▁sur pris . ▁Le ▁second ▁m ' a ▁forte ment ▁intéressé . ▁Et ▁puis ▁soud ain , ▁ça ▁y ▁était ▁! ▁j ' étais ▁rede ven u ▁fan ▁d ' Har ry ▁Potter . ▁Comment ▁justifi er ▁la ▁qualité ▁exceptionnel le ▁de ▁ce ▁tome ▁? ▁Tout ▁tient ▁du ▁miracle ▁car , ▁une ▁fois ▁de ▁plus , ▁il ▁ne ▁se ▁passe ▁pas ▁grand - chos e ▁dans ▁ce ▁tome . ▁Seu lement , ▁cette ▁fois - ci , ▁ce ▁« ▁pas ▁grand - chos e ▁» ▁est ▁magnifique ment ▁mis ▁en ▁ écriture ▁par ▁Row ling ▁qui ▁a ▁enfin ▁compris ▁que ▁trait er ▁de ▁la ▁vie ▁de ▁tous ▁les ▁jours ▁de ▁ses ▁hér os ▁adolescents ▁impli qua it ▁une ▁ écriture ▁à ▁la ▁hauteur ▁de ▁leur ▁ âge . ▁Pour ▁le ▁coup , ▁ce ▁Prince ▁de ▁sang ▁mê lé ▁marque ▁la ▁naissance ▁d ' une ▁roman ci ère ▁fascinant e . ▁Si ▁les ▁précédent s ▁tome s ▁du ▁cycle ▁étaient ▁déjà ▁bien ▁écrit s , ▁le ▁plaisir ▁ressenti s ▁se ▁révèle ▁ici ▁encore ▁plus ▁proba nt . ▁Row ling ▁a ▁cette ▁façon ▁unique ▁de ▁vous ▁donner ▁la ▁sensation ▁de ▁vivre ▁au ▁côté ▁des ▁personnage s ▁du ▁roman ▁et ▁de ▁partager ▁leur ▁vie . ▁Mais ▁tout ▁ça ▁n ' est ▁rien ▁en ▁compara ison ▁de ▁la ▁fin ▁du ▁roman . ▁J ' en ▁parler ais ▁ici ▁uniquement ▁à ▁mots ▁couvert s , ▁pour ▁laisser ▁la ▁surprise ▁pleine ▁et ▁enti ère ▁: ▁deux ▁personnage s ▁parte nt ▁pour ▁une ▁mission ▁ô ▁combien ▁danger euse , ▁et ▁l ' un ▁d ' entre ▁eux ▁va ▁connaître ▁son ▁chemin ▁de ▁cro ix , ▁un ▁chemin ▁de ▁cro ix ▁d ' autant ▁plus ▁gla çant ▁que ▁l ' écriture ▁parfait e ▁de ▁Row ling ▁support e ▁cet ▁ évènement ▁terrible . ▁D ' un ▁coup , ▁Harry ▁po tter ▁dépasse ▁le ▁sta de ▁du ▁simple ▁roman ▁pour ▁enfant ▁! ▁J ' ai ▁rare ment ▁été ▁re mu é ▁à ▁ce ▁point ▁dans ▁un ▁livre . ▁Ra re ment . ▁Row ling ▁a ▁l ' intelligence ▁de ▁comprendre , ▁comme ▁se ▁tu ent ▁à ▁le ▁rép ét er ▁les ▁psych analys tes , ▁que ▁le ▁problème ▁de ▁l ' enfant , ▁c ' est ▁le ▁père ▁d émission naire . ▁Et ▁pour ▁la ▁première ▁fois ▁à ▁ma ▁connaissance , ▁on ▁a ▁là ▁le ▁por trait ▁d ' un ▁père ▁parfait , ▁d ' un ▁père ▁demanda nt ▁à ▁son ▁fils ▁de ▁se ▁comporte r ▁comme ▁un ▁homme , ▁mais ▁qui ▁ne ▁dés erte ▁pas ▁lui - même ▁son ▁rang , ▁se ▁donna nt ▁en ▁exemple . ▁Un ▁père ▁appel ant ▁son ▁enfant ▁à ▁en dos ser ▁ses ▁vêtements ▁d ' adult e ▁et ▁qui ▁va ▁aller ▁très ▁loin ▁dans ▁le ▁pur ▁don ▁d ' amour , ▁per dant ▁jusqu ' à ▁sa ▁vie ▁dans ▁une ▁sé que nce ▁boule vers ante ▁où ▁il ▁essay e ▁de ▁raison ner ▁son ▁deuxième ▁enfant , ▁Ca ïn , ▁le ▁frère ▁d ' A bel . ▁Beaucoup ▁de ▁super lat ifs ▁dans ▁cette ▁chroni que , ▁n ' est - ce ▁pas ▁? ▁Beaucoup ▁trop ▁! ▁s ' excl ame ront ▁certains . ▁Qu ' importe . ▁Par ▁moment , ▁on ▁peut ▁se ▁permettre ▁de ▁parler ▁trop , ▁de ▁trop ▁s ' en tho usias mer ▁car ▁en ▁littérature , ▁les ▁motif s ▁de ▁grand ▁bonheur ▁sont ▁difficile s ▁à ▁réuni r . ▁Harry ▁Potter ▁et ▁le ▁prince ▁de ▁sang ▁mê lé ▁est ▁un ▁aut henti que ▁chef ▁d ' a eu vre ▁la issant ▁son ▁lecteur ▁le ▁ca eur ▁ser ré , ▁en ▁ attente ▁du ▁dernier ▁volume ▁d ' un ▁cycle ▁qui , ▁sauf ▁dernier ▁accident , ▁devrait ▁se ▁poser ▁comme ▁l ' un ▁des ▁plus ▁grands ▁de ▁la ▁littérature ▁de ▁fantasy .\n",
            "▁Aga tha ▁Christi e , ▁Miss ▁Mar ple ▁c ' est ▁: ▁le ▁personnage , ▁le ▁cadre , ▁les ▁ enquête s ▁qui ▁se ▁ trico tent ▁comme ▁une ▁é char pe ▁ou ▁un ▁pull , ▁au ▁coin ▁du ▁feu , ▁la ▁tas se ▁de ▁thé ▁pas ▁loin , ▁et ▁les ▁sco nes ▁au ▁rais in ▁! ▁Mi am . ▁Tout ▁est ▁in dé mod able ▁chez ▁Aga tha ▁Christi e , ▁peut - être ▁vie illo t ▁et ▁plan - plan ▁pour ▁les ▁amateur s ▁de ▁sensation s ▁plus ▁cro u still antes . ▁Mais ▁personnel lement ▁je ▁trouve ▁qu ' il ▁fait ▁bon ▁de ▁regarder ▁en ▁ arrière ▁et ▁de ▁se ▁repos er ▁dans ▁cette ▁at mos ph ère ▁hors ▁du ▁temps . ▁J ' aime ▁cette ▁dét est able ▁Miss ▁Mar ple , ▁cette ▁mê le - t out ▁per s pica ce , ▁disc r ète ▁comme ▁une ▁ ombre , ▁qui ▁four re ▁son ▁nez ▁dans ▁le ▁ linge ▁sale ▁des ▁autres , ▁un ▁rien ▁sa inte - nit ouche ▁quand ▁elle ▁veut ▁! ▁Non , ▁ce ▁n ' est ▁pas ▁mé chant . ▁C ' est ▁la ▁petite ▁vie ille ▁qui ▁ne ▁pa ie ▁pas ▁de ▁mine , ▁impe cc able ▁pour ▁ne ▁pas ▁att ir er ▁l ' at tention ▁ni ▁éve iller ▁les ▁soup çon s , ▁mais ▁la ▁mé mé ▁est ▁redo u table ▁! ▁Sur ▁le ▁petit ▁ écran , ▁j ' ai ▁appris ▁à ▁l ' apprécie r ▁sous ▁les ▁trait s ▁de ▁l ' ac trice ▁Joan ▁Hi cks on , ▁pour ▁la ▁chaîne ▁BBC ▁(3 ▁saison s ▁exista ntes ). ▁Miss ▁Mar ple ▁fait ▁sa ▁première ▁ apparition ▁dans ▁L ' Af faire ▁Pro ther o e ▁où ▁le ▁corps ▁du ▁colon el ▁P . , ▁personnage ▁haute ment ▁dét est é ▁par ▁ses ▁sembla bles , ▁est ▁retrouvé ▁assassin é ▁dans ▁le ▁pres byt ère ▁du ▁narra teur ▁( un ▁pas teur ▁assez ▁fat , ▁qui ▁prend ▁son ▁ép ouse ▁pour ▁une ▁and ou ille , ▁à ▁mon ▁goût ▁ !). ▁Ce ▁roman ▁a ▁été ▁publié ▁en ▁1930 ▁et ▁ne ▁devait ▁pas ▁marque r ▁le ▁début ▁d ' une ▁série . ▁Et ▁de ▁fait , ▁Miss ▁Mar ple ▁ne ▁ré appar a ît ▁qu ' en ▁1942 ▁dans ▁Un ▁cada vre ▁dans ▁la ▁bibliothèque ▁qui ▁est ▁l ' une ▁des ▁ intrigue s ▁les ▁plus ▁connu es ▁dans ▁l ' histoire ▁polici ère ▁( un ▁cada vre ▁d ' une ▁jeune ▁fille ▁inconnu e ▁est ▁découvert ▁dans ▁la ▁bibliothèque ▁d ' une ▁maison ▁ bourg e oise ). ▁Dans ▁La ▁plu me ▁em pois on née , ▁Miss ▁Mar ple ▁n ' inter vien t ▁que ▁très ▁tardi ve ment ▁dans ▁l ' enquête , ▁qui ▁ne ▁se ▁passe ▁pas ▁à ▁St ▁Mary ▁Me ad . ▁Very ▁shock ing , ▁isn ' t ▁it ▁? ▁Cette ▁histoire ▁est ▁comme ▁le ▁vin , ▁elle ▁se ▁bon ifi e ▁avec ▁le ▁temps . ▁A ▁l ' époque , ▁elle ▁passa it ▁même ▁pour ▁au da cie use ▁et ▁révolution naire ▁! ▁On ▁y ▁trouve ▁des ▁femmes ▁di vor cé es , ▁des ▁lettre s ▁anonym es ▁qui ▁s è ment ▁le ▁trouble ▁dans ▁la ▁petite ▁communauté , ▁une ▁jolie ▁gou vern ante ▁ amour euse ▁de ▁son ▁patron , ▁et ▁d ' autres ▁figure s ▁a typ iques , ▁ex centr iques ▁qui ▁ex a cer bent ▁les ▁plus ▁folle s ▁s pé cula tions ▁! ▁L ' enquête ▁qui ▁sui vra , ▁dans ▁Un ▁me ur tre ▁sera ▁commis ▁le ... , ▁se ▁replace ▁dans ▁le ▁décor ▁de ▁pré dil ection ▁du ▁petit ▁village ▁anglais ▁près ▁de ▁St - Mar y ▁Me ad . ▁Une ▁petite ▁annonce ▁a ▁été ▁publié e ▁dans ▁la ▁gaz ette ▁locale ▁faisant ▁é cho ▁d ' un ▁me ur tre ▁qui ▁sera ▁commis ▁à ▁Little ▁Pad dock s ▁le ▁vendredi ▁29 ▁octobre ▁à ▁18 h 30 ▁très ▁précise s . ▁Stri ct ement ▁réservé ▁aux ▁in times , ▁cet ▁avis ▁ti endra ▁lieu ▁de ▁faire - part . ▁Une ▁murder - party , ▁damn ed ▁! ▁On ▁retrouve ▁encore ▁une ▁fois ▁dans ▁cette ▁histoire ▁la ▁palet te ▁des ▁personnage s ▁haut ▁en ▁couleurs ▁( le ▁pas teur ▁et ▁sa ▁femme , ▁les ▁vie illes ▁filles , ▁la ▁jeune ▁femme ▁pauvre ▁ET ▁des ▁ré fug i és ▁! ▁L ' auteur ▁se ▁place ▁ici ▁en ▁bonne ▁chroni que use ▁des ▁sé que lles ▁laissé es ▁par ▁la ▁guerre . ). ▁Bref , ▁lire ▁ou ▁reli re ▁Aga tha ▁Christi e , ▁LA ▁rein e ▁du ▁roman ▁polici er , ▁champion ne ▁du ▁who dun it , ▁est ▁un ▁ticket ▁pour ▁l ' assurance ▁et ▁le ▁confort ▁d ' un ▁travail ▁bien ▁fait , ▁bien ▁net ▁et ▁déli cie us ement ▁ guin dé . ▁Cela ▁ne ▁fait ▁pas ▁dress er ▁les ▁cheveux ▁sur ▁la ▁tête , ▁ne ▁donne ▁ni ▁su ées ▁froid es ▁ni ▁nuit ▁blanche , ▁mais ▁c ' est ▁so phi sti qué , ▁sur an né . ▁C ' est ▁repos ant .\n",
            "▁J ' ai ▁fini ▁ce ▁livre ▁hier ▁soir , ▁et ▁je ▁l ' ai ▁lu ▁avec ▁beaucoup ▁d ' intérêt ! ▁Ben , ▁en ▁un ▁mot : ▁lim pide ! ▁J ' ai ▁vraiment ▁aimé ▁le ▁style ▁d ' écriture . ▁Très ▁clair ▁et ▁bien ▁il lust ré . ▁La ▁progression ▁du ▁livre ▁est ▁régulière , ▁et ▁la ▁ligne ▁direct rice ▁bien ▁construit e . ▁Je ▁n ' ai ▁pas ▁( en core ) ▁eu t ▁le ▁temps ▁de ▁faire ▁les ▁ exercice s , ▁mais ▁j ' ai ▁été ▁impression né ▁par ▁la ▁( rela tive ) ▁simplici té ▁de ▁chaque ▁nouvelle ▁étape ▁jusqu ' à ▁la ▁découverte ▁( ou ▁pas ▁;-) ▁) ▁du ▁\" JE \" ▁comme ▁le ▁défini t ▁l ' auteur e . ▁L ' auteur e ▁connait ▁visible ment ▁le ▁sujet ▁de ▁fond ▁en ▁com ble . ▁Elle ▁laisse ▁des ▁indice s ▁au ▁lecteur ▁pour ▁dire ▁qu ' il ▁y ▁a ▁tellement ▁plus ▁ , ▁mais ▁elle ▁ne ▁l ' as somme ▁pas ▁de ▁son ▁savoir ▁en ▁s ' écart ant ▁de ▁la ▁ vocation ▁de ▁son ▁livre . ▁D ommage ▁que ▁tous ▁les ▁au teurs ▁ne ▁fa ssent ▁pas ▁ça . ▁Ca ▁donne ▁envie ▁d ' en ▁apprendre ▁plus . ▁Les ▁exemple s ▁sont ▁bien ▁choisi s ▁et ▁illustre nt ▁bien ▁le ▁propos , ▁sans ▁qu ' ils ▁soient ▁trop ▁nombreux . ▁J ' ai ▁aussi ▁beaucoup ▁aimé ▁le ▁changement ▁de ▁style ▁quand ▁elle ▁\" accompagne \" ▁le ▁lecteur ▁dans ▁ses ▁ exercice s . ▁Il ▁faudrait ▁un ▁CD ▁pour ▁accompagner ▁le ▁livre ! ▁Ca ▁aider ait ▁encore ▁plus ! ▁Les ▁livres ▁que ▁j ' ai ▁pu ▁lire ▁jusqu ' à ▁présent ▁m ' ont ▁toujours ▁sem blé ▁flo us ▁et ▁confu s . ▁Celui - ci ▁est ▁le ▁premier ▁que ▁je ▁rencontre ▁qui ▁soit ▁si ▁différent . ▁Alors , ▁bravo ! ▁J ' espère ▁qu ' il ▁va ▁se ▁faire ▁connait re ▁car ▁il ▁le ▁mérite . ▁Bonne ▁lecture !\n",
            "▁Un ▁petit ▁livre ▁très ▁utile ▁pour ▁ améliorer ▁la ▁santé ▁à ▁travers ▁la ▁respira tion ▁yog ique . ▁On ▁peut ▁vivre ▁2 ▁mois ▁sans ▁nourriture , ▁2 ▁jours ▁sans ▁bo ire ▁et ▁trois ▁minutes ▁sans ▁resp ir er , d ' où ▁l ' importance ▁de ▁bien ▁maîtrise r ▁notre ▁souffle . ▁Selon ▁la ▁philosophi e ▁indien ne , ▁nous ▁avons ▁à ▁la ▁naissance ▁un ▁nombre ▁defini ▁de ▁respira tions ▁ . On ▁peut ▁donc ▁prolong er ▁la ▁vie ▁en ▁all ongea nt ▁la ▁respira tion !! ▁Dans ▁ma ▁pratique ▁du ▁massage ▁j ' ob serve ▁chez ▁les ▁clients ▁comment ▁ils ▁resp i rent ▁mal , ▁ont ▁le ▁souffle ▁court ▁et ▁une ▁respira tion ▁tho rac ique . ▁Le ▁premier ▁pas ▁est ▁de ▁prendre ▁conscience ▁de ▁sa ▁respira tion ▁et ▁de ▁la ▁maîtrise r ▁ensuite . ▁C ' est ▁ce ▁que ▁nous ▁montre ▁D . L on chant ▁avec ▁un ▁lang age ▁simple ▁et ▁naturel . Les ▁bien fa its ▁que ▁cette ▁pratique ▁nous ▁apporte ▁peuvent ▁changer ▁et ▁beaucoup ▁notre ▁état ▁de ▁santé ▁physique ▁et ▁psych ique . ▁Il ▁n ' y ▁a ▁pas ▁d ' ango isse , ▁de ▁stress , ▁qui ▁ne ▁ cè de ▁pas ▁à ▁une ▁respira tion ▁ma ît r isée ▁la issant ▁le ▁bien - être ▁s ' installer ▁en ▁nous ▁et ▁nous ▁ ouvrir ▁l ' esprit . ▁Et ▁vous ▁n ' ê tes ▁pas ▁au ▁bout ▁de ▁vos ▁bonnes ▁surprise s . ▁Vous ▁pouvez ▁choisir ▁le ▁but ▁recherch é . En ▁prati quant ▁la ▁re tention ▁du ▁souffle ▁après ▁l ' in spire ▁et ▁l ' exp ire , ▁et ▁en ▁modifi ant ▁le ▁temps ▁de ▁re tention ▁du ▁souffle , ▁vous ▁pouvez ▁aug ment er ▁votre ▁dyna m isme , ▁ra je un ir , ▁et ▁encore ▁plus - ▁Je ▁vous ▁laisse ▁lire ▁ce ▁petit ▁livre ▁qui ▁vous ▁met ▁le ▁bien - être ▁à ▁portée ▁de ▁main .\n",
            "▁A ▁Tokyo , ▁le ▁jour ▁de ▁ses ▁quinze ▁ans , ▁Kafka ▁Tam ura ▁s ' en fu it ▁de ▁chez ▁lui , ▁pour su ivit ▁par ▁une ▁étrange ▁malé di ction ▁profes s ée ▁par ▁son ▁propre ▁père . ▁Para ll è lement , ▁Na kata ▁un ▁vie il ▁homme ▁simple ▁d ' esprit ▁qui tte ▁la ▁ville . ▁Tous ▁deux ▁ne ▁se ▁connais sent ▁pas ▁et ▁pourtant ▁vont ▁dans ▁la ▁même ▁direction , ▁ils ▁vont ▁rencontrer ▁des ▁personnage s ▁étrange s ▁tout ▁au ▁long ▁de ▁leur ▁péri ple . ▁Ce ▁roman ▁à ▁ vocation ▁initiat ique , ▁hors ▁du ▁temps , ▁est ▁écrit ▁avec ▁une ▁po ési e , ▁une ▁sensibil ité ▁é mo u vante , ▁c ' est ▁un ▁pur ▁déli ce . ▁Le ▁sujet ▁n ' est ▁pas ▁ particulièrement ▁att ray ant , ▁on ▁a ▁déjà ▁lu ▁plusieurs ▁livres ▁d ' apprentissage , ▁mais ▁la ▁qualité ▁de ▁l ' écriture ▁et ▁son ▁original ité ▁sont ▁exceptionnel s . ▁Je ▁ne ▁suis ▁pas ▁une ▁adept e ▁de ▁la ▁culture ▁japon ais e , ▁mais ▁ce ▁livre ▁m ' a ▁donné ▁envie ▁de ▁découvrir ▁d ' autres ▁au teurs ▁japon ais .\n",
            "▁J ' ai ▁lu ▁toute ▁la ▁collection ▁de ▁Raymond ▁E . Fe ist . ▁Je ▁trouve ▁que ▁c ' est ▁la ▁meilleure ▁histoire ▁que ▁j ' ai ▁lu ▁jusqu ' a ▁présent . C ' est ▁le ▁deuxième ▁hauteur ▁qui ▁ma ▁fait ▁ai mer ▁la ▁lecture , après ▁J . R . R . T ol kin . ▁Je ▁vous ▁conseille ▁de ▁lire ▁la ▁suite ▁de ▁la ▁guerre ▁de ▁la ▁fa ille ( la ▁guerre ▁des ▁serpent s ) cela ▁vous ▁explique ra ▁toute ▁l ' histoire ▁inn ache vé ▁des ▁premier ▁tom . ( pour ▁ceux ▁qui ▁aime ▁le ▁genre ▁je ▁vous ▁conseille ▁de ▁lire ▁David ▁Gem mell ( les ▁cron iques ▁de ▁dre na ï , ain si ▁que ▁les ▁pierre s ▁de ▁sang ) c ' est ▁du ▁même ▁genre , je ▁vous ▁ras sure ▁vous ▁allez ▁être ▁att i rés ▁dès ▁le ▁premier ▁tom ...) ▁si ▁vous ▁avez ▁des ▁livres ▁a ▁me ▁conseiller ▁ envoyer ▁moi ▁toujours ▁un ▁e - mail ... merci !\n",
            "▁Dans ▁ce ▁livre , ▁on ▁déc ouvre ▁les ▁\" Tro pis \", ▁être s ▁constitu ant ▁le ▁\" cha în on ▁man quant \" ▁entre ▁le ▁sing e ▁et ▁l ' homme ... ▁et ▁de ▁se ▁demander ▁s ' ils ▁appar tiennent ▁à ▁l ' human ité ▁ou ▁au ▁rè gne ▁animal , ▁avec ▁les ▁enjeux ▁é th iques ▁et ▁économique s ▁que ▁cela ▁impli que . ▁Une ▁bonne ▁occasion ▁de ▁se ▁demander ▁où ▁se ▁situ e ▁la ▁b arrière ▁entre ▁l ' homme ▁et ▁l ' animal , ▁ainsi ▁que ▁de ▁remettre ▁un ▁peu ▁en ▁question ▁les ▁pouvoir s ▁que ▁se ▁con f ère ▁le ▁premier ▁sur ▁le ▁deuxième ▁; ▁le ▁tout ▁à ▁travers ▁une ▁fiction ▁très ▁agréable ▁à ▁lire ...\n",
            "▁Lorsqu e ▁j ' ai ▁lu ▁ce ▁livre ▁j ' étais ▁en ▁recherche ▁de ▁mieux - être ... ▁Il ▁m ' a ▁touch é ▁au ▁plus ▁profond ▁de ▁mon ▁coeur ▁par ▁ses ▁parole s ▁d ' amour . ▁Il ▁reste ▁un ▁de ▁mes ▁livres ▁\" bon he ur \" ▁lorsque ▁tout ▁ne ▁va ▁pas ▁pour ▁le ▁mieux . ▁Ne ▁vous ▁attend ez ▁pas ▁à ▁des ▁ré vél ations ▁extra ordin aires ▁mais ▁un ▁témoignage ▁simple ▁dans ▁une ▁période ▁très ▁trouble , ▁la ▁deuxième ▁guerre ▁mondiale . ▁Si ▁vous ▁avez ▁l ' esprit ▁ouvert , ▁prêt ▁à ▁une ▁expérience ▁spiritu elle , ▁qui ▁peut ▁donner ▁un ▁sens ▁à ▁a ▁vie ▁et ▁aider ▁à ▁vivre ... ▁Lise z - le ▁sans ▁a ▁priori ▁et ▁laisse z ▁vous ▁porter ▁sans ▁juge ment ▁ni ▁ attente , ▁vous ▁ne ▁se rez ▁pas ▁dé çu .\n",
            "▁Et ant ▁origina ire ▁de ▁Ca en , ▁j ' ai , ▁au ▁départ ▁acheté ▁ce ▁livre ▁uniquement ▁car ▁l ' action ▁se ▁déroule ▁dans ▁cette ▁ville ▁norma nde .\n",
            "▁On ▁sait ▁peu ▁de ▁choses ▁sur ▁Mani . ▁Rien ▁ne ▁reste ▁de ▁son ▁passage , ▁sauf ▁ce ▁terme ▁de ▁mani ché ï sme , ▁toutefois ▁trop ▁ré duc teur ▁pour ▁d écrire ▁la ▁complex ité ▁du ▁personnage . ▁Maal ou f ▁nous ▁relat e ▁sa ▁vie ▁et ▁sa ▁mort , ▁conforme s ▁avec ▁son ▁mode ▁de ▁pensée . ▁L ' intégr ité ▁en ▁est ▁le ▁fil ▁conduct eur ▁\" je ▁suis ▁ce ▁que ▁je ▁dis ▁et ▁ce ▁que ▁je ▁fais \", ▁vécu e ▁jusqu e ▁dans ▁l ' ago nie ▁et ▁la ▁mort ▁de ▁Mani ... ▁Cela ▁interpel le ▁à ▁plus ▁d ' un ▁titre . ▁- ▁Au ▁regard ▁des ▁ événement s ▁contemporain s , ▁des ▁attenta ts ▁suicide s , ▁des ▁ intégr isme s ▁de ▁tout ▁bord , ▁de ▁la ▁menace ▁de ▁guerre ▁en ▁Irak , ▁cela ▁soul ève ▁bien ▁des ▁questions ▁sur ▁les ▁limites ▁entre ▁l ' intégr ité ▁et ▁l ' intégr isme . ▁Quand ▁le ▁bas cu lement ▁se ▁produit - il ? ▁Comment ▁apprendre ▁à ▁le ▁prévenir ? ▁- ▁Au ▁2 è ▁siècle , ▁quand ▁la ▁religion ▁chrétien ne ▁bal buti ait ▁encore , ▁si ▁Mani ▁avait ▁été ▁à ▁jusqu ' à ▁Rome ▁et ▁que ▁son ▁ enseignement ▁y ▁était ▁parve nu , ▁que ▁serait ▁aujourd ' hui ▁la ▁face ▁de ▁cette ▁chrétien té (?) ▁... ▁qui ▁se ▁fait ▁la ▁champion ne ▁des ▁valeur s ▁qui ▁orchestr ent ▁nos ▁société s ? ▁- ▁Si ▁l ' histoire ▁est ▁toujours ▁( ré ) é crit e ▁pas ▁les ▁vain que urs ▁et ▁les ▁sur viv ants , ▁qu ' en ▁est - il ▁de ▁ces ▁valeur s ▁qui ▁rég issent ▁la ▁vie ▁dans ▁nos ▁société s ? ▁Un ▁livre ▁sur ▁la ▁to lé rance , ▁à ▁( re ) li re ▁et ▁à ▁mé di ter .\n",
            "▁Sylv ain , 17 ▁ans , part ▁en ▁crois ière ▁avec ▁sa ▁tante ▁pour ▁la ▁première ▁fois ▁de ▁sa ▁vie . Sur ▁le ▁bateau ▁alla nt ▁jusqu ' a ▁New ▁York , il ▁va ▁faire ▁la ▁connaissance ▁d ' un ▁certain ▁M . Petr ov sky ... ▁Quand ▁un ▁homme ▁est ▁por té ▁dispar u , S yl va in ▁et ▁son ▁nouvel ▁ami ▁vont ▁mener ▁l ' en que te .\n",
            "▁Enfin ▁une ▁histoire ▁qui ▁sort ▁de ▁l ' ordina ire . ▁Un ▁bon ▁bou quin ▁sur ▁la ▁pre histoire . ▁On ▁apprend s ▁enorme ment ▁sans ▁se ▁la sser . ▁L ' histoire ▁est ▁bien ▁fi cele e , ▁tellement ▁pren ante ▁qu ' on ▁ne ▁s ' arre te ▁de ▁lire ▁qu ' a ▁la ▁fin ▁du ▁volume . ▁Et ▁c ' est ▁encore ▁mieux ▁de ▁savoir ▁que ▁la ▁suite ▁est ▁longue .\n",
            "▁Pour ▁moi ▁ce ▁livre ▁est ▁pour ▁l ' instant ▁le ▁meilleur ▁que ▁j ' ai ▁lu ▁de ▁la ▁série . ▁L ' histoire ▁est ▁inter res s ante ▁et ▁on ▁est ▁à ▁l ' écoute ▁des ▁moindre s ▁fa illes . ▁On ▁déc ouvre ▁encore ▁une ▁fois ▁la ▁région ▁bre ton ne !!! ▁C ' est ▁génial ▁comme ▁livre ▁polici er . ▁Moi ▁j ' adore ▁Jean ▁Fa iller ▁!!!\n",
            "▁Je ▁peu ▁à ▁ajouter ▁aux ▁autres ▁commentaires ▁du ▁site , ▁entièrement ▁d ' accord . ▁Un ▁livre ▁à ▁lire ▁chaque ▁fois ▁qu ' on ▁entend ▁parler ▁de ▁\" guer re ▁et h nique \", ▁si ▁com mode ▁pour ▁se ▁dé barra sser ▁des ▁analyse s ▁et ▁éviter ▁de ▁se ▁poser ▁les ▁questions ▁qui ▁ fâ chen t . ▁Magistr al ▁pour ▁montrer ▁la ▁construction ▁de ▁la ▁hai ne . ▁Cela ▁fait ▁froid ▁dans ▁le ▁dos . ▁Surtout ▁quand ▁on ▁voit ▁ce ▁type ▁de ▁construction ▁de ▁la ▁hai ne ▁se ▁rép ét er , ▁comme ▁en ▁Cô te ▁d ' ivo ire .\n",
            "▁Pip ▁la ▁so uris ▁ne ▁rêve ▁que ▁d ' une ▁chose ▁: ▁aider ▁ses ▁amis ▁les ▁animaux ▁mais ▁tous ▁refuse nt . ▁« ▁Tu ▁es ▁trop ▁petit ▁» , ▁s ' entend - il ▁dire ▁à ▁longueur ▁de ▁journée . ▁A ▁force , ▁c ' est ▁ve xan t ... ▁Jusqu ' au ▁jour ▁où ▁Pip ▁voit ▁son ▁heure ▁de ▁glo ire ▁arriver ▁: ▁ses ▁amis ▁sont ▁coin cés ▁à ▁l ' extérieur ▁d ' une ▁maison . ▁Grâce ▁à ▁sa ▁petite ▁taille , ▁Pip ▁va ▁les ▁sortir ▁d ' affaire . ▁Alors , ▁c ' est ▁pas ▁cho u ette ▁d ' être ▁petit ▁des ▁fois ▁? ▁Pip ▁pi p ▁pi p ▁hour ra ▁! ▁Une ▁histoire ▁toute ▁douce ▁qui ▁a ▁beaucoup ▁plu ▁à ▁ma ▁fille ▁de ▁3 ▁ans ▁qui ▁me ▁semble ▁s ' être ▁ identifi ée ▁à ▁la ▁petite ▁so uris . ▁J ' étais ▁un ▁peu ▁réservé e ▁au ▁départ ▁à ▁la ▁lecture ▁de ▁ce ▁livre . ▁Je ▁trou vais ▁l ' histoire ▁un ▁peu ▁banal e , ▁co usu e ▁de ▁fil ▁blanc , ▁et ▁les ▁illustration s ▁sans ▁grande ▁original ité . ▁Et ▁puis , ▁j ' ai ▁ré vis é ▁mon ▁juge ment ▁: ▁si ▁ma ▁fille ▁ adore ▁ce ▁livre , ▁c ' est ▁qu ' il ▁réussi t ▁à ▁la ▁touch er . ▁Alors ▁tant ▁mieux ▁!\n",
            "▁Voilà ▁un ▁livre ▁vraiment ▁pour ▁les ▁tout ▁petits ( à ▁partir ▁de ▁6 ▁mois ). Mon ▁petit ▁garçon ▁demande ▁à ▁le ▁regarder ▁chaque ▁jour ▁depuis ▁3 ▁mois ▁et ▁s ' amus e ▁à ▁care sser ▁tous ▁les ▁chat s . ▁Et ▁bien ▁que ▁mon ▁petit ▁bon homme ▁tire ▁sans ▁ces se ▁sur ▁les ▁poils ▁des ▁chat ons , ▁ceux - ci ▁resten t ▁bien ▁ac cro ché s . Un ▁ achat ▁pour ▁leur ▁faire ▁ai mer ▁les ▁livres ! ...\n",
            "▁Livre ▁acheté ▁sur ▁la ▁demande ▁de ▁la ▁maître sse ▁pour ▁l ' ét udi er ▁en ▁classe ▁( CP ) ▁Belle ▁histoire , ▁beaucoup ▁de ▁po ési e ▁avec ▁un ▁texte ▁pas ▁très ▁long ▁mais ▁dont ▁les ▁mots ▁sont ▁choisi s ▁avec ▁soins ▁et ▁qui ▁permettent ▁à ▁l ' enfant ▁d ' en rich ir ▁son ▁vocabula ire ▁sans ▁complex ité ▁super flu e . ▁Très ▁belle ▁illustration s . ▁Si ▁l ' enfant ▁lit ▁déjà ▁bien , ▁le ▁livre ▁est ▁plus ▁à ▁choisir ▁pour ▁sa ▁qualité ▁que ▁pour ▁sa ▁quantité .\n",
            "▁Nancy ▁hus ton ▁est ▁une ▁magic ienne ▁elle ▁comprend ▁ce ▁qu ' on ▁aurait ▁envie ▁de ▁dire ▁quand ▁les ▁mots ▁ne ▁sorte nt ▁pas ▁elle ▁écrit ▁comme ▁on ▁re ssent ▁et ▁dans ▁La ▁Vi re vol te ▁c ' est ▁vraiment ▁flagrant . ▁quand ▁je ▁li s ▁ce ▁livre ▁je ▁voudrais ▁et re ▁ces ▁personnage s ▁qui ▁vivent ▁tour ment és ▁mais ▁qui ▁font ▁ce ▁qu ' ils ▁veulent ▁de ▁leurs ▁vies . ▁J ' ai ▁aimé ▁ce ▁livre ▁alors ▁que ▁je ▁n ' avais ▁pas ▁d ' enfant ▁et ▁maintenant ▁que ▁j ' en ▁ai ▁j ' aime ▁encore ▁plus ▁reli re ▁ce ▁livre ▁car ▁quand ▁on ▁satu re ▁ce ▁sont ▁des ▁histoire s ▁comme ▁ça ▁qui ▁nous ▁compren nent .\n",
            "▁Fan ▁de ▁Dan ▁Sim mons , ▁je ▁l ' ai ▁découvert ▁en ▁lisan t ▁l ' é chi quier ▁du ▁mal ▁il ▁y ▁a ▁quelques ▁années . ▁Jama is ▁un ▁roman ▁ne ▁m ' avait ▁autant ▁passionné . ▁C ' est ▁son ▁meilleur .\n",
            "▁Dev rait ▁devenir ▁un ▁grand ▁classique , ▁devrait ▁faire ▁partie ▁du ▁programme ▁du ▁bac . ▁Ad mir able ▁de ▁mesure , ▁d ' intelligence . ▁Cet ▁ ouvrage ▁me ▁donne ▁envie ▁de ▁découvrir ▁tous ▁les ▁autres ▁livres ▁de ▁T zve tan ▁Todo rov .\n",
            "▁A ventur e ▁que ▁celle ▁de ▁ce ▁jeune ▁avia teur , ▁sous - lie u tenant ▁Kes sel , ▁qui ▁s ' est ▁por té ▁volontaire ▁pour ▁se ▁bat tre ▁contre ▁les ▁Alle mand s ▁en ▁Russ ie , ▁en ▁1918 . ▁La ▁Russ ie , ▁son ▁pays ▁d ' origine , ▁où ▁il ▁vécu t ▁les ▁première s ▁années ▁de ▁sa ▁vie ▁( à ▁Or en bourg , ▁sur ▁l ' O ural ) ▁l ' appelle ▁au ▁plus ▁profond ▁de ▁ses ▁entra illes ▁et ▁de ▁son ▁âm e . ▁A ventur e ▁que ▁celle ▁d ' assist er , ▁sur ▁le ▁nav ire ▁de ▁trou pe ▁américain ▁Sher man , ▁dans ▁la ▁rade ▁de ▁Bre st , ▁à ▁la ▁fin ▁de ▁la ▁guerre ▁et ▁à ▁la ▁sy m pho nie ▁des ▁clo ches ▁salu ant ▁la ▁Vic toire ▁et ▁l ' Ar mist ice , ▁ce ▁11 ▁novembre ▁1918 . ▁A ventur e ▁que ▁celle ▁de ▁partir ▁quand ▁même . ▁Déc ou verte ▁passion ▁des ▁Etats - Unis ▁à ▁la ▁faveur ▁des ▁multiple s ▁fête s , ▁réception s , ▁ honneur s , ▁bal s . ▁Puis , ▁nouvel ▁em bar que ment ▁pour ▁Vladi vost ok ▁pour ▁assist er ▁et ▁participer ▁à ▁une ▁vie ▁de ▁fin ▁de ▁régime , ▁cita delle ▁as si ég ée ▁par ▁les ▁Rouge s . ▁La ▁jeunes se , ▁la ▁passion , ▁le ▁goût ▁im mod éré ▁de ▁l ' aventure ▁et ▁de ▁la ▁vie , ▁les ▁femmes , ▁l ' alcool ▁et ▁la ▁flam me ▁d ' un ▁ amour , ▁ani ment ▁ce ▁ré cit ▁auto - bio graphique ▁au ▁style ▁proche ▁de ▁celui ▁d ' He ming way . ▁Ce ▁livre , ▁écrit ▁en ▁1975 ▁au ▁soir ▁de ▁la ▁vie ▁de ▁Joseph ▁Kes sel , ▁se ▁re spire ▁d ' une ▁trai te .\n",
            "▁Je ▁possède ▁ce ▁livre ▁d ▁a quar elle ▁depuis ▁un ▁an ▁et ▁c ▁' est ▁pour ▁moi ▁un ▁plaisir ▁re nou ve lé ▁de ▁le ▁feuille ter , ▁de ▁con temp ler ▁les ▁l lustra tions ▁ . C ' est ▁exactement ▁l ▁idée ▁que ▁je ▁me ▁fais ▁de ▁l ' ▁a quar elle ▁à ▁la ▁fois ▁la ▁beau te , ▁la ▁fluid ité ▁qui ▁fait ▁na it re ▁l ' émotion ▁c ▁est ▁un ▁vrai ▁bonheur . ▁Sur ▁le ▁plan ▁did ac tique ▁c ▁est ▁également ▁très ▁bien , ▁un ▁peu ▁technique , ▁mais ▁: ▁qui ▁peut ▁le ▁plus ▁... ▁je ▁me ▁suis ▁essay é ▁à ▁repro duire ▁certaines ▁a quar elles ▁ou ▁à ▁travailler ▁\" à ▁la ▁mani ére ▁de \" ▁avec ▁un ▁peu ▁de ▁per s évé rance ▁j ▁ai ▁progress é ▁mais ▁j ' aime rai ▁avoir ▁Mr ▁More lle ▁comme ▁professeur . En core ▁merci\n",
            "▁Le ▁tome ▁4 ▁est ▁plein ▁de ▁re bond issement , ▁il ▁donne ▁envie ▁de ▁connaître ▁la ▁fin . ▁Une ▁fin ▁bien ▁étrange , ▁un ▁peu ▁mé lim é lo , ▁on ▁a ▁du ▁mal ▁à ▁s ' y ▁retrouvé ▁dans ▁les ▁personnage s . ▁On ▁sau te ▁sans ▁ces se ▁du ▁co q ▁à ▁l ' âne , ▁c ' est ▁pé ni ble . ▁A ▁croire ▁que ▁le ▁livre ▁où ▁la ▁tra duction ▁a ▁été ▁bâ clé ▁pour ▁finir ▁le ▁livre ▁dans ▁les ▁temps . ▁Mais ▁que ▁cela ▁ne ▁vous ▁ empêche ▁pas ▁de ▁prendre ▁plaisir ▁à ▁le ▁lire , ▁tous ▁n ' est ▁pas ▁fou illi s .\n",
            "▁En ▁réalité , ▁je ▁lui ▁ aurais ▁mis ▁4.5 ▁étoiles ▁car ▁c ' est ▁un ▁livre ▁ prenant ▁et ▁génial ▁lorsqu ' on ▁veut ▁se ▁dét endre , ▁pas ▁de ▁\" prise ▁de ▁tête \"; ▁pourtant ▁ce ▁livre ▁est ▁plein ▁de ▁re bond is s ments ▁et ▁il ▁est ▁vraiment ▁bien ▁écrit . ▁On ▁ne ▁voit ▁qu ' on ▁est ▁à ▁la ▁fin ... qu ' à ▁la ▁fin ▁! ▁Ce ▁livre ▁ne ▁peut ▁pas ▁vraiment ▁être ▁compar é ▁à ▁u en ▁suite ▁de ▁Ba iser ▁fatal , ▁du ▁même ▁ auteur , ▁puisqu ' on ▁ne ▁parle ▁que ▁peu ▁d ' A lec ▁et ▁Domini , ▁qui ▁intervi en net ▁là ▁en ▁personnage s ▁secondaire s , ▁rem plac és ▁par ▁Colli n ▁et ▁Mia . ▁Pourtant , ▁ce ▁livre ▁parle ▁des ▁même s ▁tradition s ▁des ▁vampir es ▁que ▁dans ▁Ba iser ▁fatal , ▁les ▁règles ▁sont ▁les ▁même s . ▁Les ▁deux ▁hér os ▁sont ▁att ach ants , ▁bien ▁que ▁je ▁les ▁ai ▁trouvé ▁moins ▁déc rit s ▁psy c ologique ment ▁que ▁Domini ▁et ▁A lec , ▁l ' histoire ▁se ▁porte ▁plus ▁sur ▁l ' action ▁et ▁les ▁réflexion s ▁personnelles . ▁Voilà ▁pourquoi ▁je ▁ne ▁met s ▁que ▁4.5 ▁au ▁lieu ▁de ▁cinq ▁car ▁il ▁manque ▁ça ▁à ▁ce ▁livre ▁par ▁rapport ▁à ▁ba iser ▁fatal . ▁Lise z ▁le ▁tout ▁de ▁même ▁! ▁:-)\n",
            "▁Tout ▁d ' abord , ▁je ▁remercie ▁les ▁au teurs ▁des ▁2 ▁précédent s ▁commentaires ▁car ▁c ' est ▁en ▁les ▁lisan t ▁que ▁je ▁me ▁suis ▁décidé e ▁pour ▁l ' achat ▁de ▁cet ▁Oracle ▁des ▁Ang es . ▁Cet ▁ora cle ▁m ' a ▁complètement ▁blu ff ée . ▁J ' en ▁ai ▁fait ▁l ' acquisition ▁en ▁même ▁temps ▁que ▁des ▁Carte s ▁divina toire s ▁des ▁Ar change s ▁( é ga lement ▁de ▁Dor een ▁Virtu e ) ▁et ▁ces ▁deux ▁jeux ▁se ▁complètement ▁merveille us ement . ▁Dès ▁que ▁l ' on ▁a ▁posé ▁la ▁question ▁clairement ▁et ▁précisément ▁( ce lle ▁que ▁l ' on ▁a ▁vraiment ▁en ▁tête ▁et ▁non ▁pas ▁une ▁question ▁dé gu isée ), ▁l ' ora cle ▁répond ▁de ▁manière ▁clair e ▁et ▁con ci se . ▁Dès ▁les ▁premiers ▁tira ges , ▁j ' ai ▁été ▁complètement ▁é pat ée ▁des ▁réponse s ▁qui ▁m ' ét aient ▁données ▁tellement ▁elles ▁étaient ▁juste s ▁et ▁adaptée s ▁à ▁la ▁situation . ▁Excellent ▁jeu ▁pour ▁les ▁début ants , ▁d ' autant ▁plus ▁que ▁la ▁communication ▁avec ▁les ▁anges ▁est ▁simpli s sime . ▁À ▁mettre ▁de ▁toute ▁ urgence ▁entre ▁toutes ▁les ▁mains !\n",
            "▁C ' est ▁le ▁premier ▁livre ▁de ▁l ' écriv ain ▁que ▁je ▁viens ▁de ▁lire ▁et ▁je ▁dois ▁dire ▁que ▁j ' ai ▁été ▁plus ▁qu ' a gré a blement ▁sur pris . ▁Le ▁style , ▁le ▁rythme , ▁la ▁construction , ▁les ▁personnage s , ▁les ▁histoire s ▁\" second aires \", ▁tout ▁est ▁admira blement ▁écrit ▁et ▁travail lé ▁et ▁rien , ▁absolument ▁rien ▁n ' est ▁laissé ▁au ▁hasard . ▁Je ▁ne ▁vais ▁pas ▁vous ▁raconte r ▁l ' histoire . ▁Di sons ▁que ▁c ' est ▁simplement ▁l ' histoire ▁d ' un ▁ écriv ain ▁assez ▁commun , ▁d ' un ▁homme ▁simple ▁qui ▁lutte ▁pour ▁se ▁remettre ▁de ▁la ▁maladie . ▁Je ▁n ' en ▁dira i ▁pas ▁plus ▁au ▁risque ▁de ▁vous ▁ gâ cher ▁le ▁plaisir ▁de ▁lire ▁ce ▁magnifique ▁livre . ▁Je ▁ne ▁peux ▁pas ▁me ▁permettre ▁de ▁compar er ▁ce ▁dernier ▁à ▁d ' autres ▁du ▁même ▁au teurs ▁mais ▁je ▁peux ▁dire , ▁et ▁ce ▁sans ▁l ' ombre ▁d ' un ▁doute , ▁que ▁c ' est ▁le ▁meilleur ▁livre ▁qu ' il ▁m ' ait ▁été ▁donné ▁de ▁lire ▁depuis ▁bien ▁longtemps . ▁Enfin , ▁il ▁faut ▁bien ▁av ou er ▁car ▁le ▁titre ▁est ▁plus ▁qu ' ac cro che ur . ▁Une ▁fois ▁ouvert , ▁vous ▁aurez ▁beaucoup ▁de ▁mal ▁à ▁le ▁refer mer . ▁Ce ▁n ' est ▁vraiment ▁pas ▁difficile ▁à ▁lire ▁( ce ▁que ▁je ▁crai gna is ), ▁il ▁faut ▁juste ▁se ▁concentr er ▁un ▁peu ▁plus ▁lors ▁de ▁certains ▁passage s ▁dans ▁les ▁histoire s ▁secondaire s . ▁Un ▁livre ▁dans ▁le ▁livre . ▁Un ▁grand ▁bou quin , ▁pour ▁tous ! ▁FF\n",
            "▁ce ▁livre ▁est ▁tout ▁simplement ▁génial ▁!! ▁( ▁comme ▁les ▁2 ▁autres ▁tome s ), ▁tous ▁les ▁amateur s ▁de ▁pe ggy ▁sue , ▁et ▁il ▁y ▁en ▁a ▁beaucoup , ▁vous ▁n ' alle z ▁pas ▁être ▁dé çu s ▁! on ▁retrouve ▁tous ▁les ▁personnage s ▁avec ▁plaisir ▁et ▁l ' intrigue ▁est ▁captiv ante\n",
            "▁La ▁nature ▁humaine ▁dans ▁toute ▁son ▁horre ur ▁et ▁sa ▁spl ende ur ▁aussi ... De ▁l ' ins out en able ▁au ▁merveille ux ... A ▁classe r ▁parmi ▁les ▁meilleurs ▁roman s ▁de ▁ces ▁dernières ▁années . ▁Lise z ▁le , ▁reli s ez ▁le ▁et ... pré pare z ▁vos ▁mou cho ir s . ▁Une ▁belle ▁note ▁d ' espoir ▁enfin ▁quand ▁à ▁notre ▁jeunes se ▁car ▁ce ▁chef - d ' œuvre ▁a ▁obtenu ▁le ▁Gon court ▁des ▁lycée ns .\n",
            "▁j ' ai ▁lu ▁ce ▁livre ▁ , ▁on ▁y ▁apprend ▁a ▁regarder ▁la ▁nur i ture ▁sous ▁un ▁autre ▁angle ▁et ▁a ▁connait re ▁les ▁ali ments ▁qui ▁font ▁fond re ▁les ▁gra isse s ▁et ▁a ▁ceux ▁qui ▁permettent ▁de ▁pas ▁les ▁stock er ▁ . ▁a ▁lire ▁absolument ▁ , ▁ce ▁livre ▁devra is ▁et re ▁obligatoire ▁a ▁lire ▁a ▁l ' e cole .\n",
            "▁Cet ▁ ouvrage ▁est ▁une ▁incontournable ▁sur ▁les ▁ émotion s , ▁l ' intelligence ▁ émotion nelle ▁et ▁la ▁vérité ▁du ▁ressenti . ▁Non ▁seulement ▁le ▁sujet ▁est ▁riche ment ▁document é , ▁mais ▁surtout ▁il ▁est ▁écrit ▁avec ▁l ' intelligence ▁du ▁coeur , ▁bien ▁au - de lâ ▁d ' un ▁simple ▁de script if ▁du ▁sujet . Po ur ▁moi , ▁coach ▁en ▁gestion ▁du ▁stress ▁et ▁quel ité ▁de ▁vie , il ▁est ▁ma ▁bi ble . ▁Merci .\n",
            "▁Cet ▁album ▁fait ▁partie ▁des ▁meilleurs ▁de ▁la ▁série ▁des ▁Tin tin . ▁Après ▁un ▁rêve ▁pré moni toire , ▁tout ▁l ' album ▁est ▁bas é ▁sur ▁la ▁recherche ▁de ▁T chang , ▁rencontré ▁en ▁Chine ▁au ▁cours ▁du ▁Lotus ▁bleu . ▁Le ▁décor , ▁principalement ▁blanc , ▁n ' empêche ▁pas ▁d ' être ▁captiv é ▁par ▁cette ▁aventure ▁humaine ▁où , ▁malgré ▁les ▁di ver gence s ▁des ▁points ▁de ▁vue , ▁chacun ▁se ▁ralli e ▁pour ▁la ▁même ▁cause ▁: ▁sau ver ▁T chang , ▁même ▁si ▁seul ▁Tin tin ▁le ▁cro it ▁encore ▁vivant .\n",
            "▁J ' ai ▁franchement ▁ adore ▁le ▁style ▁si ▁particulier ▁de ▁Cami li eri , ▁parfaitement ▁tra duit ▁du ▁si cili en , ▁semble ▁t - il . ▁Le ▁roman ▁se ▁de cou pe ▁en ▁plusieurs ▁en que tes , on ▁rig ole ▁vraiment ▁a ▁la ▁premier e , ▁un ▁peu ▁moins ▁aux ▁autres , ▁mais ▁l ' auteur ▁nous ▁transporte ▁parfaitement ▁bien ▁dans ▁son ▁univers ▁de ▁petit ▁village ▁de ▁si cile ▁ou ▁tout ▁le ▁monde ▁se ▁connait , ▁et ▁ou ▁les ▁affair es ▁ne ▁peuvent ▁pas ▁se ▁reso ud re ▁de ▁fac on ▁\" class ique \". ▁Tres , ▁tres ▁agre able ▁a ▁lire .\n",
            "▁Mais ▁j ' ai ▁ador é ▁ce ▁livre ! ▁Person na ge ▁att a chant , ▁on ▁se ▁prend ▁au ▁jeu , ▁on ▁vit ▁avec ▁Harry ▁et ▁on ▁a ▁hâ te ▁de ▁lire ▁la ▁suite !\n",
            "▁Je ▁vous ▁recommande ▁d ' acheter ▁3 ▁exempla ires ▁de ▁ce ▁livre . ▁Celui ▁que ▁vous ▁li rez ▁en ▁premier , ▁une ▁fois , ▁deux ▁fois , ▁di x ▁fois , ▁cent ▁fois ▁avant ▁d ' en ▁comprendre ▁des ▁bri bes ▁puis , ▁j ' espère ▁pour ▁vous , ▁la ▁sub stant ifique ▁mo elle ▁et ▁qui ▁ainsi ▁aura ▁la ▁couverture ▁pli ée , ▁les ▁pages ▁us ées ▁de ▁re lec ture . ▁Le ▁second ▁qui ▁tr ôn era ▁tout ▁neuf ▁dans ▁votre ▁bibliothèque ▁et ▁le ▁troisième ▁pour ▁l ' ami ▁qui ▁sera ▁comme ▁vous , ▁un ▁cher chant ▁de ▁Lumi ère . ▁C ' est ▁un ▁livre ▁d ' une ▁très ▁grande ▁richesse ▁et ▁qui ▁nous ▁apprend ▁que ▁depuis ▁l ' ère ▁grec que , ▁notre ▁civil isation ▁n ' a ▁jamais ▁su ▁se ▁poser ▁les ▁bonnes ▁questions , ▁n ' a ▁gu ère ▁tenu ▁compte ▁des ▁réponse s ▁que ▁l ' Egy pte ▁nous ▁avait ▁en s eign ée ▁et ▁que ▁nous ▁tom bon s ▁dans ▁la ▁prost ration ▁face ▁à ▁une ▁spiritual ité ▁qu ' on ▁ne ▁comprend ▁plus . ▁Il ▁faut ▁un ▁certain ▁courage ▁pour ▁lire ▁cet ▁ ouvrage , ▁di sons ▁une ▁certain e ▁ pugna cité ▁car ▁il ▁arrive ▁que ▁j ' ai ▁reli s ▁10 ▁fois ▁le ▁même ▁paragraph e ▁sans ▁l ' avoir ▁compris . ▁Mais ▁il ▁y ▁a ▁des ▁choses ▁qu ' on ▁pic ore , ▁qu ' on ▁goût e , ▁qu ' on ▁trouve ▁bonnes . ▁Alors ▁on ▁y ▁revient , ▁encore ▁et ▁encore ▁jusqu ' au ▁jour ▁où ▁La ▁Lumi ère ▁ja i llit ▁des ▁Té n è bres ▁et ▁les ▁Té n è bres ▁ne ▁l ' ont ▁pas ▁vue . ▁A ▁tous ▁ceux ▁qui ▁cherche nt , ▁un ▁livre ▁IN CONT OUR N ABLE .\n",
            "▁j ' ai ▁acheté ▁le ▁Ca té ch isme ▁de ▁l ' E gli se ▁cat ho lique ▁et ▁je ▁rend s ▁grâce ▁au ▁Se igne ur ▁pour ▁un ▁tel ▁ ouvrage , ▁qui ▁ appui e ▁la ▁foi ▁des ▁ baptis és ▁sur ▁les ▁référence s ▁des ▁Saint es ▁E cri tures ▁et ▁de ▁la ▁Tradition ▁depuis ▁les ▁P ères ▁de ▁l ' E gli se . ▁Ay ant ▁reçu ▁l ' Esp rit ▁Saint ▁au ▁cours ▁de ▁ma ▁confirmation , ▁le ▁jour ▁de ▁la ▁Pen tec ô te , ▁le ▁15 ▁mai ▁2005, ▁le ▁Ca té ch isme ▁m ' aide ▁à ▁approfondi r ▁ma ▁foi ▁et ▁je ▁rend s ▁grâce ▁pour ▁cette ▁on ction ▁fait e ▁avec ▁l ' huile ▁sa inte ▁qui ▁me ▁marque ▁à ▁jamais ▁d ' une ▁marque ▁ind élé bile ▁et ▁qui ▁ach ève ▁mon ▁initiat ion ▁chrétien ne . ▁Merci ▁Se igne ur , ▁Glo ire ▁au ▁P ère , ▁et ▁au ▁Fil s , ▁et ▁au ▁Saint - Esp rit , ▁au ▁Dieu ▁qui ▁est ▁ , ▁qui ▁était ▁et ▁qui ▁vient , ▁pour ▁les ▁siècle s ▁des ▁siècle s . A men\n",
            "▁J ' ai ▁fail li ▁être ▁dé çu e , ▁je ▁ne ▁retro u vais ▁pas ▁de ▁prime ▁ abord ▁la ▁magie ▁de ▁\" je ▁voudrais ...\" , ▁mais ▁au ▁fil ▁des ▁pages , ▁la ▁personnalité ▁du ▁beau - p ère ▁est ▁de ▁plus ▁en ▁plus ▁touch ante , ▁son ▁histoire , ▁si ▁banal e ▁(?) ▁est ▁très ▁bien ▁mise ▁en ▁dialogue s ▁par ▁l ' auteur . ▁D ' une ▁jeune ▁ép ouse ▁et ▁mère ▁ép lor ée ▁qui tt ée ▁par ▁son ▁mari , ▁on ▁passe ▁à ▁l ' histoire ▁d ' un ▁homme ▁qui ▁a ▁sou ffer t ▁toute ▁sa ▁vie ▁en ▁silence , ▁parce ▁qu ' il ▁avait ▁fait ▁un ▁choix ▁différent . ▁De ▁belles ▁pages , ▁le ▁seul ▁dommage , ▁c ' est ▁qu ' on ▁les ▁finit ▁toujours ▁trop ▁vite , ▁les ▁livres ▁d ' Anna , ▁tellement ▁on ▁les ▁aime !!\n",
            "▁Un ▁livre ▁é mo u vant ▁mais ▁aussi ▁très ▁drôle , ▁magnifique ment ▁écrit , ▁à ▁mettre ▁entre ▁toutes ▁les ▁mains ▁sans ▁hé si tation . ▁Si ▁vous ▁avez ▁un ▁enfant ▁qui ▁aime ▁lire ▁il ▁pourrait ▁l ' a pré ci er ▁à ▁partir ▁de ▁8 ▁ans , ▁je ▁pense . ▁Et ▁si ▁vous ▁avez ▁gard é ▁l ' en vie ▁de ▁vous ▁é mer ve iller ▁il ▁vous ▁pla irat ▁jusqu ' à ▁99 ▁ans .\n",
            "▁ou ▁re edi tion ▁ . ▁de ▁toutes ▁fa cons ▁l ▁ ouvrage ▁de ▁m ▁ker sau dy ▁est ▁de ▁quali te ▁ . ▁un ▁des ▁rare s ▁en ▁franca is ▁sur ▁le ▁sujet . AVE C ▁ PRES ▁DE ▁100 ▁PAG ES ▁DE ▁PLUS ▁QUE ▁L ▁ OU VR AGE ▁ ORI GIN AL .\n",
            "▁Place r ▁dans ▁une ▁bouteille ▁plastique ▁de ▁l ' eau ▁du ▁robi net ▁; ▁sur ▁son ▁ flan ▁un ▁carton ▁où ▁est ▁écrit ▁en ▁gros ▁\" JO IE ▁DE ▁V IV RE \" ▁texte ▁tour né ▁vers ▁l ' intérieur ▁de ▁la ▁bouteille ▁ . ▁Att endre ▁deux ▁jours ▁L ' eau ▁plate ▁température ▁amb i ante ▁à ▁alors ▁produit ▁des ▁bull es : ▁la ▁go uter ▁a prés ▁l ' avoir ▁se cou ée : ▁elle ▁est ▁douce ▁presque ▁suc rée . ▁Pré par er ▁plusieurs ▁bouteille s ▁avec ▁cette ▁seule ▁ étique tte ▁\" JO IE ▁DE ▁V IV RE \" ▁au ▁repos ▁deux ▁jours : ▁arro ser ▁vos ▁plantes ▁dans ▁un ▁suivi t ▁de ▁plusieurs ▁semaines ▁avec ▁cette ▁ eau ▁\" joy euse \". ▁Mes ▁résultats ▁ont ▁été ▁plus ▁qu ' é lo que nts ▁sur ▁mon ▁balcon ▁à ▁Paris avec ▁des ▁gé rani ums : ▁merci ▁Mr ▁EM OTO ▁Masar u ▁dont ▁je ▁suis ▁les ▁travaux ▁en ▁bon ▁Thomas ien ▁A ▁bon ▁entende ur ▁ . Sal ut !\n",
            "▁En ▁parco uran t ▁ses ▁ligne s , ▁on ▁peut ▁se ▁rendre ▁compte ▁qu ' effect ive ment , ▁le ▁bo ud dh isme ▁n ' est ▁pas ▁réservé e ▁qu ' à ▁une ▁é lite . ▁Le ▁Dala ï - lama ▁nous ▁offre ▁une ▁fois ▁de ▁plus ▁la ▁possibilité ▁de ▁se ▁remettre ▁en ▁cause , en ▁tant ▁qu ' oc cident aux .\" Les ▁conseils ▁du ▁coeur \" ▁est ▁un ▁ ouvrage ▁à ▁lire ▁aussi , ▁et ▁s ' adresse ▁à ▁tout ▁type ▁de ▁lecteur , ▁in iti é ▁ou ▁non ... ▁Bonne s ▁lecture s\n",
            "▁j ' ai ▁trouvé ▁le ▁suspens e ▁moins ▁hale tant ▁que ▁dans ▁d ' autres ▁livres ▁de ▁M . C richt on . ▁Les ▁moments ▁de ▁doute ▁quant ▁à ▁la ▁tour nu re ▁des ▁ évènement s ▁sont ▁concentr és ▁dans ▁le ▁premier ▁tiers ▁du ▁livre . ▁Par ▁la ▁suite , ▁ce ▁pourrait ▁être ▁une ▁histoire ▁quel con que ▁de ▁prison ni ers ▁dans ▁une ▁cont rée ▁ex o tique ▁cher chant ▁à ▁trouver ▁le ▁passage ▁qui ▁les ▁ram ène ▁à ▁la ▁maison . ▁He ure us ement , ▁la ▁documentation ▁sur ▁la ▁Guerre ▁de ▁Cent ▁An s ▁rat trap e ▁les ▁fa illes ▁des ▁petites ▁histoire s ▁autour ▁des ▁personnage s ▁du ▁20 ème ▁siècle . ▁Au ▁final , ▁je ▁ne ▁regret te ▁pas ▁le ▁temps ▁passé ▁à ▁le ▁lire .\n",
            "▁C ' est ▁une ▁bonne ▁série . ▁Ma ▁fille ▁a ▁commencé ▁à ▁les ▁lire ▁très ▁tô t ▁vers ▁8 ▁mois , ▁elle ▁a ▁ador é ▁tour ner ▁les ▁pages , ▁se ▁faire ▁raconte r ▁l ' histoire ▁en ▁3 ▁langue s . ▁Les ▁personnage s ▁en ▁pâte ▁à ▁model er ▁sont ▁très ▁sympa s . ▁Le ▁livre ▁ré s iste ▁bien ▁aux ▁petits ▁coup s ▁de ▁de nts ▁de ▁temps ▁en ▁temps . ▁C ' est ▁un ▁bon ▁ achat . ▁J ' ai ▁même ▁offert ▁la ▁série ▁à ▁mon ▁neve u ▁et ▁j ' ai ▁continu é ▁sur ▁les ▁histoire s ▁plus ▁é volu ées ▁avec ▁la ▁série ▁: ▁Mon ▁petit ▁bébé ▁Po ney ▁... ▁la ▁série ▁Petit e ▁F ille ▁& amp ; ▁P ' tit ▁Gar çon ▁ce ▁qui ▁permet ▁de ▁la ▁diversi té . ▁Ma ▁fille ▁aime ▁changer ▁mais ▁aussi ▁revenir ▁sur ▁ses ▁premiers ▁livres .\n",
            "▁C eux ▁qui ▁ont ▁vu ▁Battle ▁Royal e ▁ont ▁du ▁sourire ▁en ▁pensa nt ▁à ▁March e ▁ou ▁Cr ève . ▁Si ▁vous ▁le ▁fusion nez ▁à ▁Run ning ▁Man , ▁vous ▁retrouver ez ▁ce ▁film ▁en ▁total ité ▁( même ▁si ▁le ▁propos ▁est ▁différent ▁au ▁fond ). ▁J ' ai ▁ador é ▁ce ▁bou quin , ▁car ▁l ' urgence ▁de ▁la ▁sur vie ▁et ▁l ' im minen ce ▁de ▁la ▁mort ▁se ▁dispute nt ▁avec ▁la ▁lente ur ▁de ▁la ▁marche , ▁ce ▁qui ▁créé ▁une ▁forme ▁d ' ary th mie ▁très ▁intéressant e . ▁C ' est ▁ lent , ▁é to uff ant , ▁comme ▁si ▁la ▁gu illo tine ▁pren ait ▁tout ▁son ▁temps ▁pour ▁tomber ▁in ex ora blement . ▁Le ▁sujet ▁est ▁assez ▁violent , ▁avec ▁une ▁bonne ▁dose ▁d ' im moral ité . ▁Avec ▁les ▁derniers ▁conflit s ▁mond i aux , ▁une ▁re lec ture ▁révèle ▁d ' autres ▁aspects , ▁comme ▁l ' envoi ▁des ▁jeunes ▁à ▁une ▁mort ▁certain e ▁pour ▁une ▁ré comp ense ▁absurd e ▁au ▁vu ▁du ▁prix ▁à ▁payer . ▁Mais ▁aussi ▁l ' a val anche ▁de ▁la ▁télé ▁réalité ▁( dé j à ▁dé no ncé e ▁dans ▁Run ning ▁Man ) ▁et ▁de ▁son ▁addiction ▁sur ▁certains ▁public s , ▁prêt ▁à ▁cre ver ▁sur ▁une ▁route ▁et ▁à ▁pour rir ▁pour ▁une ▁hypo th étique ▁minute ▁de ▁glo ire . ▁Tout ▁le ▁long ▁on ▁se ▁dit , ▁c ' est ▁fou , ▁complètement ▁ir ré a liste , ▁mais ▁parfois ▁si ▁proche ▁de ▁nous ▁que ▁la ▁vrai e ▁horre ur ▁ré side ▁dans ▁le ▁vrai sem bla ble ▁et ▁la ▁probabil ité ▁de ▁cette ▁ folie , ▁ainsi ▁que ▁dans ▁les ▁signe s ▁de ▁similitud e ▁( en ▁terme ▁de ▁per version ▁et ▁non ▁d ' hor re ur ! ▁mais ▁bon , ▁si ▁on ▁cum ule ▁notre ▁per version ▁aux ▁jeux ▁de ▁la ▁Rome ▁an tique , ▁on ▁est ▁en ▁plein ▁de dan s !) ▁avec ▁ce ▁livre ▁que ▁nous ▁offre ▁notre ▁ époque .\n",
            "▁Sa ▁plu me ▁est ▁tran ch ante ▁comme ▁une ▁la me , ▁son ▁style ▁vous ▁explo se ▁à ▁la ▁figure , ▁et ▁ses ▁livres ▁vous ▁révèle nt ▁toute ▁la ▁ corrupt ion ▁de ▁la ▁société ▁américain e . ▁El l roy ▁est ▁au ▁roman ▁noir ▁ce ▁que ▁John ▁Le ▁Car ré ▁est ▁à ▁l ' es pion na ge ▁: ▁un ▁maître . ▁\" Le ▁Dahl ia ▁No ir \" ▁est ▁le ▁premier ▁opus ▁du ▁quatuor ▁de ▁Los ▁Angeles . ▁Su iv ront ▁\" Le ▁Grand ▁Nu lle ▁Part \", ▁\" L . A . ▁Confi d ential \" ▁et ▁\" White ▁Jazz \". ▁Ce ▁livre , ▁qui ▁trai te ▁d ' un ▁crime ▁commis ▁en ▁1947 ▁dans ▁la ▁ cité ▁des ▁Ang es , ▁est ▁tout ▁simplement ▁hal lucina nt . ▁Pour ▁vous ▁familiar iser ▁avec ▁James ▁El l roy , ▁lise z ▁cet ▁ ouvrage , ▁ou ▁bien ▁\" American ▁Tab lo ï d \" ▁qui ▁s ' intéresse ▁à ▁l ' arrivée ▁au ▁pouvoir ▁du ▁Président ▁Kennedy .\n",
            "▁N ' es pé rez ▁pas ▁de ▁recette ▁ou ▁des ▁menu s ▁mais ▁tout ▁simplement ▁des ▁réponse s ▁au ▁pourquoi ▁du ▁comment . ▁Après ▁c ' est ▁selon ▁vos ▁pratiques ▁et ▁connaissance s . ▁Vous ▁progress er z ▁et ▁pourrez ▁découvrir ▁de ▁V RAI ES ▁nouvelles ▁sav eurs , ▁texture s ...\n",
            "▁Ce ▁livre ▁est ▁à ▁découvrir ▁absolument ▁si ▁vous ▁aime z ▁l ' humour ▁déc a lé , ▁le ▁bur les que ▁mé lang é ▁à ▁un ▁regard ▁philosophi que ▁intéressant ▁sur ▁la ▁vie . ▁Ne ▁vous ▁fie z ▁pas ▁au ▁titre : ▁ceci ▁est ▁bel ▁et ▁bien ▁un ▁roman ▁et ▁non ▁pas ▁un ▁essa i ▁sur ▁la ▁télévision . ▁Le ▁point ▁de ▁départ ▁est ▁un ▁homme ▁qui ▁décide ▁d ' arrêter ▁de ▁regarder ▁la ▁télévision , ▁mais ▁ce ▁n ' est ▁qu ' un ▁pré text e ▁pour ▁lancer ▁une ▁histoire ▁légère ment ▁sur ré a liste ▁et ▁très ▁drôle ▁( d ' un ▁ humour ▁pince - san s - ri re ). ▁Ce ▁livre ▁fait ▁partie ▁de ▁mes ▁livres ▁préféré s ▁et ▁je ▁pense ▁qu ' il ▁s ' agit ▁d ' un ▁ auteur ▁à ▁découvrir ▁pour ▁tous ▁les ▁gens ▁intéressé s ▁par ▁la ▁grande ▁littérature ▁contemporain e . ▁Dr ô le ▁et ▁intelligent . ▁Une ▁lecture ▁qui ▁rester a ▁longtemps ▁dans ▁votre ▁mémoire .\n",
            "▁ce ▁manga s ▁et ▁a mus ant , ▁mais ▁il ▁a ▁aussi ▁un ▁bon ▁scenario ▁qui ▁donne ▁envie ▁de ▁lire ▁la ▁suite ▁et ▁un ▁bon ▁dessin ▁où ▁l ' on ▁peut ▁trouver ▁des ▁details ▁a mus ant . Je ▁recommande ▁ce ▁manga s ▁pour ▁ceux ▁qui ▁on ▁l ' en vie ▁de ▁ri re ▁ou ▁de ▁reten ir ▁son ▁souffle .\n",
            "▁ oeuvre ▁re mar qu able ▁ou ▁l ' auteur ▁eta le ▁tout ▁son ▁art ▁d ' e crit ure , sa ▁sensibil ite , sa ▁tend resse , son ▁ amour ▁de ▁la ▁vie , son ▁ esprit ▁de ▁critique ▁et ▁d ' analyse , com me ▁un ▁et re ▁tres ▁marque ▁par ▁tout ▁ce ▁qui ▁vit .\n",
            "▁Voici ▁un ▁livre ▁que ▁j ' avais ▁lu , ▁il ▁y ▁a ▁de ▁cela ▁à ▁peu ▁près ▁deux ▁ans , ▁et ▁dont ▁je ▁n ' avais ▁gard é ▁que ▁quelques ▁souvenir s ▁é par s ▁som me ▁toute ▁assez ▁agréable s ▁mais ▁sans ▁impact ▁durable . ▁Après ▁cette ▁nouvelle ▁lecture , ▁je ▁constat e ▁encore ▁une ▁fois ▁que ▁les ▁ émotion s ▁et ▁les ▁ressenti s ▁concernant ▁un ▁livre ▁dépend ent ▁réellement ▁du ▁moment ▁et ▁des ▁circonstances ▁dans ▁lesquels ▁il ▁a ▁été ▁lu . ▁J ' ai ▁davantage ▁réalisé , ▁à ▁la ▁re lec ture , ▁que ▁l ' auteur ▁adapta it ▁judici euse ment ▁son ▁style ▁aux ▁variation s ▁de ▁l ' existence ▁de ▁son ▁narra teur ▁et ▁j ' ai ▁vraiment ▁été ▁sensible ▁aux ▁tu mult es ▁de ▁son ▁adolesce nce ▁qui ▁m ' ont ▁paru ▁si ▁proche s ▁de ▁mon ▁propre ▁vécu . ▁Je ▁me ▁suis ▁aussi ▁surprise ▁à ▁fred on ner ▁quelques ▁air s ▁tout ▁au ▁long ▁de ▁nombreux ▁passage s ▁et ▁j ' avoue ▁que ▁j ' ai ▁même ▁dû ▁faire ▁quelques ▁recherche s ▁sur ▁le ▁net ▁pour ▁retrouver ▁les ▁notes ▁de ▁certains ▁morceau x ▁dont ▁les ▁titre s ▁ne ▁me ▁dis aient ▁plus ▁rien ▁et ▁pourtant ▁si ▁souvent ▁entendu s . ▁L ' ouvrage ▁est ▁un ▁ensemble ▁de ▁ces ▁mé lo dies ▁qui ▁ber cent ▁notre ▁mémoire ▁et ▁qui , ▁dès ▁leurs ▁première s ▁notes , ▁sont ▁capable s ▁d ' é ve iller ▁nombre ▁de ▁cliché s ▁de ▁vie ▁et ▁les ▁ émotion s ▁qui ▁les ▁ accompagne nt . ▁Ces ▁musique s ▁permettent ▁dans ▁le ▁livre ▁de ▁bali ser ▁l ' existence ▁du ▁narra teur ▁et ▁ser vent ▁de ▁support ▁à ▁sa ▁bi ographie . ▁Parce ▁que ▁la ▁vie ▁de ▁beaucoup ▁d ' entre ▁nous ▁est ▁aussi ▁pon ctu ée ▁de ▁toutes ▁ces ▁mé lo dies ▁qui ▁cour ent ▁sur ▁les ▁onde s , ▁ces ▁air s ▁vont ▁jusqu ' à ▁constitu er ▁un ▁patrimoine ▁commun ▁à ▁bien ▁des ▁génération s . ▁Et ▁là , ▁à ▁quelques ▁années ▁près , ▁l ' auteur ▁et ▁moi ▁avons ▁été ▁en tour és ▁des ▁même s ▁reng aine s ▁ce ▁qui ▁crée ▁automatiquement ▁des ▁liens . ▁En ▁tout ▁cas , ▁j ' ai ▁vraiment ▁eu ▁plaisir ▁à ▁me ▁rep long er ▁dans ▁le ▁parcours ▁du ▁narra teur ▁qui ▁a ▁tant ▁de ▁points ▁commun s ▁avec ▁le ▁mi en , ▁ber cé ▁par ▁beaucoup ▁de ▁ces ▁air s ▁« ▁populaire s ▁» ▁qui ▁nous ▁ accompagne nt ▁bon ▁ou ▁mal ▁ gré ▁sans ▁pour ▁autant ▁développer ▁un ▁caractère ▁nostalgi que .\n",
            "▁Si ▁oui , ▁il ▁se ▁pourrait ▁que ▁ce ▁livre ▁vous ▁concerne ▁! ▁La ▁force ▁de ▁Stephen ▁King , ▁c ' est ▁de ▁placer ▁le ▁mir oir ▁devant ▁nos ▁peur s ▁in times . ▁Tout ▁ce ▁que ▁nous ▁n ' o sons ▁pas ▁dire ▁aux ▁autres ▁se ▁trouve ▁dans ▁ces ▁pages ... ▁Diff ici le ▁de ▁rester ▁in diff ére nt ▁!\n",
            "▁C ' est ▁un ▁livre ▁bien ▁construit , ▁complet , ▁riche ▁de ▁référence s , ▁mais ▁il ▁ne ▁convient ▁pas ▁à ▁ceux ▁qui ▁ne ▁veulent ▁qu ' une ▁vue ▁d ' ensemble ▁sur ▁le ▁Moy en ▁Age .\n",
            "▁Un ▁très ▁beau ▁livre . ▁Celui ▁d ' un ▁voyage ur ▁dans ▁son ▁propre ▁pays ▁à ▁la ▁recherche ▁d ' identité s ▁( la ▁si enne ▁et ▁celle ▁de ▁ceux ▁qu ' il ▁crois e ). ▁C ' est ▁magnifique ment ▁écrit ▁et ▁tra duit . ▁Toujours ▁entre ▁l ' ape san teur ▁et ▁une ▁pesan teur ▁ex t rê me ▁qui ▁en cha îne ▁à ▁un ▁réel ▁parfois ▁horrible , ▁mais ▁dans ▁lequel ▁on ▁ne ▁sent ▁pas ▁de ▁comp lais ance ▁ou ▁de ▁voyeur isme : ▁plutôt ▁l ' ét onnement ▁in cré du le ▁d ' un ▁observa teur ▁devant ▁l ' ab s urd ité ▁du ▁monde . ▁Ce ▁roman ▁dépasse ▁largement ▁l ' ex ot isme ▁d ' un ▁\" roman ▁chinois \", ▁il ▁touche ▁à ▁l ' univers el . ▁Se ule ▁chose ▁un ▁peu ▁aga çant e : ▁l ' \" Ho mme \" ▁doit - il ▁toujours ▁avoir ▁plus ▁de ▁qua rante ▁ans ▁et ▁la ▁\" F emme \" ▁moins ▁de ▁ ving t ▁( à ▁moins ▁d ' être ▁une ▁regret té e ▁grand - m ère ) ?\n",
            "▁Ice burg ▁se ▁trouve ▁en tour er ▁de ▁ces ▁assassin s ... ▁va ▁t - il ▁s ' en ▁sortir ▁? ▁Lu ffy ▁arriver a ▁t - il ▁a ▁temps ▁? ▁ . ▁A ▁suivre ▁avec ▁le ▁! ▁- Cha pit re ▁ 347 ▁- ▁Le ▁Six i ème ▁Style ▁- Cha pit re ▁ 348 ▁- ▁Force ▁- Cha pit re ▁ 349 ▁- ▁Un ▁citoyen ▁- Cha pit re ▁350 ▁- ▁L ' entre pô t ▁sous ▁le ▁pont ▁- Cha pit re ▁ 351 ▁- ▁Kla baut er mann ▁- Cha pit re ▁35 2 ▁- ▁Tom ' s ▁Work ers ▁- Cha pit re ▁ 353 ▁- ▁L ' ingénieur ▁lég enda ire ▁- Cha pit re ▁35 4 ▁- ▁L ' express ▁des ▁mer s ▁- Cha pit re ▁ 355 ▁- ▁Span dam ▁- Cha pit re ▁ 356 ▁- ▁Tom ▁- Cha pit re ▁ 357 ▁- ▁Cu tty ▁Flam ▁Mon ▁avis ▁sur ▁le ▁tome : ▁L ' intérêt ▁de ▁ce ▁tome ▁est ▁de ▁poursuivre ▁bien ▁entendu ▁l ' ar c ▁\" CP 9 - En ies ▁Lo bby \", ▁l ' é qui page ▁de ▁chap eau ▁de ▁pa ille ▁déc ouvre ▁les ▁vrai s ▁enne mis ▁et ▁leurs ▁vrai es ▁capacité s . ▁Au ▁programme , ▁de ▁beaux ▁du els , ▁des ▁combat s ▁qui ▁prennent ▁de ▁court ▁nos ▁pirat es ▁avec ▁une ▁histoire ▁qui ▁soul ève ▁bons ▁nombre s ▁de ▁questions ▁sur ▁le ▁passé . ▁Mais ▁le ▁voi le ▁du ▁my st ère ▁sera ▁en ▁partie ▁répond u ▁vers ▁la ▁fin ▁de ▁ce ▁tome ▁par ▁un ▁flash - back ▁sur ▁Tom , ▁la ▁maître ▁char pen tier ▁de ▁ ice burg ▁et ▁Frank y . ▁Un ▁excellent ▁tome ▁avec ▁de ▁beaux ▁dessin s , ▁et ▁tout ▁se ▁déroule ▁très ▁vite , ▁on ▁ne ▁s ' en nu ie ▁à ▁aucun ▁moment .\n",
            "▁Un ▁livre ▁fantast ique , ▁à ▁lire ; ▁ne ▁serait - ce ▁que ▁pour ▁la ▁portée ▁historique . ▁Bravo ▁M . ▁SE PUL VED A !\n",
            "▁Merci ▁doit ▁être ▁lu ▁comme ▁l ' ap ologie ▁des ▁remercie ments ▁fut ile s ▁et ▁inutile s ▁dans ▁un ▁monde ▁qui ▁veut ▁du ▁sensation nel ▁et ▁qui ▁ oublie ▁que ▁l ' essentiel ▁ne ▁se ▁voit ▁pas ▁et ▁ne ▁se ▁dit ▁pas : ▁le ▁petit ▁prince ▁avait ▁raison ▁l ' essentiel ▁se ▁voit ▁avec ▁le ▁coeur . ▁L ' écriture ▁agréable ▁de ▁Pen nac ▁permet ▁de ▁se ▁laisser ▁porter ▁jusqu ' à ▁l ' en dor m issement ▁mais ▁comment ▁ré ver ▁de ▁s ' en dor mir ▁un ▁livre ▁à ▁la ▁main ... .\n",
            "▁En ▁a che tant ▁ce ▁livre ▁je ▁ne ▁savai s ▁pas ▁a ▁quoi ▁m ' attend re . ▁Dès ▁les ▁première s ▁ligne s ▁je ▁suis ▁en tré ▁en ▁contact ▁avec ▁le ▁personnage , ▁puis ▁le ▁deuxième , ▁puis ▁le ▁troisième ... ▁Je ▁ne ▁suis ▁qu ' a ▁la ▁moitié ▁du ▁livre , ▁et ▁je ▁peux ▁dire ▁que ▁je ▁ne ▁regret te ▁pas ▁du ▁tout ▁mon ▁découvert ▁a ▁la ▁banque ▁pour ▁ce ▁livre . ▁Il ▁est ▁unique , ▁un ▁non ▁sens ▁de ▁moral ité , ▁une ▁vie ▁déc al ée , ▁pleine ▁de ▁re bond issement , ▁cela ▁est ▁vraiment ▁un ▁pur ▁chef ▁d ' œuvre .\n",
            "▁En ▁s ' engage ant ▁dans ▁ce ▁court ▁ ovni ▁des ▁chroni ques ▁des ▁vampir es ▁( il ▁est ▁complètement ▁séparé ▁des ▁autres ▁histoire s ▁aussi ▁bien ▁tempor ellement ▁que ▁gé o graphique ment ), ▁on ▁se ▁demande ▁bien ▁ce ▁qu ' on ▁va ▁pouvoir ▁trouver ▁tant ▁il ▁semble ▁hasard eux ▁de ▁re cré er ▁une ▁histoire ▁iné dite ▁de ▁vampir es ▁ , ce lle ▁ci ▁ris quant ▁de ▁ne ▁pas ▁supporter ▁la ▁compara ison ▁avec ▁les ▁précédent s ▁et ▁magistr aux ▁roman s ▁vampir iques ▁d ' ▁Anne ▁Rice . ▁Et ▁pourtant , que lle ▁cla que ! C ' est ▁tout ▁simplement ▁le ▁meilleur ▁livre ▁de ▁vampir es ▁de ▁l ' auteur ▁depuis ▁l ' ex ception nel ▁et ▁décidé ment ▁ind ét r ôn able ▁\" L estat ▁le ▁vampir e \". ▁L ' histoire ▁est ▁totalement ▁captiv ante ▁et ▁le ▁style ▁si ▁sensu el ▁et ▁fine ment ▁de script if ▁d ' An ne ▁Rice ▁explo se ▁litt éra lement ▁dans ▁cet ▁incroyable ▁ré cit ▁qui ▁se ▁situ e ▁en ▁out re ▁dans ▁l ' une ▁des ▁plus ▁magnifique s ▁région s ▁du ▁monde , la ▁To s cane , et ▁à ▁une ▁ époque ▁ou ▁celle ▁ci ▁a ▁re vê tu ▁son ▁charme ▁le ▁plus ▁fort : la ▁Ren na issa nce ! Les ▁personnage s , tr ès ▁tour ment és , er rent ▁dans ▁un ▁paysage ▁mag ique ▁et ▁sont ▁les ▁plus ▁att ach ants ▁jamais ▁ vus ▁depuis ▁Les tat ▁dans ▁\" L estat ▁le ▁vampir e \", l ' auteur ▁jou ant ▁avec ▁le ▁cadre ▁flam boy ant ▁de ▁la ▁ren na issa nce ▁flor en tine ▁pour ▁in stiller ▁le ▁fantast ique ▁à ▁chaque ▁page ▁de ▁son ▁livre , qui ▁se ▁suffit ▁à ▁lui ▁même ▁tant ▁sa ▁force ▁et ▁son ▁ brio ▁le ▁place nt ▁au ▁dessus ▁de ▁la ▁plupart ▁des ▁autres ▁ré cit s ▁sur ▁les ▁vampir es ▁de ▁l ' auteur , pour tant ▁excellent s ▁pour ▁la ▁plupart ! ▁Il ▁est ▁à ▁noter ▁que ▁le ▁roman ▁a ▁un ▁co té ▁maca bre ▁bien ▁plus ▁marqué ▁que ▁les ▁précédent s , ▁do u blé ▁d ' une ▁touche ▁obscur antis te ▁très ▁ nette ▁( le ▁hér os ▁avance ▁dans ▁l ' in con nu ▁le ▁plus ▁total ), ce ▁qui ▁lui ▁donne ▁une ▁to nal ité ▁plus ▁som bre ▁et ▁plus ▁my s tique ▁encore ▁que ▁les ▁autres ▁livres ▁de ▁l ' auteur ▁( avec ▁lesquels ▁l ' histoire ▁de ▁\" Vi t torio ▁le ▁vampir e \" ▁n ' a ▁a ▁priori ▁aucun ▁lien , ré pé tons ▁le ...) ▁Tout ▁est ▁dit : Vi t torio ▁le ▁vampir e ▁est ▁un ▁livre ▁véritable ment ▁exceptionnel !\n",
            "▁Le ▁ré cit ▁et ▁les ▁personnage ▁de ▁ce ▁livre , ▁resten t ▁dans ▁votre ▁mémoire ▁même ▁plusieurs ▁mois ▁après ▁leur ▁découverte ! ▁L ' étude ▁des ▁cara c tér es ▁est ▁d ' une ▁grande ▁fines se ▁cela ▁all i é ▁à ▁un ▁suspens e ▁re mar qu able ... ▁C ' est ▁à ▁mon ▁sens ▁un ▁livre ▁non ▁seulement ▁à ▁lire ▁sans ▁ hésite r , ▁mais ▁à ▁lire ▁absolument ▁!!!\n",
            "▁Au ▁sortir ▁de ▁ce ▁livre , ▁je ▁dis ▁fé licita tions ▁mr ▁wer ber . ▁Il ▁est ▁des ▁ ouvrage s ▁scientifique s ▁in access ibles ▁pour ▁les ▁di lett antes ▁mais ▁celui - ▁ci , ▁s ' il ▁reste ▁tout ▁de ▁même ▁une ▁fiction , ▁donne ▁une ▁curios ité ▁et ▁un ▁ intérêt ▁certains ▁pour ▁la ▁science . ▁Out re ▁cette ▁ approche , ▁on ▁assist e ▁à ▁de ▁nombreuses ▁péri pé ties ▁et ▁l ' auteur ▁man ie ▁cela ▁avec ▁ humour . ▁N ' ou bli ons ▁pas ▁non ▁plus ▁les ▁grandes ▁questions ▁que ▁soul è vent ▁le ▁livre : ▁jusqu ' où ▁vont ▁les ▁capacité s ▁du ▁cerveau ? . ... com ment ▁pourrait - ▁on ▁commande r ▁certaines ▁parties ▁du ▁cerveau ? ..... ▁la ▁maladie ▁ex alter ait - elle ▁le ▁côté ▁artistique ▁des ▁individu s ? ........ ▁Ce ▁livre ▁est ▁pour ▁moi ▁le ▁plus ▁passion nant ▁de ▁wer ber . ▁A ▁lire ▁et ▁à ▁reli re .\n",
            "▁Cette ▁collection ▁a ▁plu ▁énormément ▁à ▁ma ▁fille ▁dès ▁son ▁plus ▁jeune ▁ âge . ▁Le ▁plus : ▁les ▁pages ▁sont ▁plast ifi ées ▁et ▁le ▁livre ▁est ▁solide , ▁les ▁plus ▁petits ▁peuvent ▁donc ▁le ▁manipul er ▁sans ▁l ' a bî mer . ▁A ▁partir ▁de ▁3 ▁ans , ▁les ▁texte s ▁de viennent ▁un ▁peu ▁simples ▁mais ▁ma ▁fille ▁aime ▁maintenant ▁les ▁\" li re \" ▁seule ... ▁elle ▁raconte ▁l ' histoire ▁à ▁son ▁do udo u ▁car ▁les ▁images ▁sont ▁très ▁explicit es . ▁Pour ▁comment er ▁ce ▁numéro ▁en ▁question : ▁il ▁s ' agit ▁d ' une ▁très ▁bonne ▁ approche ▁de ▁l ' idée ▁d ' avoir ▁un ▁petit ▁frère ▁ou ▁une ▁petite ▁so eur ▁à ▁la ▁maison . ▁Ce ▁livre ▁ abord e ▁la ▁ja lou sie , ▁la ▁rencontre ▁avec ▁le ▁frère ▁ou ▁la ▁so eur ▁mais ▁aussi ▁l ' amour ▁des ▁parents ▁qui ▁reste ▁intact ▁pour ▁l ' a î né . ▁Très ▁bien ▁fait ▁pour ▁les ▁jeunes ▁enfants .\n",
            "▁Par ▁ce ▁livre ▁essentielle ment ▁a xé ▁sur ▁la ▁religion ▁des ▁ca thar es , ▁l ' auteur ▁nous ▁dé vo ile ▁le ▁livre ▁des ▁deux ▁principes ▁: ▁le ▁bien ▁et ▁le ▁mal ▁; ▁il ▁nous ▁déli vre ▁l ' essentiel ▁de ▁cette ▁philosophi e ▁qu ' il ▁analyse ▁avec ▁circo n spec tion . ▁Pour ▁en ▁savoir ▁plus ▁sur ▁les ▁rit es ▁spécifique s ▁de ▁cette ▁religion , ▁cet ▁ ouvrage ▁apporte ▁un ▁nouvel ▁ éclairage ▁au ▁vu ▁des ▁ ouvrage s ▁exist ants ▁ou ▁de ▁ceux ▁qu ' il ▁a ▁déjà ▁écrit s .\n",
            "▁Jenny ▁est ▁une ▁jeune ▁maman , ▁elle ▁travaille ▁dans ▁une ▁galerie ▁d ' art ▁de ▁New - ▁York ... ▁Er ich ▁Kru e ger ▁est ▁un ▁gentleman ▁mais ▁surtout ▁un ▁pe in tre ▁talent u eux ... ▁Une ▁ exposition ▁de ▁tableau x , ▁un ▁coup ▁de ▁fou dre ▁Jenny ▁s ' en vole ▁alors ▁vers ▁le ▁Mine s ota ▁avec ▁son ▁nouvel ▁ amour ... ▁Une ▁vie ▁de ▁rêve ▁doit ▁l ' attend re ▁( super be ▁propriété , ▁argent , ▁passer ▁du ▁temps ▁avec ▁ses ▁enfants ... ), ▁le ▁bonheur ▁!!! ▁Mais ▁très ▁vite , ▁cette ▁nouvelle ▁vie ▁tant ▁imagin ée ▁va ▁devenir ▁un ▁véritable ▁cau che mar ... ▁Thriller ▁qui ▁nous ▁plo nge ▁dans ▁l ' univers ▁des ▁psycho path es . ▁Un ▁bé mol ▁cependant , ▁dès ▁le ▁début ▁du ▁livre ▁on ▁comprend ▁le ▁rôle ▁de ▁chacun ▁des ▁personnage s ▁et ▁on ▁imagine ▁sans ▁problème ▁la ▁fin ▁de ▁l ' histoire . ▁Donc ▁pas ▁le ▁meilleur ▁livre ▁de ▁la ▁rein e ▁du ▁po lar .\n",
            "▁VO ILA ▁UN ▁ LIV RE ▁SUR ▁LA ▁SP IRI TUAL ITE ▁QUI ▁VA ▁ DRO IT ▁AU ▁ BUT ▁ET ▁NOU S ▁DE MON TRE ▁QUE ▁LE ▁HA ZAR D ▁N ' EX ISTE ▁PAS . ▁UN ▁ LIV RE ▁DE ▁B ASE ▁P OUR ▁LES ▁ CHER CHE URS ▁DE ▁L UMI ERE . ▁IN CONT OUR N ABLE .\n",
            "▁J ' aime ▁toujours ▁autant . ▁Mais ▁je ▁me ▁demande ▁si ▁on ▁ne ▁va ▁pas ▁bientôt ▁tour ner ▁en ▁rond ... ▁On ▁change ▁le ▁décor , ▁on ▁ajoute ▁des ▁personnage s ▁att ach ants , ▁mais ▁il ▁n ' y ▁a ▁déjà ▁plus ▁l ' original ité ▁créa trice ▁du ▁début ... ▁Attention . ▁Il ▁faut ▁dire ▁que ▁je ▁viens ▁d ' ach ever ▁le ▁roman ▁ , ▁et ▁peut - être ▁qu ' à ▁cause ▁de ▁cet ▁excellent ▁roman , ▁mon ▁juge ment ▁sur ▁\" les ▁che vali ers ▁d ' é mera ude \" ▁a ▁été ▁fa u ssé .\n",
            "▁Il ▁s ' agit ▁ici ▁de ▁la ▁plus ▁belle ▁histoire ▁d ' amour ▁de ▁tous ▁les ▁temps ... to us ▁les ▁ingrédients ▁sont ▁réuni s , ▁pour ▁é mo u voir , ▁tenir ▁en ▁hale ine , ▁sur prendre . ▁Le ▁style ▁est ▁également ▁très ▁agréable ▁à ▁lire , ▁et ▁la ▁fin ▁tragi que ▁fait ▁entre r ▁cette ▁é pop ée ▁parmi ▁les ▁plus ▁grands ▁texte s .\n",
            "▁Des ▁chroni ques ▁écrit es ▁à ▁Trou ville ▁l ' été ▁80 ▁pour ▁Lib ération , ▁qui ▁de viennent ▁un ▁des ▁plus ▁beaux ▁texte s ▁de ▁Dura s . ▁Des ▁tourist es , ▁le ▁soleil ▁et ▁la ▁pluie , ▁Anti fer , ▁G dan sk , ▁une ▁moni trice ▁et ▁un ▁enfant ... ▁In scri t ▁dans ▁une ▁date , ▁mais ▁magnifique ment ▁in tempor el .\n",
            "▁Il ▁devient ▁tellement ▁rare ▁de ▁nos ▁jours ▁de ▁pouvoir ▁lire ▁quelqu ' un ▁qui ▁man ie ▁aussi ▁bien ▁les ▁mots ▁que ▁l ' on ▁ne ▁peut ▁que ▁s ' ém er ve iller ▁des ▁livres ▁de ▁Nina ▁Bour a ou i ... ▁Son ▁ écriture ▁bien ▁particulière ▁est ▁toujours ▁de ▁la ▁partie ▁dans ▁\" Mes ▁Mau vais es ▁Pen s ées \" ▁et ▁pour ▁moi , ▁elle ▁signe ▁ici ▁l ' un ▁de ▁ses ▁plus ▁beaux ▁texte s ... ▁rempli ▁d ' inten s ité ▁et ▁d ' émotion ▁du ▁début ▁à ▁la ▁fin .\n",
            "▁Cer tes , ▁ce ▁di ction naire ▁grec - fra nça is ▁est ▁la ▁référence ▁en ▁la ▁matière ▁et ▁comporte ▁des ▁at out s ▁nombreux ▁et ▁in con test ables . ▁Né an mo ins , ▁il ▁faut ▁remarque r ▁que ▁cette ▁nouvelle ▁édition ▁n ' est ▁qu ' à ▁peine ▁plus ▁li sible ▁que ▁la ▁précédent e ▁: ▁seul ▁le ▁format ▁a ▁été ▁ag randi ▁; ▁les ▁police s ▁sont ▁rest ées ▁in chang ées , ▁con trairement ▁aux ▁efforts ▁merveille ux ▁qui ▁ont ▁permis ▁au ▁Grand ▁G affi ot ▁d ' être ▁véritable ment ▁un ▁di ction naire ▁li sible , ▁agréable ▁à ▁consulter , ▁etc . ▁On ▁no tera ▁quand ▁même ▁le ▁choix ▁d ' un ▁papier ▁blanc ▁qui ▁n ' est ▁pas ▁totalement ▁in int ére ssant ...\n",
            "▁Ce ▁livre ▁est ▁un ▁document ▁prop h étique ▁des ▁plus ▁sur prenant s , ▁puisque , ▁écrit ▁en ▁1945 , ▁il ▁annonce ▁donc ▁avec ▁plus ▁de ▁so ix ante ▁ans ▁d ' avance ▁les ▁dér ives ▁qui ▁mè nent ▁notre ▁monde ▁actuel ▁à ▁sa ▁per te ▁( sur ▁ce ▁dernier ▁point , ▁il ▁n ' y ▁va ▁d ' ailleurs ▁pas ▁de ▁main ▁morte , ▁puisqu ' il ▁annonce ▁cette ▁per te ▁sous ▁le ▁terme ▁de ▁\" dis solution \"). ▁Les ▁causes ▁qu ' il ▁met ▁en ▁avant ▁sont ▁non ▁seulement ▁le ▁manque ▁d ' une ▁spiritual ité ▁aut henti que , ▁mais ▁aussi ▁d ' autres ▁fac teurs ▁plus ▁in attend us , ▁mais ▁re mar qua blement ▁pertinent s ▁et ▁é ton nam ment ▁moderne s , ▁comme ▁( je ▁cite ▁de ▁mémoire ) ▁\" la ▁significa tion ▁de ▁la ▁mé ta llur gie \" ▁et ▁\" la ▁dé ma téri al isation ▁de ▁la ▁mon na ie \". ▁Il ▁est ▁donc ▁absolument ▁parfait ▁pour ▁ce ▁qui ▁est ▁de ▁la ▁dé no ncia tion ▁de ▁ce ▁qui ▁ne ▁va ▁pas . ▁Just e ▁un ▁petit ▁bé mol , ▁d ' où ▁mes ▁quatre ▁étoiles ▁au ▁lieu ▁de ▁cinq : ▁il ▁ne ▁dit ▁nu lle ▁part ▁où ▁l ' on ▁peut ▁trouver ▁ce ▁qui ▁va . ▁Il ▁fait ▁sans ▁ces se ▁all u sion ▁à ▁\" la ▁Tradition \", ▁mais ▁sans ▁dire ▁comment ▁la ▁rencontrer . ▁Et ▁il ▁affirme ▁que ▁dès ▁que ▁le ▁monde ▁présent ▁sera ▁\" dis s ous \", ▁un ▁ âge ▁d ' or ▁suc cé dera ▁automatiquement ▁à ▁cet ▁ âge ▁de ▁fer ▁qui ▁s ' en ▁sera ▁allé . ▁C ' est ▁peut ▁être ▁vrai , ▁mais ▁un ▁peu ▁frustra nt ▁pour ▁ceux ▁qui ▁aime raient ▁bien ▁savoir ▁comment ▁participer ...\n",
            "▁avant ▁de ▁lire ▁ce ▁livre , j ▁ai ▁toujours ▁eu ▁peur ▁pour ▁ma ▁fille ▁qui ▁aujourd ▁hui ▁a 11 ans ▁et ▁demi . main tenant ▁que ▁je ▁l ▁ai ▁lu ▁j ▁ai ▁toujours ▁peur ▁pour ▁elle ▁et ▁je ▁sais ▁pourquoi . sabi ne ▁est ▁une ▁res cap ée . d ▁autres ▁parents ▁n ▁ont ▁pas ▁eu ▁la ▁chance ▁de ▁revoir ▁leurs ▁enfants ▁a pres ▁avoir ▁et e ▁en le ves .\n",
            "▁Ce ▁roman ▁noir ▁aux ▁confi ns ▁du ▁thriller ▁et ▁du ▁polici er ▁ha ppe ▁le ▁lecteur ▁dès ▁les ▁première s ▁pages ▁avec ▁une ▁ écriture , ▁des ▁phrase s ▁et ▁un ▁vocabula ire ▁per cut ants ▁qui ▁all ient ▁dyna m isme , ▁puissance ▁et ▁relief ▁pour ▁nous ▁entra în er ▁dans ▁un ▁ré cit ▁bien ▁cali bré . ▁Dans ▁ce ▁premier ▁opus ▁publié , ▁l auteur ▁par vien t ▁à ▁nous ▁faire ▁rentrer ▁dans ▁la ▁peau ▁d E ric ▁Dar ri eux , ▁fli c ▁pau mé , ▁alcool ique ▁en ▁pro ie ▁à ▁des ▁hal lucina tions . ▁Dar ri eux ▁so uff re , ▁je ▁so uff re ▁avec ▁lui ▁et ▁jau rais ▁même ▁aimé ▁la ider ▁à ▁sortir ▁de ▁sa ▁gal ère . ▁En lis é ▁à ▁Gre no ble ▁dans ▁une ▁ enquête ▁sur ▁la ▁dispar i tion ▁d enfant s , ▁il ▁erre ▁à ▁la ▁recherche ▁dun ▁passé ▁fu yan t ▁et ▁en ca isse ▁les ▁coup s . ▁L intrigue ▁est ▁bien ▁fi cel ée ▁et ▁le ▁final ▁magistral ement ▁orchestr é . ▁Je ▁nen ▁di rais ▁pas ▁plus ▁pour ▁garder ▁le ▁suspens e ▁intact .\n",
            "▁Chaque ▁franca is ▁devrait ▁le ▁lire ▁afin ▁de ▁prendre ▁conscience ▁de ▁la ▁réalité , ▁et ▁réfléchi r ▁à ▁deux ▁fois ▁quel ▁bull etin ▁il ▁met tra ▁dans ▁l ' ur ne ▁au ▁printemps ▁prochain . ...\n",
            "▁Platon ▁est ▁entre ▁autre ▁rest é ▁célèbre ▁pour ▁avoir ▁immortal isé ▁dans ▁le ▁Charm ide ▁l ' inscription ▁du ▁temple ▁de ▁Del phe s ▁qui ▁ré son ne ▁comme ▁une ▁in jon ction ▁à ▁tous ▁ceux ▁qui ▁s ' app rê tent ▁à ▁y ▁pé né tre r ▁en ▁quê te ▁de ▁vérité : ▁\" con nais - toi ▁toi ▁même \". ▁Il ▁en ▁a ▁fait ▁le ▁centre ▁d ' un ▁dialogue ▁so cra tique ▁où ▁le ▁maître ▁ philosoph e ▁discute ▁avec ▁un ▁jeune ▁disc i ple ▁à ▁venir . ▁Le ▁Charm ide ▁est ▁l ' ar ché type ▁des ▁dialogue s ▁so cra tiques , ▁première ▁partie ▁de ▁l ' oeuvre ▁plato nici enne , ▁illustre ▁pour ▁ses ▁fins ▁apo ré tiques , ▁sur ▁l ' absence ▁de ▁réponse ▁défini tive , ▁a rrêté e ... ▁La ▁vérité ▁est ▁toujours ▁à ▁recherche r , ▁n ' est ▁jamais ▁pleine ment ▁atteint e ; ▁elle ▁doit ▁faire ▁l ' objet ▁d ' un ▁effort ▁intellectu el . ▁Con n aître , ▁c ' est ▁d ' abord ▁se ▁connaître ▁soi - même . ▁Qu ' est - ce ▁à ▁dire ? ▁Ce ▁dialogue ▁l ' il lust re . ▁C ' est ▁sa ▁première ▁édition ▁iso lé ▁en ▁ma ▁connaissance . ▁L ' appareil ▁critique ▁est ▁très ▁éclair ant ▁et ▁point ▁trop ▁sa vant . ▁Tout ▁le ▁monde ▁devrait ▁avoir ▁sur ▁soi ▁un ▁dialogue ▁de ▁Platon . ▁Pourquoi ▁pas ▁celui - là ?\n",
            "▁Le ▁titre ▁parle ▁de ▁lui ▁même , ▁ce ▁petit ▁livre ▁facile ▁a ▁lire ▁re prend ▁les ▁origine s ▁du ▁conflit ▁et ▁les ▁fait ▁évolue r ▁jusqu ' à ▁2002 ... ▁Moi ▁qui ▁voulait ▁une ▁explica tion ▁rapide ▁et ▁clair e ▁afin ▁de ▁comprendre ▁les ▁a ctu ▁TV , ▁j ' en ▁viens ▁a ▁regret ter ▁que ▁le ▁livre ▁soit ▁trop ▁court ▁;)\n",
            "▁J ' en ▁ai ▁souvent ▁voulu ▁a ▁Bar ja vel ▁d ' avoir ▁e crit ▁des ▁roman s ▁parlant ▁d ' histoire s ▁d ' amour ▁se ▁termina nt ▁de ▁manier e ▁si ▁triste . ▁Mais ▁c ' est ▁de ▁la ▁que ▁vient ▁l ' e motion ▁et ▁c ' est ▁cela ▁qui ▁nous ▁laisse ▁plo nge ▁dans ▁le ▁livre ▁meme ▁plusieurs ▁temps ▁a pres ▁l ' avoir ▁lu ▁entier ement . ▁Tar en dol ▁en ▁fait ▁parti , ▁bien ▁qu ' il ▁soit ▁moins ▁fort ▁en ▁emotion s ▁que ▁La ▁Nu it ▁des ▁Temp s ▁( mon ▁avis ▁personnel ). ▁Ce ▁n ' est ▁pas ▁de ▁la ▁science ▁fiction ▁mais ▁il ▁vaut ▁la ▁peine ▁d ' et re ▁lu .\n",
            "▁Le ▁plus ▁de ▁ce ▁livre : ▁son ▁petit ▁format ▁qui ▁permet ▁de ▁le ▁garder ▁consta m ment ▁dans ▁la ▁poche . ▁Mais ▁l ' essentiel ▁ce ▁sont ▁toutes ▁ces ▁phrase s ▁en ▁forme ▁d ' a phor isme s ▁in sol ites .\n",
            "▁C richt on ▁comme ▁on ▁aime ▁: ▁les ▁erre urs ▁de ▁scientifique s , ▁un ▁type ▁impli qué ▁pour ▁sau ver ▁sa ▁famille , ▁le ▁suspens ▁incroyable ... ▁Tro is ▁critères ▁qui ▁font ▁de ▁C richt on ▁le ▁maître ▁du ▁Techno - Tri ller . ▁En ▁ferma nt ▁le ▁livre , ▁j ' avais ▁le ▁souffle ▁coup é ▁et ▁pour ▁cause ▁: ▁des ▁essa ins ▁de ▁nano parti cules ▁morte lles ▁destiné s ▁à ▁l ' armée ▁prennent ▁forme ▁humaine ▁afin ▁de ▁se ▁repro duire ...\n",
            "▁Il ▁ne ▁faut ▁pas ▁se ▁laisser ▁impression ner ▁par ▁l ' é pa isseur ▁du ▁livre ▁( 850 ▁pages ▁quand ▁même ▁ !), ▁car ▁une ▁fois ▁qu ' on ▁l ' a ▁commencé ▁il ▁se ▁lit ▁avec ▁tant ▁de ▁bonheur ▁qu ' il ▁para ît ▁finalement ▁trop ▁court . ▁C ' est ▁un ▁livre ▁très ▁étrange , ▁qui ▁os ci lle ▁sans ▁ arrêt ▁entre ▁rêve ▁et ▁réalité . ▁D ' ailleurs , ▁plus ▁que ▁l ' histoire , ▁j ' ai ▁surtout ▁aimé ▁l ' at mos ph ère ▁oni rique ▁et ▁po étique ▁de ▁Mura kami , ▁qui ▁donne ▁vraiment ▁envie ▁de ▁lire ▁d ' autres ▁roman s ▁de ▁cet ▁ auteur .\n",
            "▁Cet ▁album , ▁c ' est ▁d ' abord ▁un ▁regard , ▁celui ▁que ▁nous ▁por tons ▁sur ▁les ▁autres . ▁Avec ▁ces ▁drôle s ▁de ▁cari bou s , ▁E dou ard ▁Man ce au ▁dress e ▁une ▁galerie ▁de ▁por trait s ▁et ▁de ▁sentiment s ▁bien ▁humain s , ▁passant ▁en ▁revue ▁nombre s ▁de ▁nos ▁travers ▁et ▁de ▁nos ▁pré ju gés ▁: ▁la ▁peur ▁de ▁l ' Au tre , ▁le ▁refus ▁de ▁partager , ▁le ▁désir ▁de ▁pouvoir , ▁la ▁timid ité , ▁l ' a gress ivité ... ▁Sou s ▁l ' appar ente ▁simplici té ▁des ▁pages , ▁on ▁ abord e ▁les ▁no tions ▁de ▁différence , ▁de ▁to lé rance . ▁Les ▁phrase s , ▁aux ▁all ures ▁de ▁maxime s , ▁én on cent ▁le ▁propos ▁avec ▁fines se ▁tout ▁en ▁restant ▁parfaitement ▁accessible s ▁aux ▁jeunes ▁lecteur s . ▁Il ▁ne ▁s ' agit ▁pas ▁de ▁philosophi e . ▁Les ▁situations ▁présenté es ▁sont ▁con cr ète s , ▁interpel lent ▁un ▁vécu . ▁L ' image ▁prend ▁alors ▁le ▁rela is , ▁illustra nt ▁le ▁texte ▁- ▁dans ▁tous ▁les ▁sens ▁du ▁terme ▁- ▁par ▁l ' exemple , ▁et ▁ce ▁avec ▁beaucoup ▁d ' humour ▁et ▁de ▁tend resse . ▁Parce ▁qu ' ils ▁sont ▁plutôt ▁ cra quant s , ▁ces ▁cari bou s . ▁Cré és ▁à ▁partir ▁de ▁collage s ▁de ▁papier ▁orang e ▁et ▁vert , ▁l ' il lustra tion ▁est ▁ particulièrement ▁visuel le . ▁Ces ▁couleurs ▁tran ché es , ▁mais ▁douce s , ▁rende nt ▁les ▁personnage s ▁très ▁express ifs , ▁les ▁scène s ▁très ▁explicit es , ▁à ▁observer ▁au ▁premier , ▁puis ▁second ▁de gré . ▁Les ▁pages ▁invite nt ▁autant ▁à ▁l ' inter roga tion , ▁la ▁réflexion ▁qu ' au ▁sourire ▁et ▁à ▁la ▁discussion , ▁démon t rant ▁avec ▁une ▁ économie ▁de ▁moyens ▁aussi ▁efficace ▁qu ' est h étique ▁la ▁superficial ité ▁des ▁appar ences , ▁le ▁jeu ▁des ▁attitude s . ▁\" ▁Quand ▁on ▁en lè ve ▁nos ▁mas ques , ▁nos ▁costume s , ▁nos ▁chap eaux ▁et ▁nos ▁plu mes ... on ▁est ▁tous ▁pare ils ▁! ▁\" ▁Une ▁belle ▁réussite ▁que ▁cet ▁album ▁a typ ique ▁à ▁partager . ▁\" Ap prendre ▁à ▁regarder ▁les ▁choses ▁avec ▁un ▁peu ▁plus ▁de ▁distance ... voi là ▁peut - être ▁la ▁sag esse ▁que ▁nous ▁transmet tent ▁ces ▁é ton nant s ▁cari bou s . ▁\" ▁Bien ▁que ▁l ' album ▁soit ▁conçu ▁pour ▁les ▁petits ▁( ▁carton né , ▁pages ▁é pais ses , ▁fond ▁clair , ▁texte s ▁court s , ▁personnage s ▁a mus ants ▁et ▁att ach ants ...) ▁il ▁faudra ▁toutefois ▁attendre ▁cinq - s ix ▁ans ▁pour ▁l ' apprécie r , ▁et ▁non ▁trois ▁ans ▁comme ▁le ▁pré con ise ▁l ' éditeur .\n",
            "▁ce ▁livre ▁est ▁tré s ▁sympa s ▁mais ▁il ▁faut ▁évidemment ▁s ' interesse r ▁un ▁minimum ▁à ▁la ▁cor ée ▁du ▁sud . ▁J ' ai ▁été ▁agréable ment ▁surprise ▁qu ' ida ▁dau ssy ▁s ' ait ▁aussi ▁bien ▁adapter ▁à ▁la ▁culture ▁co ré enne , ▁malheureusement ▁j ' ai ▁récemment ▁a pris ▁qu ' elle ▁avait ▁di vor cé ▁:( ▁bref ▁c ' est ▁un ▁livre ▁sympa s !\n",
            "▁J ' ai ▁trouvé ▁ce ▁livre ▁vraiment ▁passion nant , ▁il ▁change ▁des ▁histoire s ▁habitu elles ▁en ▁ce ▁que ▁son ▁hér os ▁n ' en ▁est ▁pas ▁vraiment ▁un , ▁mais ▁un ▁vole ur ▁avec ▁un ▁grand ▁sens ▁de ▁l ' humour . ▁De ▁plus , ▁il ▁est ▁é cris ▁tel ▁un ▁po lar ▁bien ▁me né . ▁Quand ▁on ▁l ' a ▁commencé ▁on ▁ne ▁peut ▁déc ro cher .\n",
            "▁Voici ▁un ▁livre ▁qui ▁se ▁perd ▁dans ▁une ▁philosophi e ▁pseudo ▁fé minis te / re tour ▁aux ▁ancienne s ▁valeur s ▁( nature , ▁chama n isme ▁et ▁pata ti ▁et ▁pata ta ) ▁qui ▁tour ne ▁en ▁rond ▁et ▁n ' apport e ▁absolument ▁rien . ▁En ▁plus ▁de ▁tout ▁il ▁perd ▁la ▁qualité ▁essentielle ▁de ▁ce ▁type ▁de ▁roman ▁: ▁le ▁côté ▁som bre . ▁Il ▁n ' apport e ▁rien , ▁même ▁pas ▁un ▁bon ▁moment .\n",
            "▁C ' est ▁un ▁très ▁bon ▁roman , ▁mais ▁toute ▁personne ▁qui ▁connait ▁un ▁tant ▁soit ▁peu ▁la ▁nature , ▁les ▁animaux ▁sauvage s ▁et ▁les ▁lo ups ▁ne ▁pourra ▁croire ▁un ▁instant ▁que ▁ce ▁soit ▁une ▁histoire ▁vrai e ▁! ▁Les ▁gens ▁d ' aujourd ' hui ▁sont ▁essentielle ment ▁des ▁cita din s ▁et ▁leur ▁connaissance ▁des ▁animaux ▁se ▁limite ▁aux ▁histoire s ▁de ▁Disney . ▁N ul ▁ne ▁fer ra ▁croire ▁à ▁ceux ▁qui ▁ont ▁vécu ▁à ▁proximité ▁des ▁lo ups ▁qu ' ils ▁se raient ▁\" gent ils \" ▁avec ▁un ▁enfant ▁!!\n",
            "▁Si ▁vous ▁voulez ▁vous ▁faire ▁peur ▁sans ▁vous ▁prendre ▁la ▁tête , ▁pre nez ▁un ▁livre ▁de ▁Child ▁& amp ; ▁Pres ton . ▁Celui - ci ▁est ▁moins ▁ang o issant ▁que ▁\" Re lic \" ▁( ou ▁\" Le ▁gre nier ▁des ▁en fers \" ▁son ▁titre ▁avant ▁ adaptation ▁cinéma ▁! ) ▁et ▁moins ▁dép aysan t ▁que ▁\" Les ▁sorti lè ges ▁de ▁la ▁ cité ▁perdu e \". ▁Vous ▁allez ▁cependant ▁retrouver ▁des ▁personnage s ▁crois és ▁dans ▁ces ▁deux ▁tome s , ▁notamment ▁l ' in spec teur ▁Pen der gast ▁du ▁FBI , ▁pour ▁une ▁ intrigue ▁autour ▁de ▁me ur tres ▁ particulièrement ▁sang lant s ▁( dan s ▁l ' esprit ▁de ▁\" l ' Ali én iste \") ▁qui ▁se ▁rép ète nt ▁à ▁un ▁siècle ▁d ' inter valle . ▁Pour ▁les ▁amateur s ▁du ▁genre , ▁on ▁peut ▁parler ▁d ' une ▁lecture ▁de ▁détente ...\n",
            "▁Si ▁je ▁l ' avais ▁lu ▁à ▁l ' ado le scen ce , ▁cela ▁m ' aurais ▁probablement ▁plu . ▁Il ▁est ▁d ' ailleurs ▁publié ▁en ▁collection ▁\" je une s ▁adult es \". ▁Mais ▁avec ▁l ' âge , ▁on ▁a ▁du ▁mal ▁à ▁croire ▁à ▁ce ▁genre ▁d ' histoire ▁simpli ste ▁avec ▁d ' un ▁côté ▁une ▁na ï ve ▁histoire ▁d ' amour ▁et ▁d ' un ▁autre ▁une ▁critique ▁mani ché enne ▁des ▁puissant s ▁qui ▁provoque nt ▁l ' a poca ly pse . ▁A ▁souligne r , ▁Bar ja vel ▁avait ▁au ▁départ ▁écrit ▁ce ▁scénario ▁pour ▁un ▁film ▁( ja mais ▁réalisé ).\n",
            "▁Jean ▁XXIII ▁voulait ▁ exprimer ▁la ▁foi ▁dans ▁le ▁lang age ▁des ▁hommes ▁de ▁notre ▁temps . ▁J acqua rd ▁montre ▁que ▁ce ▁beau ▁projet ▁est ▁finalement ▁encore ▁au ▁point ▁mort ▁: ▁« De ▁telle s ▁réflexion s ▁sur ▁la ▁na ï ve té ▁de ▁l ’ enseignement ▁officiel ▁tel ▁qu ’ il ▁est ▁consta m ment ▁rép été ▁att i rent ▁la ▁rép lique ▁des ▁autorités ▁religi euses ▁[ ch ré tien nes ] ▁: ▁ce ▁n ’ est ▁pas ▁ce ▁que ▁l ’ Ég lise ▁veut ▁dire . ▁Mais ▁alors ▁pourquoi ▁le ▁dit - elle , ▁et ▁de ▁façon ▁si ▁explicit e , ▁avec ▁des ▁mots ▁que ▁chacun ▁peut ▁comprendre ▁ ?» ▁Dieu ▁? ▁p ▁123 - 124 ▁( N ’ avez - vous ▁pas ▁l ’ impression ▁que ▁la ▁deuxième ▁phrase ▁est ▁un ▁laps us ... ▁? ).\n",
            "▁Un ▁exemple ▁: ▁l ' auteur ▁s ' appui e ▁sur ▁le ▁nombre ▁d ' heure s ▁travail lé es ▁par ▁habitant ▁pour ▁montrer ▁que ▁la ▁France ▁est ▁à ▁la ▁tra îne . ▁L ' argument ation , ▁sans ▁le ▁dire , ▁laisse ▁penser ▁que ▁ceux ▁qui ▁travaille nt ▁ne ▁travaille nt ▁pas ▁assez . ▁Ref rain ▁cher ▁à ▁Sarkozy . ▁Il ▁a ▁quand ▁même ▁l ' hon nê te té ▁de ▁faire ▁figure r ▁dans ▁son ▁tableau ▁un ▁autre ▁chiffre , ▁qu ' il ▁ne ▁comment e ▁pas ▁: ▁le ▁nombre ▁d ' heure s ▁travail lé es ▁par ▁ actif . ▁Et ▁là , ▁surprise , ▁la ▁France ▁est ▁très ▁bien ▁placé e ▁( nette ment ▁devant ▁l ' Allemagne ▁notamment ). ▁En ▁fait ▁c ' est ▁ce ▁chiffre ▁qui ▁est ▁significa tif . ▁L ' autre ▁ne ▁fait ▁que ▁signaler ▁que ▁la ▁France ▁compte ▁beaucoup ▁de ▁chô m eurs ▁et ▁de ▁retra ités . ▁Su jet s ▁dig nes ▁d ' intérêt , ▁certe s , ▁mais ▁sans ▁rapport ▁avec ▁la ▁durée ▁de ▁travail ▁heb do mada ire . ▁Voilà ▁pourquoi ▁je ▁pense ▁que ▁Du chen e ▁( voir ▁son ▁commentaire ) ▁a ▁raison .\n",
            "▁J ' avais ▁déjà ▁lu ▁dans ▁le ▁passé ▁2 ▁livres ▁du ▁même ▁ auteur ▁qui ▁m ' ava ient ▁plutôt ▁plus . ▁Mais ▁là , ▁j ' ai ▁eu ▁beaucoup ▁de ▁mal ▁à ▁aller ▁au ▁bout . ▁Il ▁y ▁a ▁2 ▁ intrigue s ▁para ll è les ▁explo r ées ▁par ▁l ' équipe ▁polici ère . ▁Ces ▁ enquête s ▁ne ▁sont ▁vraiment ▁pas ▁intéressant es ▁et ▁de ▁plus ▁sont ▁très ▁difficile s ▁à ▁suivre . ▁C ' est ▁très ▁confu s , ▁parfois ▁incomp ré hen sible ▁pour ▁de ▁plus ▁about ir ▁à ▁une ▁fin ▁déc e vante . ▁Bref ▁un ▁livre ▁à ▁oublier .\n",
            "▁Ré ca pit ul ons ▁: ▁- ▁\" mens ▁sana ▁in ▁corpore ▁sano \" ▁( bi en ▁manger ▁: ▁les ▁bonnes ▁gra isse s ▁ont ▁une ▁action ▁neuro phy si ologique ▁positive ; ▁faire ▁un ▁peu ▁de ▁sport ▁adapté , ▁c ' est ▁bon ▁pour ▁le ▁moral ▁et ▁pour ▁le ▁coeur ; ▁la ▁lumière ▁naturelle ▁et ▁le ▁respect ▁de ▁nos ▁cycle s ▁chr ono biologi ques ▁nous ▁font ▁du ▁bien ), ▁- ▁les ▁américain s ▁( sic !) ont ▁( re ) dé cou vert ▁un ▁truc ▁génial : l ' a cu punct ure , ▁- ▁pratique r ▁l ' auto hy p no se ▁( ou ▁la ▁\" m édi tation \", ▁la ▁\" rela x ation \", ▁le ▁\" yo ga \", ▁la ▁\" vis ual isation \"... ), ▁surtout ▁avec ▁un ▁bio feed back , ▁est ▁bon ▁pour ▁rég ul er ▁certaines ▁fonction s ▁corpore lles , ▁comme ▁la ▁fonction ▁card ia que , ▁et ▁gérer ▁le ▁stress , ▁- ▁la ▁ thérapie ▁miracle ▁est ▁ arrivée ▁: ▁l ' EM DR ▁( tech nique ▁hypno tique ▁associé e ▁à ▁un ▁cadre ▁de ▁type ▁ cogni tivo - com porte mental ▁: ▁du ▁connu , ▁donc , ▁dans ▁un ▁ emballage ▁nouveau , ▁ras sur ant ▁car ▁\" s cient ifique \" ▁et ▁qui ▁n ' utilise ▁pas ▁les ▁termes ▁qui ▁font ▁peur ) ▁- ▁\" Y ' a ▁qu ' à , ▁faut ▁qu ' on \" ▁- ▁Excellent ▁packaging ▁et ▁mer ch andi sing ▁Pour ▁en ▁savoir ▁plus ▁sur ▁le ▁cerveau , ▁pourquoi ▁ne ▁pas ▁lire ▁des ▁experts ▁( mé dec ins / enseignant s / cher ch eurs ) ▁dans ▁le ▁domaine ? ( e . g . ▁: Da masi o , ▁ou ▁Ji ll ▁Bol te ▁Taylor , ▁qui ▁sont ▁de ▁bons ▁et ▁fiable s ▁vulgar isa teurs ) ▁Pour ▁une ▁ thérapie , ▁consulte z ▁: ▁ce ▁livre ▁n ' est ▁pas ▁un ▁self - help ▁book , ▁et ▁un ▁ accompagnement , ▁quelle ▁que ▁soit ▁l ' orientation ▁choisi e , ▁est ▁souvent ▁utile . ▁Pour ▁du ▁développement ▁personnel , ▁il ▁existe ▁plein ▁de ▁\" self - help ▁books \" ▁et ▁autres ▁livres ▁bien ▁plus ▁concret s , ▁pratiques , ▁ enseignant ▁des ▁techniques . ▁Si ▁vous ▁cherche z ▁à ▁justifi er ▁votre ▁pratique ▁thé rap eu tique , ▁pourquoi ▁ne ▁pas ▁vous ▁r enseigne r ▁vous - même ▁et ▁aller ▁à ▁la ▁source ▁( re cher che ▁scientifique ) ▁au ▁lieu ▁de ▁vous ▁repos er ▁sur ▁le ▁travail ▁de ▁synth èse ▁d ' un ▁autre ? ▁e . g . : li re ▁directement ▁Sha piro ▁ou ▁les ▁études ▁men ées ▁sur ▁l ' EM DR , ▁ou ▁sur ▁l ' efficacité ▁des ▁ thérapie s , ▁lire ▁Dou tre lug ne ▁et ▁Co tten cin ▁pour ▁mieux ▁comprendre ▁l ' EM DR ▁son ▁ intérêt , ▁les ▁ thérapie s ▁br ève s ... ▁Les ▁pratiques ▁déc rite s ▁dans ▁cet ▁ ouvrage ▁( sport ▁et ▁bonne ▁ alimentation , ▁pratiques ▁mé dita tives ▁ou ▁d ' auto hy p no se , ▁bio feed back , ▁T CC , ▁acu punct ure ) ▁ont ▁leur ▁ efficacité ▁( et ▁leurs ▁limites , ▁bien ▁sûr ), ▁ce ▁que ▁je ▁re nie ▁en ▁rien ▁: ▁bien ▁au ▁contraire ! ▁Attention s ▁cependant ▁aux ▁dér ives ▁pouvant ▁être ▁in duit es ▁chez ▁le ▁lecteur ▁na ï f ▁par ▁le ▁souci ▁de ▁vulgar isation ▁et ▁de ▁synth èse ▁de ▁l ' auteur . ▁L ' EM DR , ▁par ▁exemple , ▁est ▁une ▁technique ▁thé rap eu tique ▁très ▁adaptée ▁à ▁certains ▁problèmes , ▁non ▁un ▁paradigm e ▁psycho thé rap eu tique ▁globale ment ▁plus ▁efficace ▁que ▁tout ▁le ▁reste . ▁Et ▁il ▁en ▁existe ▁d ' autres , ▁elles ▁aussi ▁en ▁cours ▁de ▁\" vali da tion ▁scientifique \" ▁ou ▁de ▁contro verse . ▁Bref , ▁ce ▁qui ▁me ▁gê ne ▁vraiment ▁dans ▁cet ▁ ouvrage , ▁c ' est ▁le ▁côté ▁\" dé cou verte ▁de ▁la ▁pana cé e \" ▁qui ▁en robe ▁le ▁discours . ▁Bien ▁sûr , ▁les ▁sources ▁scientifique s ▁sont ▁cit ées , heure us ement ! ▁Le ▁problème ▁de ▁cet ▁ ouvrage ▁ré side ▁donc ▁bien ▁plus ▁dans ▁la ▁forme ▁que ▁le ▁fond : Sa ▁valeur ▁est ▁celle ▁de ▁vulgar isation ▁auprès ▁des ▁prof an es , ▁un ▁peu ▁comme ▁un ▁article ▁de ▁magazine ▁grand ▁public . ▁Ni ▁plus , ▁ni ▁moins . ▁Un ▁risque : l ' a dhé sion ▁in condition nelle ▁( et ▁le ▁re jet ▁du ▁reste ) ▁parce ▁que ▁l ' auteur ▁est ▁connu , ▁intelligent , ▁to u bib , ▁a ▁la ▁plu me ▁facile , ▁parle ▁de ▁lui , ▁a ▁l ' air ▁sympa ▁et ▁de ▁beaux ▁yeux ... ▁Ce ▁qui ▁me ▁dé range ▁bien ▁plus ▁ici , ▁c ' est ▁l ' a gress ivité ▁de ▁ses ▁défense urs , ▁qui ▁pré tendent ▁avoir ▁l ' esprit ▁ouvert ▁et ▁scientifique ▁mais ▁ré cu sent ▁toute ▁remarque ▁critique , ▁con fond ent ▁le ▁fond ▁et ▁la ▁forme ▁et ▁surtout ▁semble nt ▁bizarre ment , ▁eux , ▁manque r ▁d ' esprit ▁critique ... ▁et ▁auto - cri tique . ▁Il ▁n ' exist e ▁pas ▁de ▁vérité ▁unique ▁et ▁fi gé e . ▁Voi r ▁pour ▁s ' en ▁con va in cre ▁l ' histoire ▁et ▁les ▁cadre s ▁de ▁référence ▁de ▁la ▁médecin e , ▁des ▁science s ▁et ▁même ▁des ▁science s ▁humaine s . ▁Se ▁faire ▁le ▁gou rou ▁d ' ade pte s ▁in condition nel s ▁et ▁pro sé ly tes ? ▁Je ▁ne ▁pense ▁pas ▁que ▁ce ▁soit ▁ce ▁que ▁recherch ait ▁M . ▁Ser van - Sch rei ber ▁en ▁ré dige ant ▁cet ▁article ▁de ▁synth èse ▁et ▁de ▁présentation ▁de ▁quelques ▁techniques ... ▁Donc , ▁et ▁en ▁toute ▁humil ité , ▁ce ▁livre ▁me ▁semble ▁ra ter ▁sa ▁ci ble , ▁en fon cer ▁des ▁portes ▁ouverte s ▁tout ▁en ▁man quant ▁soit ▁d ' un ▁regard ▁encore ▁plus ▁global , ▁soit ▁d ' une ▁ approche ▁scientifique ▁ou ▁pratique ▁plus ▁fine ▁encore . ▁Il ▁me ▁para it ▁ essentiel ▁que ▁chacun ▁reste ▁libre ▁de ▁se ▁faire ▁une ▁opinion ▁et ▁de ▁l ' exprimer ▁libre ment , ▁sans ▁avoir ▁à ▁se ▁justifi er ▁en ▁faisant ▁état ▁de ▁ses ▁diplôme s ▁scientifique s , ▁psycholog iques , ▁psycho thé rap eu tiques ▁( je ▁pour rais ▁moi ▁aussi ▁ci ter ▁les ▁mi ens , ▁je ▁trouve ▁simplement ▁cela ▁hors ▁de ▁propos ) ▁ou ▁de ▁son ▁travail ▁sur ▁soi ▁- ▁mais ▁aussi ▁dans ▁le ▁respect ▁de ▁ceux ▁dont ▁l ' avis ▁diff ére rait . ▁A ▁vous , ▁donc , ▁de ▁vous ▁for ger ▁votre ▁opinion ▁et ▁de ▁choisir ▁de ▁lire , ▁ou ▁non , ▁cet ▁ ouvrage .\n",
            "▁Tout ▁en ▁lisan t ▁il ▁n ' y ▁a ▁que ▁l ' espoir ▁à ▁un ▁dé nou ement ▁s pé cta cula ire ▁qui ▁nous ▁fait ▁tenir ▁devant ▁tant ▁d ' en nu i . ▁Et ▁quel ▁déc ép tion : ▁un ▁fin ▁bac lé ▁en ▁10 ▁pages . ▁Des ▁personnage s ▁qui ▁appar a issent ▁comme ▁par ▁en chant ement ▁et ▁d ' autres ▁qui ▁dispara issent ▁sans ▁vrai ement ▁plus ▁d ' explica tions . ▁Il ▁faut ▁esper er ▁que ▁M me . ▁Cor n well ▁se ▁res ais isse .\n",
            "▁certe s , ▁un ▁dress age ▁\" san s ▁coup s ▁ni ▁cri s \"; ▁mais ▁un ▁ auteur ▁qui ▁n ' hésite ▁pas ▁à ▁recommande r ▁d ' en ferm er ▁son ▁chi ot ▁des ▁journée s ▁en t ières ▁dans ▁une ▁ca isse ▁de ▁voyage ▁pour ▁chien ▁sous ▁pré text e ▁de ▁l ' é du quer ▁à ▁la ▁propre té ▁et ▁au ▁calme ▁possède , ▁à ▁mon ▁sens , ▁out re ▁une ▁défini tion ▁très ▁relative ▁de ▁la ▁tend resse , ▁un ▁sens ▁réduit ▁du ▁respect ▁basi que ▁dû ▁à ▁un ▁animal . ▁Dé fini tive ment , ▁cet ▁ ouvrage ▁est ▁déc e vant , ▁et ▁certains ▁des ▁conseils ▁me ▁semble nt ▁ir respons ables . Pass ez ▁votre ▁chemin .\n",
            "▁J ' avais ▁entendu ▁parler ▁de ▁chef - d ' œuvre , ▁de ▁roman ▁fé minis te , ▁d ' une ▁réflexion ▁sur ▁les ▁dér ives ▁de ▁la ▁science , ▁et ... ▁Après ▁un ▁départ ▁vraiment ▁ prenant , ▁j ' ai ▁trouvé ▁que ▁le ▁roman ▁s ' esso uff lait ▁très ▁vite , ▁et ▁de ven ait ▁un ▁pens um . ▁Pé ni ble ▁à ▁lire , ▁pé ni ble ▁parfois ▁dans ▁sa ▁vision ▁des ▁choses ▁( une ▁femme ▁libre ▁est ▁forcément ▁une ▁sor ci ère ? ). ▁Très ▁déc e vant .\n",
            "▁premier ▁livre ▁de ▁synth èse ▁sur ▁le ▁sujet , ▁il ▁n ' en ▁demeure ▁pas ▁moins ▁qu ' il ▁support e ▁mal ▁ses ▁30 ▁ans ▁d ' âge . ▁manuel ▁composé ▁de ▁chapitre s ▁is sus ▁d ' auteur s ▁différents , ▁il ▁manque ▁d ' un ité . ▁Depuis , ▁l ' his o tri ographie ▁a ▁fait ▁bien ▁des ▁progrès . ▁Pour ▁l ' a gré ment ▁de ▁lecture ▁et ▁la ▁co hé sion ▁du ▁texte , ▁je ▁préfère ▁l ' ouvrage ▁d ' An nie ▁Mou lin ▁dans ▁la ▁même ▁collection .\n",
            "▁Patricia ▁Cor n well ▁m ' a ▁beaucoup ▁dé çu ▁avec ▁ce ▁livre . ▁J ' ai ▁lu ▁tous ▁ses ▁précédent s ▁\" Ka y ▁Scar pet ta \" ▁avec ▁plaisir , ▁mais ▁là ▁j ' ai ▁eu ▁beaucoup ▁de ▁mal ▁à ▁termin er ▁le ▁livre . ▁Le ▁style ▁d ' écriture ▁a ▁totalement ▁changé ▁: ▁au para vant , ▁Kay ▁Scar pet ta ▁était ▁la ▁narra trice , ▁on ▁\" voy ait \" ▁tout ▁de ▁son ▁point ▁de ▁vue ▁et ▁le ▁style ▁était ▁li né aire , ▁l ' intrigue ▁était ▁donc ▁assez ▁facile ▁à ▁suivre . ▁Ce ▁livre ▁est ▁écrit ▁à ▁la ▁3 e ▁personne , ▁il ▁n ' y ▁a ▁plus ▁de ▁narra teur . ▁On ▁sau te ▁d ' un ▁personnage ▁à ▁l ' autre ▁au ▁ gré ▁des ▁chapitre s ▁: ▁un ▁coup ▁on ▁suit ▁les ▁p éré grin ations ▁de ▁Scar pet ta , ▁puis ▁on ▁se ▁retrouve ▁avec ▁Lucy , ▁puis ▁c ' est ▁au ▁tour ▁de ▁Jay ▁(\" le ▁mé chant ▁de ▁service \") ... ▁De ▁plus , ▁l ' intrigue ▁est ▁po us sive , ▁sans ▁grande ▁inspiration , ▁et ▁les ▁personnage s ▁sont ▁assez ▁plats , ▁con trairement ▁aux ▁précédent s ▁opus . ▁Je ▁n ' ai ▁pas ▁du ▁tout ▁reconnu ▁le ▁style ▁des ▁précédent s ▁ ouvrage s ▁de ▁Cor n well , ▁ce ▁qui ▁m ' a ▁assez ▁dé rou té .\n",
            "▁Même ▁façon ▁de ▁raconte r ▁l ' histoire ▁que ▁Da ▁Vinci ▁Code ▁et ▁Ang es ▁et ▁Dé mons ▁... ▁la ssant ▁à ▁force\n",
            "▁Cet ▁ ouvrage ▁aurait ▁pu ▁être ▁excellent ▁si ▁seulement ▁il ▁ne ▁rep rena it ▁pas ▁les ▁gros ▁cliché s ▁qu ' on ▁puisse ▁avoir ▁sur ▁cette ▁religion ▁encore ▁très ▁mal ▁connu . ▁L ' histoire ▁du ▁s ât i ▁par ▁exemple ▁n ' est ▁inscrit ▁dans ▁aucun ▁livre ▁sa cré ▁de ▁l ' In de ▁mais ▁qui ▁a ▁pris ▁forme ▁durant ▁l ' in va sion ▁musulman e ▁en ▁l ' In de . ▁Des ▁milliers ▁de ▁femmes ▁se ▁sont ▁im mo lés ▁pour ▁sau ver ▁leur ▁ honneur ▁pour ▁é chap pant ▁aux ▁viol s ▁commis ▁par ▁les ▁en vah isseur s . ▁Ce ▁qui ▁n ' a ▁strict ement ▁rien ▁de ▁religi eux . ▁Encore ▁une ▁autre ▁erre ur , ▁aucun ▁livre ▁sa cré ▁de ▁l ' In de ▁ne ▁mention ne ▁le ▁terme ▁\" in touch able \" ▁et ▁le ▁mot ▁ca ste ▁est ▁mal ▁tra duit ▁du ▁sans krit ▁\" varna \". ▁Le ▁système ▁de ▁ca ste ▁est ▁tout ▁simplement ▁le ▁métier ▁ex er cé ▁par ▁une ▁personne . ▁Et ▁encore ▁plein s ▁d ' er re ur ▁sur ▁le ▁pha llus ▁de ▁Shiva , ▁sur ▁la ▁statut ▁de ▁la ▁femme ▁inférieur ▁à ▁l ' homme , etc ▁L ' auteur ▁ne ▁se ▁base ▁pas ▁sur ▁les ▁livres ▁religi eux ▁de ▁l ' In de ▁qui ▁sont ▁l ' essen ce ▁même ▁du ▁Sanat hana ▁Dharma ▁( Hi ndo u isme ) ▁mais ▁sur ▁ce ▁qu ' il ▁voit ▁actuellement ▁en ▁Inde . ▁Erre ur ▁flagrant e . ▁Pour ▁comprendre ▁une ▁religion , ▁mieux ▁vaut ▁lire ▁les ▁écrit s ▁\" sa cré \" ▁pour ▁en ▁comprendre ▁toute ▁leurs ▁significa tions . ▁Je ▁conseille ▁de ▁lire ▁le ▁Bhag avad ▁G ita , ▁les ▁Ved as ▁et ▁les ▁Up anisha ds ▁pour ▁mieux ▁comprendre ▁cette ▁religion ▁complexe . ▁De ▁plus , ▁l ' auteur ▁att este ▁que ▁ceux ▁qui ▁re jet tent ▁la ▁théorie ▁de ▁l ' in va sion ▁ary enne ▁sont ▁principalement ▁que ▁des ▁ar ché ologue s ▁indien s ▁ce ▁qui ▁est ▁mal hon nê te . ▁De ▁nouvelles ▁preuve s ▁biologi ques ▁et ▁ar ché ologique s ▁tém o igne nt ▁qu ' il ▁n ' y ▁a ▁jamais ▁eu ▁d ' in va sion ▁ary enne ▁en ▁Inde .\n",
            "▁L ' ensemble ▁du ▁livre ▁se ▁lit ▁très ▁bien , ▁Pierre ▁Pé ju ▁écrit ▁très ▁bien , ▁et ▁les ▁personnage s ▁sont ▁att ach ants . ▁Mais ▁voi la , ▁ça ▁ne ▁suffit ▁pas ▁pour ▁en ▁faire ▁un ▁excellent ▁livre , ▁loin ▁de ▁là . ▁Ce ▁roman , ▁manque ▁de ▁fond ▁et ▁la ▁fin ▁est ▁déc e vante . ▁D ommage\n",
            "▁ Claude ▁Michel et ▁m ' a ▁toujours ▁fait ▁rêve r , ▁à ▁travers ▁ses ▁immens es ▁roman s ▁d ' aventure s , ▁entre ▁la ▁Cor rè ze , ▁la ▁Poly né sie ▁et ▁l ' Amérique ▁du ▁Sud . ▁J ' attend ais ▁avec ▁une ▁grande ▁im pati ence ▁de ▁pouvoir ▁le ▁retrouver , ▁et ▁me ▁plo nger ▁dans ▁l ' univers ▁de ▁ses ▁hér os . ▁Mais ▁c ' est ▁avec ▁une ▁immens e ▁dé ception ▁que ▁j ' ai ▁refer me ▁son ▁dernier ▁roman . ▁\" Que l que ▁part ▁dans ▁le ▁monde \" ▁se ▁lit ▁très ▁facilement , ▁Sylv estre ▁Ne y rat ▁passe ▁peut - être ▁pour ▁un ▁hér os ▁att a chant , ▁et ▁ses ▁aventure s ▁en ▁fer ont ▁certainement ▁rêve r ▁plus ▁d ' un . ▁Cependant , ▁j ' ai ▁trouve ▁le ▁roman ▁trop ▁bref , ▁trop ▁rapide , ▁trop ▁press é ... ▁Je ▁ne ▁me ▁suis ▁att ach ée ▁ni ▁à ▁Sylv estre , ▁ni ▁à ▁Terry , ▁et ▁j ' ai ▁trouvé ▁leurs ▁\" aventure s \" ▁terrible ment ▁pré visible s ▁et ▁incroyable ment ▁en nu y euses . ▁Déc e vant , ▁en ▁som me . ▁D ommage , ▁car ▁ça ▁ne ▁ressemble ▁pas ▁du ▁tout ▁aux ▁grandes ▁sa gas ▁de ▁Michel et . ▁J ' espère ▁que ▁le ▁prochain ▁sera ▁un ▁meilleur ▁cru ...\n",
            "▁J ' ai ▁bien ▁aimé ▁la ▁première ▁partie ▁du ▁livre ▁avec ▁les ▁explica tions ▁pour ▁les ▁différents ▁points ▁en ▁ trico tin ▁mais ▁les ▁modèles ▁ne ▁sont ▁pas ▁très ▁moderne s ▁et ▁intéressant s .\n",
            "▁Limit é ▁au ▁vocabula ire ▁le ▁plus ▁usu el . ▁E tym ologie s ▁très ▁s ucci ntes . ▁Très ▁peu ▁de ▁détails ▁sur ▁l ' évolution ▁du ▁sens ▁et ▁sur ▁les ▁é tym ologie s ▁débat tu es . ▁Un ▁ ouvrage ▁très ▁déc e vant ▁dont ▁l ' intérêt ▁et ▁l ' utili té ▁sont ▁bien ▁faible s . ▁On ▁peut ▁trouver ▁bien ▁mieux ▁dans ▁cette ▁catégorie ▁d ' ouvrage s .\n",
            "▁Je ▁suis ▁peut - être ▁passé ▁à ▁côté ▁du ▁sujet ▁( quel ▁est ▁just ement ▁le ▁sujet ▁du ▁livre ? ), ▁mais ▁pour ▁la ▁première ▁fois ▁de ▁ma ▁vie , ▁je ▁viens ▁de ▁finir ▁un ▁livre ▁au quel ▁je ▁n ' ai ▁strict ement ▁rien ▁compris . ▁Jusqu ' à ▁la ▁dernière ▁page ▁j ' ai ▁esp éré ▁une ▁explica tion ▁qui ▁n ' est ▁jamais ▁venue ▁et ▁j ' ai ▁vraiment ▁l ' impression ▁d ' avoir ▁perdu ▁mon ▁temps . ▁Cependant , ▁comme ▁j ' apprécie ▁énormément ▁Gio no , ▁je ▁reli rai ▁ce ▁livre ▁dans ▁quelques ▁mois ▁et ▁j ' espère ▁pouvoir ▁ré viser ▁ce ▁commentaire .\n",
            "▁Les ▁dessin s ▁( pas ▁terrible s ) ▁prennent ▁trop ▁de ▁places , ▁certains ▁sujet s ▁sont ▁traité s ▁de ▁manière ▁trop ▁superficie lle , et ▁je ▁m ' ai ▁pas ▁aimé ▁le ▁language ▁soit ▁di sant ▁\" cool \".\n",
            "▁Ce ▁livre ▁donne ▁l ' impression ▁de ▁ne ▁pas ▁avoir ▁été ▁terminé . ▁La ▁première ▁moitié ▁est ▁passion nare ▁puis ▁on ▁se ▁perd . ▁Au ▁final , ▁je ▁suis ▁dé çu ▁par ▁ce ▁livre ▁qui ▁sembla it ▁promete ur ▁mais ▁dont ▁l ' auteur ▁a ▁vrai sem bla blement ▁oublié ▁d ' écrire ▁un ▁fin ▁dig ne ▁de ▁ce ▁nom ▁! ▁Se ▁lit ▁bien ▁sur ▁une ▁plage ▁...\n",
            "▁A chat ▁complètement ▁dispensa ble , ▁on ▁s ' en nu ie ▁ferme . ▁L ' histoire ▁\" roman cé e \" ▁de ▁la ▁première ▁Guerre ▁Pu nique ▁vue ▁du ▁côté ▁d ' Ham il car . ▁L ' idée ▁m ' a ▁sé duit ▁mais ▁j ' ai ▁vite ▁déc han té , ▁la ▁narra tion ▁est ▁mauvaise ▁sur ▁tous ▁les ▁plans ▁les ▁dialogue s ▁notamment ▁sont ▁à ▁se ▁tenir ▁les ▁cô tes , ▁je ▁me ▁demande ▁même ▁comment ▁un ▁ éditeur ▁à ▁accept er ▁de ▁publi er ▁ça . ▁On ▁nous ▁dit ▁que ▁Patrick ▁Gir ard ▁est ▁historien ▁mais ▁il ▁n ' est ▁certainement ▁pas ▁roman ci er . ▁Quant ▁à ▁ceux ▁qui ▁sont ▁intéressé s ▁par ▁le ▁côté ▁historique ▁de ▁la ▁chose , ▁mieux ▁vaut ▁aller ▁voir ▁Poly be , ▁Gir ard ▁ne ▁vous ▁apprend ra ▁rien .\n",
            "▁Je ▁dois ▁être ▁un ▁peu ▁spécial e , ▁ou ▁très ▁imper mé able ▁à ▁cette ▁forme ▁d ' humour , ▁en ▁tout ▁cas , ▁je ▁n ' ai ▁pas ▁du ▁tout ▁aimé ▁\" San s ▁nouvelles ▁de ▁Gur b \". ▁Le ▁\" roman \" ▁commence ▁fort , ▁avec ▁du ▁rythme , ▁Mendoza ▁en cha îne ▁les ▁situations ▁coca sses ▁alors ▁que ▁le ▁personnage ▁central ▁déc ouvre ▁cette ▁étrange ▁planète ▁où ▁il ▁est ▁mission né . ▁Final ement , ▁c ' est ▁just ement ▁cet ▁en cha îne ment ▁non - stop , ▁cette ▁dé fer lan te , ▁qui ▁la sse . ▁Il ▁ne ▁se ▁passe ▁pas ▁grand ▁chose , ▁j ' ai ▁fini ▁par ▁ne ▁plus ▁croire ▁du ▁tout ▁à ▁l ' histoire , ▁les ▁deux ▁extra - ter re stres ▁ne ▁sont ▁pas ▁si ▁\" extra - ter re stres \" ▁que ▁ça , ▁leurs ▁ter giver s ations ▁fatigue nt ... ▁Je ▁n ' ai ▁jamais ▁so uri , ▁et ▁j ' ai ▁fini ▁le ▁livre ▁rapidement , ▁histoire ▁de ▁ne ▁pas ▁le ▁refer mer ▁non ▁plus ▁sans ▁termin er . ▁J ' ai ▁du ▁mal ▁à ▁comprendre ▁le ▁succès ▁relatif ▁d ' ouvrage s ▁comme ▁celui - là !\n",
            "▁Fan ▁de ▁Brad bury , ▁c ' est ▁avec ▁en gou ement ▁que ▁je ▁me ▁suis ▁mis ▁à ▁lire ▁ce ▁recueil ▁et ▁c ' est ▁avec ▁dé ception ▁que ▁je ▁l ' ai ▁fermé . ▁J ' ai ▁res s senti ▁peu ▁de ▁plaisir ▁à ▁le ▁lire ▁bien ▁qu ' il ▁soit ▁bien ▁écrit , ▁je ▁pense ▁que ▁l ' histoire ▁manque ▁d ' intérêt ▁et ▁la ▁lecture ▁difficile ▁ne ▁permet ▁pas ▁de ▁s ' y ▁att ach er .\n",
            "▁Ay ant ▁lu ▁des ▁commentaires ▁é logi eux , ▁je ▁m ' attend ais ▁à ▁passer ▁un ▁\" ma u vais \" ▁moment ▁plein ▁de ▁suspens ▁et ▁de ▁su eurs ▁froid es . ▁Bien ▁courage use , ▁j ' ai ▁lu ▁dans ▁son ▁ intégr al ité ▁la ▁première ▁partie , ▁mais ▁dès ▁l ' apparition ▁d ' Ang é line , ▁le ▁charme ▁était ▁romp u , ▁co usu e ▁de ▁fil ▁blanc ▁la ▁suite . ▁J ' ai ▁terminé ▁en ▁diagonal e ▁et ▁c ' était ▁beaucoup ▁trop ▁encore . ▁A ▁conseiller ▁si ▁vous ▁vous ▁trouve z ▁trop ▁heureux ▁ou ▁avez ▁envie ▁de ▁pe ster !\n",
            "▁Imagine riez - vous ▁une ▁méthode ▁d ' apprentissage ▁du ▁français ▁( pour ▁non ▁franco phone , ▁évidemment ) ▁ou ▁se ▁mê le raient ▁à ▁la ▁fois ▁des ▁phrase s ▁en ▁français ▁et ▁en ▁qué bé co is ▁? ▁Bien ▁sûr ▁que ▁non , ▁nom ▁d ' un ▁cari bou ▁! ▁Le ▁qué bé co is ▁c ' est ▁un ▁français ▁... un ▁peu ▁différent ▁quand ▁même ▁( pro no ncia tion , ▁phr as é ologie , ▁vocabula ire ...) ▁C ' est ▁pourtant ▁la ▁méthode ▁utilisée ▁par ▁Har rap ' s ▁! ▁Les ▁texte s ▁mê lent ▁à ▁la ▁fois ▁des ▁phrase s ▁en ▁portu ga is ▁et ▁d ' autres ▁en ▁ bré sili en . ▁Bien ▁sûr , ▁il ▁est ▁possible , ▁( en ▁cher chant ▁bien ), ▁de ▁retrouver ▁dans ▁le ▁livre ▁qui ▁est ▁quoi , ▁mais ▁impossible ▁de ▁za pper ▁les ▁phrase s ▁que ▁vous ▁ écoute z ▁sur ▁les ▁CD ▁et ▁que ▁vous ▁rép et ez ▁avec ▁ou ▁non ▁la ▁prono ncia tion , ▁avec ▁ou ▁non ▁les ▁ caractéristiques ▁propres ▁à ▁la ▁phr as é ologie ▁ bré sili enne ▁! ▁ TRES ▁déc e vant . ▁A ▁éviter ▁à ▁tout ▁prix ▁! ▁J ' ai ▁d ' ailleurs ▁command é ▁la ▁même ▁chose ▁( liv re ▁et ▁CD ) ▁chez ▁A ... , ▁un ▁ éditeur ▁de ▁grand ▁renom ▁et ▁qui ▁a ▁eu ▁l ' intelligence ▁de ▁proposer ▁2 ▁version s ▁de ▁sa ▁méthode ▁: ▁en ▁portu ga is ▁et ▁en ▁ bré sili en , ▁tout ▁simplement ▁!\n",
            "▁Je ▁suis ▁donc ▁assez ▁dé çu e ▁par ▁les ▁recette s ▁de ▁ce ▁livre ▁qui ▁sont ▁assez ▁gras ses ▁et ▁riche s ... ▁je ▁trou vais ▁le ▁concept ▁pas ▁mal , ▁tenir ▁compte ▁des ▁saison s , ▁revenir ▁à ▁des ▁ali ments ▁plus ▁simples ▁etc . ▁mais ▁finalement , ▁je ▁pense ▁ne ▁trouve ▁que ▁très ▁peu ▁de ▁recette s ▁qui ▁me ▁servir ont ... ▁dommage ▁!\n",
            "▁je ▁ne ▁vois ▁pas ▁ou ▁est ▁le ▁suspens e , ▁par ▁contre ▁l ' humour ▁y ▁est ▁tres ▁su cré . ▁ce ▁lit ▁extreme ment ▁vite ▁ . ▁la ▁cad ence ▁d ' e crit ure ▁de ▁l ' auteur ▁semble ▁ir regul iere ▁et ▁donc ▁gen ante ▁pour ▁le ▁lecteur . ▁j ' ai ▁vu ▁mieux ▁( le gere ▁res sem blanc e ▁avec ▁l ' affaire ▁Ca ï us )\n",
            "▁c ' est ▁une ▁gross iere ▁copie ▁de ▁har ry ▁po tter\n",
            "▁J ' attend ais ▁mieux ▁d ' un ▁livre ▁dont ▁le ▁titre ▁est ▁tel ▁quel ... ▁Il ▁n ' est ▁pas ▁in inter re ssant ▁mais ▁franchement ▁ça ▁ne ▁vaut ▁pas ▁la ▁bonne ▁impression ▁qu ' il m ' avait ▁fait e ▁en ▁lisan t ▁la ▁pré face ... ▁Les ▁stratégie s ▁sont ▁du ▁style ▁: ▁vous ▁pre nez ▁long ▁sur ▁la ▁M ME ▁20 ▁lorsque ▁la ▁barre ▁qui ▁a ▁touch é ▁la ▁M ME ▁20 ▁en ▁tendance ▁longue ▁est ▁dé pass ée ▁à ▁la ▁hausse ▁et ▁place z ▁le ▁stop ▁sous ▁le ▁plus ▁bas ▁de ▁la ▁configuration ... ▁C ▁où ▁la ▁nouveau té ▁dans ▁cette ▁façon ▁de ▁trader ▁??? ▁Et ▁cela ▁n ' a ▁rien ▁d ' ex ception nel ▁dans ▁la ▁poursuit e ▁du ▁livre ... ▁A ▁vous ▁de ▁voir ▁mais ▁vous ▁êtes ▁pré ven u . ▁Ah ▁oui , ▁dernière ▁chose , ▁si ▁vous ▁n ' ê tes ▁pas ▁fan ▁de ▁scal ping ▁( ▁comme ▁moi ▁) ▁passe z ▁votre ▁chemin ▁car ▁les ▁frais ▁de ▁court age ▁en ▁France ▁ne ▁sont ▁peut - être ▁pas ▁les ▁même s ▁qu ' aux ▁US ▁et ▁certaines ▁techniques ▁( ▁pour ▁ne ▁pas ▁dire ▁la ▁plupart ▁) ▁sont ▁faites ▁pour ▁être ▁trad ées ▁sur ▁quelques ▁heures ▁voir e ▁2 ▁jours ▁et ▁la ▁plupart ▁du ▁temps ▁vous ▁ne ▁dé ga ge z ▁pas ▁suffi s ament ▁de ▁marge ▁pour ▁être ▁positif ... ▁A ▁bon ▁entende ur ...\n",
            "▁E crit ▁avec ▁force ▁détails ▁par ▁deux ▁journalist es ▁d ' invest i gation , ▁ce ▁livre ▁se ▁pla it ▁à ▁dé voi ler ▁les ▁ dessous , ▁et ▁même ▁plus , ▁de ▁l ' affaire ▁Cré dit ▁Lyon nais - Tapi e , ▁avec ▁pour ▁issue ▁le ▁verse ment ▁à ▁l ' op portu ni ste ▁Bernard ▁Tapi e ▁d ' une ▁indem n ité ▁fara mine use ▁( 390 ▁millions ▁d ' euros ), ▁et ▁ce ▁grâce ▁à , ▁semble - t ' il , l ' aide ▁pré cie use ▁de ▁Nicolas ▁Sarkozy ▁sans ▁l ' appui ▁du quel ▁appare m ment ▁rien ▁n ' aurait ▁été ▁possible . ▁Ceci ▁constitu e ▁donc , ▁si ▁les ▁fait s ▁sont ▁av érés , ▁un ▁premier ▁scandal e . ▁Le ▁second ▁scandal e , ▁et ▁qui ▁ne ▁serait ▁pas ▁le ▁moindre ▁à ▁mon ▁humb le ▁avis , ▁porte ▁sur ▁la ▁participation ▁fiscale ▁de ▁11 ▁euros ▁que ▁chaque ▁foyer ▁français ▁serait ▁oblig é ▁de ▁supporter ▁puisque ▁l ' inde mn ité ▁va ▁être ▁rég lé e ▁par ▁les ▁contribu ables . ▁Ne ▁serait - il ▁donc ▁pas ▁moral ▁de ▁boy co tter ▁les ▁spectacle s ▁futur s ▁de ▁Bernard ▁Tapi e ▁? ▁J ' attend s ▁quand ▁même ▁avec ▁im pati ence , ▁avant ▁de ▁porter ▁un ▁juge ment ▁défini tif ▁sur ▁les ▁allé gation s ▁de ▁Mrs ▁Demo n pion ▁et ▁Lég er , ▁les ▁argument s ▁contra dic toire s ▁de ▁Nicolas ▁Sarkozy ▁sur ▁sa ▁mise ▁en ▁cause ▁dans ▁cette ▁ affaire .\n",
            "▁Ce ▁livre ▁est ▁un ▁peu ▁trop ▁simpli ste . ▁On ▁ne ▁sais ▁pas ▁vraiment ▁s ' il ▁s ' adresse ▁aux ▁parents ▁( dan s ▁le ▁genre ▁je ▁comprend s ▁mieux ▁mon ▁enfant ) ou ▁aux ▁enfants ▁( Je ▁m ' intro spec te ). ▁Le ▁livre ▁est ▁e crit ▁a ▁la ▁premier e ▁personne , ▁dans ▁la ▁voix ▁et ▁les ▁mots ▁d ' un ▁enfant . ▁Mais ▁les ▁tous - petit s ▁ne ▁sa vent ▁pas ▁lire ▁!!! ▁et ▁les ▁plus ▁grands ▁trouver ont ▁ce ▁livre ▁trop ▁pu er ile . ▁Bref , ▁plein ▁de ▁bonnes ▁idee s ▁mal ▁ applique es .\n",
            "▁Un ▁livre ▁od i eux , ▁qui ▁sous ▁une ▁présentation ▁politique ment ▁correct e ▁( et ▁pseudo ▁scientifique ) ▁développe ▁des ▁th èse s ▁ter r fiant es ▁concernant ▁le ▁gé no cide ▁des ▁Indien s ▁d ' Amérique . ▁Des ▁massa cre s ▁de viennent ▁(\" pre u ves \" ▁à ▁l ' appui ▁bien ▁entendu ) ▁des ▁bata illes . ▁Je ▁ne ▁comprend s ▁pas ▁qu ' un ▁tel ▁livre , ▁avec ▁un ▁tel ▁contenu , ▁rem porte ▁ce ▁succès . ▁Ou vrez ▁donc ▁les ▁yeux , ▁... ▁Mais ▁son ▁ auteur ▁sait ▁y ▁faire , ▁pour ▁cela ▁oui ▁il ▁a ▁du ▁talent . ▁Mess age ▁négatif ▁donc , ▁trouver a - t - il ▁sa ▁place ▁ici ▁?\n",
            "▁Os era i - je ▁lancer ▁mon ▁\" pa vé \" ▁quand ▁je ▁li s ▁et ▁reli s ▁toutes ▁ces ▁critique s ▁di thyr ambi ques ▁à ▁propos ▁du ▁dernier ▁livre ▁de ▁Patrick ▁Sé ba stien ? ... ▁Je ▁ne ▁remet s ▁absolument ▁pas ▁en ▁question ▁le ▁sujet ▁ni ▁les ▁sentiment s ▁de ▁l ' auteur , ▁sin c ères ▁sans ▁aucun ▁doute ; ▁mais ▁je ▁support e ▁mal ▁sa ▁manière ▁de ▁les ▁ exprimer ▁avec ▁une ▁ absence ▁de ▁pude ur ▁aff lige ante ▁et ▁une ▁vulgar ité ▁ra cole use . ▁là , ▁tout ▁le ▁monde ▁aura ▁compris ▁que ▁l ' auteur ▁ne ▁fait ▁pas ▁partie ▁de ▁mes ▁idol es ! ▁mais ▁je ▁pensa is ▁d ' après ▁les ▁critique s ▁que ▁le ▁personnage ▁avait ▁de ▁quoi ▁nous ▁sur prendre ▁et ▁était ▁cen sé ▁nous ▁offrir ▁une ▁autre ▁image ▁de ▁lui ... et ▁bien ▁je ▁suis ▁dé çu e ▁car ▁dans ▁ce ▁livre , il ▁réussi t ▁encore ▁et ▁plus ▁que ▁jamais ▁à ▁se ▁faire ▁mousse r ▁en ▁se ▁rou lant ▁avec ▁\" dé lice \" ▁dans ▁les ▁ épreuve s ▁qui ▁ont , ▁il ▁faut ▁le ▁reconnaît re , ▁ja lon né es ▁sa ▁vie ; ▁et ▁tout ▁ceci ▁en ▁nous ▁rép ét ant ▁sans ▁ces se ▁qu ' il ▁ne ▁cherche ▁pas ▁à ▁se ▁faire ▁pla indre . ▁Sa ▁maman ▁était , ▁je ▁n ' en ▁doute ▁pas ▁une ▁seconde , une ▁femme ▁exceptionnel le , ▁mais ▁ce ▁livre ▁est ▁plus ▁un ▁hy m ne ▁à ▁lui ▁même ▁qu ' à ▁elle . ▁Mais , ▁c ' est ▁pas ▁grave ...\" c ' est ▁que ▁d ' l ' amour \" ▁Voi la , ▁j ' ai ▁os é !!! ▁Si ▁j ' ai ▁mis ▁une ▁é to ile , ▁c ' est ▁parce ▁que ▁le ▁style ▁cou le ▁bien ▁et ▁le ▁sujet ▁est ▁cho u ette .\n",
            "▁D ' accord , ▁l ' histoire ▁vous ▁ac cro che ▁comme ▁un ▁ham e çon ▁ac cro che ▁un ▁poisson , ▁et ▁vous ▁tour ne rez ▁les ▁pages ▁malgré ▁vous , ▁malgré ▁les ▁personnage s ▁plats ▁et ▁des ▁aventure s ▁d ' un ▁film ▁Z ▁d ' H ollywood . ▁Le ▁grand ▁problème ▁est ▁que ▁Dan ▁Brown ▁se ▁fait ▁passer ▁pour ▁un ▁é rudi t ; ▁il ▁début e ▁le ▁roman ▁en ▁déc lar ant ▁que ▁toutes ▁ses ▁description s ▁( de ▁bâtiment s , ▁de ▁c éré moni als , ▁etc . . ) ▁sont ▁vér id iques , ▁ce ▁qui ▁est ▁archi f aux . ▁Et ▁au ▁milieu ▁de ▁tout ▁cette ▁fa usse ▁é rudi tion , ▁il ▁sno be ▁l ' intelligence ▁de ▁son ▁lecteur , ▁avec ▁des ▁petits ▁détails ▁si ▁facile s ▁à ▁vérifier , ▁mais ▁qu ' il ▁n ' a ▁pas ▁fait ▁et ▁qui ▁laisse ▁autant ▁d ' er r eurs ▁sem ées ▁partout ▁dans ▁le ▁livre : ▁le ▁nombre ▁de ▁morceau x ▁de ▁verre ▁dans ▁la ▁Pyr ami de ▁du ▁L ouvre ; les ▁ru es ▁de ▁Paris ; ▁la ▁comp ét ence ▁de ▁la ▁police ▁française ; ▁les ▁plaque s ▁d ' une ▁voiture ▁de ▁location ▁en ▁France ; ▁la ▁possibili b ité ▁de ▁s ' en vol er ▁en ▁je t ▁privé ▁vers ▁l ' Ang le ter re , ▁et ▁le ▁faire ▁tour ner , ▁plein s ▁gaz , ▁dans ▁un ▁han gar , ▁les ▁mo eurs ▁des ▁Brit ann iques ; ▁la ▁liste ▁ne ▁s ' arrêt e ▁pas . ▁Si ▁vous ▁devez ▁le ▁lire , ▁em runt ez - le ▁à ▁la ▁bibliothèque ▁où ▁à ▁un ▁ami ; ▁ce ▁serait ▁im moral ▁d ' en rich ir ▁plus ▁un ▁homme ▁qui ▁pré ten d ▁savoir ▁ écrire . ▁Essay ez ▁plutôt ▁Le ▁Testament ▁des ▁Si è cles ▁de ▁Henri ▁Lo even bru ck ; ▁celui - là ▁est ▁un ▁vrai ▁livre\n",
            "▁Le ▁dessin ▁est ▁flo u ▁et ▁sans ▁charme . ▁L ' histoire ▁est ▁complètement ▁gla u que , ▁presque ▁sans ▁ humour ▁( s auf ▁pour ▁l ' enfance ), ▁et ▁avec ▁assez ▁peu ▁d ' a llu sions ▁aux ▁autres ▁ép iso des . ▁Il ▁n ' y ▁a ▁pas ▁une ▁once ▁d ' espoir .\n",
            "▁je ▁suis ▁dé çu s , ▁l ' idée ▁avait ▁l ' air ▁interessante ▁au ▁départ , ▁mais ▁cette ▁histoire ▁n ' am ène ▁rien ▁de ▁plus ▁aux ▁hér os ▁des ▁mer le ▁\" fort une ▁de ▁franc e \" ▁ époque ▁I , ▁avoir ▁re pris ▁de ▁faire ▁s ' ex prim é ▁le ▁personnage ▁dans ▁le ▁parler ▁de ▁l ' époque ▁comme ▁l ' avait ▁fait ▁en ▁son ▁temps ▁mr ▁mer le ▁père , ▁pourquoi ▁pas ! ▁En ▁ce ▁cas , ▁il ▁eu t ▁fall u ▁être ▁d ' une ▁ri gue ur ▁absol ue , ▁et ▁l ' histoire ▁retra cé e ▁par ▁notre ▁ami ▁mir o ul ▁n ' apport e ▁rien ▁de ▁plus ▁que ▁nous ▁ne ▁sav ions ▁déjà . ▁Bref , ▁faites ▁le ▁vous ▁pret er ▁par ▁un ▁ami , ▁emp runt ez ▁le ▁à ▁une ▁bibliothèque , ▁lise z ▁le ▁mais ▁n ' invest i ssez ▁pas ▁à ▁ce ▁prix ▁là , ▁trop ▁cher ▁pour ▁l ' inter et ▁qu ' ▁on ▁en ▁retire .\n",
            "▁Quelle ▁dé ception ▁que ▁de ▁découvrir ▁cet ▁ ouvrage ▁d ' un ▁autre ▁ âge . ▁Gra ph isme s , ▁dessin s , ▁ écriture ▁curs ive ▁sont ▁très ▁\" old ▁school \". ▁La ▁démarche ▁est , ▁je ▁l ' espère , ▁plus ▁intéressant e ; je ▁me ▁plo nge ▁dans ▁le ▁livre ▁de ▁pé da ▁pour ▁en ▁savoir ▁plus .\n",
            "▁ce ▁livre ▁a ▁été ▁une ▁re elle ▁dé ception ▁pour ▁moi , ▁en ▁ayant ▁lu ▁la ▁4 ème ▁de ▁couverture ▁et ▁en ▁ayant ▁parco uru ▁le ▁livre ▁rapidement ▁je ▁l ' ai ▁acheté ▁sans ▁ hésite r ▁mais ▁finalement ▁les ▁histoire s ▁n ' ont ▁pas ▁de ▁ré elles ▁ intérêt , ▁je ▁ne ▁m ' attend ais ▁pas ▁a ▁ça .\n",
            "▁Ce ▁livre ▁propose ▁de ▁bonnes ▁recette s ▁simple , ▁mais ▁les ▁quantité s ▁indiqué es ▁dans ▁les ▁recette s ▁ne ▁sont ▁pas ▁toujours ▁exact es ▁pour ▁trav aller ▁la ▁pate ▁et ▁faire ▁le ▁nap page ▁dans ▁de ▁bonnes ▁conditions .\n",
            "▁Aut ant ▁j ' ai ▁été ▁satisfait ▁par ▁la ▁méthode ▁Assim il ▁en ▁ce ▁qui ▁concerne ▁le ▁rou main ▁et ▁l ' ita li en , ▁autant ▁je ▁trouve ▁que ▁le ▁volume ▁de ▁russe ▁est ▁faible ▁et ▁surtout ▁ne ▁rempli t ▁pas ▁les ▁objectifs ▁que ▁s ' as s igne ▁la ▁collection . ▁On ▁peut ▁ré sum er ▁le ▁gri ef ▁en ▁une ▁seule ▁phrase : ▁il ▁y ▁a ▁trop ▁de ▁vocabula ire ▁et ▁pas ▁assez ▁de ▁gramm aire . ▁Trop ▁de ▁vocabula ire ▁à ▁chaque ▁le çon , ▁et ▁des ▁explica tions ▁insu ffi s antes ▁en ▁matière ▁gram matica le . ▁Et ▁pourquoi ▁70 ▁le çon s ▁pour ▁une ▁langue ▁aussi ▁é lo ig née ▁du ▁français ▁quand ▁il ▁y ▁a ▁100 ▁le çon s ▁dans ▁la ▁méthode ▁d ' ita li en ? ▁J ' ai ▁fait ▁la ▁méthode ▁Assim il ▁de ▁russe ▁deux ▁fois ▁jusqu ' au ▁bout ... ▁et ▁je ▁n ' ai ▁assim i lé ▁que ▁les ▁15 ▁première s ▁le çon s . ▁Total ement ▁in s uff isant ▁pour ▁pouvoir ▁s ' exprimer ▁parce ▁qu ' on ▁ne ▁connaît ▁pas ▁les ▁déc lina ison s ▁et ▁qu ' on ▁ne ▁comprend ▁pas ▁les ▁aspects . ▁D ommage , ▁parce ▁que , ▁pour ▁d ' autres ▁langue s , ▁c ' est ▁une ▁très ▁bonne ▁méthode .\n",
            "▁Livre ▁2009, ▁non ▁mis ▁à ▁jour . ▁J ' habi te ▁une ▁région ▁qui ▁ne ▁fait ▁plus ▁le ▁programme ▁depuis ▁3 ▁ans , ▁qui ▁est ▁toujours ▁affiché ▁dans ▁le ▁livre ... ▁Le ▁tourist e ▁est ▁gu idé ▁à ▁l ' ancien ne ... ▁D ommage . ▁A chat ▁inutile . ▁A ▁quoi ▁bon ▁avoir ▁ce ▁livre ▁qui ▁n ' est ▁pas ▁mis ▁à ▁jour ▁( MA J ) ▁?\n",
            "▁Je ▁n ' ai ▁pas ▁lu ▁le ▁dernier ▁ ouvrage ▁de ▁Fin kiel kraut , ▁mon ▁avis ▁est ▁donc ▁soumis ▁à ▁cau tion .\n",
            "▁Toujours ▁plus ▁de ▁confusion ▁et ▁d ▁impre ci sion , ▁des ▁fan tas mes ▁transform es ▁par ▁la ▁plu me ▁de ▁l ▁ auteur ▁en ▁fait s . ▁C ▁est ▁incroyable . ▁Un ▁parti ▁pris ▁et ▁une ▁appro xim ation ▁titan esque s ▁! ▁Ce ▁qui ▁est ▁ras sur ant ▁c ▁est ▁que ▁les ▁commentaires ▁positif s ▁sont ▁tous ▁marques ▁par ▁le ▁meme ▁parti ▁pris ▁pro - israel ien .\n",
            "▁j ▁ai ▁eu ▁une ▁mauvaise ▁surprise ▁de ▁dec ouvrir e ▁que ▁ce ▁nouvelle ▁album ▁TIN TIN ▁n ' est ▁pas ▁du ▁tout ▁presente ▁de ▁la ▁meme ▁fac on ▁que ▁tous ▁les ▁autres ▁le ▁texte ▁des ▁dialogue ▁a ▁gauche ▁de ▁la ▁page ▁et ▁a ▁droite ▁de ▁cette ▁même ▁page ▁les ▁dessin s ▁et ▁cro quis ▁que ▁j ▁ aurais ▁pre fér é ▁voir ▁sur ▁la ▁page ▁enti ère ▁comme ▁y ▁sont ▁quelque ▁page ▁trop ▁rare .\n",
            "▁Après ▁m ' être ▁for cé ▁à ▁lire ▁les ▁4 ▁premiers ▁chapitre s ▁de ▁ce ▁livre ▁( offer t ▁par ▁ma ▁mère . ... ), ▁j ' ai ▁je té ▁l ' ép onge . ... ▁Comment ▁peut - on ▁ écrire ▁autant ▁de ▁pages ▁pour ▁ne ▁rien ▁dire ▁du ▁tout ▁? ▁Le ▁problème ▁est ▁que ▁made mo iselle ▁Loan a ▁se ▁veut ▁être ▁le ▁reflet ▁de ▁la ▁jeunes se ▁d ' aujourd ' hui , ▁et ▁pour ▁beaucoup ▁l ' a mal game ▁à ▁vite ▁été ▁fait . ▁Mais ▁combien ▁de ▁personnes ▁se ▁retrouve nt ▁vraiment ▁dans ▁ce ▁non - sens , ▁cette ▁pâ le ▁copie ▁de ▁Co sette , ▁qui ▁veut ▁nous ▁faire ▁croire ▁qu ' elle ▁ne ▁comprend ▁pas ▁ce ▁qui ▁lui ▁arrive , ▁qu ' elle ▁n ' est ▁pas ▁manipul ée ▁? ... ▁Enfin ▁tout ▁ça ▁pour ▁dire ▁qu ' il ▁est ▁regret table ▁de ▁s ' as soci er ▁à ▁de ▁telle s ▁escr o que ries ▁en ▁a che tant ▁ce ▁livre . ...\n",
            "▁Si , ▁lors ▁de ▁la ▁paru tion , ▁l ’ An ne au - Mon de , ▁imagin é ▁par ▁Larry ▁Ni ven , ▁en tho usias ma ▁le ▁public , ▁la ▁recette , ▁aujourd ’ hui , ▁para ît ▁un ▁peu ▁fa de . ▁Malgré ▁l ’ ét range ▁équipé e ▁– ▁form ée ▁d ’ un ▁Mario n nett iste ▁de ▁Pier son , ▁d ’ un ▁K zin ▁et ▁de ▁deux ▁humain s ▁– ▁ , ▁malgré ▁leur ▁extra ordina ire ▁découverte ▁de ▁ce ▁monde ▁artifici ellement ▁façon né ▁en ▁forme ▁d ’ anne au , ▁l ’ histoire ▁ brille ▁autant ▁qu ’ un ▁trou ▁noir . ▁Bien ▁sûr , ▁l ’ intrigue ▁four mille ▁de ▁questions ▁: ▁quelle s ▁créa tures ▁habit ent ▁l ’ An ne au - Mon de ▁? ▁qui , ▁quel s ▁être s ▁à ▁l ’ inc roy able ▁technologie ▁ont ▁pu ▁le ▁créer , ▁et ▁dans ▁quel ▁but ▁? ▁Mais ▁pourquoi ▁ces ▁questions ▁semble nt ▁rester ▁simplement ▁en ▁l ’ air , ▁comme ▁si , ▁finalement , ▁elles ▁n ’ ét aient ▁pas ▁si ▁importantes ▁? ▁Face ▁aux ▁ événement s , ▁aux ▁découverte s , ▁cette ▁in diff ér ence , ▁cette ▁passiv ité ▁des ▁protagonist es , ▁trouble , ▁sur prend , ▁et ▁ne ▁s ’ explique ▁pas . ▁Entre ▁le ▁lecteur ▁et ▁les ▁personnage s , ▁un ▁déc a lage ▁s ’ install e ▁peu ▁à ▁peu , ▁exclu ant ▁dès ▁lors ▁le ▁lecteur ▁à ▁toute ▁participation ▁à ▁l ’ histoire . ▁C ’ est ▁dommage .\n",
            "▁Attention , ▁la ▁\" M ét ho de ▁Silva ▁de ▁contrôle ▁mental \" ▁est ▁un ▁ensemble ▁sec taire ▁rép er tori é ▁par ▁la ▁commission ▁d ' enquête ▁parlement aire ▁sur ▁les ▁sec tes .\n",
            "▁C ' est ▁rare ▁quand ▁cela ▁m ' arrive , ▁mais ▁là , ▁vraiment , ▁je ▁n ' ai ▁pas ▁pu ▁aller ▁au ▁bout . ▁Pourtant ▁j ' aime ▁bien ▁l ' écriture ▁de ▁P . ▁ Claude l . ▁Mais ▁un ▁tel ▁manque ▁d ' original ité , ▁c ' en ▁est ▁presque ▁impression nant ▁!!! ▁Senti ment ▁d ' avoir ▁déjà ▁lu ▁cent ▁fois ▁le ▁même ▁livre . ▁C ' est ▁fa de , ▁plat , ▁les ▁personnage s ▁sont ▁creu x , ▁l ' histoire ▁sans ▁consist ance ▁et ▁on ▁s ' en nu ie ▁ferme ▁au ▁bout ▁de ▁quelques ▁pages . ▁Une ▁vrai e ▁dé ception . ▁Si ▁vous ▁voulez ▁lire ▁un ▁bon ▁livre ▁de ▁P . ▁ Claude l , ▁je ▁vous ▁conseille ▁plutôt ▁ , ▁un ▁livre ▁assez ▁som bre ▁mais ▁superbe ▁et ▁très ▁é mo u vant .\n",
            "▁J ’ avais ▁aimé ▁le ▁précédent ▁roman ▁de ▁Julie ▁Wol k enstein , ▁Coll o que ▁sentimental , ▁que ▁certains ▁rap pro ch aient ▁volon ti ers ▁de ▁David ▁Lodge , ▁mais ▁là , ▁j ’ avoue ▁que ▁je ▁n ’ ira i ▁pas ▁jusqu ’ au ▁bout . ▁Happy ▁end ▁ou ▁pas , ▁je ▁n ’ en ▁sais ▁rien ▁! ▁Arri vé e ▁au ▁milieu ▁du ▁livre , ▁je ▁le ▁trouve ▁toujours ▁confu s , ▁e mbro u illé , ▁bien ▁écrit ▁certe s ▁mais ▁trop ▁de ▁personnage s ▁et ▁d ’ époque s ▁qui ▁s ’ em mê lent ▁et ▁une ▁ intrigue ▁qui ▁dispara ît ▁ou ▁se ▁dilu e ▁dans ▁une ▁description ▁trop ▁longue ▁de ▁personnage s . ▁Pourtant ▁le ▁début ▁était ▁fort ▁promet teur , ▁dommage . ▁Il ▁y ▁a ▁tant ▁de ▁livres ▁à ▁découvrir ▁que ▁je ▁ne ▁m ’ obs tine ▁plus ▁à ▁aller ▁jusqu ’ au ▁bout ▁quand ▁je ▁n ’ ac cro che ▁pas ▁vraiment .\n",
            "▁Le ▁mine stro ne ▁et ▁le ▁gas pa cho ▁font ▁donc ▁parti ▁des ▁bas iques ▁de ▁la ▁cui s ne ▁française ▁? ▁je ▁l ' ignor ais . ▁Cet ▁ ouvrage , ▁trop ▁lég er , ▁nous ▁présente ▁quelques ▁recette s ▁effectivement ▁classique s ▁mais ▁pas ▁pour ▁autant ▁pure ment ▁française s . ▁Il ▁y ▁a ▁beaucoup ▁d ' ou blis ▁et ▁de ▁recette s ▁fame uses ▁qui ▁ne ▁figure nt ▁pas ▁dans ▁ce ▁livre . ▁Quid ▁du ▁la pin ▁mou tar de ▁et ▁du ▁ca sso ulet ▁?? ▁ils ▁n ' y ▁sont ▁pas ▁! ▁ce ▁sont ▁pourtant ▁de ▁vrai s ▁bas iques ▁de ▁notre ▁culture ▁cu li naire . ▁Vous ▁ne ▁trouverez ▁dans ▁ce ▁livre ▁qu ' une ▁petite ▁et ▁min ce ▁po ig née ▁de ▁quelques ▁recette s ▁qu ' on ▁trouve ▁de ▁toute ▁façon ▁partout ▁ailleurs .\n",
            "▁Une ▁des ▁règles ▁des ▁e che cs . ▁Ce ▁Livre ▁: dev rion s - nous ▁l ' appel er ▁guide ▁pour ▁respecter ▁cette ▁règle ? ▁Je ▁dis ▁non , ▁car ▁au ▁final ▁c ' est ▁un ▁re make ▁de ▁beaucoup ▁de ▁livres ▁de ▁management . ▁Pas ▁de ▁ré elle ▁valeur ▁ajouté e . ▁Le ▁principe ▁du ▁livre : ▁essay er ▁de ▁transmet tre ▁quelques ▁règles ▁des ▁ échec s ▁à ▁la ▁vie ▁d ' entreprise ▁et ▁du ▁manager ▁en ▁général . ▁Pour rait ▁être ▁intéressant ▁pour ▁quelqu ' un ▁qui ▁n ' a ▁jamais ▁lu ▁de ▁livre ▁de ▁management ▁mais ▁au ▁final ▁même ▁si ▁l ' objectif ▁sembla it ▁intéressant ▁à ▁travers ▁ce ▁nouveau ▁pris me ▁des ▁ échec s ▁( ce tte ▁raison ▁avait ▁motiv é ▁mon ▁ achat ) ▁mais ▁pari ▁ra té . ▁D ommage !\n",
            "▁Encore ▁une ▁ adaptation ▁médio cre ▁de ▁film . ▁De ▁moins ▁mauvaise ▁qualité ▁que ▁les ▁ adaptation s ▁des ▁Episode s ▁V ▁et ▁VI , ▁il ▁n ' en ▁reste ▁pas ▁moins ▁qu ' on ▁a ▁du ▁mal ▁à ▁ac cro cher ▁à ▁cette ▁narra tion ▁sans ▁save ur ▁d ' une ▁histoire ▁qui ▁nous ▁a ▁pourtant ▁fait ▁rêve r ▁sur ▁grand ▁ou ▁petit ▁ écran . ▁Ce ▁ré cit ▁n ' apport e ▁rien ▁au ▁film , ▁et ▁il ▁est ▁dommage ▁que ▁Lucas ▁ne ▁se ▁soit ▁pas ▁en tour é ▁dès ▁le ▁début , ▁d ' auteur s ▁de ▁talent s ▁pour ▁rendre ▁homma ge ▁à ▁son ▁œuvre .\n",
            "▁Dur ▁dur ▁de ▁rester ▁positif ▁dans ▁mon ▁commentaire ▁... ▁J ' ai ▁essay é ▁de ▁m ' ac cro cher ▁et ▁me ▁suis ▁remis ▁à ▁3 ▁fois ▁pour ▁ten ter ▁de ▁lire ▁ce ▁petit ▁bou quin . ▁Rien ▁à ▁faire . ▁Le ▁style ▁est ▁trop ▁sa cca dé , ▁rapide ▁et ▁manque ▁totalement ▁de ▁transition ▁entre ▁chaque ▁passage . ▁Success ion ▁de ▁moments ▁de ▁vie ▁sans ▁save ur . ▁Description ▁som m aire ▁voir e ▁in exist ante . ▁Une ▁cata stro phe ▁... ▁Pourtant ▁le ▁sujet ▁para issa it ▁ac cro che ur .\n",
            "▁J ' ai ▁suivi ▁les ▁conseils ▁des ▁interna ute s ▁et ▁suis ▁allé ▁feuille ter ▁le ▁livre ▁en ▁question . ▁Ca ▁m ' a ▁suffit . ▁Quel ▁vide , ▁quelle ▁va cu ité , ▁quelle ▁pré tention ▁que ▁ce ▁livre . ▁M m ▁Ang ot ▁à ▁des ▁relations , ▁ça ▁lui ▁permet ▁d ' être ▁é dit ée . ▁Quelle ▁mis ère ▁ce ▁bou quin . ▁Il ▁n ' y ▁a ▁aucun ▁style , ▁rien ▁qu ' un ▁fa tras ▁de ▁mots ▁ . ▁Ce ▁livre ▁est ▁comme ▁son ▁ auteur : ▁S no b .\n",
            "▁La ▁qua tri ème ▁de ▁couverture ▁écrit e ▁par ▁Laurent ▁Jo ff rin ▁trompe ▁le ▁lecteur ▁passionné ▁de ▁Lé on ▁Blo y , ▁cet ▁ auteur ▁re mar qu able , ▁cat ho lique ▁social ▁dans ▁son ▁combat ▁de ▁la ▁\" bourg e oi sie \" ▁( pas ▁é lo ig né ▁de ▁la ▁lettre ▁en cycli que ▁\" Re rum ▁Nova rum \" ▁du ▁Pap e ▁Lé on ▁XIII ) ▁de ▁\" Ex ég èse ▁des ▁lieux ▁commun s \", ▁\" Le ▁dés es p éré \", ▁\" Le ▁salut ▁par ▁les ▁Ju ifs \", ▁\" La ▁femme ▁pauvre \" ▁- ▁ ouvrage s ▁que ▁j ' ai ▁comment és ▁sur ▁Amazon . ▁Lé on ▁Blo y ▁en ▁1912 ▁est ▁un ▁homme ▁\" install é \", ▁em bourg eo isé . ▁Sa ▁ver ve ▁ca us tique ▁a ▁dés er té ▁son ▁style . ▁Le ▁vieux ▁rêve ▁d ' un ▁Hom me ▁provident iel ▁est ▁ex prim é ▁dans ▁un ▁dernier ▁ressort ▁... ▁ici ▁Na pol é on . ▁Voici ▁un ▁livre ▁tru ff é ▁d ' er r eurs ▁gross ières ▁sur ▁l ' Histoire ▁de ▁France , ▁hain eux , ▁ra té . ▁La ▁pré face ▁de ▁\" L ' Â me ▁de ▁Na pol é on \" ▁est ▁ce ▁que ▁le ▁ca niveau ▁représente ▁pour ▁l ' ég out ▁: ▁un ▁dé vido ir ▁de ▁bou es ▁et ▁d ' eaux ▁sales . ▁L ' effet ▁produit ▁de ▁la ▁lecture ▁des ▁propos ▁sur ▁le ▁Grand ▁Hom me ▁comme ▁manifestation ▁de ▁Dieu ▁est ▁ter rifi ante , ▁quand ▁on ▁connaît ▁ce ▁que ▁d ' autres ▁my the s ▁du ▁même ▁tonn eau ▁ont ▁pu ▁produir e ▁dans ▁le ▁XX ° ▁siècle . ▁Quelle ▁inson d able ▁Bê ti se ▁! ▁A ▁éviter ▁de ▁grâce .\n",
            "▁Le ▁di ction naire ▁manque ▁souvent ▁de ▁mention ner ▁la ▁significa tion ▁de ▁la ▁ra cine ▁la tine ▁ou ▁grec que , ▁ce ▁qui ▁rend ▁l ' explica tion ▁s téri le . ▁Par ▁exemple , ▁l ' ét ym ologie ▁de ▁\" con \" ▁rapport e ▁au ▁terme ▁latin ▁\" cun nus \", ▁mais ▁le ▁di ction naire ▁n ' en ▁donne ▁pas ▁la ▁significa tion , ▁alors ▁que ▁cette ▁information ▁se ▁trouve ▁dans ▁des ▁ dict ionnaires ▁classique s ▁! ▁En ▁conclusion , ▁je ▁trouve ▁ce ▁di ction naire ▁quasi ment ▁inutile .\n",
            "▁que ▁dire ▁de ▁cette ▁nouvelle ▁edition , ▁a ▁part ▁qu ' elle ▁ne ▁manque ▁pas ▁de ▁pie ges ▁en ▁tout ▁genre ▁que ▁le ▁voyage ur ▁le ▁plus ▁a verti ▁aura ▁du ▁mal ▁a ▁de jou er . ▁la ▁partie ▁sur ▁shi ko ku ▁a ▁et e ▁visible ment ▁re dige ▁par ▁un ▁ auteur ▁peu ▁souci eux ▁de ▁ses ▁lecteur s . ▁Quand ▁il ▁ne ▁s ' agit ▁pas ▁d ▁un ▁flo u ▁artistique ▁sur ▁des ▁informations ▁essentielle s ▁comme ▁les ▁moyens ▁de ▁transport , ▁l ▁ auteur ▁se ▁trompe ▁souvent ▁lourd ement ▁et ▁ce , ▁sur ▁des ▁endroit s ▁pas ▁toujours ▁facile s ▁d ▁acces . ▁Resultat ▁des ▁courses , ▁il ▁faut ▁s ' attend re ▁a ▁quelques ▁de bo ires ▁qui ▁cou tent ▁che res ▁! ▁San s ▁pretend re ▁a ▁l ▁exhaust i vite , ▁ce ▁guide ▁aurait ▁pu ▁et re ▁d ▁un ▁grand ▁se cours ▁dans ▁ce ▁pays ▁ou ▁l ▁anglais ▁est ▁peu ▁parle . ▁il ▁ne ▁reste ▁plus ▁qu ▁a ▁chercher ▁ailleurs ▁...\n",
            "▁Tout ▁d ' abord ▁savoir ▁que ▁seul s ▁50% ▁des ▁cancer s ▁sont ▁ gué ris ▁actuellement , et ▁que ▁dans ▁les ▁prochaine s ▁années ▁on ▁arriver a ▁ , pe ut ▁être ▁à ▁60 , 65 %, san s ▁plus ( pro f . Bel po mme ). To us ▁les ▁autres ▁rem è des ▁ou ▁a ides ▁indiqué s ▁dans ▁ce ▁livre ▁sont ▁effectivement ▁très ▁utile s ▁et ▁surtout ▁interessant s ▁pour ▁ne ▁pas ▁tomber ▁mala de . Le ▁hic ▁est ▁que ▁Ser van ▁Schreib er ▁ne ▁fait ▁que ▁reprendre ▁des ▁informations ▁connu es ▁depuis ▁fort ▁longtemps ▁et ▁diffusé es ▁par ▁de ▁nombreux ▁ ouvrage s ▁sur ▁les ▁med ec ines ▁para ll è les ! ▁Et ▁dire ▁qu ' il ▁a ▁train é ▁en ▁justice ▁des ▁personnes ▁qui ▁vo ul aient ▁reprendre ▁les ▁info s ▁de ▁son ▁livre ▁sur ▁l ' EM DR , mét ho de ▁par ▁ailleurs ▁crée ▁par ▁les ▁américain s !\n",
            "▁Le ▁livre ▁sur ▁le ▁qui no a ▁du ▁même ▁ auteur ▁n ' était ▁pas ▁dé pour vu ▁d ' intérêt , ▁permettant ▁de ▁revi s iter ▁des ▁classique s ▁en ▁ substitu ant ▁le ▁qui no a ▁à ▁des ▁fé cul ents . ▁Là , ▁la ▁ve ine ▁se ▁tar it . ▁Pas ▁vraiment ▁de ▁recette s ▁( exemple ▁: ▁mix er ▁une ▁boîte ▁de ▁pois ▁chi ches ▁et ▁une ▁better ave , ▁etc ...) ▁On ▁attend ▁la ▁suite ▁: ▁Mes ▁p ' tit s ▁thermo s ▁ou ▁mes ▁p ' ti tes ▁go ur des . ▁Bref , ▁gentil ▁et ▁jo li ▁mais ▁on ▁peut ▁éviter ▁l ' achat .\n",
            "▁Ma ▁fille ▁Anna ▁(2 ▁ans ) ▁a ▁bien ▁aimé ▁ce ▁libre ▁de ▁6 ▁pages ▁en ▁couleur ▁pour ▁ses ▁auto colla nts . ▁Elle ▁a ▁bien ▁compris ▁Nö el , ▁Pa ques ▁un ▁peu ▁moins , ▁et ▁Hal owe en ▁pas ▁du ▁tout . ▁Mais ▁a ▁quel ▁age ▁s ' adresse - t - il ▁? ▁Car ▁une ▁fois ▁les ▁auto colla nts ▁position nés , ▁ma ▁fille ▁s ' est ▁a mus ée ▁à ▁les ▁déco ller ▁et ▁recolle r ... ▁Et ▁bien ▁sur , ▁n ' ét ant ▁pas ▁re position n ables , ▁ces ▁auto colla nts ▁ont ▁soit ▁dé chi ré ▁le ▁papier ▁du ▁livre , ▁ou ▁été ▁inutil is ables ▁car ▁ils ▁ne ▁colla ient ▁plus ... ▁Les ▁3 ▁pages ▁en t ières ▁de ▁texte s ▁précédent s ▁les ▁images ▁sont ▁trop ▁longue s ▁à ▁lire , ▁et ▁Anna ▁n ' est ▁pas ▁intéressé e . ▁Avec ▁des ▁auto colla nts ▁re position n ables ▁et ▁des ▁texte s ▁moins ▁long s ▁et ▁il lust rés ▁bri ève ment , ▁cela ▁aurait ▁été ▁un ▁bon ▁produit .\n",
            "▁Bo unan ▁a ▁pou ssé ▁sa ▁propre ▁logique ▁conspira tion ni ste ▁à ▁son ▁terme . ▁Sa ▁comp lais ance ▁pour ▁le ▁fa ussa ire ▁Mey s san ▁est ▁aff lige ante ▁! ▁Quel ▁gach is ▁!\n",
            "▁Livre ▁inutile . ▁Le ▁livre ▁n ' est ▁pas ▁pratique ▁du ▁tout . ▁Il ▁faut ▁fou iller ▁plusieurs ▁minutes ▁pour ▁retrouver ▁le ▁produit ▁que ▁vous ▁cherche z . ▁ Toutes ▁les ▁info s ▁qu ' il ▁y ▁a ▁dans ▁ce ▁livre ▁se ▁trouve nt ▁facilement ▁sur ▁internet . ▁Quant ▁à ▁la ▁liste ▁de ▁produits ▁de ▁grandes ▁marques , ▁inutile ▁de ▁vous ▁dire ▁que ▁ça ▁sent ▁le ▁lobby ▁agro - aliment aire ▁à ▁plein ▁nez . ▁C ' est ▁ni ▁plus ▁ni ▁moins ▁que ▁de ▁la ▁pub ▁dé gu isée . ▁Je ▁regret te ▁vraiment ▁cet ▁ achat .\n",
            "▁Pour ▁trouver ▁de ▁l ' intérêt ▁à ▁ce ▁livre ▁( je ▁n ' ai ▁pas ▁vu ▁le ▁film ) ▁ , ▁il ▁faut ▁n ' avoir ▁jamais ▁réfléchi ▁sur ▁le ▁viol ▁des ▁masse s ▁ . ▁Pour ▁un ▁ adolescent ▁d ' aujourd ' hui ▁il ▁peut ▁être ▁intéressant ▁afin ▁d ' ▁amor cer ▁une ▁discussion ▁mais ▁son ▁aspect ▁beaucoup ▁trop ▁schéma tique ▁passe ▁à ▁co té ▁de ▁beaucoup ▁d ' élé ments ▁ . ▁La ▁méthode ▁employ ée ▁par ▁le ▁professeur ▁est ▁appliqué e ▁dans ▁toutes ▁les ▁ armée s ▁du ▁monde ▁pour ▁créer ▁un ▁ esprit ▁de ▁corps , ▁ordre ▁ser ré , ▁chant ▁ , uni forme , ▁fan ion ▁d ' un ité ▁ , ▁rit es ▁initiat iques ▁ , ▁ce ▁qui ▁ne ▁conduit ▁pas ▁automatiquement ▁au ▁totalitar isme ▁ . ▁Il ▁manque ▁pour ▁cela ▁les ▁conditions ▁ extérieur es ▁ . C es ▁conditions ▁exista ient ▁en ▁ Allemagne ▁en ▁1933 ▁ . ▁Con trairement ▁à ▁la ▁th èse ▁du ▁livre ▁et ▁du ▁film ▁on ▁ne ▁peut ▁pas ▁repro duire ▁le ▁phénomène ▁na zi ▁ou ▁communi ste ▁en ▁ép rou vette ▁ . ▁Je ▁crai ns ▁de ▁penser ▁que ▁si ▁ce ▁livre ▁est ▁aussi ▁populaire ▁en ▁ Allemagne ▁c ' est ▁qu ' il ▁dé dou ane ▁en ▁partie ▁le ▁peuple ▁allemand ▁de ▁l ' époque ▁qui ▁réellement ▁n ' était ▁pas ▁comme ▁les ▁autres ▁mais ▁marqué ▁par ▁les ▁idées ▁du ▁pang er man isme ▁et ▁du ▁militar isme ▁pru s sien ▁ . ▁Cette ▁idé ologie ▁par ▁beaucoup ▁de ▁co tés ▁n ' avait ▁rien ▁à ▁en vier ▁au ▁na z isme ▁ . M êm e ▁chose ▁au ▁Japon ▁ . ▁En ▁conclusion ▁le ▁co té ▁soft ▁et ▁cand ide ▁de ▁la ▁démon stra tion ▁me ▁laisse ▁per pl ê xe ▁et ▁me ▁fait ▁titre r ▁: ▁La ▁va gue ▁ou ▁le ▁fasci sme ▁pour ▁les ▁nul s ▁ .\n",
            "▁j ' étais ▁curi euse ▁d ' en ▁apprendre ▁un ▁peu ▁plus ▁sur ▁cette ▁partie ▁du ▁monde ▁si ▁fascinant e ▁mais ▁si ▁peu ▁connu e . ▁J ' avais ▁choisi ▁ce ▁livre ▁car , ▁du ▁fait ▁des ▁référence s ▁de ▁l ' auteur , ▁je ▁pensa is ▁qu ' il ▁serait ▁plus ▁proche ▁de ▁la ▁réalité ▁historique ▁qui ▁vulgar isera it ▁l ' histoire ▁de ▁la ▁Route ▁de ▁la ▁So ie . ▁En ▁effet , ▁ce ▁livre ▁est ▁extreme ment ▁détaillé , ▁il ▁ abord e ▁de ▁multiple s ▁aspects . ▁Mais ▁curi eux ▁né o phy tes ▁s ' ab sten ir ▁! ▁J ' ai ▁lut té , ▁lut té ... ▁mais ▁j ' ai ▁perdu , ▁j ' ai ▁re no ncé . ▁Ce ▁livre ▁est ▁in dige ste , ▁il ▁y ▁a ▁en ▁effet ▁beaucoup ▁d ' aller s ▁retour s , ▁et ▁je ▁n ' ai ▁rien ▁reten u ... ▁sûr ement ▁la ▁satu ration ▁! ▁Ce ▁n ' est ▁pas ▁du ▁tout ▁un ▁ ouvrage ▁de ▁vulgar isation ▁!!! ▁A ▁ce ▁titre , ▁il ▁ne ▁correspond ait ▁pas ▁à ▁mes ▁attentes , ▁c ' est ▁dommage ▁et ▁fru stant ... ▁Re mar que , ▁ca ▁fait ▁toujours ▁un ▁livre ▁de ▁plus ▁dans ▁ma ▁bibliothèque ...\n",
            "▁Je ▁n ' ai ▁même ▁pas ▁réussi ▁à ▁par venir ▁à ▁la ▁fin ▁tellement ▁je ▁m ' en nu ya it ... mais ▁peut - être ▁intéressant ▁pour ▁un ▁non ▁in iti é ▁à ▁la ▁psycholog ie .\n",
            "▁Lise z ▁le ▁Journal ▁de ▁Sala vin , ▁c ' est ▁le ▁même ▁livre ▁avec ▁dép er di tion ▁de ▁style .\n",
            "▁Fan ▁d ' A mé lie ▁No thom b , ▁j ' étais ▁certain e ▁que ▁ses ▁dernières ▁él ucu bra tions ▁me ▁donner aient ▁un ▁immens e ▁plaisir ! ▁Aus si , ▁quelle ▁fut ▁ma ▁dé ception ▁lorsque ▁je ▁me ▁suis ▁a per çu e ▁que ▁dans ▁ce ▁livre ▁A mé lie ▁s ' était ▁content ée ▁de ▁mettre ▁à ▁la ▁suite ▁des ▁uns ▁des ▁autres ▁des ▁ép iso des ▁ra con tés ▁dans ▁ses ▁précédent s ▁roman s . ▁Par ▁moments , ▁j ' ai ▁même ▁eu ▁l ' impression ▁d ' avoir ▁déjà ▁lu ▁certaines ▁phrase s . ▁A mé lie ▁n ' aurait - elle ▁plus ▁d ' inspiration ? ▁nous ▁allons ▁es pé rons ▁que ▁non !!!!!\n",
            "▁je ▁n ' ai ▁pas ▁aimé , ▁je ▁ne ▁l ' ai ▁pas ▁fini ... ▁aucune s ▁tram es ▁historique s , ▁du ▁livre ▁facile ▁à ▁vendre ▁pas ▁inter re ssant ▁à ▁lire je ▁ne ▁la ▁conseille ▁à ▁personne\n",
            "▁J ' ai ▁command é ▁ce ▁livre , ▁quel ▁de ception ▁! ▁Ce ▁livre ▁n ' est ▁qu ' un ▁ramas si ▁d ' ab s urd ités ▁et ▁d ' ine p ties , ▁qui ▁a ▁notre ▁e po que ▁com tempor aine ▁sont ▁demon tré es ▁( l ' auteur ▁est ▁du ▁19 e ▁s cie cles , ▁ra pell ons ▁le ) ▁Il ▁n ' est ▁pas ▁un ▁rece u il ▁mais ▁bien ▁l ' avis ▁subject if ▁pur ▁et ▁simple ▁de ▁l ' auteur . ▁C ' est ▁effectivement ▁bien ▁une ▁\" doc tri ne \" ▁comme ▁e cris ▁sur ▁le ▁livre , ▁qui ▁bien ▁qu ' in exist ante ▁a ▁l ' e po que , ▁nie ▁l ' e volution ▁des ▁espe ces ▁selon ▁dar win ▁notamment ▁en ▁parlant ▁d ' adam ... ▁et ▁l ' idio tie ▁racist e ▁de ▁l ' e po que ▁en ▁parlant ▁de ▁race s ▁d ' homme s . ▁Ce ▁livre ▁n ' est ▁autre ▁qu ' un ▁pan flet ▁hain eux ▁des ▁autres ▁et ▁à ▁la ▁glo ire ▁d ' un ▁soit ▁di sant ▁\" Die u \". ▁Con ster nant ▁ , ▁La ment able . ▁Pour ▁les ▁personnes ▁cher chant ▁des ▁rep ons es ▁ou ▁des ▁lumi eres ▁sur ▁les ▁ EMI ▁( NDE ) ▁dans ▁ce ▁livre , ▁passe z ▁votre ▁chemin .\n",
            "▁Le ▁ton ▁est ▁monoton e , ▁l ' histoire ▁de ▁fond ▁assez ▁plate , ▁les ▁personnage s ▁un ▁peu ▁trop ▁carica tur aux . ▁Si ▁l ' histoire ▁d ' amour ▁reste ▁belle , ▁le ▁reste ▁ne ▁l ' aide ▁en ▁rien ▁et ▁l ' histoire ▁générale ▁peine ▁à ▁prendre ▁le ▁lecteur ▁dans ▁ses ▁file ts . ▁Un ▁livre ▁qui ▁aurait ▁pu ▁être ▁bien ▁meilleur ▁à ▁mon ▁humb le ▁avis . ▁Sur ▁le ▁bord ▁de ▁la ▁rivi ère ▁Pie dra , ▁je ▁me ▁suis ▁ass ise ▁et ▁j ' ai ▁ba illé .\n",
            "▁J ' aime ▁beaucoup ▁Varga s ▁et ▁ses ▁personnage s , ▁Adams berg ▁et ▁les ▁É vang él istes , ▁mais ▁ce ▁livre ▁ne ▁s ' approche ▁pas ▁du ▁niveau ▁des ▁autres , ▁comme ▁Deb out ▁les ▁Mor ts , ▁qui ▁est ▁une ▁merveille .\n",
            "▁L ' hy po th èse ▁de ▁départ ▁était ▁sé du is ante ▁: ▁aux ▁élections ▁présidentielle s ▁de ▁1940 , ▁plutôt ▁que ▁de ▁ré él ire ▁Franklin ▁D . ▁Roosevelt ▁à ▁la ▁Maison - B lan che , ▁l ' Amérique ▁se ▁choisi t ▁le ▁célèbre ▁avia teur ▁Charles ▁Lind berg h , ▁connu ▁pour ▁ses ▁sympa thi es ▁na zie s ▁; ▁le ▁gouvernement ▁des ▁Etats - Unis ▁adopt e ▁alors ▁une ▁neutral ité ▁bien ve illant e ▁vis - à - vis ▁du ▁III e ▁Reich ▁et , ▁dans ▁une ▁apparent e ▁continu ité ▁dé mo cra tique , ▁gli sse ▁lente ment ▁mais ▁sûr ement ▁vers ▁une ▁spol i ation ▁progressive ▁des ▁liberté s ▁individuelle s . ▁A ▁cet ▁é gard , ▁l ' u chron ie ▁n ' est ▁pas ▁sans ▁rappel er ▁une ▁certain e ▁ Amérique ▁d ' aujourd ' hui ▁administr ée ▁par ▁les ▁décret s ▁d ' une ▁fran ge ▁très ▁réaction naire ▁du ▁parti ▁Ré publica in . ▁Malheureusement , ▁out re ▁la ▁pla titude ▁de ▁l ' écriture , ▁le ▁roman ▁manque ▁cru ellement ▁de ▁fines se . ▁Face ▁à ▁la ▁dé no ncia tion ▁de ▁l ' arb itra ire , ▁l ' auteur ▁n ' a ▁pas ▁su ▁éviter ▁de ▁tomber ▁dans ▁les ▁cliché s - bull do zer s ▁de ▁la ▁grande ▁démocratie ▁américain e . ▁Cette ▁visite ▁des ▁grands ▁monument s ▁de ▁Washington , ▁par ▁exemple , ▁est ▁d ' une ▁mi è vre rie ▁aff lige ante . ▁Quant ▁aux ▁aventure s ▁auto bio graphique s ▁(?) ▁du ▁petit ▁Philip ▁Roth ▁dans ▁ces ▁temps ▁trou blé s , ▁elles ▁n ' arrive nt ▁pas ▁vraiment ▁à ▁att iser ▁l ' intérêt ▁du ▁lecteur ▁qui , ▁à ▁force ▁d ' en nu i , ▁sau te ▁de ▁plus ▁en ▁plus ▁souvent ▁les ▁pages , ▁pour ▁le ▁con duire ▁finalement ▁à ▁un ▁« ▁happy ▁end ▁» ▁tellement ▁télé gu idé ...\n",
            "▁Comme ▁la ▁plupart ▁des ▁livres ▁trait ant ▁de ▁sujet s ▁différents , ▁ce ▁livre ▁sur vole ▁tous ▁ses ▁sujet s ▁... ▁Ex e mple ▁Prof t p ▁: ▁Une ▁copie ▁de ▁la ▁con f ▁initial e ▁sur ▁3 ▁pages ▁pour ▁finir ▁par ▁\" après ▁l ' install ▁de ▁base , ▁Prof t p d ▁est ▁fonctionne l ▁en ▁mode ▁stand - a lone ▁... \". ▁Bref , ▁inutile ▁d ' es pé rer ▁approfondi r ▁avec ▁ce ▁livre .\n",
            "▁On ▁en ▁apprend ▁beaucoup ▁sur ▁l ' é go ▁de ▁monsieur ▁Soros , ▁très ▁peu ▁sur ▁le ▁titre ▁du ▁livre . ▁L ' auteur ▁reconnaît ▁d ' ailleurs , ▁dans ▁son ▁introduc tion , ▁qu ' il ▁profite ▁de ▁la ▁crise ▁et ▁sa ▁sur média t isation ▁pour ▁remettre ▁au ▁goût ▁du ▁jour ▁sa ▁propre ▁théorie ▁des ▁marché s ▁( ▁en ▁résumé ▁: ▁tous ▁les ▁acteurs ▁du ▁marché ▁ont ▁une ▁vision ▁fa us s ée ▁qui ▁évolue ▁en ▁permane nce ... . form id able ▁ ). ▁Un ▁path étique ▁concentr é ▁d ' auto - s atis fa ction ▁et ▁de ▁narcis s isme . ▁Je ▁sais ▁je ▁suis ▁dur . ▁Mais ▁je ▁pensa is ▁que ▁le ▁fait ▁d ' être ▁milliard aire ▁et ▁célèbre ▁la issa it ▁la ▁liberté ▁d ' écrire ▁des ▁choses ▁vraiment ▁intéressant es . . di sons ▁pour ▁la ▁post ér ité . ▁Pri vil é gi ez ▁tous ▁les ▁écrit s ▁de ▁et ▁sur ▁Warren ▁Buffet ▁( ▁ou ▁Benjamin ▁Graham ▁ ). ▁Là ▁au ▁moins ▁vous ▁en ▁aurez ▁pour ▁votre ▁argent ▁( ▁puisque ▁c ' est ▁le ▁sujet ▁principal , ▁finalement ▁ ).\n",
            "▁Bon , ▁ce ▁livre ▁est ▁un ▁classique ▁du ▁situation n isme ▁dont ▁le ▁but ▁était ▁de ▁dé non cer ▁le ▁spectacle ▁permanent ▁mis ▁en ▁ oeuvre ▁par ▁notre ▁société ▁de ▁consommation ▁actuelle . ▁La ▁livre , ▁divi sé ▁en ▁idées ▁plus ▁ou ▁moins ▁court es , ▁est ▁à ▁ce ▁titre ▁une ▁référence , ▁néanmoins , ▁ tandis ▁que ▁certaines ▁analyse s ▁sur pren nent ▁par ▁leur ▁just esse ▁et ▁leur ▁original ité , ▁l ' ensemble ▁reste ▁plutôt ▁difficile ▁à ▁assim iler ▁à ▁cause ▁du ▁style ▁op a que , ▁abs trait ▁et ▁aus t ère ▁de ▁Guy ▁Dé bord ▁qui ▁a ▁choisi ▁le ▁sérieux ▁avant ▁tout ▁et ▁la ▁con ci sion ▁maximum . ▁Ainsi , ▁c ' est ▁un ▁des ▁livres ▁qui ▁dé non cent ▁le ▁mieux ▁la ▁société ▁de ▁consommation ▁mais ▁qui ▁devra ▁être ▁lu ▁plusieurs ▁fois ▁pour ▁être ▁parfaitement ▁assim i lé , ▁ce ▁qui ▁n ' est ▁pas ▁une ▁chose ▁a isée .\n",
            "▁A ▁force ▁d ' entendre ▁parler ▁dans ▁les ▁termes ▁les ▁plus ▁é logi eux ▁du ▁fam eux ▁\" ▁Da ▁Vinci ▁Code \", ▁je ▁déc ida is ▁de ▁me ▁plo nger ▁pleine ment ▁dans ▁cette ▁histoire . ▁Quelle ▁ne ▁fû t ▁pas ▁ma ▁dé ception ▁... ▁Je ▁m ' attend ais ▁à ▁trouver ▁quelque ▁chose ▁d ' innova nt ▁tant ▁sur ▁le ▁plan ▁historique ▁que ▁sur ▁le ▁plan ▁litt ér aire . ▁Cer tes , ▁c ' est ▁tré s ▁frais ▁et ▁distra yan t ▁mais ▁hé las ▁ti ssé ▁par ▁de ▁trop ▁grosse s ▁ fic elles ▁autour ▁d ' une ▁intr ique ▁qui ▁s ' en fer re ▁vite ▁dans ▁les ▁erre urs ▁historique s ... ▁Et ▁dire ▁qu ' un ▁film ▁est ▁en ▁projet ......\n",
            "▁Ce ▁roman , ▁qui ▁appar ait ▁presque ▁comme ▁un ▁documentaire ▁tant ▁il ▁m ' a ▁prise ▁aux ▁trip es , ▁est ▁toutefois ▁beaucoup ▁trop ▁som bre . ▁S ' il ▁ref lè te ▁la ▁réalité ... ▁alors , ▁il ▁est ▁grand ▁temps ▁d ' aider ▁les ▁femmes ▁af ghan es ▁à ▁se ▁li bér er . ▁Ce ▁livre ▁rappelle ▁( même ▁si ▁je ▁ne ▁termine rai ▁pas ▁de ▁le ▁lire , ▁il ▁m ' a ▁trop ▁se cou ée ) ▁la ▁chance ▁que ▁nous ▁avons ▁de ▁vivre ▁en ▁occident , ▁dans ▁des ▁pays ▁libre s ▁et ▁pas ▁en ▁guerre .\n",
            "▁J ' ai ▁été ▁très ▁dé çu ▁par ▁ce ▁livre . ▁Pourquoi ? ▁Tout ▁simplement ▁parce ▁que ▁ce ▁livre ▁est ▁une ▁succession ▁de ▁cliché s ▁dés es p érant s ... ▁Du ▁coup , ▁aucune ▁surprise , ▁aucune ▁original ité , ▁même ▁si ▁l ' idée ▁de ▁base ▁était ▁bonne ▁et ▁aurait ▁pu ▁donner ▁un ▁bon ▁livre ... ▁En ▁fin ▁de ▁compte , ▁ça ▁train e ▁et ▁on ▁n ' a ▁même ▁pas ▁envie ▁de ▁finir ▁tellement ▁c ' est ▁en nu y eux ... ▁Un ▁conseil : ▁Passe z ▁votre ▁chemin ▁si ▁vous ▁voulez ▁de ▁l ' original ité !\n",
            "▁un ▁simple ▁di ction naire ▁français - ang lais ... ▁On ▁peut ▁trouver ▁plus ▁complet ▁et ▁moins ▁cher ▁pas ▁besoin ▁de ▁s ' en com bre r ▁avec ▁ce ▁dico . ▁Comme ▁déjà ▁dit ▁une ▁en cyclo pé die ▁sur ▁l ' univers ▁de ▁Harry ▁Potter ▁serait ▁plus ▁intéressant e\n",
            "▁Té mo in ▁d ' un ▁violent ▁acc roc hage ▁entre ▁deux ▁automobilis tes , ▁Jackson ▁Brod ie , ▁dont ▁nous ▁avons ▁connaissance ▁dans ▁La ▁So uris ▁bleu e , ▁va ▁se ▁trouver ▁lancé ▁dans ▁une ▁série ▁d ' aventure s ▁incroyable s . ▁\" Les ▁choses ▁s ' ar rang ent ▁... \" ▁confirm ent ▁l ' original ité ▁du ▁style ▁de ▁l ' auteur ▁: ▁de ▁nombreux ▁personnage s ▁dans ▁des ▁histoire s ▁appare m ment ▁sans ▁rapport ▁entre ▁elles ▁jusqu ' au ▁dé nou ement ▁final ▁mis ▁en ▁évi den ce ▁par ▁le ▁fin ▁li mier ▁Jackson ▁Brod ie . ▁\" U ne ▁co ïn cid ence ▁n ' est ▁qu ' un ▁explica tion ▁qui ▁attend ▁son ▁heure .\" ▁http :// con ni ven celi tter aire . type pad . fr\n",
            "▁Pas ▁terrible , ▁pas ▁très ▁inter re ssant , ▁pas ▁beaucoup ▁d ' info s . ▁Je ▁regret te ▁d ' ▁avoir ▁acheté ▁ce ▁livre . ▁Dans ▁le ▁même ▁genre , ▁j ' ai ▁beaucoup ▁plus ▁consult é ▁\" le ▁livre ▁de ▁bord ▁de ▁la ▁future ▁maman \".\n",
            "▁ce ▁livre ▁est ▁vraiment ▁une ▁ arna que !! Ce ▁n ' est ▁pas ▁la ▁suite ▁d ' ▁autant ▁en ▁em porte ▁le ▁vent ▁ , mais ▁la ▁copie ▁du ▁livre . A ▁part ▁la ▁jeunes se ▁de ▁Rhe tt ▁But ler , il ▁n ' y ▁a ▁rien ▁de ▁nouveau ▁et ▁surtout ▁pas ▁la ▁suite ▁de ▁l ' ▁histoire ▁de ▁nos ▁deux ▁hér os . Je ▁recommande ▁donc ▁de ▁lire ▁Scar lett ▁qui ▁propose ▁véritable ment ▁une ▁suite ▁tout ▁à ▁fait ▁plau sible ▁et ▁parfaitement ▁écrit e . A ▁bon ▁entende ur ▁salut .\n",
            "▁L ' idée ▁de ▁prendre ▁un ▁mai tre ▁de ▁fe ng ▁shu i ▁est ▁bonne ... ▁mais ▁hé las ▁mal ▁écrit ▁ou ▁mal ▁tra duit . . ▁la ▁mauvaise ▁compréhension ▁de ▁l ' ang lais ▁donna nt ▁lieu ▁à ▁des ▁qui proq u os ▁passe ▁très ▁mal ▁en ▁français . ▁Les ▁personnage s ▁n ' ont ▁rien ▁d ' at ta chant ▁et ▁on ▁a ▁du ▁mal ▁de ▁croire ▁en ▁l ' histoire . . il ▁y ▁a ▁des ▁in vra isse m blanc es . . ▁peut ▁on ▁croire ▁qu ' une ▁voy ante ▁habitant ▁Singa pour ▁déc ouvre ▁l ' existence ▁des ▁kang our ous ▁sur ▁une ▁photo ▁au ▁point ▁de ▁s ' excl am er ▁\" il ▁a ▁de ▁grosse s ▁jam bes \"... ▁les ▁personnage s ▁sont ▁déc rit s ▁comme ▁de ▁\" gent ils ▁sauvage s \". . ▁bref ▁un ▁mauvais ▁livre ▁à ▁éviter ... ▁compar é ▁aux ▁ ouvrage s ▁de ▁Qui ▁Xiao long . . ▁rien ▁à ▁voir . . ▁ !!!!!!!\n",
            "▁Une ▁bonne ▁idée ▁ édi torial e , ▁des ▁photographie s ▁rare ment ▁vue s , ▁mais ▁au ▁final ▁un ▁résultat ▁déc e vant ▁: ▁trop ▁d ' er r eurs ▁ , ▁d ' im pré ci sions , ▁d ' o missions ▁( les ▁proc ès ▁de ▁la ▁Maison ▁de ▁la ▁Chi mie , ▁du ▁Pala is ▁Bour bon ), ▁de ▁la cu nes ▁( la ▁rue ▁des ▁Sau ssa ies ...) ▁dans ▁des ▁texte s ▁mal ▁rense ig nés ▁ou ▁très ▁insu ffi sammen t ▁document és ... ▁L ' Histoire ▁exige ▁davantage ▁de ▁ri gue ur ... ▁et ▁de ▁recherche s .\n",
            "▁J ' aurais ▁aimé ▁dire ▁que ▁le ▁1 er ▁album ▁de ▁ce ▁mil lé naire ▁est ▁une ▁réussite . ▁Hé las , ▁le ▁scénario ▁est ▁plutôt ▁banca le , ▁les ▁bases ▁ne ▁sont ▁pas ▁mauvaise s , ▁mais ▁on ▁a ▁parfois ▁l ' impression ▁d ' avoir ▁sau té ▁2 ▁ou ▁3 ▁cases . ▁Le ▁texte ▁n ' est ▁pas ▁vraiment ▁à ▁la ▁hauteur , ▁même ▁notre ▁Fantas io ▁préféré ▁n ' arrive ▁plus ▁a ▁faire ▁ses ▁jeux ▁de ▁mots . ▁Le ▁dessin ▁n ' est ▁pas ▁fluid e , ▁les ▁monument s ▁de ▁par is ▁assez ▁détaillé s ▁ju rent ▁avec ▁le ▁reste ▁du ▁paysage ▁ou ▁même ▁des ▁personnes , ▁comme ▁si ▁le ▁dessin ateur ▁hé sit ait ▁entre ▁deux ▁style s .\n",
            "▁Avec ▁des ▁critique s ▁excellent es , ▁un ▁titre ▁engage ant , ▁je ▁m ' attend ais ▁à ▁dé vor er ▁un ▁petit ▁chef ▁d ' oeuvre . ▁Petit , ▁ce ▁livre ▁l ' est . ▁Et ▁pour ▁cause , ▁avec ▁1/2 ▁page ▁pour ▁d écrire ▁les ▁voyage s ▁du ▁hér os ▁(3 ▁fois ▁le ▁même ▁voyage , ▁3 ▁fois ▁la ▁même ▁1/2 ▁page ) ▁de ▁la ▁France ▁au ▁Japon , ▁le ▁livre ▁se ▁lit ▁rapidement . ▁Sau f ▁qu ' il ▁m ' a ▁fall u ▁rapidement ▁abandon ner ▁l ' idée ▁que ▁Bari cco ▁voulait ▁é vo quer ▁par ▁la ▁\" lé g ère té \" ▁de ▁son ▁ écriture ▁la ▁fluid ité ▁des ▁ ét off es ▁pour ▁me ▁rendre ▁à ▁l ' é viden ce : ▁il ▁n ' a ▁pas ▁envie ▁de ▁s ' em bê ter ▁à ▁raconte r ▁cette ▁histoire , ▁et ▁la ▁bâ cle ▁dans ▁un ▁temps ▁record .\n",
            "▁j ' ai ▁essay é ▁de ▁lire ▁ce ▁livre ▁ , ▁et ▁je ▁n ' ai ▁pu ▁aller ▁plus ▁loin ▁que ▁la ▁page ▁30 . ▁Style ▁d ' écriture ▁nul , ▁langue ▁française ▁simpli ste ▁ , ▁sujet ▁banal ▁ , le ▁discours ▁pseudo - m édi cal ▁du ▁début ▁impossible ▁à ▁croire ▁pour ▁que qu ' un ▁du ▁domaine ▁ , ▁je ▁n ' ai ▁vraiment ▁pas ▁pu ▁entre r ▁dans ▁ce ▁livre ▁( je ▁li s ▁beaucoup ▁ , ▁et ▁je ▁crois ▁que ▁c ' est ▁le ▁troisième ▁livre ▁que ▁j ' arrêt e ▁avant ▁la ▁fin ▁)\n",
            "▁Il ▁faut ▁s ' ac cro cher ▁pour ▁lire ▁ce ▁pa vé ▁de ▁850 ▁pages ▁jusqu ' au ▁bout ▁tant ▁l ' écriture ▁est ▁lourd e ▁et ▁tant ▁l ' intrigue ▁avance ▁lente ment . ▁John ▁Ir ving ▁peine ▁à ▁retrouver ▁la ▁magie ▁de ▁ses ▁premiers ▁roman s ▁et ▁s ' en fon ce ▁dans ▁une ▁é ni ème ▁red ite ▁de ▁ses ▁précédent s ▁ ouvrage s ▁en ▁explora nt ▁encore ▁et ▁toujours ▁les ▁même s ▁thème s ▁( l ' enfance , ▁les ▁prostitu ées , ▁l ' ho mo sexual ité ▁féminin e , ▁la ▁lutte , ▁etc . ). ▁Son ▁talent ▁se ▁limite rait - il ▁à ▁ré écrire ▁sans ▁ces se ▁le ▁même ▁roman ? ▁Au ▁final , ▁on ▁en ▁sort ▁dé çu ▁et ▁passa blement ▁dé go û té , ▁d ' une ▁part ▁par ▁la ▁médio crit é ▁de ▁l ' histoire , ▁d ' autre ▁part ▁par ▁le ▁côté ▁de ▁plus ▁en ▁plus ▁mal sain ▁de ▁l ' auteur . ▁En ▁persist ant ▁à ▁ écrire ▁ce ▁genre ▁de ▁livres , ▁Ir ving ▁en lè ve ▁peu ▁à ▁peu ▁tout ▁le ▁crédit ▁qu ' on ▁pouvait ▁lui ▁accord er ▁pour ▁des ▁pé pite s ▁comme ▁\" Le ▁monde ▁selon ▁Gar p \", ▁\" Hôtel ▁New ▁Ham p shire \" ▁ou ▁\" L ' oeuvre ▁de ▁Dieu , ▁la ▁part ▁du ▁di able \", ▁son ▁ oeuvre ▁la ▁plus ▁about ie ▁selon ▁moi ▁et ▁non ▁\" Je ▁te ▁retrouver ai \", ▁comme ▁l ' affi rme ▁la ▁qua tri ème ▁de ▁couverture ▁( ce ▁livre ▁est ▁certe s ▁le ▁plus ▁long ▁de ▁tous , ▁mais ▁cela ▁ne ▁suffit ▁pas ▁à ▁le ▁qual ifier ▁de ▁plus ▁about i ). ▁En ▁bref , ▁faites ▁l ' impa sse ▁sur ▁ce ▁livre ▁si ▁vous ▁ne ▁connais s ez ▁pas ▁encore ▁John ▁Ir ving , ▁mais ▁aussi ▁si ▁vous ▁l ' apprécie z , ▁pour ▁ne ▁pas ▁être ▁dé çu ▁comme ▁moi .\n",
            "▁L ' avantage ▁de ▁cette ... ▁nouvelle , ▁c ' est ▁qu ' elle ▁se ▁lit ▁facilement , ▁on ▁ne ▁bou dera ▁donc ▁pas ▁son ▁plaisir ▁si ▁on ▁est ▁mala de , ▁press é , ▁pré o ccup é ▁et ▁qu ' on ▁n ' a ▁pas ▁les ▁moyens ▁de ▁se ▁plo nger ▁dans ▁un ▁ ouvrage ▁plus ▁consist ant . ▁La ▁portée ▁philosophi que ▁et ▁spiritu elle ▁de ▁ce ▁ré cit ▁est ▁toutefois ▁proche ▁de ▁z ér o ▁; ▁c ' est ▁un ▁peu ▁du ▁\" p rê t ▁à ▁penser \", ▁du ▁\" 20 ▁minutes \" ▁de ▁la ▁spiritual ité . ▁Bref , ▁rien ▁de ▁nouveau ▁sous ▁le ▁soleil . ▁Il ▁pla ira ▁à ▁tous ▁ceux ▁qui ▁ten tent ▁de ▁s ' ini tier ▁au ▁zen ▁entre ▁deux ▁portes . ▁P . S . ▁: ▁que ▁ceux ▁qui ▁cherche nt ▁un ▁roman ▁touch ant ▁et ▁profond ▁sur ▁l ' ado le scen ce ▁se ▁tour nent ▁plutôt ▁vers ▁de ▁Sa linger ▁!\n",
            "▁Ce ▁livre ▁est ▁une ▁source ▁importante ▁d ' informations ▁sur ▁cette ▁tour née ▁des ▁Stone s ( manager , tour ne ur , group ie ...). L ' auteur ▁déc rit ▁assez ▁bien ▁l ' ambiance ▁de ▁l ' époque , le ▁sex e , ▁la ▁dro gue ▁qui ▁ac com pag n èrent ▁Jag ger ▁et ▁sa ▁bande . Par ▁contre ▁il ▁est ▁très ▁peu ▁question ▁de ▁musique . ▁C ' est ▁un ▁bou quin ▁pour ▁les ▁fans . Si ▁comme ▁moi , ▁vous ▁pré fer ez ▁les ▁Rolling ▁Stone s ▁pour ▁leur ▁musique ▁que ▁pour ▁leurs ▁fra s ques , a lor s ▁évi tez ▁ce ▁livre . B eau co up ▁d ' en nu i .\n",
            "▁Je ▁li s ▁beaucoup ▁d ' ordina ire ▁et ▁ce ▁livre ▁était ▁tellement ▁en nu y eux ▁que ▁j ' ai ▁mis ▁près ▁de ▁2 ▁mois ▁pour ▁enfin ▁arriver ▁au ▁bout . ▁Que ▁c ' est ▁long , ▁surtout ▁quand ▁il ▁ne ▁se ▁passe ▁rien . ▁Ne ▁me ▁demande z - pas ▁de ▁ré sum er ▁l ' his oire , ▁il ▁n ' y ▁en ▁a ▁pas . ▁J ' avais ▁trouvé ▁peu ▁passion nant ▁Petit s ▁suicide s ▁entre ▁amis , ▁mais ▁là , ▁pour ▁moi , ▁Pa asi linna , ▁c ' est ▁terminé .\n",
            "▁Je ▁viens ▁de ▁recevoir ▁le ▁livre ▁de ▁radio nique ▁des ▁frère s ▁Ser vr an x ▁\" les ▁Gra phi ques ▁Ser vr an x \" ▁et ▁je ▁suis ▁profond ément ▁dé çu ▁que ▁les ▁ graphique s ▁soient ▁inutil is ables . ▁Non ▁seulement ▁ils ▁sont ▁tout ▁petits , ▁trop ▁petits ▁pour ▁y ▁mettre ▁un ▁tém o in , ▁mais ▁en ▁plus ▁ils ▁sont ▁situé s ▁sur ▁le ▁bord ▁intérieur ▁des ▁pages ▁donc ▁même ▁pas ▁possible ▁de ▁les ▁photo copi er ▁pour ▁les ▁a gran dir . ▁S ' il ▁faut ▁se ▁procure r ▁un ▁autre ▁livre ▁con tenant ▁les ▁ graphique s ▁à ▁une ▁ échelle ▁adaptée ▁pour ▁travailler ▁avec , ▁il ▁serait ▁bon ▁de ▁le ▁faire ▁savoir ▁dans ▁la ▁présentation . ▁La ▁lecture ▁des ▁pages ▁donne ▁vraiment ▁envie ▁de ▁s ' y ▁mettre ▁mais ▁l ' im possibili té ▁d ' utiliser ▁les ▁ graphique s ▁laisse ▁un ▁ arrière ▁goût ▁de ▁frustration .\n",
            "▁Pe u ▁d ' intérêt ▁si ▁on ▁se ▁pose ▁un ▁minimum ▁de ▁questions ▁en ▁tant ▁que ▁jeune ▁parent ▁!\n",
            "▁Con trairement ▁à ▁ce ▁qu ' affi rme ▁un ▁commentaire ▁( Mo nique ▁B ), ▁les ▁passionné s ▁d ' histoire , ▁et ▁de ▁cette ▁période ▁de ▁l ' histoire ▁en ▁particulier , ▁ne ▁trouver ont ▁pas ▁leur ▁compte ▁dans ▁ce ▁roman . ▁Le ▁souci ▁du ▁détail ▁est ▁pou ssé ▁à ▁un ▁tel ▁de gré ▁de ▁précision ▁qu ' on ▁en ▁vient ▁à ▁se ▁demander ▁où ▁finit ▁le ▁vrai ▁et ▁où ▁commence ▁le ▁\" j ' invent e ▁des ▁détails ▁pour ▁faire ▁encore ▁plus ▁ré a liste \". ▁C ' est ▁un ▁roman ▁me ▁di rez ▁vous . ▁Mais ▁just ement , ▁un ▁bon ▁roman ▁se ▁serait ▁sans ▁peine ▁passé ▁d ' une ▁quantité ▁de ▁détails ▁qui ▁a lo urd issent ▁ce ▁roman ▁au ▁point ▁de ▁le ▁rendre ▁in dige ste , ▁sans ▁lui ▁con fér er ▁le ▁moindre ▁ intérêt ▁historique . ▁Sur ▁un ▁plan ▁historique , ▁les ▁Bien ve illant es ▁ne ▁sont ▁qu ' une ▁pâ le ▁copie ▁de ▁l ' ex cell ent ▁\" Des ▁hommes ▁ordina ires \", ▁de ▁Brown ing ▁( à ▁lire ▁absolument ▁ !). ▁Les ▁amoureux ▁de ▁la ▁littérature ▁ne ▁seront ▁pas ▁non ▁plus ▁à ▁la ▁fête . ▁J ' ai ▁vraiment ▁été ▁cho qué ▁de ▁constat er ▁le ▁manque ▁de ▁sérieux ▁du ▁travail ▁de ▁re lec ture ▁du ▁texte . ▁Quant ité ▁de ▁co qui lles , ▁de ▁fra ng lais , ▁de ▁phrase s ▁boîte uses ▁ou ▁in termin ables , ▁de ▁termes ▁allemand s ▁massa cré s . ▁La ▁Le ib stand arte ▁(\" garde ▁personnel le \" ▁en ▁allemand ) ▁devient ▁la ▁Lieb stand arte ▁( lit tér a lement , ▁\" garde ▁de ▁l ' amour \" ...). ▁Les ▁compara ison s ▁qui ▁sont ▁parfois ▁faites ▁avec ▁Cé line ▁me ▁dés o lent , ▁quand ▁on ▁sait ▁le ▁travail ▁a char né ▁que ▁Cé line ▁consacra it ▁à ▁choisir ▁chaque ▁mot , ▁chaque ▁signe . ▁Par ▁ailleurs , ▁certains ▁personnage s ▁de ▁ce ▁roman ▁sont ▁complètement ▁fan tais istes ▁( les ▁deux ▁inspect eurs ▁c low nes ques , ▁les ▁ama zone s ▁na zie s ). ▁Je ▁ne ▁crois ▁pas ▁qu ' il ▁était ▁dans ▁l ' in tention ▁de ▁l ' auteur ▁de ▁donner ▁dans ▁le ▁bur les que ▁pourtant . ▁Enfin , ▁sur ▁un ▁plan ▁plus ▁personnel , ▁l ' ob session ▁s cat ologique ▁de ▁Litt ell ▁( les ▁di ar ées ▁du ▁hér os ▁sont ▁déc rite s ▁avec ▁une ▁comp lais ance ▁mal s aine ▁tout ▁au ▁long ▁des ▁800 ▁pages ) ▁a ▁fini ▁par ▁me ▁donner ▁la ▁na us ée .\n",
            "▁Je ▁ne ▁suis ▁pas ▁\" en tré \" ▁dans ▁le ▁livre , ▁le ▁ré cit ▁comme ▁les ▁description s ▁m ' ont ▁paru ▁inci pide s ; ▁je ▁me ▁suis ▁ar rè té ▁à ▁la ▁page ▁42 , ▁et ▁essay era i ▁de ▁le ▁reprendre ▁ul téri eur ement ... ▁J ' ai ▁préféré ▁me ▁mettre ▁à ▁\" ▁De ▁la ▁démocratie ▁en ▁ Amérique ▁II ▁\" ▁d ' Alex is ▁de ▁To c que ville , ▁là ▁chaque ▁chapitre ▁est ▁ , ▁pour ▁moi ▁ , ▁un ▁pur ▁rég al ▁! ▁Dé j à ▁le ▁premier ▁m ' avait ▁com blé , ▁celui - ci ▁tout ▁autant ; ▁on ▁comprend ▁mieux ▁la ▁démocratie ▁et ▁les ▁Etats ▁Uni s , ▁quelle ▁clair voy ance ▁surtout ▁pour ▁l ' époque ▁!!!\n",
            "▁Je ▁m ' attend ais ▁à ▁un ▁bon ▁space ▁ opéra ▁de ▁SF ▁en ▁a che tant ▁cette ▁tri logie . ▁Mais , ▁à ▁la ▁lecture , ▁j ' ai ▁vite ▁déc han té ▁: ▁l ' aspect ▁SF ▁est ▁ici ▁pure ment ▁a nec do tique ▁et ▁n ' am ène ▁pas ▁grand ▁chose ▁au ▁roman , ▁on ▁pourrait ▁presque ▁le ▁qual ifier ▁de ▁roman ▁historique ▁si ▁l ' action ▁ne ▁se ▁passa it ▁pas ▁sur ▁une ▁autre ▁planète . ▁Par se mé ▁de ▁pré dic tions ▁utopi stes ▁sur ▁l ' avenir ▁de ▁l ' human ité , ▁la ▁tra me ▁du ▁roman ▁par ▁lui - même ▁est ▁correct e ▁: ▁rien ▁de ▁vraiment ▁passion ant ▁ni ▁d ' original , ▁mais ▁les ▁personnage s ▁sont ▁fou illé s ▁et ▁le ▁dé pay s ement ▁est ▁garanti . ▁Bref , ▁un ▁roman ▁moyen ▁à ▁éviter ▁si ▁possible .\n",
            "▁Livre ▁très ▁intéressant ▁! ▁mais ▁si ▁comme ▁moi ▁vous ▁cherche z ▁des ▁\" info s \" ▁sur ▁les ▁techniques ▁de ▁sortie s ▁et ▁autres ▁\" mode s ▁d ' emploi \", ▁afin ▁de ▁vivre ▁par ▁vous ▁même ▁ce ▁genre ▁d ' expérience , ▁c ' est ▁pas ▁le ▁bon ▁livre . ▁ça ▁ne ▁lui ▁en lè ve ▁d ' a ille urd ▁rien ▁à ▁son ▁in têr et .\n",
            "▁Eh ▁oui ▁! ▁c ' est ▁Robin ▁Ho bb ▁alors ▁on ▁se ▁je tte ▁sur ▁cette ▁série . ... ▁J ' ai ▁dé vor é ▁l ' assa sin ▁royal ▁ainsi ▁que ▁les ▁a ventur iers ▁de ▁la ▁mer ▁et ▁cool ▁! ▁une ▁nouvelle ▁série ▁! ▁J ' en ▁suis ▁au ▁tome ▁6 ▁( ▁si ▁si ▁j ' i rais ▁jusqu ' au ▁bout ▁! ▁) ▁et ▁il ▁ne ▁se ▁passe ▁rien ▁! ▁le ▁rythme ▁et ▁le ▁style ▁de ▁la ▁narra tion ▁sont ▁vraiment ▁le nts ▁et ▁donc ▁après ▁6 ▁tome s ▁et ▁malgré ▁les ▁différents ▁ événement s , ▁on ▁se ▁demande ▁quand ▁est - ce ▁qu ' il ▁va ▁enfin ▁se ▁passer ▁un ▁truc ▁... . ▁on ▁attend ▁! ▁Je ▁ne ▁li s ▁que ▁de ▁la ▁fan taisi e ▁et ▁je ▁ne ▁me ▁suis ▁jamais ▁autant ▁en nu y é ▁qu ' en ▁lisan t ▁\" le ▁soldat ▁chama ne \" ▁; ▁heureuse ment ▁que ▁je ▁ne ▁pay e ▁pas ▁les ▁bou quin s ▁! ▁Je tez ▁votre ▁dé volu ▁plutôt ▁sur ▁\" l ' ép ée ▁de ▁vérité \", ▁\" les ▁chroni ques ▁de ▁Kron dor \", ▁\" Le ▁secret ▁de ▁Ji \" ▁... Et c ▁mais ▁là ▁.. p fi ou ▁C OUR AGE ▁!\n"
          ]
        }
      ],
      "source": [
        "print(\"\\n\".join(tokenized))"
      ]
    },
    {
      "cell_type": "markdown",
      "metadata": {
        "id": "iGNK19XuKBk0"
      },
      "source": [
        "## <b>Binarizing/Preprocessing the finetuning dataset</b>\n",
        "\n",
        "In this section, you have to binarize the CLS_Books dataset using the <b>fairseq/fairseq_cli/preprocess.py</b> script:\n",
        "\n",
        "1- Binarize the tokenized reviews and put the output in <b>data/cls-books-bin/input0</b>. Note: Our pretrained model's embedding matrix contains only the embedding of the vocab listed in the dictionary <b>dict.txt</b>. You need to use the dictionary in the binarization of the text to transform the tokens into indices. Also note that we are using Encoder only architecture, so we only have source data.\n",
        "\n",
        "2- Binarize the labels (train.label, valid.label and test.label files) and put the output in <b>data/cls-books-bin/label</b>.\n",
        "\n",
        "Documentation: https://fairseq.readthedocs.io/en/latest/command_line_tools.html"
      ]
    },
    {
      "cell_type": "code",
      "execution_count": null,
      "metadata": {
        "id": "jIF1wvWoFp4d"
      },
      "outputs": [],
      "source": [
        "!(python libs/fairseq/fairseq_cli/preprocess.py \\\n",
        "              --only-source \\\n",
        "\n",
        "              --workers 8)#fill me - binarize the tokenized reviews\n",
        "\n",
        "!(python libs/fairseq/fairseq_cli/preprocess.py \\\n",
        "              --only-source \\\n",
        "\n",
        "              --workers 8)#fill me - binarize the labels"
      ]
    },
    {
      "cell_type": "markdown",
      "metadata": {
        "id": "2SSjBcQJnuSL"
      },
      "source": [
        "## <b>Finetuning $RoBERTa_{small}^{fr}$</b>\n",
        "\n",
        "In this section you will use <b>fairseq/fairseq_cli/train.py</b> python script to finetune the pretrained model on the CLS_Books dataset (binarized data) for three different seeds: 0, 1 and 2.\n",
        "\n",
        "Make sure to use the following hyper-parameters: $\\textit{batch size}=8, \\textit{max number of epochs}: 5, \\textit{optimizer}: Adam, \\textit{max learning rate}: 1e-05,  \\textit{warm up ratio}: 0.06, \\textit{learning rate scheduler}: linear$"
      ]
    },
    {
      "cell_type": "code",
      "execution_count": null,
      "metadata": {
        "id": "JV2112YPJEDA"
      },
      "outputs": [],
      "source": [
        "DATA_SET='books'\n",
        "TASK= # fill me, sentence prediction task on fairseq\n",
        "MODEL='RoBERTa_small_fr'\n",
        "DATA_PATH= # fill me\n",
        "MODEL_PATH= # fill me\n",
        "MAX_EPOCH= # fill me\n",
        "MAX_SENTENCES= # fill me, batch size\n",
        "MAX_UPDATE= # fill me, number of backward propagation steps\n",
        "LR= # fill me\n",
        "VALID_SUBSET='valid,test' # for simplicity we will validate on both valid and test set, and then pick the value of test set corresponding the best validation score.\n",
        "METRIC = # fill me, use the accuracy metric\n",
        "NUM_CLASSES=#fill me, number of classes\n",
        "SEEDS=3\n",
        "CUDA_VISIBLE_DEVICES=0\n",
        "WARMUP = # fill me, warmup ratio=6% of the whole training"
      ]
    },
    {
      "cell_type": "code",
      "execution_count": null,
      "metadata": {
        "id": "6Mdznms-EYyz"
      },
      "outputs": [],
      "source": [
        "for SEED in range(SEEDS):\n",
        "  TENSORBOARD_LOGS= 'tensorboard_logs/'+TASK+'/'+DATA_SET+'/'+MODEL+'_ms'+str(MAX_SENTENCES)+'_mu'+str(MAX_UPDATE)+'_lr'+str(LR)+'_me'+str(MAX_EPOCH)+'/'+str(SEED)\n",
        "  SAVE_DIR= 'checkpoints/'+TASK+'/'+DATA_SET+'/'+MODEL+'_ms'+str(MAX_SENTENCES)+'_mu'+str(MAX_UPDATE)+'_lr'+str(LR)+'_me'+str(MAX_EPOCH)+'/'+str(SEED)\n",
        "  !(python libs/fairseq/fairseq_cli/train.py $DATA_PATH \\\n",
        "                --restore-file $MODEL_PATH \\\n",
        "                --batch-size $MAX_SENTENCES \\\n",
        "                --task $TASK \\\n",
        "                --update-freq 1 \\\n",
        "                --seed $SEED \\\n",
        "                --reset-optimizer --reset-dataloader --reset-meters \\\n",
        "                --init-token 0 \\\n",
        "                --separator-token 2 \\\n",
        "                --arch roberta_small \\\n",
        "                --criterion sentence_prediction \\\n",
        "                --num-classes $NUM_CLASSES \\\n",
        "                --weight-decay 0.01 \\\n",
        "                --optimizer adam --adam-betas \"(0.9, 0.98)\" --adam-eps 1e-08 \\\n",
        "                --maximize-best-checkpoint-metric \\\n",
        "                --best-checkpoint-metric 'accuracy' \\\n",
        "                --save-dir $SAVE_DIR \\\n",
        "                --lr-scheduler polynomial_decay \\\n",
        "                --lr $LR \\\n",
        "                --max-update $MAX_UPDATE \\\n",
        "                --total-num-update $MAX_UPDATE \\\n",
        "                --no-epoch-checkpoints \\\n",
        "                --no-last-checkpoints \\\n",
        "                --tensorboard-logdir $TENSORBOARD_LOGS \\\n",
        "                --log-interval 5 \\\n",
        "                --warmup-updates $WARMUP \\\n",
        "                --max-epoch $MAX_EPOCH \\\n",
        "                --keep-best-checkpoints 1 \\\n",
        "                --max-positions 256 \\\n",
        "                --valid-subset $VALID_SUBSET \\\n",
        "                --shorten-method 'truncate' \\\n",
        "                --no-save \\\n",
        "                --distributed-world-size 1)\n"
      ]
    },
    {
      "cell_type": "markdown",
      "metadata": {
        "id": "wi1U19Uunnse"
      },
      "source": [
        "## <b>Random $RoBERTa_{small}^{fr}$ model training:</b>\n",
        "\n",
        "In this section you have to finetune a random checkpinf of the model $RoBERTa_{small}^{fr}$ using the same setting as before (<b>Hint:</b> an unexisted model path will not give you an error)"
      ]
    },
    {
      "cell_type": "code",
      "execution_count": null,
      "metadata": {
        "id": "lSLWP6VUhUlC"
      },
      "outputs": [],
      "source": [
        "DATA_SET='books'\n",
        "TASK= # fill me, sentence prediction task on fairseq\n",
        "MODEL='RoBERTa_small_fr_random'\n",
        "DATA_PATH= # fill me\n",
        "MODEL_PATH= # fill me\n",
        "MAX_EPOCH= # fill me\n",
        "MAX_SENTENCES= # fill me, batch size\n",
        "MAX_UPDATE= # fill me, n_epochs * n_train_examples / total batch size\n",
        "LR= # fill me\n",
        "VALID_SUBSET='valid,test' # for simplicity we will validate on both valid and test set, and then pick the value of test set corresponding the best validation score.\n",
        "METRIC = # fill me, use the accuracy metric\n",
        "NUM_CLASSES=#fill me, number of classes\n",
        "SEEDS=3\n",
        "CUDA_VISIBLE_DEVICES=0\n",
        "WARMUP = # fill me, warmup ratio=6% of the whole training"
      ]
    },
    {
      "cell_type": "code",
      "execution_count": null,
      "metadata": {
        "id": "qtsCysc4hb42"
      },
      "outputs": [],
      "source": [
        "for SEED in range(SEEDS):\n",
        "  TENSORBOARD_LOGS= 'tensorboard_logs/'+TASK+'/'+DATA_SET+'/'+MODEL+'_ms'+str(MAX_SENTENCES)+'_mu'+str(MAX_UPDATE)+'_lr'+str(LR)+'_me'+str(MAX_EPOCH)+'/'+str(SEED)\n",
        "  SAVE_DIR= 'checkpoints/'+TASK+'/'+DATA_SET+'/'+MODEL+'_ms'+str(MAX_SENTENCES)+'_mu'+str(MAX_UPDATE)+'_lr'+str(LR)+'_me'+str(MAX_EPOCH)+'/'+str(SEED)\n",
        "  !(python libs/fairseq/fairseq_cli/train.py $DATA_PATH \\\n",
        "                --restore-file $MODEL_PATH \\\n",
        "                --batch-size $MAX_SENTENCES \\\n",
        "                --task $TASK \\\n",
        "                --update-freq 1 \\\n",
        "                --seed $SEED \\\n",
        "                --reset-optimizer --reset-dataloader --reset-meters \\\n",
        "                --init-token 0 \\\n",
        "                --separator-token 2 \\\n",
        "                --arch roberta_small \\\n",
        "                --criterion sentence_prediction \\\n",
        "                --num-classes $NUM_CLASSES \\\n",
        "                --weight-decay 0.01 \\\n",
        "                --optimizer adam --adam-betas \"(0.9, 0.98)\" --adam-eps 1e-08 \\\n",
        "                --maximize-best-checkpoint-metric \\\n",
        "                --best-checkpoint-metric 'accuracy' \\\n",
        "                --save-dir $SAVE_DIR \\\n",
        "                --lr-scheduler polynomial_decay \\\n",
        "                --lr $LR \\\n",
        "                --max-update $MAX_UPDATE \\\n",
        "                --total-num-update $MAX_UPDATE \\\n",
        "                --no-epoch-checkpoints \\\n",
        "                --no-last-checkpoints \\\n",
        "                --tensorboard-logdir $TENSORBOARD_LOGS \\\n",
        "                --log-interval 5 \\\n",
        "                --warmup-updates $((6*$MAX_UPDATE/100)) \\\n",
        "                --max-epoch $MAX_EPOCH \\\n",
        "                --keep-best-checkpoints 1 \\\n",
        "                --max-positions 256 \\\n",
        "                --valid-subset $VALID_SUBSET \\\n",
        "                --shorten-method 'truncate' \\\n",
        "                --no-save \\\n",
        "                --distributed-world-size 1)"
      ]
    },
    {
      "cell_type": "markdown",
      "metadata": {
        "id": "eHACXaPSLwu4"
      },
      "source": [
        "## <b>Tensorboard Visualisation </B>\n",
        "\n",
        "In the this we will use tensorboard to visualize the training, validation and test accuracies. <b>Include and analyse in you report a screenshot of the test accuracy of the six models</b>."
      ]
    },
    {
      "cell_type": "code",
      "execution_count": null,
      "metadata": {
        "id": "pwVvJNExS2dl"
      },
      "outputs": [],
      "source": [
        "%tensorboard --logdir tensorboard_logs"
      ]
    },
    {
      "cell_type": "markdown",
      "metadata": {
        "id": "PAR_P343MCKC"
      },
      "source": [
        "# <b>Part 2: Finetuning $RoBERTa_{small}^{fr}$ using HuggingFace's Transfromers</b>\n",
        "In this section of the lab, we will finetune a HuggingFace checkpoint of our $RoBERTa_{small}^{fr}$ on the CLS_Books dataset. Like in the first part we will start by downloading the HuggingFace checkpoint and <b>preparing a json format of the CLS_Books dataset</b> (Which is suitable for HuggingFace's checkpoints finetuning using their run_glue script)."
      ]
    },
    {
      "cell_type": "markdown",
      "metadata": {
        "id": "c3M090L45oPn"
      },
      "source": [
        "## <b>Converting the CLS_Books dataset to json line files</b>\n",
        "\n",
        "Unlike Fairseq, you do not need to perform tokenization and binarization in Hugging Face transformer library. However, in order to use the implemented script in the transformers library, you need to convert your data to json line files (for each split: train, valid and test)\n",
        "\n",
        "for instance, each line inside you file will consist of one and one sample only, contaning the review (accessed by the key <i>sentence1</i> and its label, accessed by the key <i>label</i>. Below you can find an example from <i>valid.json</i> file.\n",
        "\n",
        "Note that these instructions are not valid for all kind of tasks. For other types of tasks (supported in Hugging face) you have to refer to their github for more details.<br>\n",
        "\n",
        "---------------------------------------------------------------------\n",
        "<i>\n",
        "{\"sentence1\":\"Seul ouvrage fran\\u00e7ais sur le th\\u00e8me Produits Structur\\u00e9s \\/ fonds \\u00e0 formule, il permet de fa\\u00e7on p\\u00e9dagogique d'appr\\u00e9hender parfaitement les m\\u00e9canismes financiers utilis\\u00e9s. Une r\\u00e9f\\u00e9rence pour ceux qui veulent comprendre les technicit\\u00e9s de base et les raisons de l'engouement des investisseurs sur ces actifs \\u00e0 hauteur de plusieurs milliards d'euros.\",\"label\":\"1\"}<br>\n",
        "{\"sentence1\":\"Livre tr\\u00e8s int\\u00e9ressant !  mais si comme moi vous cherchez des \\\"infos\\\" sur les techniques de sorties et autres \\\"modes d'emploi\\\", afin de vivre par vous m\\u00eame ce genre d'exp\\u00e9rience, c'est pas le bon livre.  \\u00e7a ne lui enl\\u00e8ve d'ailleurd rien \\u00e0 son int\\u00earet.\",\"label\":\"0\"}\n",
        "</i>\n",
        "\n",
        "---------------------------------------------------------------------\n",
        "\n"
      ]
    },
    {
      "cell_type": "code",
      "execution_count": null,
      "metadata": {
        "id": "HZZFHEHFyv5F"
      },
      "outputs": [],
      "source": [
        "import json\n",
        "\n",
        "SPLITS=['train', 'test', 'valid']\n",
        "\n",
        "for split in SPLITS:\n",
        "    with open('data/cls.books/'+split+'.review', 'r') as f:\n",
        "        reviews = f.readlines()\n",
        "    with open('data/cls.books/'+split+'.label', 'r') as f:\n",
        "        labels = f.readlines()\n",
        "    with open('data/cls.books-json/'+split+'.json', 'w') as f:\n",
        "        #fill the gap here to create train.json, valid.json and test.json\n"
      ]
    },
    {
      "cell_type": "markdown",
      "metadata": {
        "id": "ICnN2FvnhTbs"
      },
      "source": [
        "## <b>Finetuning $RoBERTa_{small}^{fr}$ using the Transformers Library</b>\n",
        "\n",
        "In order to finrtune the model using HuggingFace, you to use the <b>run_glue.py</b> Python script located in the transformers library. For more details, refer to <a href=\"https://github.com/huggingface/transformers/tree/main/examples/pytorch/text-classification\" target=\"_blank\">the Huggingface/transformers repository on Github</a>. Make sure to use the same hyperparameter as in the first part of this lab."
      ]
    },
    {
      "cell_type": "code",
      "execution_count": null,
      "metadata": {
        "id": "0c6vM239VsAT"
      },
      "outputs": [],
      "source": [
        "!pip install accelerate -U"
      ]
    },
    {
      "cell_type": "code",
      "execution_count": null,
      "metadata": {
        "id": "h-BBIykNjH7A"
      },
      "outputs": [],
      "source": [
        "DATA_SET='books'\n",
        "MODEL='RoBERTa_small_fr_huggingface'\n",
        "MAX_SENTENCES= # fill me, batch size.\n",
        "LR=#fill me, learning rate\n",
        "MAX_EPOCH=#fill me\n",
        "NUM_CLASSES=#fill me\n",
        "SEEDS=3\n",
        "CUDA_VISIBLE_DEVICES=0"
      ]
    },
    {
      "cell_type": "code",
      "execution_count": null,
      "metadata": {
        "id": "lV2Zla33hK_C"
      },
      "outputs": [],
      "source": [
        "for SEED in range(SEEDS):\n",
        "  SAVE_DIR= 'checkpoints/'+TASK+'/'+DATA_SET+'/'+MODEL+'_ms'+str(MAX_SENTENCES)+'_lr'+str(LR)+'_me'+str(MAX_EPOCH)+'/'+str(SEED)\n",
        "  !(python libs/transformers/examples/pytorch/text-classification/run_glue.py \\\n",
        "\n",
        "  )#fill me"
      ]
    },
    {
      "cell_type": "code",
      "execution_count": null,
      "metadata": {
        "id": "d2UMHjatpFvm"
      },
      "outputs": [],
      "source": [
        "%tensorboard --logdir checkpoints --port 6007"
      ]
    },
    {
      "cell_type": "markdown",
      "metadata": {
        "id": "mUCV4V0ONKeJ"
      },
      "source": [
        "# <b>Part 2: Finetuning $BLOOM-560m$ using HuggingFace's Transfromers</b>\n",
        "In this part, we will fintune $BLOOM-560m$:https://huggingface.co/bigscience/bloom-560m on a question/answer dataset. We will equally use LoRA and quantization during the finetuning.\n",
        "\n",
        "## <b>Preparing the environment and installing libraries:<b>"
      ]
    },
    {
      "cell_type": "code",
      "execution_count": null,
      "metadata": {
        "id": "8-VOzEaS7Wpv"
      },
      "outputs": [],
      "source": [
        "!pip install -Uqqq pip --progress-bar off\n",
        "!pip install -qqq bitsandbytes==0.39.0 --progress-bar off\n",
        "!pip install -qqq torch==2.0.1 --progress-bar off\n",
        "!pip install -qqq -U git+https://github.com/huggingface/transformers.git@e03a9cc --progress-bar off\n",
        "!pip install -qqq -U git+https://github.com/huggingface/peft.git@42a184f --progress-bar off\n",
        "!pip install -qqq -U git+https://github.com/huggingface/accelerate.git@c9fbb71 --progress-bar off\n",
        "!pip install -qqq datasets==2.12.0 --progress-bar off\n",
        "!pip install -qqq loralib==0.1.1 --progress-bar off\n",
        "!pip install -qqq einops==0.6.1 --progress-bar off"
      ]
    },
    {
      "cell_type": "code",
      "execution_count": null,
      "metadata": {
        "id": "qHHXf0xHUsx9"
      },
      "outputs": [],
      "source": [
        "import json\n",
        "import os\n",
        "from pprint import pprint\n",
        "\n",
        "import bitsandbytes as bnb\n",
        "import pandas as pd\n",
        "import torch\n",
        "import torch.nn as nn\n",
        "import transformers\n",
        "from datasets import load_dataset\n",
        "\n",
        "from peft import (\n",
        "    LoraConfig,\n",
        "    PeftConfig,\n",
        "    PeftModel,\n",
        "    get_peft_model,\n",
        "    prepare_model_for_kbit_training,\n",
        ")\n",
        "from transformers import (\n",
        "    AutoConfig,\n",
        "    AutoModelForCausalLM,\n",
        "    AutoTokenizer,\n",
        "    BitsAndBytesConfig,\n",
        ")"
      ]
    },
    {
      "cell_type": "markdown",
      "metadata": {
        "id": "MC-Kv8g8MSuW"
      },
      "source": [
        "## <b>Loading the model and the tokenizer:</b>\n",
        "In this section, we will load the BLOOM model while using the BitsAndBytes library for quantization."
      ]
    },
    {
      "cell_type": "code",
      "execution_count": null,
      "metadata": {
        "id": "X6TaXDnRVKDq"
      },
      "outputs": [],
      "source": [
        "MODEL_NAME = \"bigscience/bloom-560m\"\n",
        "\n",
        "bnb_config = # fill the gap\n",
        "\n",
        "model = AutoModelForCausalLM.from_pretrained(\n",
        "    MODEL_NAME,\n",
        "    device_map=\"auto\",\n",
        "    trust_remote_code=True,\n",
        "    quantization_config=bnb_config,\n",
        ")\n",
        "\n",
        "tokenizer = AutoTokenizer.from_pretrained(MODEL_NAME)\n",
        "tokenizer.pad_token = tokenizer.eos_token"
      ]
    },
    {
      "cell_type": "code",
      "execution_count": null,
      "metadata": {
        "id": "LIvuxW4lVW_E"
      },
      "outputs": [],
      "source": [
        "def print_trainable_parameters(model):\n",
        "\n",
        "    \"\"\"\n",
        "    Prints the number of trainable parameters in the model.\n",
        "    \"\"\"\n",
        "    trainable_params = 0\n",
        "    all_param = 0\n",
        "    for _, param in model.named_parameters():\n",
        "        all_param += param.numel()\n",
        "        # fill the gap: get the number of trainable parameters: trainable_params\n",
        "    print(\n",
        "        f\"trainable params: {trainable_params} || all params: {all_param} || trainable%: {100 * trainable_params / all_param}\"\n",
        "    )"
      ]
    },
    {
      "cell_type": "markdown",
      "metadata": {
        "id": "UTgKyxhJMeEP"
      },
      "source": [
        "## <b>Configuring LoRA:<b>"
      ]
    },
    {
      "cell_type": "code",
      "execution_count": null,
      "metadata": {
        "id": "duTYSKKYVamH"
      },
      "outputs": [],
      "source": [
        "config = LoraConfig(\n",
        "    r=16,\n",
        "    lora_alpha=32,\n",
        "    target_modules=[\"query_key_value\"],\n",
        "    lora_dropout=0.05,\n",
        "    bias=\"none\",\n",
        "    task_type=\"CAUSAL_LM\",\n",
        ")\n",
        "\n",
        "model = get_peft_model(model, config)\n",
        "print_trainable_parameters(model)"
      ]
    },
    {
      "cell_type": "markdown",
      "metadata": {
        "id": "5H1bBQaSNVsr"
      },
      "source": [
        "## <b>Test the model before finetuning:<b>"
      ]
    },
    {
      "cell_type": "code",
      "execution_count": null,
      "metadata": {
        "id": "sRW7HPX6WCmI"
      },
      "outputs": [],
      "source": [
        "prompt = # fill the gap, prompt of the format: \"<human>: Comment je peux créer un compte?  \\n <assistant>: \", with an empty response from the assistant\n",
        "print(prompt)\n",
        "\n",
        "\n",
        "generation_config = model.generation_config\n",
        "generation_config.max_new_tokens = 200\n",
        "generation_config.temperature = 0.7\n",
        "generation_config.top_p = 0.7\n",
        "generation_config.num_return_sequences = 1\n",
        "generation_config.pad_token_id = tokenizer.eos_token_id\n",
        "generation_config.eos_token_id = tokenizer.eos_token_id"
      ]
    },
    {
      "cell_type": "code",
      "execution_count": null,
      "metadata": {
        "id": "DnmKXlqSWPQq"
      },
      "outputs": [],
      "source": [
        "%%time\n",
        "device = \"cuda:0\"\n",
        "\n",
        "encoding = tokenizer(prompt, return_tensors=\"pt\").to(device)\n",
        "with torch.inference_mode():\n",
        "    outputs = model.generate(\n",
        "        input_ids=encoding.input_ids,\n",
        "        attention_mask=encoding.attention_mask,\n",
        "        generation_config=generation_config,\n",
        "    )\n",
        "print(tokenizer.decode(outputs[0], skip_special_tokens=True))"
      ]
    },
    {
      "cell_type": "markdown",
      "metadata": {
        "id": "nbhQySqVMo2T"
      },
      "source": [
        "## <b>Loading the question/answer dataset from HuggingFace:<b>"
      ]
    },
    {
      "cell_type": "code",
      "execution_count": null,
      "metadata": {
        "id": "2zR54r9AWQ-d"
      },
      "outputs": [],
      "source": [
        "data = load_dataset(\"OpenLLM-France/Tutoriel\", data_files=\"ecommerce-faq-fr.json\")\n",
        "pd.DataFrame(data[\"train\"])"
      ]
    },
    {
      "cell_type": "markdown",
      "metadata": {
        "id": "9oSZX9UcNBsu"
      },
      "source": [
        "## <b>Preparing the finetuning data:<b>"
      ]
    },
    {
      "cell_type": "code",
      "execution_count": null,
      "metadata": {
        "id": "cQiJpF41WZEc"
      },
      "outputs": [],
      "source": [
        "def generate_prompt(data_point):\n",
        "    return # fill the gap, transform the data into prompts of the format: \"<human>: question?  \\n <assistant>: response\"\n",
        "\n",
        "\n",
        "def generate_and_tokenize_prompt(data_point):\n",
        "    full_prompt = generate_prompt(data_point)\n",
        "    tokenized_full_prompt = tokenizer(full_prompt, padding=True, truncation=True)\n",
        "    return tokenized_full_prompt\n",
        "\n",
        "data = data[\"train\"].shuffle().map(generate_and_tokenize_prompt)"
      ]
    },
    {
      "cell_type": "markdown",
      "metadata": {
        "id": "SGfbqJ_cNHDa"
      },
      "source": [
        "## <b>Finetuning:<b>"
      ]
    },
    {
      "cell_type": "code",
      "execution_count": null,
      "metadata": {
        "id": "sjBMVb6yW_74"
      },
      "outputs": [],
      "source": [
        "OUTPUT_DIR = \"experiments\"\n",
        "\n",
        "training_args = transformers.TrainingArguments(\n",
        "    per_device_train_batch_size=1,\n",
        "    gradient_accumulation_steps=4,\n",
        "    num_train_epochs=1,\n",
        "    learning_rate=2e-4,\n",
        "    fp16=True,\n",
        "    save_total_limit=3,\n",
        "    logging_steps=1,\n",
        "    output_dir=OUTPUT_DIR,\n",
        "    max_steps=80,\n",
        "    optim=\"paged_adamw_8bit\",\n",
        "    lr_scheduler_type=\"cosine\",\n",
        "    warmup_ratio=0.05,\n",
        "    report_to=\"tensorboard\",\n",
        ")\n",
        "\n",
        "trainer = transformers.Trainer(\n",
        "    model=model,\n",
        "    train_dataset=data,\n",
        "    args=training_args,\n",
        "    data_collator=transformers.DataCollatorForLanguageModeling(tokenizer, mlm=False),\n",
        ")\n",
        "\n",
        "model.config.use_cache = False\n",
        "trainer.train()"
      ]
    },
    {
      "cell_type": "code",
      "execution_count": null,
      "metadata": {
        "id": "B01QbSicXknK"
      },
      "outputs": [],
      "source": [
        "%load_ext tensorboard\n",
        "%tensorboard --logdir experiments/runs --port 6008"
      ]
    },
    {
      "cell_type": "markdown",
      "metadata": {
        "id": "uxy9b1f4Nqpd"
      },
      "source": [
        "## <b>Test the model after the finetuning:<b>"
      ]
    },
    {
      "cell_type": "code",
      "execution_count": null,
      "metadata": {
        "id": "tCYynNlrXDhf"
      },
      "outputs": [],
      "source": [
        "%%time\n",
        "device = \"cuda:0\"\n",
        "\n",
        "encoding = tokenizer(prompt, return_tensors=\"pt\").to(device)\n",
        "with torch.inference_mode():\n",
        "    outputs = model.generate(\n",
        "        input_ids=encoding.input_ids,\n",
        "        attention_mask=encoding.attention_mask,\n",
        "        generation_config=generation_config,\n",
        "    )\n",
        "print(tokenizer.decode(outputs[0], skip_special_tokens=True))"
      ]
    },
    {
      "cell_type": "code",
      "execution_count": null,
      "metadata": {
        "id": "CS_lwrJdXr-Y"
      },
      "outputs": [],
      "source": [
        "def generate_response(question: str) -> str:\n",
        "    prompt = # fill the gap, transform the data into prompts of the format: \"<human>: question?  \\n <assistant>: \" with an empty response\n",
        "    encoding = tokenizer(prompt, return_tensors=\"pt\").to(device)\n",
        "    with torch.inference_mode():\n",
        "        outputs = model.generate(\n",
        "            input_ids=encoding.input_ids,\n",
        "            attention_mask=encoding.attention_mask,\n",
        "            generation_config=generation_config,\n",
        "        )\n",
        "    response = tokenizer.decode(outputs[0], skip_special_tokens=True)\n",
        "\n",
        "    assistant_start = \"<assistant>:\"\n",
        "    response_start = response.find(assistant_start)\n",
        "    return response[response_start + len(assistant_start) :].strip()"
      ]
    },
    {
      "cell_type": "code",
      "execution_count": null,
      "metadata": {
        "id": "sYaO6H_hXsvG"
      },
      "outputs": [],
      "source": [
        "prompt = \"Puis-je retourner un produit s'il s'agit d'un article en liquidation ou en vente finale ?\"\n",
        "print('-', prompt,'\\n')\n",
        "print(generate_response(prompt))\n",
        "\n",
        "prompt = \"Que se passe-t-il lorsque je retourne un article en déstockage ?\"\n",
        "print('\\n\\n\\n-', prompt, '\\n')\n",
        "print(generate_response(prompt))\n",
        "\n",
        "print('\\n\\n\\n-', prompt, '\\n')\n",
        "prompt = \"Comment puis-je savoir quand je recevrai ma commande ?\"\n",
        "print(generate_response(prompt))"
      ]
    }
  ],
  "metadata": {
    "accelerator": "GPU",
    "colab": {
      "provenance": []
    },
    "gpuClass": "standard",
    "kernelspec": {
      "display_name": "Python 3",
      "name": "python3"
    },
    "language_info": {
      "codemirror_mode": {
        "name": "ipython",
        "version": 3
      },
      "file_extension": ".py",
      "mimetype": "text/x-python",
      "name": "python",
      "nbconvert_exporter": "python",
      "pygments_lexer": "ipython3",
      "version": "3.9.18"
    }
  },
  "nbformat": 4,
  "nbformat_minor": 0
}
