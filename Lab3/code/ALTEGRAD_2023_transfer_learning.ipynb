{
  "cells": [
    {
      "cell_type": "markdown",
      "metadata": {
        "id": "DlAfI8mCWAf3"
      },
      "source": [
        "<center><h2>ALTeGraD 2023<br>Lab Session 3: Transfer learning for NLP</h2> 24 / 10 / 2023<br> Dr. G. Shang, H. Abdine<br><br>\n",
        "\n",
        "\n",
        "<b>Student name:</b> Balthazar Neveu\n",
        "\n",
        "</center>\n",
        "\n",
        "<br><br>\n",
        "In this lab we will:\n",
        "* Implement and pretrain a language model with transformer architecture.\n",
        "* Use the pretrained model (transfer learning) to perform a sentiment analysis task which consists of classifying some books reviews into positive and negative ones.\n",
        "* Compare the performance of the pretrained model to a model trained from scratch.\n",
        " <br>\n",
        "\n",
        "<b>The deadline for this lab is October 31, 2023 11:59 PM.</b> More details about the submission and the architecture for this lab can be found in the handout PDF."
      ]
    },
    {
      "cell_type": "code",
      "execution_count": null,
      "metadata": {},
      "outputs": [],
      "source": [
        "!wget https://raw.githubusercontent.com/moussaKam/transfer_learning_transformers/main/pretraining_subset.txt\n",
        "!wget https://raw.githubusercontent.com/moussaKam/transfer_learning_transformers/main/dict.txt\n",
        "!wget https://raw.githubusercontent.com/moussaKam/transfer_learning_transformers/main/pretrained_model_4layers.pt\n",
        "!wget https://raw.githubusercontent.com/moussaKam/transfer_learning_transformers/main/cls-books/train.review.spm\n",
        "!wget https://raw.githubusercontent.com/moussaKam/transfer_learning_transformers/main/cls-books/train.label\n",
        "!wget https://raw.githubusercontent.com/moussaKam/transfer_learning_transformers/main/cls-books/test.review.spm\n",
        "!wget https://raw.githubusercontent.com/moussaKam/transfer_learning_transformers/main/cls-books/test.label\n",
        "!wget https://raw.githubusercontent.com/moussaKam/transfer_learning_transformers/main/sentencepiece.french.model\n",
        "!head -5 dict.txt\n",
        "\n",
        "!pip install prettytable\n",
        "!pip install sympy"
      ]
    },
    {
      "cell_type": "code",
      "execution_count": 1,
      "metadata": {
        "id": "IqukuIe0Rb_c"
      },
      "outputs": [
        {
          "data": {
            "text/plain": [
              "device(type='cuda')"
            ]
          },
          "execution_count": 1,
          "metadata": {},
          "output_type": "execute_result"
        }
      ],
      "source": [
        "import math\n",
        "\n",
        "import torch\n",
        "import torch.nn as nn\n",
        "from torch.nn.utils.rnn import pad_sequence\n",
        "from pathlib import Path\n",
        "\n",
        "device = torch.device(\"cuda\" if torch.cuda.is_available() else \"cpu\")\n",
        "device"
      ]
    },
    {
      "cell_type": "code",
      "execution_count": 2,
      "metadata": {},
      "outputs": [],
      "source": [
        "path_vocab = Path(\"dict.txt\")\n",
        "assert path_vocab.exists()\n",
        "pretraining_path_data_train = Path(\"pretraining_subset.txt\")\n",
        "assert pretraining_path_data_train.exists()\n",
        "\n",
        "downstream_path_data_train = Path(\"train.review.spm\")\n",
        "assert downstream_path_data_train.exists()\n",
        "downstream_path_labels_train = Path(\"train.label\")\n",
        "assert downstream_path_labels_train.exists()\n",
        "downstream_path_data_valid = Path(\"test.review.spm\")\n",
        "assert downstream_path_data_valid.exists()\n",
        "downstream_path_labels_valid = Path(\"test.label\")\n",
        "assert downstream_path_labels_valid.exists()"
      ]
    },
    {
      "cell_type": "code",
      "execution_count": 3,
      "metadata": {},
      "outputs": [],
      "source": [
        "pretrained_model = Path(\"pretrained_model_4layers.pt\")\n",
        "assert pretrained_model.exists()"
      ]
    },
    {
      "cell_type": "markdown",
      "metadata": {},
      "source": [
        "# Tensor convention for NLP\n",
        "`[L, N, D]` : sentence first (`batch_first=False`)\n",
        "\n",
        "- L sequence length\n",
        "- N batch size\n",
        "- V vocabulary dimension `ntokens`\n",
        "- E embeddings dimension `embedding_dim`\n",
        "- *D hidden dimension*\n",
        "- *M transformer layers*\n",
        "- *A number of heads in attention*\n",
        "\n",
        "### Simplification:\n",
        "- `E=D` hidden dimension set equal to th embedding dimension for simplicity in the following code `nhid = embedding_dim`\n",
        "\n"
      ]
    },
    {
      "cell_type": "markdown",
      "metadata": {
        "id": "5FF6fjkqgN39"
      },
      "source": [
        "### The Model"
      ]
    },
    {
      "cell_type": "code",
      "execution_count": 4,
      "metadata": {},
      "outputs": [],
      "source": [
        "class PositionalEncoding(nn.Module):\n",
        "    \"\"\"Add fixed precomputed positional encoding to the embeddings\n",
        "    Add means (=literally addition)\n",
        "    \"\"\"\n",
        "    def __init__(self, embdeddings_dim: int , dropout: float =0.1, max_len: int =5000):\n",
        "        \"\"\"Precompute a positional encoding vector of length `max_len`\n",
        "\n",
        "        Args:\n",
        "            embdeddings_dim (int): dimension of word embeddings. Note th\n",
        "            dropout (float, optional): dropout ratio. Defaults to 0.1.\n",
        "            max_len (int, optional): maximum sequence length. Defaults to 5000.\n",
        "        \"\"\"\n",
        "        super(PositionalEncoding, self).__init__()\n",
        "        self.dropout = nn.Dropout(p=dropout)\n",
        "\n",
        "        pe = torch.zeros(max_len, embdeddings_dim)\n",
        "        position = torch.arange(0, max_len, dtype=torch.float).unsqueeze(1)\n",
        "        div_term = torch.exp(\n",
        "            torch.arange(0, embdeddings_dim, 2).float() * (-math.log(10000.0) / embdeddings_dim)\n",
        "        )\n",
        "        pe[:, 0::2] = torch.sin(position * div_term)\n",
        "        pe[:, 1::2] = torch.cos(position * div_term)\n",
        "        pe = pe.unsqueeze(0).transpose(0, 1)\n",
        "        self.register_buffer(\"pe\", pe)\n",
        "\n",
        "    def forward(self, x: torch.FloatTensor) -> torch.FloatTensor:\n",
        "        \"\"\"Add positional encoding to the word embeddings.\n",
        "        Simply add the pre\n",
        "\n",
        "        Args:\n",
        "            x (torch.FloatTensor): embeddings tensor [L, N, D]\n",
        "\n",
        "        Returns:\n",
        "            torch.FloatTensor: Enhanced embeddings tensor, ready to go straight to the transformer blocks. \n",
        "        \"\"\"\n",
        "        x = x + self.pe[: x.size(0), :]\n",
        "        return self.dropout(x)"
      ]
    },
    {
      "cell_type": "code",
      "execution_count": 5,
      "metadata": {
        "id": "p0cj9WkSFQwl"
      },
      "outputs": [],
      "source": [
        "class TransformerModel(nn.Module):\n",
        "    \"\"\"Transformer base model \n",
        "    =========================\n",
        "    - embedding from word to vectors\n",
        "    - add positional encoding\n",
        "    - `nlayers` * transformer blocks\n",
        "    \"\"\"\n",
        "    def __init__(self, ntokens:int, nhead:int, nhid:int, nlayers:int, dropout=0.5):\n",
        "        \"\"\"Transformer base model\n",
        "\n",
        "        Args:\n",
        "            ntokens (int): the size of vocabulary\n",
        "            nhead (int): number of heads in each of the MHA models\n",
        "            nhid (int): hidden dimension of the model. assume `embedding_dim` = `nhid`\n",
        "            nlayers (int): number of nn.TransformerEncoderLayer in nn.TransformerEncoder\n",
        "            dropout (float, optional): dropout value. Defaults to 0.5.\n",
        "        \"\"\"\n",
        "        super(TransformerModel, self).__init__()\n",
        "        self.model_type = \"Transformer\"\n",
        "        embedding_dim = nhid # use the same embedding & hidden dimensions\n",
        "        self.encoder = nn.Embedding(ntokens, embedding_dim) # fill me, nhid = the dim_embed\n",
        "        self.pos_encoder = PositionalEncoding(nhid, dropout=dropout) #fill me, the PositionalEncoding class is implemented in the next cell\n",
        "        \n",
        "        encoder_layers = nn.TransformerEncoderLayer(\n",
        "            d_model=nhid, # input dimension to the transformer encoder layer\n",
        "            nhead=nhead, # number of heads for MHA (Multi-head attention)\n",
        "            dim_feedforward=nhid, # output dimension of the MLP on top of the transformer.\n",
        "            dropout=dropout\n",
        "        ) # we assume nhid = d_model = dim_feedforward\n",
        "        \n",
        "        self.transformer_encoder = nn.TransformerEncoder(\n",
        "            encoder_layers,\n",
        "            num_layers=nlayers\n",
        "        )\n",
        "        self.nhid = nhid\n",
        "        self.init_weights()\n",
        "    \n",
        "    @staticmethod\n",
        "    def generate_square_subsequent_mask(sz: int) -> torch.FloatTensor:\n",
        "        \"\"\"Generate causality mask = mask future tokens for next word prediction\n",
        "\n",
        "        Args:\n",
        "            sz (int): mask size M\n",
        "\n",
        "        Returns:\n",
        "            torch.FloatTensor: squares matrix [M, M] to mask the attention matrix.\n",
        "        \"\"\"\n",
        "        mask = (torch.triu(torch.ones(sz, sz)) == 1).transpose(0, 1)\n",
        "        mask = (\n",
        "            mask.float()\n",
        "            .masked_fill(mask == 0, float(\"-inf\"))\n",
        "            .masked_fill(mask == 1, float(0.0))\n",
        "        )\n",
        "        return mask\n",
        "\n",
        "    def init_weights(self):\n",
        "        initrange = 0.1\n",
        "        self.encoder.weight.data.uniform_(-initrange, initrange)\n",
        "\n",
        "    def forward(\n",
        "            self, src: torch.LongTensor,\n",
        "            src_mask: torch.FloatTensor\n",
        "        ) -> torch.FloatTensor:\n",
        "        \"\"\"Embdeddings, positional encoders, go trough `nlayers` of residual {multi (`nhead`) attention heads + MLP}.\n",
        "\n",
        "        Args:\n",
        "            src (torch.LongTensor): [L, N, V] sequence of tokens , V=vocabu\n",
        "            src_mask (torch.FloatTensor): [L, L] squared mask\n",
        "\n",
        "        Returns:\n",
        "            torch.FloatTensor: encoded sequence [L, N, D]\n",
        "        \"\"\"\n",
        "        src = self.encoder(src) * math.sqrt(self.nhid) #embed [L, N, V] -> [L, N, E]\n",
        "        src = self.pos_encoder(src) # [L, N, E]  - add positional encoding\n",
        "        output = self.transformer_encoder(src, mask=src_mask)\n",
        "        return output"
      ]
    },
    {
      "cell_type": "code",
      "execution_count": 6,
      "metadata": {
        "id": "kt2QQohaFZry"
      },
      "outputs": [],
      "source": [
        "class ClassificationHead(nn.Module):\n",
        "    def __init__(self, nhid: int, nclasses: int):\n",
        "        \"\"\"Linear classification head -> returns logits (not probabilities)\n",
        "\n",
        "        Args:\n",
        "            nhid (int): hidden dimension\n",
        "            nclasses (int): number of classes.\n",
        "        \"\"\"\n",
        "        super(ClassificationHead, self).__init__()\n",
        "        self.decoder = nn.Linear(nhid, nclasses)\n",
        "        self.init_weights()\n",
        "\n",
        "    def init_weights(self):\n",
        "        initrange = 0.1\n",
        "        self.decoder.bias.data.zero_()\n",
        "        self.decoder.weight.data.uniform_(-initrange, initrange)\n",
        "\n",
        "    def forward(self, src: torch.FloatTensor) -> torch.FloatTensor:\n",
        "        \"\"\"Classify encoded feature vectors\n",
        "\n",
        "        Args:\n",
        "            src (torch.FloatTensor): Encoded feature vectors [L, N, D]\n",
        "\n",
        "        Returns:\n",
        "            torch.FloatTensor: Logits (no softmax applied)\n",
        "        \"\"\"\n",
        "        output = self.decoder(src)\n",
        "        return output\n",
        "\n",
        "class Model(nn.Module):\n",
        "    def __init__(self, ntoken: int, nhead: int, nhid: int, nlayers: int, nclasses: int, dropout: float=0.5):\n",
        "        \"\"\"TransformerModel+ClassificationHead\n",
        "        \n",
        "        This allows defining a model for next word prediction (classification with ntoken classes)\n",
        "        Or other downstream tasks if the base `TransformerModel` is pretrained\n",
        "\n",
        "        Args:\n",
        "            ntoken (int): size of vocabulary for (`TransformerModel`)\n",
        "            nhead (int): number of heads in each of the MHA models (`TransformerModel`)\n",
        "            nhid (int): hidden dimension of the model. assume `embedding_dim` = `nhid`\n",
        "            nlayers (int):  number of nn.TransformerEncoderLayer in nn.TransformerEncoder (`TransformerModel`)\n",
        "            nclasses (int): number of output classes in the classifier `ClassificationHead`.\n",
        "                - `nclasses` = size of vocabulary for next word prediction.\n",
        "                - `nclasses` =2 for downstream tasks like sentiment analyzis.\n",
        "            dropout (float, optional): dropout rate. Defaults to 0.5.  (`TransformerModel`)\n",
        "        \"\"\"\n",
        "        super(Model, self).__init__()\n",
        "        self.base = TransformerModel(ntoken, nhead, nhid, nlayers, dropout=dropout)\n",
        "        self.classifier = ClassificationHead(nhid, nclasses)\n",
        "\n",
        "    def forward(self, src:torch.LongTensor, src_mask: torch.FloatTensor) -> torch.FloatTensor:\n",
        "        \"\"\"Encoder + linear classifier\n",
        "\n",
        "        Args:\n",
        "            src (torch.LongTensor): sequence of tokens [L, N, V]\n",
        "            src_mask (torch.FloatTensor): [L, L] squared mask.\n",
        "\n",
        "        Returns:\n",
        "            torch.FloatTensor: [N, C]\n",
        "        \"\"\"\n",
        "        # base model\n",
        "        x = self.base(src, src_mask)\n",
        "        # classifier model\n",
        "        output = self.classifier(x)\n",
        "        return output"
      ]
    },
    {
      "cell_type": "markdown",
      "metadata": {},
      "source": [
        "### Causal attention mask & useless computations (question 1)"
      ]
    },
    {
      "cell_type": "code",
      "execution_count": 7,
      "metadata": {},
      "outputs": [
        {
          "name": "stdout",
          "output_type": "stream",
          "text": [
            "10 useless computations for a sequence of 5 tokens\n"
          ]
        },
        {
          "data": {
            "text/plain": [
              "tensor([[0., -inf, -inf, -inf, -inf],\n",
              "        [0., 0., -inf, -inf, -inf],\n",
              "        [0., 0., 0., -inf, -inf],\n",
              "        [0., 0., 0., 0., -inf],\n",
              "        [0., 0., 0., 0., 0.]])"
            ]
          },
          "execution_count": 7,
          "metadata": {},
          "output_type": "execute_result"
        }
      ],
      "source": [
        "sentence_length_test = 5\n",
        "src_mask = TransformerModel.generate_square_subsequent_mask(sentence_length_test)\n",
        "useless_computations = sentence_length_test*(sentence_length_test-1)//2\n",
        "assert int( ((-src_mask).isinf()).sum()) == useless_computations\n",
        "print(f\"{useless_computations} useless computations for a sequence of {sentence_length_test} tokens\")\n",
        "src_mask"
      ]
    },
    {
      "cell_type": "markdown",
      "metadata": {},
      "source": [
        "# Unit test"
      ]
    },
    {
      "cell_type": "code",
      "execution_count": 8,
      "metadata": {
        "id": "rhb2gkUhJMR0"
      },
      "outputs": [
        {
          "name": "stderr",
          "output_type": "stream",
          "text": [
            "/home/bneveu/.local/lib/python3.10/site-packages/torch/nn/modules/transformer.py:255: UserWarning: enable_nested_tensor is True, but self.use_nested_tensor is False because  encoder_layer.self_attn.batch_first was not True\n",
            "  warnings.warn(f\"enable_nested_tensor is True, but self.use_nested_tensor is False because {why_not_sparsity_fast_path}\")\n"
          ]
        },
        {
          "name": "stdout",
          "output_type": "stream",
          "text": [
            "torch.Size([2, 6, 100])\n"
          ]
        }
      ],
      "source": [
        "def test_transformer_based_classifier():\n",
        "    ntokens = 100 #  V the size of vocabulary\n",
        "    nhid = 200  # hidden dimension\n",
        "    nlayers = 4  # the number of nn.TransformerEncoderLayer in nn.TransformerEncoder\n",
        "    nhead = 2  # the number of heads in the multiheadattention models\n",
        "    dropout = 0  # the dropout value\n",
        "    nclasses = ntokens # classification to get output words in the same language\n",
        "    model = Model(ntokens, nhead, nhid, nlayers, nclasses, dropout).to(device)\n",
        "    dummy_input = torch.tensor([[2, 6, 2, 5, 43, 21], [8, 5, 3, 42, 43, 21]]).to(device)\n",
        "\n",
        "    sequence_length = dummy_input.shape[0] #L\n",
        "    batch_size = dummy_input.shape[1] #N\n",
        "\n",
        "    src_mask = TransformerModel.generate_square_subsequent_mask(sequence_length).to(device)\n",
        "    assert list(src_mask.shape) == [sequence_length,sequence_length]\n",
        "    # batch dimension N is not involved in the mask computation! We assume all sequences in the batch has the same sequence length L\n",
        "    out = model.forward(dummy_input, src_mask)\n",
        "    expected_size = [sequence_length, batch_size, nclasses]\n",
        "    assert list(out.shape) == expected_size, f\"{out.shape}, {expected_size}\"\n",
        "    print(out.shape)\n",
        "test_transformer_based_classifier()"
      ]
    },
    {
      "cell_type": "markdown",
      "metadata": {
        "id": "i74NN897Fcit"
      },
      "source": [
        "## Vocabulary and Tokenization"
      ]
    },
    {
      "cell_type": "code",
      "execution_count": 9,
      "metadata": {
        "id": "vFdH_-JeFbGA"
      },
      "outputs": [
        {
          "name": "stdout",
          "output_type": "stream",
          "text": [
            "▁trop\n"
          ]
        }
      ],
      "source": [
        "SRC = \"source_sequence\"\n",
        "TGT = \"target\"\n",
        "SOS = \"<sos>\"\n",
        "PAD = \"<pad>\"\n",
        "EOS = \"<eos>\"\n",
        "OOV = \"<oov>\"\n",
        "LM_TASK = \"language_modeling\"\n",
        "DS_TASK = \"classification\"\n",
        "token2ind = {SOS: 0, PAD : 1, EOS: 2, OOV: 3} # the 4 first indices are reserved to special tokens\n",
        "offset = max(token2ind.values())+1\n",
        "with open(path_vocab, \"r\") as f:\n",
        "    for idx, line in enumerate(f):\n",
        "        word = line.split()[0].strip()\n",
        "        token2ind[word] = idx+offset\n",
        "ind2token = {index: token for token, index in token2ind.items()}\n",
        "print(ind2token[1111])"
      ]
    },
    {
      "cell_type": "markdown",
      "metadata": {
        "id": "XOExGODajN8p"
      },
      "source": [
        "### Data Loader\n"
      ]
    },
    {
      "cell_type": "code",
      "execution_count": 10,
      "metadata": {
        "id": "Y0jN-Ar9i5Q1"
      },
      "outputs": [],
      "source": [
        "import numpy as np\n",
        "import torch\n",
        "from torch.nn.utils.rnn import pad_sequence\n",
        "from torch.utils.data import DataLoader, Dataset\n",
        "from pathlib import Path\n",
        "from typing import Dict, List, Tuple\n",
        "\n",
        "class Dataset(Dataset):\n",
        "    def __init__(\n",
        "        self,\n",
        "        path_documents: Path,\n",
        "        path_labels: Path = None,\n",
        "        token2ind: Dict[str, int]={},\n",
        "        max_len: int=512,\n",
        "        task: str=LM_TASK,\n",
        "    ):\n",
        "        self.task = task\n",
        "        self.max_len = max_len\n",
        "        self.token2ind = token2ind\n",
        "        self.documents = []\n",
        "        self.labels = []\n",
        "        with open(path_documents, \"r\") as f1:\n",
        "            for line in f1:\n",
        "                self.documents.append(line.strip())\n",
        "        if task == \"classification\":\n",
        "            with open(path_labels, \"r\") as f1:\n",
        "                for line in f1:\n",
        "                    self.labels.append(int(line.strip()))\n",
        "            assert len(self.labels) == len(self.documents)\n",
        "        self.oov_index = self.token2ind[OOV]\n",
        "    def __len__(self):\n",
        "        return len(self.documents)\n",
        "\n",
        "    def __getitem__(self, index: int):\n",
        "        sequence = self.documents[index].split()\n",
        "        if len(sequence) > self.max_len - 1:\n",
        "            sequence = sequence[: self.max_len - 1] \n",
        "        \n",
        "        source_sequence = [self.token2ind.get(token, self.oov_index) for token in sequence]\n",
        "        source_sequence.insert(0, self.token2ind[SOS]) \n",
        "        # (constract the input sequence using token2ind, sequence and special tokens)\n",
        "        if self.task == LM_TASK:\n",
        "            target = source_sequence[1:] # offset the sequence by one\n",
        "            # A, B , C, D , <EOS>\n",
        "            target.append(self.token2ind[EOS])\n",
        "            assert len(target) == len(source_sequence)\n",
        "        elif self.task == DS_TASK:\n",
        "            target = [self.labels[index]]\n",
        "        sample = {\n",
        "            SRC: torch.tensor(source_sequence),\n",
        "            TGT: torch.tensor(target),\n",
        "        }\n",
        "        return sample\n",
        "\n",
        "\n",
        "def collate_sentences_keep_dim(batch: List[Dict[str, torch.LongTensor]]) -> Tuple[torch.LongTensor, torch.LongTensor]:\n",
        "    \"\"\"Uniformize batches (have the same sentence length with padding for all sentences across the batch)\n",
        "\n",
        "    Args:\n",
        "        batch (List[Dict[str, torch.LongTensor]]): List of dict samples containing \n",
        "\n",
        "    Returns:\n",
        "        Tuple[torch.LongTensor, torch.LongTensor]: \n",
        "            - source [L, N, V]\n",
        "            where L is the maximum length along all sentences in the batch\n",
        "            - target \n",
        "                - [L, N, V] for language modeling task\n",
        "                - [N, C] for classification with C the number of classes\n",
        "            \n",
        "    \"\"\"\n",
        "    source_sequences = pad_sequence(\n",
        "        #we use padding to match the length of the sequences in the same batch\n",
        "        [sample[SRC] for sample in batch], padding_value=token2ind[PAD]\n",
        "    )\n",
        "    target = pad_sequence(\n",
        "        [sample[TGT] for sample in batch], padding_value=token2ind[PAD]\n",
        "    )\n",
        "    return source_sequences, target\n",
        "\n",
        "\n",
        "def collate_sentences(batch: List[Dict[str, torch.LongTensor]]) -> Tuple[torch.LongTensor, torch.LongTensor]:\n",
        "    \"\"\"Uniformization of batches through padding + flatten target labels\"\"\"\n",
        "    source_sequences, target = collate_sentences_keep_dim(batch)\n",
        "    return source_sequences, target.reshape(-1)\n",
        "\n",
        "def get_loader(\n",
        "    path_documents :Path,\n",
        "    path_labels: Path = None,\n",
        "    token2ind : Dict[str, int]={},\n",
        "    max_len: int =512,\n",
        "    batch_size: int = 32,\n",
        "    task: str=LM_TASK,\n",
        "    collate_fn = collate_sentences,\n",
        "    shuffle=True\n",
        ") -> DataLoader:\n",
        "    \"\"\"Unified data loader for both Language modeling and classification task\n",
        "\n",
        "    Args:\n",
        "        path_documents (Path): Path to a text file (each sentence is on a different line)\n",
        "        path_labels (Path, optional): Path to classification labels. \n",
        "            Defaults to None for language modeling\n",
        "        token2ind (Dict[str, int], optional): Mapping (look up table) between tokens and integer indexes. Defaults to {}.\n",
        "        max_len (int, optional): Maximum sentence length, Defaults to 512.\n",
        "            Please note that you may miss the <SOS> token a lot if max_len is low \n",
        "        batch_size (int, optional): Batch size sampled every time.\n",
        "            Be careful with the last sample of the batch but here `drop_last=True`.  Defaults to 32.\n",
        "        task (str, optional): \n",
        "            Choice `LM_TASK`, `DS_TASK`. Defaults to LM_TASK.\n",
        "        collate_fn (_type_, optional): Collate function describing how to pad. Defaults to collate_sentences.\n",
        "        shuffle (bool, optional): shuffle inputs. usually disable for validation set. Defaults to True.\n",
        "\n",
        "    Returns:\n",
        "        DataLoader: Pytorch dataloader.\n",
        "            - inputs = sentence, target = offset sentence for language modeling\n",
        "            - inputs = sentence, target = label for classification task\n",
        "    \"\"\"\n",
        "    dataset = Dataset(\n",
        "        path_documents,\n",
        "        path_labels=path_labels,\n",
        "        token2ind=token2ind,\n",
        "        max_len=max_len,\n",
        "        task=task,\n",
        "    )\n",
        "    data_loader = DataLoader(\n",
        "        dataset=dataset,\n",
        "        batch_size=batch_size,\n",
        "        shuffle=shuffle,\n",
        "        collate_fn=collate_fn,\n",
        "        pin_memory=True,\n",
        "        drop_last=True,\n",
        "    )\n",
        "    return data_loader"
      ]
    },
    {
      "cell_type": "markdown",
      "metadata": {},
      "source": [
        "## Sanity check on data loader and collate functions"
      ]
    },
    {
      "cell_type": "code",
      "execution_count": 11,
      "metadata": {},
      "outputs": [
        {
          "name": "stdout",
          "output_type": "stream",
          "text": [
            "<sos> Il a aussi effectué d ' importants travaux pros op ographiques sur l ' époque ant on ine , et en particulier sur les vies de l ' Histoire Auguste .\n",
            "Il a aussi effectué d ' importants travaux pros op ographiques sur l ' époque ant on ine , et en particulier sur les vies de l ' Histoire Auguste . <eos>\n",
            "<sos> Les commissions locales de contrôle de la discipline du Parti aux divers échelons , y compris celles de l ' échelon de base , doivent en même temps en faire rapport aux commissions de contrôle de la discipline à l ' échelon directement supérieur .\n",
            "Les commissions locales de contrôle de la discipline du Parti aux divers échelons , y compris celles de l ' échelon de base , doivent en même temps en faire rapport aux commissions de contrôle de la discipline à l ' échelon directement supérieur . <eos>\n",
            "<sos> L ' espoir est aujourd ' hui revenu de parvenir à une conclusion favorable du programme de Doha à la Conférence de Hong - K ong en 2005.\n",
            "L ' espoir est aujourd ' hui revenu de parvenir à une conclusion favorable du programme de Doha à la Conférence de Hong - K ong en 2005. <eos>\n",
            "<sos> Il est entièrement rénové , il peut y loger 4 personnes , il est très pratique avec sa cuisine , son salon et sa terrasse de plain pied .\n",
            "Il est entièrement rénové , il peut y loger 4 personnes , il est très pratique avec sa cuisine , son salon et sa terrasse de plain pied . <eos>\n",
            "<sos> Votre recette toute simple pour faire le pain me donne envie de m ’ y remettre .\n",
            "Votre recette toute simple pour faire le pain me donne envie de m ’ y remettre . <eos>\n"
          ]
        }
      ],
      "source": [
        "N = 32\n",
        "data_loader = get_loader(\n",
        "    pretraining_path_data_train,\n",
        "    token2ind=token2ind,\n",
        "    batch_size=N,\n",
        "    task=LM_TASK,\n",
        "    collate_fn=collate_sentences_keep_dim\n",
        ")\n",
        "token2ind[OOV]\n",
        "it = iter(data_loader)\n",
        "\n",
        "def tensor_to_sentence(tensor_sentence):\n",
        "        return \" \".join([ind2token.get(el, \"not found\").replace(\"▁\", \"\") for el in tensor_sentence.numpy() if el != token2ind[PAD]])\n",
        "\n",
        "for u in range(5):\n",
        "    sampled_batch = next(it)\n",
        "    # first[0].shape, first[1].shape\n",
        "    # first[0][:, 0] # first sentence # L, N\n",
        "    first_sentence = sampled_batch[0][:, 0]\n",
        "    def tensor_to_sentence(tensor_sentence):\n",
        "        return \" \".join([ind2token.get(el, \"not found\").replace(\"▁\", \"\") for el in tensor_sentence.numpy() if el != token2ind[PAD]])\n",
        "    print(tensor_to_sentence(first_sentence))\n",
        "    print(tensor_to_sentence(sampled_batch[1][:, 0]))"
      ]
    },
    {
      "cell_type": "markdown",
      "metadata": {},
      "source": [
        "# Model definition"
      ]
    },
    {
      "cell_type": "code",
      "execution_count": 21,
      "metadata": {},
      "outputs": [
        {
          "name": "stdout",
          "output_type": "stream",
          "text": [
            "TOTAL TOKENS 50001\n"
          ]
        },
        {
          "name": "stderr",
          "output_type": "stream",
          "text": [
            "/home/bneveu/.local/lib/python3.10/site-packages/torch/nn/modules/transformer.py:255: UserWarning: enable_nested_tensor is True, but self.use_nested_tensor is False because  encoder_layer.self_attn.batch_first was not True\n",
            "  warnings.warn(f\"enable_nested_tensor is True, but self.use_nested_tensor is False because {why_not_sparsity_fast_path}\")\n"
          ]
        }
      ],
      "source": [
        "ntokens = len(ind2token) # the size of vocabulary\n",
        "print(f\"TOTAL TOKENS {len(ind2token)}\")\n",
        "nhid = 200  # the dimension of the feedforward network model in nn.TransformerEncoder\n",
        "nlayers = 4  # the number of nn.TransformerEncoderLayer in nn.TransformerEncoder\n",
        "nhead = 2  # the number of heads in the multiheadattention models\n",
        "dropout = 0  # the dropout value\n",
        "\n",
        "nclasses = 2 # for classification task only\n",
        "\n",
        "model_pretraining = Model(ntokens, nhead, nhid, nlayers, ntokens, dropout).to(device)"
      ]
    },
    {
      "cell_type": "markdown",
      "metadata": {},
      "source": [
        "# Question 3: Parameters amount analytic validation"
      ]
    },
    {
      "cell_type": "code",
      "execution_count": 14,
      "metadata": {},
      "outputs": [
        {
          "data": {
            "text/markdown": [
              "Embeddings linear projection weights: $D V$ =  $ D V = 10000200 $"
            ],
            "text/plain": [
              "<IPython.core.display.Markdown object>"
            ]
          },
          "metadata": {},
          "output_type": "display_data"
        },
        {
          "data": {
            "text/markdown": [
              "MHA inputs Weights (Key, Query, Value): $A 3 D D \\frac{1}{A}$ =  $ 3 D^{2} = 120000 $"
            ],
            "text/plain": [
              "<IPython.core.display.Markdown object>"
            ]
          },
          "metadata": {},
          "output_type": "display_data"
        },
        {
          "data": {
            "text/markdown": [
              "MHA inputs Bias (Key, Query, Value): $A 3 D \\frac{1}{A}$ =  $ 3 D = 600 $"
            ],
            "text/plain": [
              "<IPython.core.display.Markdown object>"
            ]
          },
          "metadata": {},
          "output_type": "display_data"
        },
        {
          "data": {
            "text/markdown": [
              "MHA output Weights: $\\frac{A D D}{A}$ =  $ D^{2} = 40000 $"
            ],
            "text/plain": [
              "<IPython.core.display.Markdown object>"
            ]
          },
          "metadata": {},
          "output_type": "display_data"
        },
        {
          "data": {
            "text/markdown": [
              "MHA output Bias: $\\frac{A D}{A}$ =  $ D = 200 $"
            ],
            "text/plain": [
              "<IPython.core.display.Markdown object>"
            ]
          },
          "metadata": {},
          "output_type": "display_data"
        },
        {
          "data": {
            "text/markdown": [
              "Position-wise #1 Linear MLP weights: $D D$ =  $ D^{2} = 40000 $"
            ],
            "text/plain": [
              "<IPython.core.display.Markdown object>"
            ]
          },
          "metadata": {},
          "output_type": "display_data"
        },
        {
          "data": {
            "text/markdown": [
              "Position-wise #1 Linear MLP bias: $D$ =  $ D = 200 $"
            ],
            "text/plain": [
              "<IPython.core.display.Markdown object>"
            ]
          },
          "metadata": {},
          "output_type": "display_data"
        },
        {
          "data": {
            "text/markdown": [
              "Position-wise #2 Linear MLP weights: $D D$ =  $ D^{2} = 40000 $"
            ],
            "text/plain": [
              "<IPython.core.display.Markdown object>"
            ]
          },
          "metadata": {},
          "output_type": "display_data"
        },
        {
          "data": {
            "text/markdown": [
              "Position-wise #2 Linear MLP bias: $D$ =  $ D = 200 $"
            ],
            "text/plain": [
              "<IPython.core.display.Markdown object>"
            ]
          },
          "metadata": {},
          "output_type": "display_data"
        },
        {
          "data": {
            "text/markdown": [
              "Layer norm #1 coefficient: $D$ =  $ D = 200 $"
            ],
            "text/plain": [
              "<IPython.core.display.Markdown object>"
            ]
          },
          "metadata": {},
          "output_type": "display_data"
        },
        {
          "data": {
            "text/markdown": [
              "Layer norm #1 bias: $D$ =  $ D = 200 $"
            ],
            "text/plain": [
              "<IPython.core.display.Markdown object>"
            ]
          },
          "metadata": {},
          "output_type": "display_data"
        },
        {
          "data": {
            "text/markdown": [
              "Layer norm #2 coefficient: $D$ =  $ D = 200 $"
            ],
            "text/plain": [
              "<IPython.core.display.Markdown object>"
            ]
          },
          "metadata": {},
          "output_type": "display_data"
        },
        {
          "data": {
            "text/markdown": [
              "Layer norm #2 bias: $D$ =  $ D = 200 $"
            ],
            "text/plain": [
              "<IPython.core.display.Markdown object>"
            ]
          },
          "metadata": {},
          "output_type": "display_data"
        },
        {
          "data": {
            "text/markdown": [
              "Classifier weights: $C D$ =  $ C D = 10000200 $"
            ],
            "text/plain": [
              "<IPython.core.display.Markdown object>"
            ]
          },
          "metadata": {},
          "output_type": "display_data"
        },
        {
          "data": {
            "text/markdown": [
              "Classifier bias: $C$ =  $ C = 50001 $"
            ],
            "text/plain": [
              "<IPython.core.display.Markdown object>"
            ]
          },
          "metadata": {},
          "output_type": "display_data"
        },
        {
          "name": "stderr",
          "output_type": "stream",
          "text": [
            "/home/bneveu/.local/lib/python3.10/site-packages/torch/nn/modules/transformer.py:255: UserWarning: enable_nested_tensor is True, but self.use_nested_tensor is False because  encoder_layer.self_attn.batch_first was not True\n",
            "  warnings.warn(f\"enable_nested_tensor is True, but self.use_nested_tensor is False because {why_not_sparsity_fast_path}\")\n"
          ]
        },
        {
          "name": "stdout",
          "output_type": "stream",
          "text": [
            "+-------------------------------------------------------------+------------+---------------------+------------------+\n",
            "|                           Modules                           | Parameters | Analytic validation | Analytic formula |\n",
            "+-------------------------------------------------------------+------------+---------------------+------------------+\n",
            "|                     base.encoder.weight                     |  10000200  |       10000200      |       D*V        |\n",
            "|  base.transformer_encoder.layers.0.self_attn.in_proj_weight |   120000   |        120000       |       3*D²       |\n",
            "|   base.transformer_encoder.layers.0.self_attn.in_proj_bias  |    600     |         600         |       3*D        |\n",
            "| base.transformer_encoder.layers.0.self_attn.out_proj.weight |   40000    |        40000        |        D²        |\n",
            "|  base.transformer_encoder.layers.0.self_attn.out_proj.bias  |    200     |         200         |        D         |\n",
            "|       base.transformer_encoder.layers.0.linear1.weight      |   40000    |        40000        |        D²        |\n",
            "|        base.transformer_encoder.layers.0.linear1.bias       |    200     |         200         |        D         |\n",
            "|       base.transformer_encoder.layers.0.linear2.weight      |   40000    |        40000        |        D²        |\n",
            "|        base.transformer_encoder.layers.0.linear2.bias       |    200     |         200         |        D         |\n",
            "|        base.transformer_encoder.layers.0.norm1.weight       |    200     |         200         |        D         |\n",
            "|         base.transformer_encoder.layers.0.norm1.bias        |    200     |         200         |        D         |\n",
            "|        base.transformer_encoder.layers.0.norm2.weight       |    200     |         200         |        D         |\n",
            "|         base.transformer_encoder.layers.0.norm2.bias        |    200     |         200         |        D         |\n",
            "|                  classifier.decoder.weight                  |  10000200  |       10000200      |       C*D        |\n",
            "|                   classifier.decoder.bias                   |   50001    |        50001        |        C         |\n",
            "+-------------------------------------------------------------+------------+---------------------+------------------+\n",
            "Total Trainable Params: 20292401\n",
            "⚠️ ⚠️ ⚠️ ⚠️ ⚠️ ⚠️ ⚠️ ⚠️ ⚠️ ⚠️ ⚠️ ⚠️ ⚠️ ⚠️ ⚠️ ⚠️ ⚠️ ⚠️ ⚠️ ⚠️ Simplified M=1 layer model\n"
          ]
        }
      ],
      "source": [
        "from sympy import symbols, Eq, sympify\n",
        "from IPython.display import display, Markdown\n",
        "import sympy\n",
        "from prettytable import PrettyTable\n",
        "\n",
        "def count_parameters(my_model, table_flag=True, details=[]):\n",
        "    table = PrettyTable([\"Modules\", \"Parameters\", \"Analytic validation\", \"Analytic formula\"])\n",
        "    total_params = 0\n",
        "    for index, (name, parameter) in enumerate(my_model.named_parameters()):\n",
        "        if not parameter.requires_grad:\n",
        "            continue\n",
        "        params = parameter.numel()\n",
        "        detail = [\"\", \"\"] if index>=len(details) else details[index]\n",
        "        table.add_row([name, params, detail[0], detail[1]])\n",
        "        total_params += params\n",
        "    if table_flag:\n",
        "        print(table)\n",
        "    print(f\"Total Trainable Params: {total_params}\")\n",
        "    return total_params\n",
        "\n",
        "\n",
        "\n",
        "V, D, A, C, M = symbols(\"V, D, A, C, M\") #(nhid*ntokens)\n",
        "embedding_size = V*D\n",
        "true_values = {\n",
        "    M: int(nlayers),\n",
        "    V: int(ntokens),\n",
        "    D: int(nhid),\n",
        "    A: int(nhead),\n",
        "    C: int(ntokens)\n",
        "}\n",
        "list_computations = []\n",
        "def get_analytic_expression(name, expr_:str):\n",
        "    expr = sympify(expr_)\n",
        "    res = expr.evalf(subs=true_values)\n",
        "    equation = Eq(expr, int(res))\n",
        "    latex_eq = sympy.latex(equation)\n",
        "    eq_original  = sympy.latex(sympify(expr_, evaluate=False))\n",
        "    display(Markdown(f\"{name}: ${eq_original}$ =  $ {latex_eq} $\"))\n",
        "    list_computations.append([int(res) , str(expr).replace(\"**2\", \"²\")]) #[f\"{name}: ${eq_original}$ =  $ {latex_eq} $\", ])\n",
        "get_analytic_expression(\"Embeddings linear projection weights\", \"V*D\")\n",
        "get_analytic_expression(\"MHA inputs Weights (Key, Query, Value)\", \"A*3*(D*(D/A))\")\n",
        "get_analytic_expression(\"MHA inputs Bias (Key, Query, Value)\", \"A*3*(D/A)\")\n",
        "\n",
        "get_analytic_expression(\"MHA output Weights\", \"A*((D/A)*D)\")\n",
        "get_analytic_expression(\"MHA output Bias\", \"A*(D/A)\")\n",
        "\n",
        "for linear_layer in range(1, 2+1):\n",
        "    get_analytic_expression(f\"Position-wise #{linear_layer} Linear MLP weights\", \"D*D\")\n",
        "    get_analytic_expression(f\"Position-wise #{linear_layer} Linear MLP bias\", \"D\")\n",
        "\n",
        "for linear_layer in range(1, 2+1):\n",
        "    get_analytic_expression(f\"Layer norm #{linear_layer} coefficient\", \"D\")\n",
        "    get_analytic_expression(f\"Layer norm #{linear_layer} bias\", \"D\")\n",
        "\n",
        "\n",
        "get_analytic_expression(\"Classifier weights\", \"D*C\")\n",
        "get_analytic_expression(\"Classifier bias\", \"C\")\n",
        "\n",
        "# Layer Normalization applies per-element scale and bias... so to each D dimension\n",
        "model_dissect = Model(ntokens, nhead, nhid, 1, ntokens, dropout).to(device)\n",
        "count_parameters(model_dissect, table_flag=True, details=list_computations)\n",
        "\n",
        "print(20*\"⚠️ \" + \"Simplified M=1 layer model\")"
      ]
    },
    {
      "cell_type": "code",
      "execution_count": 15,
      "metadata": {},
      "outputs": [
        {
          "name": "stdout",
          "output_type": "stream",
          "text": [
            "Total Trainable Params: 21018401\n"
          ]
        },
        {
          "data": {
            "text/markdown": [
              "Matches - Full model: $C \\left(D + 1\\right) + D V + M \\left(4 D + 6 \\left(D^{2} + D\\right)\\right)$ =  $ C \\left(D + 1\\right) + D V + M \\left(6 D^{2} + 10 D\\right) = 21018401 $"
            ],
            "text/plain": [
              "<IPython.core.display.Markdown object>"
            ]
          },
          "metadata": {},
          "output_type": "display_data"
        },
        {
          "data": {
            "text/markdown": [
              "Classification model - frozen transformer backbone: $2 \\left(D + 1\\right)$ =  $ 2 D + 2 = 402 $"
            ],
            "text/plain": [
              "<IPython.core.display.Markdown object>"
            ]
          },
          "metadata": {},
          "output_type": "display_data"
        }
      ],
      "source": [
        "model_dissect = Model(ntokens, nhead, nhid, nlayers, ntokens, dropout).to(device)\n",
        "total = count_parameters(model_dissect, table_flag=False, details=[])\n",
        "get_analytic_expression(\"Matches - Full model\", \"V*D + M*(6*(D^2+D) + 4*D) + C*(D+1)\")\n",
        "\n",
        "\n",
        "get_analytic_expression(\"Classification model - frozen transformer backbone\", \"2*(D+1)\")"
      ]
    },
    {
      "cell_type": "markdown",
      "metadata": {
        "id": "uTns4lHrjUTa"
      },
      "source": [
        "## Training loop"
      ]
    },
    {
      "cell_type": "code",
      "execution_count": 22,
      "metadata": {},
      "outputs": [],
      "source": [
        "# optimization parameters\n",
        "criterion = nn.CrossEntropyLoss(ignore_index=token2ind['<pad>'])\n",
        "lr = 0.0003  # learning rate\n",
        "optimizer = torch.optim.Adam(model_pretraining.parameters(), lr=lr)"
      ]
    },
    {
      "cell_type": "code",
      "execution_count": 23,
      "metadata": {},
      "outputs": [],
      "source": [
        "def train(\n",
        "    model: Model,\n",
        "    path_data_train: Path,\n",
        "    path_labels_train: Path =None,\n",
        "    path_data_valid: Path = None,\n",
        "    save_interval: int =-1,\n",
        "    log_interval: int=5,\n",
        "    task: str=LM_TASK,\n",
        "    batch_size: int =32,\n",
        "    max_len=512,\n",
        "    epoch=0,\n",
        "    name=\"\",\n",
        "    freeze_backbone=False\n",
        "):\n",
        "    model.train()\n",
        "    if freeze_backbone:\n",
        "        print(\"FREEZE TRANSFORMER BACKBONE\")\n",
        "        for param in model.base.parameters():\n",
        "            param.requires_grad = False\n",
        "    total_loss = 0.0\n",
        "    ntokens = len(token2ind)\n",
        "    data_loader = get_loader(\n",
        "        path_data_train,\n",
        "        path_labels_train,\n",
        "        token2ind,\n",
        "        max_len=max_len,\n",
        "        task=task,\n",
        "        batch_size=batch_size,\n",
        "    )\n",
        "\n",
        "    losses = []\n",
        "    for idx, data in enumerate(data_loader): # get a batch of samples\n",
        "        # reset gradients to zero\n",
        "        optimizer.zero_grad()\n",
        "        \n",
        "        src_mask = TransformerModel.generate_square_subsequent_mask(data[0].size(0)).to(\n",
        "            device\n",
        "        )\n",
        "        input = data[0].to(device)\n",
        "        # forward pass\n",
        "        output = model(input, src_mask) \n",
        "        if task == DS_TASK:\n",
        "            output = output[-1:, :]  # last vector only\n",
        "        output = output.view(-1, output.shape[-1])\n",
        "        target = data[1]\n",
        "        target = target.to(device)\n",
        "        loss =  criterion(output, target) # CROSS ENTROPY\n",
        "        loss.backward() # compute gradients\n",
        "        torch.nn.utils.clip_grad_norm_(model.parameters(), 0.5) # prevent exploding gradient\n",
        "        optimizer.step()\n",
        "\n",
        "        total_loss += loss.item()\n",
        "        if idx % log_interval == 0 and idx > 0:\n",
        "            cur_loss = total_loss / log_interval\n",
        "            print(\n",
        "                f\"| epoch {epoch:3d} | {idx:5d}/{len(data_loader):5d} steps | \"+\n",
        "                f\"loss {cur_loss:5.5f} | ppl {math.exp(cur_loss):8.3f}\"\n",
        "            )\n",
        "            losses.append(cur_loss)\n",
        "            total_loss = 0\n",
        "    if epoch % save_interval == 0 and save_interval>=1:\n",
        "        torch.save(model, f\"weights_{task}{name}_{epoch:02d}.pt\")\n",
        "    return losses"
      ]
    },
    {
      "cell_type": "code",
      "execution_count": 24,
      "metadata": {},
      "outputs": [],
      "source": [
        "import gc\n",
        "gc.collect()\n",
        "torch.cuda.empty_cache()\n",
        "# EMPTY THE GPU"
      ]
    },
    {
      "cell_type": "code",
      "execution_count": 26,
      "metadata": {
        "id": "0m11g4ScjZaR"
      },
      "outputs": [
        {
          "ename": "KeyboardInterrupt",
          "evalue": "",
          "output_type": "error",
          "traceback": [
            "\u001b[0;31m---------------------------------------------------------------------------\u001b[0m",
            "\u001b[0;31mKeyboardInterrupt\u001b[0m                         Traceback (most recent call last)",
            "\u001b[1;32m/Data/code/ALTEGRAD/Lab3/code/ALTEGRAD_2023_transfer_learning.ipynb Cell 30\u001b[0m line \u001b[0;36m5\n\u001b[1;32m      <a href='vscode-notebook-cell:/Data/code/ALTEGRAD/Lab3/code/ALTEGRAD_2023_transfer_learning.ipynb#X41sZmlsZQ%3D%3D?line=2'>3</a>\u001b[0m epochs \u001b[39m=\u001b[39m \u001b[39m2\u001b[39m\n\u001b[1;32m      <a href='vscode-notebook-cell:/Data/code/ALTEGRAD/Lab3/code/ALTEGRAD_2023_transfer_learning.ipynb#X41sZmlsZQ%3D%3D?line=3'>4</a>\u001b[0m \u001b[39mfor\u001b[39;00m epoch \u001b[39min\u001b[39;00m \u001b[39mrange\u001b[39m(\u001b[39m1\u001b[39m, epochs \u001b[39m+\u001b[39m \u001b[39m1\u001b[39m): \u001b[39m#5\u001b[39;00m\n\u001b[0;32m----> <a href='vscode-notebook-cell:/Data/code/ALTEGRAD/Lab3/code/ALTEGRAD_2023_transfer_learning.ipynb#X41sZmlsZQ%3D%3D?line=4'>5</a>\u001b[0m     train(\n\u001b[1;32m      <a href='vscode-notebook-cell:/Data/code/ALTEGRAD/Lab3/code/ALTEGRAD_2023_transfer_learning.ipynb#X41sZmlsZQ%3D%3D?line=5'>6</a>\u001b[0m         model_pretraining,\n\u001b[1;32m      <a href='vscode-notebook-cell:/Data/code/ALTEGRAD/Lab3/code/ALTEGRAD_2023_transfer_learning.ipynb#X41sZmlsZQ%3D%3D?line=6'>7</a>\u001b[0m         pretraining_path_data_train,\n\u001b[1;32m      <a href='vscode-notebook-cell:/Data/code/ALTEGRAD/Lab3/code/ALTEGRAD_2023_transfer_learning.ipynb#X41sZmlsZQ%3D%3D?line=7'>8</a>\u001b[0m         save_interval\u001b[39m=\u001b[39;49m\u001b[39m-\u001b[39;49m\u001b[39m1\u001b[39;49m,\n\u001b[1;32m      <a href='vscode-notebook-cell:/Data/code/ALTEGRAD/Lab3/code/ALTEGRAD_2023_transfer_learning.ipynb#X41sZmlsZQ%3D%3D?line=8'>9</a>\u001b[0m         task\u001b[39m=\u001b[39;49mLM_TASK,\n\u001b[1;32m     <a href='vscode-notebook-cell:/Data/code/ALTEGRAD/Lab3/code/ALTEGRAD_2023_transfer_learning.ipynb#X41sZmlsZQ%3D%3D?line=9'>10</a>\u001b[0m         batch_size\u001b[39m=\u001b[39;49m\u001b[39m16\u001b[39;49m,\n\u001b[1;32m     <a href='vscode-notebook-cell:/Data/code/ALTEGRAD/Lab3/code/ALTEGRAD_2023_transfer_learning.ipynb#X41sZmlsZQ%3D%3D?line=10'>11</a>\u001b[0m         max_len\u001b[39m=\u001b[39;49m\u001b[39m64\u001b[39;49m,\n\u001b[1;32m     <a href='vscode-notebook-cell:/Data/code/ALTEGRAD/Lab3/code/ALTEGRAD_2023_transfer_learning.ipynb#X41sZmlsZQ%3D%3D?line=11'>12</a>\u001b[0m         log_interval\u001b[39m=\u001b[39;49mlog_interval,\n\u001b[1;32m     <a href='vscode-notebook-cell:/Data/code/ALTEGRAD/Lab3/code/ALTEGRAD_2023_transfer_learning.ipynb#X41sZmlsZQ%3D%3D?line=12'>13</a>\u001b[0m         epoch\u001b[39m=\u001b[39;49mepoch\n\u001b[1;32m     <a href='vscode-notebook-cell:/Data/code/ALTEGRAD/Lab3/code/ALTEGRAD_2023_transfer_learning.ipynb#X41sZmlsZQ%3D%3D?line=13'>14</a>\u001b[0m     )\n",
            "\u001b[1;32m/Data/code/ALTEGRAD/Lab3/code/ALTEGRAD_2023_transfer_learning.ipynb Cell 30\u001b[0m line \u001b[0;36m4\n\u001b[1;32m     <a href='vscode-notebook-cell:/Data/code/ALTEGRAD/Lab3/code/ALTEGRAD_2023_transfer_learning.ipynb#X41sZmlsZQ%3D%3D?line=46'>47</a>\u001b[0m loss \u001b[39m=\u001b[39m  criterion(output, target) \u001b[39m# CROSS ENTROPY\u001b[39;00m\n\u001b[1;32m     <a href='vscode-notebook-cell:/Data/code/ALTEGRAD/Lab3/code/ALTEGRAD_2023_transfer_learning.ipynb#X41sZmlsZQ%3D%3D?line=47'>48</a>\u001b[0m loss\u001b[39m.\u001b[39mbackward() \u001b[39m# compute gradients\u001b[39;00m\n\u001b[0;32m---> <a href='vscode-notebook-cell:/Data/code/ALTEGRAD/Lab3/code/ALTEGRAD_2023_transfer_learning.ipynb#X41sZmlsZQ%3D%3D?line=48'>49</a>\u001b[0m torch\u001b[39m.\u001b[39;49mnn\u001b[39m.\u001b[39;49mutils\u001b[39m.\u001b[39;49mclip_grad_norm_(model\u001b[39m.\u001b[39;49mparameters(), \u001b[39m0.5\u001b[39;49m) \u001b[39m# prevent exploding gradient\u001b[39;00m\n\u001b[1;32m     <a href='vscode-notebook-cell:/Data/code/ALTEGRAD/Lab3/code/ALTEGRAD_2023_transfer_learning.ipynb#X41sZmlsZQ%3D%3D?line=49'>50</a>\u001b[0m optimizer\u001b[39m.\u001b[39mstep()\n\u001b[1;32m     <a href='vscode-notebook-cell:/Data/code/ALTEGRAD/Lab3/code/ALTEGRAD_2023_transfer_learning.ipynb#X41sZmlsZQ%3D%3D?line=51'>52</a>\u001b[0m total_loss \u001b[39m+\u001b[39m\u001b[39m=\u001b[39m loss\u001b[39m.\u001b[39mitem()\n",
            "File \u001b[0;32m~/.local/lib/python3.10/site-packages/torch/nn/utils/clip_grad.py:76\u001b[0m, in \u001b[0;36mclip_grad_norm_\u001b[0;34m(parameters, max_norm, norm_type, error_if_nonfinite, foreach)\u001b[0m\n\u001b[1;32m     74\u001b[0m \u001b[39mfor\u001b[39;00m ((device, _), ([grads], _)) \u001b[39min\u001b[39;00m grouped_grads\u001b[39m.\u001b[39mitems():  \u001b[39m# type: ignore[assignment]\u001b[39;00m\n\u001b[1;32m     75\u001b[0m     \u001b[39mif\u001b[39;00m (foreach \u001b[39mis\u001b[39;00m \u001b[39mNone\u001b[39;00m \u001b[39mor\u001b[39;00m foreach) \u001b[39mand\u001b[39;00m _has_foreach_support(grads, device\u001b[39m=\u001b[39mdevice):  \u001b[39m# type: ignore[arg-type]\u001b[39;00m\n\u001b[0;32m---> 76\u001b[0m         torch\u001b[39m.\u001b[39;49m_foreach_mul_(grads, clip_coef_clamped\u001b[39m.\u001b[39;49mto(device))  \u001b[39m# type: ignore[call-overload]\u001b[39;00m\n\u001b[1;32m     77\u001b[0m     \u001b[39melif\u001b[39;00m foreach:\n\u001b[1;32m     78\u001b[0m         \u001b[39mraise\u001b[39;00m \u001b[39mRuntimeError\u001b[39;00m(\u001b[39mf\u001b[39m\u001b[39m'\u001b[39m\u001b[39mforeach=True was passed, but can\u001b[39m\u001b[39m\\'\u001b[39;00m\u001b[39mt use the foreach API on \u001b[39m\u001b[39m{\u001b[39;00mdevice\u001b[39m.\u001b[39mtype\u001b[39m}\u001b[39;00m\u001b[39m tensors\u001b[39m\u001b[39m'\u001b[39m)\n",
            "\u001b[0;31mKeyboardInterrupt\u001b[0m: "
          ]
        }
      ],
      "source": [
        "#pretraining on a tiny subset\n",
        "log_interval = 500\n",
        "epochs = 2\n",
        "for epoch in range(1, epochs + 1): #5\n",
        "    train(\n",
        "        model_pretraining,\n",
        "        pretraining_path_data_train,\n",
        "        save_interval=-1,\n",
        "        task=LM_TASK,\n",
        "        batch_size=16,\n",
        "        max_len=64,\n",
        "        log_interval=log_interval,\n",
        "        epoch=epoch\n",
        "    )"
      ]
    },
    {
      "cell_type": "markdown",
      "metadata": {
        "id": "MeOM1dOvkO4e"
      },
      "source": [
        "## Text Generation\n"
      ]
    },
    {
      "cell_type": "code",
      "execution_count": 28,
      "metadata": {
        "id": "-BcBC6FSkMH3"
      },
      "outputs": [
        {
          "name": "stderr",
          "output_type": "stream",
          "text": [
            "/home/bneveu/.local/lib/python3.10/site-packages/torch/nn/modules/transformer.py:255: UserWarning: enable_nested_tensor is True, but self.use_nested_tensor is False because  encoder_layer.self_attn.batch_first was not True\n",
            "  warnings.warn(f\"enable_nested_tensor is True, but self.use_nested_tensor is False because {why_not_sparsity_fast_path}\")\n"
          ]
        },
        {
          "data": {
            "text/plain": [
              "<All keys matched successfully>"
            ]
          },
          "execution_count": 28,
          "metadata": {},
          "output_type": "execute_result"
        }
      ],
      "source": [
        "model_pretrained = Model(ntokens, nhead, nhid, nlayers, ntokens).to(device)\n",
        "\n",
        "#load the checkpoint\n",
        "checkpoint = torch.load('pretrained_model_4layers.pt')\n",
        "#load state dict\n",
        "model_pretrained.load_state_dict(checkpoint['model_state_dict'])"
      ]
    },
    {
      "cell_type": "code",
      "execution_count": 29,
      "metadata": {
        "id": "tBRRVsWqlIoQ"
      },
      "outputs": [
        {
          "name": "stdout",
          "output_type": "stream",
          "text": [
            "['▁Bonjour', '▁les', '▁amis', '!']\n",
            "Bonjour les amis!\n"
          ]
        }
      ],
      "source": [
        "import sentencepiece as spm\n",
        "\n",
        "s = spm.SentencePieceProcessor(model_file='sentencepiece.french.model') #load sentencepiece model\n",
        "\n",
        "#examples\n",
        "encoded = s.encode_as_pieces(\"Bonjour les amis!\")\n",
        "decoded = s.decode_pieces(encoded)\n",
        "print(encoded)\n",
        "print(decoded)"
      ]
    },
    {
      "cell_type": "code",
      "execution_count": 30,
      "metadata": {
        "id": "TtLlV05pkQI3"
      },
      "outputs": [
        {
          "name": "stdout",
          "output_type": "stream",
          "text": [
            "Bonjour les gens qui ont été très accueillants et sympathiques.\n"
          ]
        }
      ],
      "source": [
        "def infer_next_token(sent, model):\n",
        "    model.eval()\n",
        "    sent_pieces = s.encode_as_pieces(sent)\n",
        "    source = [token2ind['<sos>']] + [token2ind[el] for el in sent_pieces] # list of tokens\n",
        "    source = torch.tensor(source).to(device)\n",
        "    source = source.reshape(-1, 1)\n",
        "    src_mask = model.base.generate_square_subsequent_mask(source.size(0)).to(device)\n",
        "    out = model(source, src_mask)\n",
        "    next_token_ind =  int(torch.argmax(torch.nn.Softmax(dim=-1)(out[-1, 0, :])).detach()) #FORCE N=1\n",
        "    return next_token_ind, out\n",
        "\n",
        "def infer_next_tokens(sent, model, max_len=50):\n",
        "    next_token_list = []\n",
        "    next_token_index=-1\n",
        "    iter = 0\n",
        "    while next_token_index!=token2ind[EOS]:\n",
        "        if iter>max_len:\n",
        "            break\n",
        "        next_token_index, out = infer_next_token(sent, model)\n",
        "        next_token = ind2token.get(next_token_index)\n",
        "        sent+= next_token\n",
        "        next_token_list.append(next_token)\n",
        "    return next_token_list\n",
        "\n",
        "\n",
        "sent = \"Bonjour les\"\n",
        "out = infer_next_tokens(sent, model_pretrained)\n",
        "print(sent + \" \" + s.decode_pieces(out[:-1]))"
      ]
    },
    {
      "cell_type": "markdown",
      "metadata": {
        "id": "Lp7mjVzomoZ3"
      },
      "source": [
        "### Supervised task"
      ]
    },
    {
      "cell_type": "code",
      "execution_count": 31,
      "metadata": {},
      "outputs": [
        {
          "name": "stdout",
          "output_type": "stream",
          "text": [
            "2000 sentences in the validation set\n"
          ]
        }
      ],
      "source": [
        "data_loader_validation = get_loader(\n",
        "    downstream_path_data_valid,\n",
        "    downstream_path_labels_valid,\n",
        "    token2ind=token2ind,\n",
        "    # batch_size=20,\n",
        "    batch_size=1, # Let's use a batch size of 1 so a sentence always has maximum length\n",
        "    task='classification',\n",
        "    shuffle=False # AVOID SHUFFLING FOR OBVIOUS REASONS - even if we're going through the whole validation set - let's do it in the same order everytime (batches will always be the same, no matter the configuration)\n",
        ")\n",
        "print(f\"{len(data_loader_validation.dataset)} sentences in the validation set\")"
      ]
    },
    {
      "cell_type": "code",
      "execution_count": 32,
      "metadata": {},
      "outputs": [
        {
          "name": "stdout",
          "output_type": "stream",
          "text": [
            "<sos> J ' ai lu ce livre car dans ma ville , tout le monde s ' en sert et le commande . C ' est ma pharmaci enne qui me l ' a conseillé , elle a t ellement maig ri que je lui ai demandé ce qu ' elle avait fait et au lieu de me vendre du per li mp in pin en gé lules , elle m ' a conseillé ce livre à 5 euros . Bien sur , il faut faire un effort pour perdre 25 kilos mais avec le livre , j ' avais un compagnon de route . L ' auteur a su me parler simplement avec des arguments très forts et surtout j ' ai senti qu ' il connaissait bien des cas comme le mien . Il y a dans son texte de l ' expérience , de la simplicité et de la compassion pour ceux qui comme moi vivait avec tout ce poids qui me col lait au corps sans jamais vouloir partir . Je ne crois pas qu ' il existe un régime miracle qui surp asse les autres mais je crois vraiment qu ' il y a des personnes qui savent parler aux autres et faire n aitre des déclic s . Je croyais être faible mais ce livre m ' a rendu forte , je l ' ai t ellement ann oté que j ' en suis à mon troisième . Quand on est très grosse comme je l ' ai été , les non - gros ne vous comprennent pas ou ont peur de vous frois ser en vous en parlant , alors ce livre a été comme un compagnon - journal . Je suis pé dic ure et je l ' ai conseillé à tous mes clients gros dont je lis la souffrance sur les pieds déform és et gonf lés . je rends aux autres le service que m ' a rendu ma pharmaci enne . Je le conseille à tous ceux qui souffrent car après avoir maig ri c ' est un tel bonheur que j ' ai accepté de passer à la phase 3 de ce plan qui impose 10 jours de consolidation pour chaque kilo perdu en s ' ouvrant progressivement à tout . Maintenant , je suis en phase 4, c ' est à dire que je mange de tout sauf le jeudi où je contrôle . Je remercier ai jamais assez l ' auteur de ce livre .\n",
            "True\n",
            "<sos> Recettes appréciées de toute la famille ( petits et grands ) de plus on peut faire son régime en ayant des invités , ils n ' y voient que du feu . Pour la vinaigrette il ne faut surtout pas dire quelle est faite avec de l ' huile de par af ine alors elle est excellente , s inon .... Le régime est super efficace il ne fatigue pas du tout . J ' encourage ceux qui ont des kilos en trop , à le faire , il ne faut pas beaucoup de volonté car on mange toujours à sa faim .\n",
            "True\n",
            "<sos> Be ig be der se dra pe de mystère . Il pose avec des airs sombres , en rou lé dans une cape noire , façon Z oz o ( com mentaire écrit sur fond musical : \" Z orro est arrivé \" de Henri Salvador ). Et pourtant , le seul mystère réservé aux ni ais , serait celui du \" mi ra cule ux \" succès obtenu sans aucun talent . La publicité a montré que le talent n ' était pas une condition nécessaire pour réussir . Un plat de nouilles a du succès s ' il est bien médi atisé . Les motoc ro ttes firent beaucoup pour la popularité du maire de Paris , Jacques C . \" Un roman français \" est un plat sans saveur , composé d ' ingrédients sans relief , qui n ' é veille ni l ' appétit , ni l ' esprit . Vous en doute z ? Au chapitre de l ' éducation sexuelle , cette autobiographie , nous conte les premiers ém ois à 13 ans de l ' auteur qui embrasse sur la bouche avec la langue dehors . Les goûts littéraires sont présentés à la manière d ' un feu d ' artifice Internet . Vous n ' avez rien lu de ce dont vous parlez . Pas grave , c itez p êle - mêle des noms d ' écriv ains aux cons on ances exotiques , anglo - sax onnes . Une pause . Qu ' il est fort ce Z oz o ! Be ig be der , dans la lignée de l ' émission \" lit té raire \" qu ' il avait \" anim ée \" nous apprend que San Antonio ( sic !) est un auteur de droite , comme Rab elais ( !). Rab elais , un écrivain de droite ! Le délire , l ' in culture et l ' absence de syntaxe soutiennent pénible ment la démonstration : Be ig be der appréci ait ces écrivains de droite car ils sont rigol os ( je cite ) alors que les auteurs de gauche , Sartre , Camus ne le sont pas ... à l ' exception précise - t - il des \" M ots \" et de \" La Ch ute \". Ces ouvrages seraient donc \" rig olos \". En quoi Céline , \" écrivain de droite \" peut - il être rigolo ? Trou bles ( ment aux ). Ce dro gué , coc aï nom ane , cra che sur la justice , les mesures de salubrité publique prises pour le sauver de lui - même . Z oz o était p af . Z oz o était malade . Z oz o était en infraction . Ah , ces 17 heures de mise \" en prison \" ( au poste de police seulement ) valent les années de goul ag de Sol j én its yne , celles du camp d ' extermination de Prim o Levi , celles de D\n",
            "False\n",
            "<sos> Un petit livre si facile à lire et si puissant . Le racisme ne peut pas résister longtemps devant une telle mise en perspective . Les \" ra ces \" soi - disant dominantes d ' aujourd ' hui ne seront pas celles de demain ... Un excellent livre à lire et offrir aussi souvent que l ' on peut\n",
            "True\n",
            "<sos> Saint - Ex upéry réalise à travers l ' histoire du petit prince l ' un des plus grands chefs - d ' oeuvres littéraires , poétiques et révolu tionnaires de tous les temps . La morale magique \" l ' essentiel est invisible pour les yeux \" semble rés onner partout où notre regard se porte , vibrant dans l ' harmonie retrouvée des premiers matins du monde . Change ton regard , là est la clé ! semble nous indiquer Saint - Ex . Ange d ' espoir , reviens ! nous lance - t - il en re tenant des larmes d ' enfant . Ce conte philosophique est une ode à la vie , au bonheur , à la compréhension et à la fraternité humaine . Il s ' agit d ' un testament poétique , d ' une oeuvre intemp orelle et universelle , d ' une tentative pour restaurer le lien secret entre l ' Homme et l ' Univers , entre l ' Homme et Lui - même . Mais la portée véritable et finale est d ' un autre ordre : la Fleur est destinée ...\n",
            "True\n",
            "<sos> je suis tres de çue de la taille de ce livre ( il tiens dans le creux de la main ... et les recettes y sont N ULES ( il n ' y a rien de nouveau et d ' in ven tif ) je ne le recommande a personne !!!\n",
            "False\n",
            "<sos> Ce livre n ' est pas cher et il comporte un grand nombre de recettes originales . Par contre , il est bourré de fautes : soit vous avez des ingrédients qui sont oubliés dans la recette ( quand les mettre ? ), ou la recette demandent des ingrédients mais ils ne sont pas dans la liste des ingrédients ( quelle quantité mettre ?) A acheter en connaissance de cause ...\n",
            "False\n",
            "<sos> Un roman de rentrée de la fille de B HL , a - t - on vraiment besoin d ' en dire plus pour vous convaincre que la lecture de cet ouvrage , au style aussi peu inspiré que lourd , vous fera perdre de précieuses heures ? A mon humble avis , le seul fait d ' être la fille d ' un philosophe milliardaire ne donne pas automatiquement toutes les qualités requises pour faire un bon écrivain . Pour ma part j ' ai assez rapidement laissé tomber ce bouquin pour me plonger dans .\n",
            "False\n",
            "<sos> Contrairement au commentaire de Seb , je trouve ce livre vraiment très pratique . Il y a certes quelques erreurs comme l ' IG du cass oulet effectivement non nul . Mais le reste de la ligne montre qu ' il y a bien de n bre uses glucides et plus important qu ' il est à limiter pour les diabétiques . Les pages sont bien dans le bon ordre ( c ' est ton exemplaire qui est mauvais Seb !) et surtout il n ' y a pas d ' erreurs sur les quantités de G , L ou P car le n bre noté est pour la quantité indiquée . Donc pour le N ute lla pas d ' erreur à noter puisqu ' il s ' agit de 15 g rs de produit étudié et pas la valeur pour 100 g rs comme sur le pot . Donc monsieur Seb devrait chercher à mieux comprendre le tableau avant de critiquer ce fabuleux outils qui a tout de même le mérite , en format poche , de regrouper 11 40 aliments ! Trés utile pour les diab étique .\n",
            "True\n",
            "<sos> j ' ai acheté ce bouquin sur le seul nom de Gran gé . On ne m ' y reprendra plus ! On n ' y croit pas un seul instant , c ' est creux , comme l ' héroïne . Je me suis forcée à le finir , en croyant au miracle . Que n enni !\n",
            "False\n",
            "<sos> Je dis non à la facilité ..... et non à l ' auteur qui n ' a même pas fait l ' effort de rencontrer la famille avant d ' écrire son bouquin , qui ne connait rien au personnage de Gregory et encore moins à l ' artiste !! ..... Comment parler correctement de quelqu ' un qu ' on a jamais rencontré de son vivant , et dont on ne s ' est intéressé qu ' après sa mort ??? Franchement à la place de l ' auteur j ' aurais vraiment honte de vouloir profiter de la douleur des fans !! Si vous voulez lire un bon livre sur GRE G OR Y LE MAR CH AL , achetez plutôt celui de sa soeur Leslie \" Mon Frère , l ' Ar tiste \" et en plus vous fer rez une bonne action , puisque tout est entièrement re versé à l ' association GRE G OR Y LE MAR CH AL !!\n",
            "False\n"
          ]
        }
      ],
      "source": [
        "for idx, sentence_batch in enumerate(data_loader_validation):\n",
        "    if idx>10:\n",
        "        break\n",
        "    first_sentence = sentence_batch[0][:, 0]\n",
        "    print(tensor_to_sentence(first_sentence))\n",
        "    print(bool(sentence_batch[1][0]))"
      ]
    },
    {
      "cell_type": "code",
      "execution_count": 54,
      "metadata": {
        "id": "_MLfvjiom2SL"
      },
      "outputs": [
        {
          "name": "stdout",
          "output_type": "stream",
          "text": [
            "accuracy of a randomly initalized classifier 0.493 ~ shall be around 0.5\n"
          ]
        }
      ],
      "source": [
        "# a function to evaluate the validation accuracy of the model.\n",
        "def evaluate_accuracy(data_loader: DataLoader, model):\n",
        "    accuracy = 0\n",
        "    for _idx, sentence_batch in enumerate(data_loader):\n",
        "        input_sentences = sentence_batch[0].to(device)\n",
        "        target_labels = sentence_batch[1].to(device)\n",
        "        logits = model(input_sentences, src_mask=None)\n",
        "        logits = logits[-1, ...]\n",
        "        predicted_class = torch.argmax(logits, dim=-1)\n",
        "        accuracy += torch.sum(predicted_class==target_labels).detach()\n",
        "    accuracy = float(accuracy)/len(data_loader.dataset)\n",
        "    return accuracy\n",
        "\n",
        "def test_evaluate_accuracy():\n",
        "    # FAKE DOWNSTREAM MODEL ~ accuracy shall be around 0.5\n",
        "    model_ds = Model(ntokens, nhead, nhid, nlayers, 2, dropout).to(device)\n",
        "    model_ds.eval()\n",
        "\n",
        "    data_loader_validation_ds = get_loader(\n",
        "        downstream_path_data_valid,\n",
        "        downstream_path_labels_valid,\n",
        "        token2ind=token2ind,\n",
        "        batch_size=20, # Let's use a batch size of 1 so a sentence always has maximum length\n",
        "        task=DS_TASK,\n",
        "        shuffle=False # AVOID SHUFFLING FOR OBVIOUS REASONS - even if we're going through the whole validation set - let's do it in the same order everytime (batches will always be the same, no matter the configuration)\n",
        "    )\n",
        "    acc = evaluate_accuracy(\n",
        "        data_loader_validation_ds,\n",
        "        model_ds\n",
        "    )\n",
        "\n",
        "    \n",
        "    print(f\"accuracy of a randomly initalized classifier {acc} ~ shall be around 0.5\")\n",
        "\n",
        "test_evaluate_accuracy()"
      ]
    },
    {
      "cell_type": "code",
      "execution_count": 55,
      "metadata": {
        "id": "qzmx7T7xoa6v"
      },
      "outputs": [],
      "source": [
        "#save the base model to be loaded later in the fine-tuning phase\n",
        "torch.save({\"model_state_dict\": model_pretrained.base.state_dict(),}, \"pretrained_model_4layers_no_class_head.pt\")"
      ]
    },
    {
      "cell_type": "code",
      "execution_count": 86,
      "metadata": {},
      "outputs": [
        {
          "name": "stdout",
          "output_type": "stream",
          "text": [
            "=====PRETRAINED MODEL======\n",
            "| epoch   1 |    50/  200 steps | loss 0.80346 | ppl    2.233\n",
            "| epoch   1 |   100/  200 steps | loss 0.69841 | ppl    2.011\n",
            "| epoch   1 |   150/  200 steps | loss 0.64023 | ppl    1.897\n",
            "from_scratch=False - ACCURACY TRAIN 0.729375 VALIDATION=0.716\n",
            "| epoch   2 |    50/  200 steps | loss 0.42272 | ppl    1.526\n",
            "| epoch   2 |   100/  200 steps | loss 0.48263 | ppl    1.620\n",
            "| epoch   2 |   150/  200 steps | loss 0.53381 | ppl    1.705\n",
            "from_scratch=False - ACCURACY TRAIN 0.779375 VALIDATION=0.733\n",
            "| epoch   3 |    50/  200 steps | loss 0.41904 | ppl    1.521\n",
            "| epoch   3 |   100/  200 steps | loss 0.41824 | ppl    1.519\n",
            "| epoch   3 |   150/  200 steps | loss 0.46634 | ppl    1.594\n",
            "from_scratch=False - ACCURACY TRAIN 0.786875 VALIDATION=0.727\n",
            "| epoch   4 |    50/  200 steps | loss 0.30145 | ppl    1.352\n",
            "| epoch   4 |   100/  200 steps | loss 0.36288 | ppl    1.437\n",
            "| epoch   4 |   150/  200 steps | loss 0.27139 | ppl    1.312\n",
            "from_scratch=False - ACCURACY TRAIN 0.909375 VALIDATION=0.7915\n",
            "| epoch   5 |    50/  200 steps | loss 0.23032 | ppl    1.259\n",
            "| epoch   5 |   100/  200 steps | loss 0.31911 | ppl    1.376\n",
            "| epoch   5 |   150/  200 steps | loss 0.24132 | ppl    1.273\n",
            "from_scratch=False - ACCURACY TRAIN 0.91625 VALIDATION=0.785\n",
            "| epoch   6 |    50/  200 steps | loss 0.13706 | ppl    1.147\n",
            "| epoch   6 |   100/  200 steps | loss 0.28971 | ppl    1.336\n",
            "| epoch   6 |   150/  200 steps | loss 0.10779 | ppl    1.114\n",
            "from_scratch=False - ACCURACY TRAIN 0.9375 VALIDATION=0.785\n",
            "| epoch   7 |    50/  200 steps | loss 0.13999 | ppl    1.150\n",
            "| epoch   7 |   100/  200 steps | loss 0.09923 | ppl    1.104\n",
            "| epoch   7 |   150/  200 steps | loss 0.17491 | ppl    1.191\n",
            "from_scratch=False - ACCURACY TRAIN 0.945625 VALIDATION=0.7765\n",
            "| epoch   8 |    50/  200 steps | loss 0.04978 | ppl    1.051\n",
            "| epoch   8 |   100/  200 steps | loss 0.02768 | ppl    1.028\n",
            "| epoch   8 |   150/  200 steps | loss 0.04980 | ppl    1.051\n",
            "from_scratch=False - ACCURACY TRAIN 0.94375 VALIDATION=0.7705\n",
            "| epoch   9 |    50/  200 steps | loss 0.00905 | ppl    1.009\n",
            "| epoch   9 |   100/  200 steps | loss 0.04301 | ppl    1.044\n",
            "| epoch   9 |   150/  200 steps | loss 0.01401 | ppl    1.014\n",
            "from_scratch=False - ACCURACY TRAIN 0.956875 VALIDATION=0.772\n",
            "| epoch  10 |    50/  200 steps | loss 0.00560 | ppl    1.006\n",
            "| epoch  10 |   100/  200 steps | loss 0.00017 | ppl    1.000\n",
            "| epoch  10 |   150/  200 steps | loss 0.00006 | ppl    1.000\n",
            "from_scratch=False - ACCURACY TRAIN 0.95125 VALIDATION=0.765\n",
            "| epoch  11 |    50/  200 steps | loss 0.00003 | ppl    1.000\n",
            "| epoch  11 |   100/  200 steps | loss 0.00006 | ppl    1.000\n",
            "| epoch  11 |   150/  200 steps | loss 0.00001 | ppl    1.000\n",
            "from_scratch=False - ACCURACY TRAIN 0.96 VALIDATION=0.77\n",
            "| epoch  12 |    50/  200 steps | loss 0.00005 | ppl    1.000\n",
            "| epoch  12 |   100/  200 steps | loss 0.00001 | ppl    1.000\n",
            "| epoch  12 |   150/  200 steps | loss 0.00001 | ppl    1.000\n",
            "from_scratch=False - ACCURACY TRAIN 0.95875 VALIDATION=0.766\n",
            "| epoch  13 |    50/  200 steps | loss 0.00562 | ppl    1.006\n",
            "| epoch  13 |   100/  200 steps | loss 0.00002 | ppl    1.000\n",
            "| epoch  13 |   150/  200 steps | loss 0.00000 | ppl    1.000\n",
            "from_scratch=False - ACCURACY TRAIN 0.961875 VALIDATION=0.775\n",
            "| epoch  14 |    50/  200 steps | loss 0.00008 | ppl    1.000\n",
            "| epoch  14 |   100/  200 steps | loss 0.00001 | ppl    1.000\n",
            "| epoch  14 |   150/  200 steps | loss 0.01478 | ppl    1.015\n",
            "from_scratch=False - ACCURACY TRAIN 0.93625 VALIDATION=0.7515\n",
            "| epoch  15 |    50/  200 steps | loss 0.00001 | ppl    1.000\n",
            "| epoch  15 |   100/  200 steps | loss 0.01460 | ppl    1.015\n",
            "| epoch  15 |   150/  200 steps | loss 0.00004 | ppl    1.000\n",
            "from_scratch=False - ACCURACY TRAIN 0.956875 VALIDATION=0.7695\n",
            "=====Trainig FROM SCRATCH======\n",
            "| epoch   1 |    50/  200 steps | loss 0.81810 | ppl    2.266\n",
            "| epoch   1 |   100/  200 steps | loss 0.71248 | ppl    2.039\n",
            "| epoch   1 |   150/  200 steps | loss 0.72623 | ppl    2.067\n",
            "from_scratch=True - ACCURACY TRAIN 0.5 VALIDATION=0.5\n",
            "| epoch   2 |    50/  200 steps | loss 0.73561 | ppl    2.087\n",
            "| epoch   2 |   100/  200 steps | loss 0.68356 | ppl    1.981\n",
            "| epoch   2 |   150/  200 steps | loss 0.64320 | ppl    1.903\n",
            "from_scratch=True - ACCURACY TRAIN 0.5025 VALIDATION=0.5015\n",
            "| epoch   3 |    50/  200 steps | loss 0.49590 | ppl    1.642\n",
            "| epoch   3 |   100/  200 steps | loss 0.51629 | ppl    1.676\n",
            "| epoch   3 |   150/  200 steps | loss 0.49002 | ppl    1.632\n",
            "from_scratch=True - ACCURACY TRAIN 0.5 VALIDATION=0.5\n",
            "| epoch   4 |    50/  200 steps | loss 0.20188 | ppl    1.224\n",
            "| epoch   4 |   100/  200 steps | loss 0.21451 | ppl    1.239\n",
            "| epoch   4 |   150/  200 steps | loss 0.16167 | ppl    1.175\n",
            "from_scratch=True - ACCURACY TRAIN 0.5 VALIDATION=0.4995\n",
            "| epoch   5 |    50/  200 steps | loss 0.03638 | ppl    1.037\n",
            "| epoch   5 |   100/  200 steps | loss 0.08045 | ppl    1.084\n",
            "| epoch   5 |   150/  200 steps | loss 0.07056 | ppl    1.073\n",
            "from_scratch=True - ACCURACY TRAIN 0.500625 VALIDATION=0.4995\n",
            "| epoch   6 |    50/  200 steps | loss 0.02113 | ppl    1.021\n",
            "| epoch   6 |   100/  200 steps | loss 0.00651 | ppl    1.007\n",
            "| epoch   6 |   150/  200 steps | loss 0.01569 | ppl    1.016\n",
            "from_scratch=True - ACCURACY TRAIN 0.50125 VALIDATION=0.5005\n",
            "| epoch   7 |    50/  200 steps | loss 0.00003 | ppl    1.000\n",
            "| epoch   7 |   100/  200 steps | loss 0.00019 | ppl    1.000\n",
            "| epoch   7 |   150/  200 steps | loss 0.00026 | ppl    1.000\n",
            "from_scratch=True - ACCURACY TRAIN 0.500625 VALIDATION=0.5005\n",
            "| epoch   8 |    50/  200 steps | loss 0.00002 | ppl    1.000\n",
            "| epoch   8 |   100/  200 steps | loss 0.00002 | ppl    1.000\n",
            "| epoch   8 |   150/  200 steps | loss 0.00001 | ppl    1.000\n",
            "from_scratch=True - ACCURACY TRAIN 0.500625 VALIDATION=0.501\n",
            "| epoch   9 |    50/  200 steps | loss 0.00001 | ppl    1.000\n",
            "| epoch   9 |   100/  200 steps | loss 0.00001 | ppl    1.000\n",
            "| epoch   9 |   150/  200 steps | loss 0.00001 | ppl    1.000\n",
            "from_scratch=True - ACCURACY TRAIN 0.500625 VALIDATION=0.501\n",
            "| epoch  10 |    50/  200 steps | loss 0.00001 | ppl    1.000\n",
            "| epoch  10 |   100/  200 steps | loss 0.00001 | ppl    1.000\n",
            "| epoch  10 |   150/  200 steps | loss 0.00001 | ppl    1.000\n",
            "from_scratch=True - ACCURACY TRAIN 0.500625 VALIDATION=0.501\n",
            "| epoch  11 |    50/  200 steps | loss 0.00001 | ppl    1.000\n",
            "| epoch  11 |   100/  200 steps | loss 0.00001 | ppl    1.000\n",
            "| epoch  11 |   150/  200 steps | loss 0.00001 | ppl    1.000\n",
            "from_scratch=True - ACCURACY TRAIN 0.500625 VALIDATION=0.501\n",
            "| epoch  12 |    50/  200 steps | loss 0.00001 | ppl    1.000\n",
            "| epoch  12 |   100/  200 steps | loss 0.00001 | ppl    1.000\n",
            "| epoch  12 |   150/  200 steps | loss 0.00001 | ppl    1.000\n",
            "from_scratch=True - ACCURACY TRAIN 0.500625 VALIDATION=0.501\n",
            "| epoch  13 |    50/  200 steps | loss 0.00001 | ppl    1.000\n",
            "| epoch  13 |   100/  200 steps | loss 0.00001 | ppl    1.000\n",
            "| epoch  13 |   150/  200 steps | loss 0.00001 | ppl    1.000\n",
            "from_scratch=True - ACCURACY TRAIN 0.5 VALIDATION=0.5\n",
            "| epoch  14 |    50/  200 steps | loss 0.00000 | ppl    1.000\n",
            "| epoch  14 |   100/  200 steps | loss 0.00000 | ppl    1.000\n",
            "| epoch  14 |   150/  200 steps | loss 0.00000 | ppl    1.000\n",
            "from_scratch=True - ACCURACY TRAIN 0.500625 VALIDATION=0.5\n",
            "| epoch  15 |    50/  200 steps | loss 0.00000 | ppl    1.000\n",
            "| epoch  15 |   100/  200 steps | loss 0.00000 | ppl    1.000\n",
            "| epoch  15 |   150/  200 steps | loss 0.00000 | ppl    1.000\n",
            "from_scratch=True - ACCURACY TRAIN 0.500625 VALIDATION=0.5\n"
          ]
        }
      ],
      "source": [
        "from_scratch_settings = [False, True]\n",
        "\n",
        "training_configs = {\n",
        "    \"from scratch\": [True, False],\n",
        "    \"pretrained trainable backbone\": [False, False],\n",
        "    \"pretrained frozen backbone\": [False, True]\n",
        "}\n",
        "TRAIN = \"training\"\n",
        "VALID = \"validation\"\n",
        "metrics = {}\n",
        "\n",
        "batch_size_eval = 20\n",
        "train_dl = get_loader(\n",
        "    downstream_path_data_train,\n",
        "    downstream_path_labels_train,\n",
        "    token2ind=token2ind,\n",
        "    batch_size=batch_size_eval,\n",
        "    task=DS_TASK,\n",
        "    shuffle=False # AVOID SHUFFLING FOR OBVIOUS REASONS - even if we're going through the whole validation set - let's do it in the same order everytime (batches will always be the same, no matter the configuration)\n",
        ")\n",
        "valid_dl = get_loader(\n",
        "    downstream_path_data_valid,\n",
        "    downstream_path_labels_valid,\n",
        "    token2ind=token2ind,\n",
        "    batch_size=batch_size_eval,\n",
        "    task=DS_TASK,\n",
        "    shuffle=False\n",
        ")\n",
        "\n",
        "epochs = 15\n",
        "lr = 0.0001\n",
        "# lr = 0.001\n",
        "for config, config_vals in training_configs.items():\n",
        "    from_scratch, frozen = config_vals\n",
        "    metrics[config] = {\n",
        "        TRAIN:[],\n",
        "        VALID:[]\n",
        "    }\n",
        "    model_ds = Model(ntokens, nhead, nhid, nlayers, 2, dropout).to(device)\n",
        "    criterion = nn.CrossEntropyLoss()\n",
        "    optimizer = torch.optim.Adam(model_ds.parameters(), lr=lr)\n",
        "    if not from_scratch:\n",
        "        print(\"=====PRETRAINED MODEL======\")\n",
        "        #load checkpoint\n",
        "        checkpoint = torch.load(\"pretrained_model_4layers_no_class_head.pt\")\n",
        "        #load state dict\n",
        "        model_ds.base.load_state_dict(checkpoint['model_state_dict'])\n",
        "    else:\n",
        "        print(\"=====Trainig FROM SCRATCH======\")\n",
        "    \n",
        "    # @TODO: check batch size subtlety on the last element (we want to classify the last feature of the sentence!)\n",
        "    for epoch in range(1, epochs + 1):\n",
        "        model_ds.train()\n",
        "        train(\n",
        "            model_ds,\n",
        "            downstream_path_data_train,\n",
        "            downstream_path_labels_train,\n",
        "            save_interval=-1,\n",
        "            task=DS_TASK,\n",
        "            freeze_backbone=frozen,\n",
        "            batch_size=8,\n",
        "            # batch_size=1, # TO AVOID THE NEED TO RETRIEVE THE RIGHT LAST TOKEN IN A BATCH\n",
        "            log_interval=50,\n",
        "            epoch=epoch,\n",
        "            name=\"_from_scratch\" if from_scratch else \"_pretrained\"\n",
        "        )\n",
        "        model_ds.eval()\n",
        "        acc_train = evaluate_accuracy(train_dl, model_ds)\n",
        "        acc_valid = evaluate_accuracy(valid_dl, model_ds)\n",
        "        \n",
        "        metrics[config][TRAIN].append(acc_train)\n",
        "        metrics[config][VALID].append(acc_valid)\n",
        "        print(f\"{from_scratch=} - ACCURACY TRAIN {acc_train} VALIDATION={acc_valid}\")"
      ]
    },
    {
      "cell_type": "code",
      "execution_count": 87,
      "metadata": {},
      "outputs": [
        {
          "data": {
            "image/png": "[encoded data removed]",
            "text/plain": [
              "<Figure size 640x480 with 1 Axes>"
            ]
          },
          "metadata": {},
          "output_type": "display_data"
        }
      ],
      "source": [
        "#Visualize the accuracy\n",
        "import matplotlib.pyplot as plt\n",
        "for idx, conf in enumerate(metrics.keys()):\n",
        "    color = \"grbc\"[idx]\n",
        "    for mode in [TRAIN, VALID]:\n",
        "        plt.plot(100.*np.array(metrics[conf][mode]), color+(\"--+\" if mode==TRAIN else \"-o\"), label=f\"{conf} - {mode} accuracy\")\n",
        "    # plt.plot(100.*np.array(pretrained_valid_acc), \"-+b\", label=\"pretrained model\")\n",
        "plt.grid()\n",
        "plt.title(\"Classifier accuracy on a downstream task [Sentiment analyzis]\")\n",
        "plt.legend()\n",
        "plt.ylim(0, 100)\n",
        "plt.xlabel(\"Epoch\")\n",
        "plt.ylabel(\"Accuracy [%]\")\n",
        "plt.show()"
      ]
    },
    {
      "cell_type": "code",
      "execution_count": 61,
      "metadata": {},
      "outputs": [
        {
          "data": {
            "text/plain": [
              "0.786"
            ]
          },
          "execution_count": 61,
          "metadata": {},
          "output_type": "execute_result"
        }
      ],
      "source": [
        "model_ds.eval()\n",
        "acc = evaluate_accuracy(\n",
        "    get_loader(\n",
        "        downstream_path_data_valid,\n",
        "        downstream_path_labels_valid,\n",
        "        token2ind=token2ind,\n",
        "        # batch_size=20,\n",
        "        batch_size=1, # Let's use a batch size of 1 so a sentence always has maximum length\n",
        "        task='classification',\n",
        "        shuffle=False # AVOID SHUFFLING FOR OBVIOUS REASONS - even if we're going through the whole validation set - let's do it in the same order everytime (batches will always be the same, no matter the configuration)\n",
        "    ),\n",
        "    model_ds\n",
        ")\n",
        "acc\n"
      ]
    },
    {
      "cell_type": "code",
      "execution_count": 75,
      "metadata": {},
      "outputs": [],
      "source": []
    },
    {
      "cell_type": "code",
      "execution_count": 76,
      "metadata": {},
      "outputs": [
        {
          "data": {
            "text/plain": [
              "(0.590625, 0.5295)"
            ]
          },
          "execution_count": 76,
          "metadata": {},
          "output_type": "execute_result"
        }
      ],
      "source": [
        "\n",
        "model_ds.eval()\n",
        "acc_train = evaluate_accuracy(\n",
        "    train_dl,\n",
        "    model_ds\n",
        ")\n",
        "acc_valid = evaluate_accuracy(\n",
        "    valid_dl,\n",
        "    model_ds\n",
        ")\n",
        "acc_train, acc_valid"
      ]
    },
    {
      "cell_type": "code",
      "execution_count": 68,
      "metadata": {
        "id": "RCpBIdTHojm6"
      },
      "outputs": [
        {
          "data": {
            "image/png": "[encoded data removed]",
            "text/plain": [
              "<Figure size 640x480 with 1 Axes>"
            ]
          },
          "metadata": {},
          "output_type": "display_data"
        }
      ],
      "source": [
        "#Visualize the accuracy\n",
        "import matplotlib.pyplot as plt\n",
        "plt.plot(100.*np.array(from_scratch_valid_acc), \"-+r\", label=\"training from scratch\")\n",
        "plt.plot(100.*np.array(pretrained_valid_acc), \"-+b\", label=\"pretrained model\")\n",
        "plt.grid()\n",
        "plt.title(\"Classifier accuracy on a downstream task [Sentiment analyzis]\")\n",
        "plt.legend()\n",
        "plt.ylim(0, 100)\n",
        "plt.xlabel(\"Epoch\")\n",
        "plt.ylabel(\"Accuracy [%]\")\n",
        "plt.show()"
      ]
    },
    {
      "cell_type": "code",
      "execution_count": null,
      "metadata": {},
      "outputs": [],
      "source": []
    }
  ],
  "metadata": {
    "accelerator": "GPU",
    "colab": {
      "provenance": []
    },
    "kernelspec": {
      "display_name": "Python 3.6.15 ('altegrad')",
      "language": "python",
      "name": "python3"
    },
    "language_info": {
      "codemirror_mode": {
        "name": "ipython",
        "version": 3
      },
      "file_extension": ".py",
      "mimetype": "text/x-python",
      "name": "python",
      "nbconvert_exporter": "python",
      "pygments_lexer": "ipython3",
      "version": "3.10.12"
    },
    "vscode": {
      "interpreter": {
        "hash": "1f3cfdeab8dd8f9900bd16266619de191cf0f5e09365d74b1fba1714dce58066"
      }
    }
  },
  "nbformat": 4,
  "nbformat_minor": 0
}
