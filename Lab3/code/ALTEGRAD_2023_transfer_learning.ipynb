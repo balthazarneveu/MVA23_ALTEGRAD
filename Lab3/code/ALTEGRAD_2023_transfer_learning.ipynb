{
  "cells": [
    {
      "cell_type": "markdown",
      "metadata": {
        "id": "DlAfI8mCWAf3"
      },
      "source": [
        "<center><h2>ALTeGraD 2023<br>Lab Session 3: Transfer learning for NLP</h2> 24 / 10 / 2023<br> Dr. G. Shang, H. Abdine<br><br>\n",
        "\n",
        "\n",
        "<b>Student name:</b> Balthazar Neveu\n",
        "\n",
        "</center>\n",
        "\n",
        "<br><br>\n",
        "In this lab we will:\n",
        "* Implement and pretrain a language model with transformer architecture.\n",
        "* Use the pretrained model (transfer learning) to perform a sentiment analysis task which consists of classifying some books reviews into positive and negative ones.\n",
        "* Compare the performance of the pretrained model to a model trained from scratch.\n",
        " <br>\n",
        "\n",
        "<b>The deadline for this lab is October 31, 2023 11:59 PM.</b> More details about the submission and the architecture for this lab can be found in the handout PDF."
      ]
    },
    {
      "cell_type": "code",
      "execution_count": null,
      "metadata": {},
      "outputs": [],
      "source": [
        "!wget https://raw.githubusercontent.com/moussaKam/transfer_learning_transformers/main/pretraining_subset.txt\n",
        "!wget https://raw.githubusercontent.com/moussaKam/transfer_learning_transformers/main/dict.txt\n",
        "!wget https://raw.githubusercontent.com/moussaKam/transfer_learning_transformers/main/pretrained_model_4layers.pt\n",
        "!wget https://raw.githubusercontent.com/moussaKam/transfer_learning_transformers/main/cls-books/train.review.spm\n",
        "!wget https://raw.githubusercontent.com/moussaKam/transfer_learning_transformers/main/cls-books/train.label\n",
        "!wget https://raw.githubusercontent.com/moussaKam/transfer_learning_transformers/main/cls-books/test.review.spm\n",
        "!wget https://raw.githubusercontent.com/moussaKam/transfer_learning_transformers/main/cls-books/test.label\n",
        "!wget https://raw.githubusercontent.com/moussaKam/transfer_learning_transformers/main/sentencepiece.french.model\n",
        "!head -5 dict.txt\n",
        "\n",
        "!pip install prettytable\n",
        "!pip install sympy"
      ]
    },
    {
      "cell_type": "code",
      "execution_count": 1,
      "metadata": {
        "id": "IqukuIe0Rb_c"
      },
      "outputs": [
        {
          "data": {
            "text/plain": [
              "device(type='cuda')"
            ]
          },
          "execution_count": 1,
          "metadata": {},
          "output_type": "execute_result"
        }
      ],
      "source": [
        "import math\n",
        "import numpy as np\n",
        "import torch\n",
        "import torch.nn as nn\n",
        "from pathlib import Path # Deal with paths like a profressional\n",
        "from torch.nn.utils.rnn import pad_sequence\n",
        "from torch.utils.data import DataLoader, Dataset\n",
        "from typing import Dict, List, Tuple, Callable\n",
        "\n",
        "device = torch.device(\"cuda\" if torch.cuda.is_available() else \"cpu\")\n",
        "device"
      ]
    },
    {
      "cell_type": "code",
      "execution_count": 2,
      "metadata": {},
      "outputs": [],
      "source": [
        "path_vocab = Path(\"dict.txt\")\n",
        "assert path_vocab.exists()\n",
        "pretraining_path_data_train = Path(\"pretraining_subset.txt\")\n",
        "assert pretraining_path_data_train.exists()\n",
        "\n",
        "downstream_path_data_train = Path(\"train.review.spm\")\n",
        "assert downstream_path_data_train.exists()\n",
        "downstream_path_labels_train = Path(\"train.label\")\n",
        "assert downstream_path_labels_train.exists()\n",
        "downstream_path_data_valid = Path(\"test.review.spm\")\n",
        "assert downstream_path_data_valid.exists()\n",
        "downstream_path_labels_valid = Path(\"test.label\")\n",
        "assert downstream_path_labels_valid.exists()"
      ]
    },
    {
      "cell_type": "code",
      "execution_count": 3,
      "metadata": {},
      "outputs": [],
      "source": [
        "pretrained_model = Path(\"pretrained_model_4layers.pt\")\n",
        "assert pretrained_model.exists()"
      ]
    },
    {
      "cell_type": "markdown",
      "metadata": {},
      "source": [
        "# Tensor convention for NLP\n",
        "`[L, N, D]` : sentence first (`batch_first=False`)\n",
        "\n",
        "- L sequence length\n",
        "- N batch size\n",
        "- V vocabulary dimension `ntokens`\n",
        "- E embeddings dimension `embedding_dim`\n",
        "- *D hidden dimension*\n",
        "- *M transformer layers*\n",
        "- *A number of heads in attention*\n",
        "\n",
        "### Simplification:\n",
        "- `E=D` hidden dimension set equal to th embedding dimension for simplicity in the following code `nhid = embedding_dim`\n",
        "\n"
      ]
    },
    {
      "cell_type": "markdown",
      "metadata": {
        "id": "5FF6fjkqgN39"
      },
      "source": [
        "### The Model"
      ]
    },
    {
      "cell_type": "code",
      "execution_count": 4,
      "metadata": {},
      "outputs": [],
      "source": [
        "class PositionalEncoding(nn.Module):\n",
        "    \"\"\"Add fixed precomputed positional encoding to the embeddings\n",
        "    Add means (=literally addition)\n",
        "    \"\"\"\n",
        "    def __init__(self, embdeddings_dim: int , dropout: float =0.1, max_len: int =5000):\n",
        "        \"\"\"Precompute a positional encoding vector of length `max_len`\n",
        "\n",
        "        Args:\n",
        "            embdeddings_dim (int): dimension of word embeddings. Note th\n",
        "            dropout (float, optional): dropout ratio. Defaults to 0.1.\n",
        "            max_len (int, optional): maximum sequence length. Defaults to 5000.\n",
        "        \"\"\"\n",
        "        super(PositionalEncoding, self).__init__()\n",
        "        self.dropout = nn.Dropout(p=dropout)\n",
        "\n",
        "        pe = torch.zeros(max_len, embdeddings_dim)\n",
        "        position = torch.arange(0, max_len, dtype=torch.float).unsqueeze(1)\n",
        "        div_term = torch.exp(\n",
        "            torch.arange(0, embdeddings_dim, 2).float() * (-math.log(10000.0) / embdeddings_dim)\n",
        "        )\n",
        "        pe[:, 0::2] = torch.sin(position * div_term)\n",
        "        pe[:, 1::2] = torch.cos(position * div_term)\n",
        "        pe = pe.unsqueeze(0).transpose(0, 1)\n",
        "        self.register_buffer(\"pe\", pe)\n",
        "\n",
        "    def forward(self, x: torch.FloatTensor) -> torch.FloatTensor:\n",
        "        \"\"\"Add positional encoding to the word embeddings.\n",
        "        Simply add the pre\n",
        "\n",
        "        Args:\n",
        "            x (torch.FloatTensor): embeddings tensor [L, N, D]\n",
        "\n",
        "        Returns:\n",
        "            torch.FloatTensor: Enhanced embeddings tensor, ready to go straight to the transformer blocks. \n",
        "        \"\"\"\n",
        "        x = x + self.pe[: x.size(0), :]\n",
        "        return self.dropout(x)"
      ]
    },
    {
      "cell_type": "code",
      "execution_count": 5,
      "metadata": {
        "id": "p0cj9WkSFQwl"
      },
      "outputs": [],
      "source": [
        "class TransformerModel(nn.Module):\n",
        "    \"\"\"Transformer base model \n",
        "    =========================\n",
        "    - embedding from word to vectors\n",
        "    - add positional encoding\n",
        "    - `nlayers` * transformer blocks\n",
        "    \"\"\"\n",
        "    def __init__(self, ntokens:int, nhead:int, nhid:int, nlayers:int, dropout=0.5):\n",
        "        \"\"\"Transformer base model\n",
        "\n",
        "        Args:\n",
        "            ntokens (int): the size of vocabulary\n",
        "            nhead (int): number of heads in each of the MHA models\n",
        "            nhid (int): hidden dimension of the model. assume `embedding_dim` = `nhid`\n",
        "            nlayers (int): number of nn.TransformerEncoderLayer in nn.TransformerEncoder\n",
        "            dropout (float, optional): dropout value. Defaults to 0.5.\n",
        "        \"\"\"\n",
        "        super(TransformerModel, self).__init__()\n",
        "        self.model_type = \"Transformer\"\n",
        "        embedding_dim = nhid # use the same embedding & hidden dimensions\n",
        "        self.encoder = nn.Embedding(ntokens, embedding_dim) # fill me, nhid = the dim_embed\n",
        "        self.pos_encoder = PositionalEncoding(nhid, dropout=dropout) #fill me, the PositionalEncoding class is implemented in the next cell\n",
        "        \n",
        "        encoder_layers = nn.TransformerEncoderLayer(\n",
        "            d_model=nhid, # input dimension to the transformer encoder layer\n",
        "            nhead=nhead, # number of heads for MHA (Multi-head attention)\n",
        "            dim_feedforward=nhid, # output dimension of the MLP on top of the transformer.\n",
        "            dropout=dropout\n",
        "        ) # we assume nhid = d_model = dim_feedforward\n",
        "        \n",
        "        self.transformer_encoder = nn.TransformerEncoder(\n",
        "            encoder_layers,\n",
        "            num_layers=nlayers\n",
        "        )\n",
        "        self.nhid = nhid\n",
        "        self.init_weights()\n",
        "    \n",
        "    @staticmethod\n",
        "    def generate_square_subsequent_mask(sz: int) -> torch.FloatTensor:\n",
        "        \"\"\"Generate causality mask = mask future tokens for next word prediction\n",
        "\n",
        "        Args:\n",
        "            sz (int): mask size M\n",
        "\n",
        "        Returns:\n",
        "            torch.FloatTensor: squares matrix [M, M] to mask the attention matrix.\n",
        "        \"\"\"\n",
        "        mask = (torch.triu(torch.ones(sz, sz)) == 1).transpose(0, 1)\n",
        "        mask = (\n",
        "            mask.float()\n",
        "            .masked_fill(mask == 0, float(\"-inf\"))\n",
        "            .masked_fill(mask == 1, float(0.0))\n",
        "        )\n",
        "        return mask\n",
        "\n",
        "    def init_weights(self):\n",
        "        initrange = 0.1\n",
        "        self.encoder.weight.data.uniform_(-initrange, initrange)\n",
        "\n",
        "    def forward(\n",
        "            self, src: torch.LongTensor,\n",
        "            src_mask: torch.FloatTensor\n",
        "        ) -> torch.FloatTensor:\n",
        "        \"\"\"Embdeddings, positional encoders, go trough `nlayers` of residual {multi (`nhead`) attention heads + MLP}.\n",
        "\n",
        "        Args:\n",
        "            src (torch.LongTensor): [L, N, V] sequence of tokens , V=vocabu\n",
        "            src_mask (torch.FloatTensor): [L, L] squared mask\n",
        "\n",
        "        Returns:\n",
        "            torch.FloatTensor: encoded sequence [L, N, D]\n",
        "        \"\"\"\n",
        "        src = self.encoder(src) * math.sqrt(self.nhid) #embed [L, N, V] -> [L, N, E]\n",
        "        src = self.pos_encoder(src) # [L, N, E]  - add positional encoding\n",
        "        output = self.transformer_encoder(src, mask=src_mask)\n",
        "        return output"
      ]
    },
    {
      "cell_type": "code",
      "execution_count": 6,
      "metadata": {
        "id": "kt2QQohaFZry"
      },
      "outputs": [],
      "source": [
        "class ClassificationHead(nn.Module):\n",
        "    def __init__(self, nhid: int, nclasses: int):\n",
        "        \"\"\"Linear classification head -> returns logits (not probabilities)\n",
        "\n",
        "        Args:\n",
        "            nhid (int): hidden dimension\n",
        "            nclasses (int): number of classes.\n",
        "        \"\"\"\n",
        "        super(ClassificationHead, self).__init__()\n",
        "        self.decoder = nn.Linear(nhid, nclasses)\n",
        "        self.init_weights()\n",
        "\n",
        "    def init_weights(self):\n",
        "        initrange = 0.1\n",
        "        self.decoder.bias.data.zero_()\n",
        "        self.decoder.weight.data.uniform_(-initrange, initrange)\n",
        "\n",
        "    def forward(self, src: torch.FloatTensor) -> torch.FloatTensor:\n",
        "        \"\"\"Classify encoded feature vectors\n",
        "\n",
        "        Args:\n",
        "            src (torch.FloatTensor): Encoded feature vectors [L, N, D]\n",
        "\n",
        "        Returns:\n",
        "            torch.FloatTensor: Logits (no softmax applied)\n",
        "        \"\"\"\n",
        "        output = self.decoder(src)\n",
        "        return output\n",
        "\n",
        "class Model(nn.Module):\n",
        "    def __init__(self, ntoken: int, nhead: int, nhid: int, nlayers: int, nclasses: int, dropout: float=0.5):\n",
        "        \"\"\"TransformerModel+ClassificationHead\n",
        "        \n",
        "        This allows defining a model for next word prediction (classification with ntoken classes)\n",
        "        Or other downstream tasks if the base `TransformerModel` is pretrained\n",
        "\n",
        "        Args:\n",
        "            ntoken (int): size of vocabulary for (`TransformerModel`)\n",
        "            nhead (int): number of heads in each of the MHA models (`TransformerModel`)\n",
        "            nhid (int): hidden dimension of the model. assume `embedding_dim` = `nhid`\n",
        "            nlayers (int):  number of nn.TransformerEncoderLayer in nn.TransformerEncoder (`TransformerModel`)\n",
        "            nclasses (int): number of output classes in the classifier `ClassificationHead`.\n",
        "                - `nclasses` = size of vocabulary for next word prediction.\n",
        "                - `nclasses` =2 for downstream tasks like sentiment analyzis.\n",
        "            dropout (float, optional): dropout rate. Defaults to 0.5.  (`TransformerModel`)\n",
        "        \"\"\"\n",
        "        super(Model, self).__init__()\n",
        "        self.base = TransformerModel(ntoken, nhead, nhid, nlayers, dropout=dropout)\n",
        "        self.classifier = ClassificationHead(nhid, nclasses)\n",
        "\n",
        "    def forward(self, src:torch.LongTensor, src_mask: torch.FloatTensor) -> torch.FloatTensor:\n",
        "        \"\"\"Encoder + linear classifier\n",
        "\n",
        "        Args:\n",
        "            src (torch.LongTensor): sequence of tokens [L, N, V]\n",
        "            src_mask (torch.FloatTensor): [L, L] squared mask.\n",
        "\n",
        "        Returns:\n",
        "            torch.FloatTensor: [N, C]\n",
        "        \"\"\"\n",
        "        # base model\n",
        "        x = self.base(src, src_mask)\n",
        "        # classifier model\n",
        "        output = self.classifier(x)\n",
        "        return output"
      ]
    },
    {
      "cell_type": "markdown",
      "metadata": {},
      "source": [
        "### Causal attention mask & useless computations (question 1)"
      ]
    },
    {
      "cell_type": "code",
      "execution_count": 7,
      "metadata": {},
      "outputs": [
        {
          "name": "stdout",
          "output_type": "stream",
          "text": [
            "10 useless computations for a sequence of 5 tokens\n"
          ]
        },
        {
          "data": {
            "text/plain": [
              "tensor([[0., -inf, -inf, -inf, -inf],\n",
              "        [0., 0., -inf, -inf, -inf],\n",
              "        [0., 0., 0., -inf, -inf],\n",
              "        [0., 0., 0., 0., -inf],\n",
              "        [0., 0., 0., 0., 0.]])"
            ]
          },
          "execution_count": 7,
          "metadata": {},
          "output_type": "execute_result"
        }
      ],
      "source": [
        "sentence_length_test = 5\n",
        "src_mask = TransformerModel.generate_square_subsequent_mask(sentence_length_test)\n",
        "useless_computations = sentence_length_test*(sentence_length_test-1)//2\n",
        "assert int( ((-src_mask).isinf()).sum()) == useless_computations\n",
        "print(f\"{useless_computations} useless computations for a sequence of {sentence_length_test} tokens\")\n",
        "src_mask"
      ]
    },
    {
      "cell_type": "markdown",
      "metadata": {},
      "source": [
        "# Unit test"
      ]
    },
    {
      "cell_type": "code",
      "execution_count": null,
      "metadata": {
        "id": "rhb2gkUhJMR0"
      },
      "outputs": [],
      "source": [
        "def test_transformer_based_classifier():\n",
        "    ntokens = 100 #  V the size of vocabulary\n",
        "    nhid = 200  # hidden dimension\n",
        "    nlayers = 4  # the number of nn.TransformerEncoderLayer in nn.TransformerEncoder\n",
        "    nhead = 2  # the number of heads in the multiheadattention models\n",
        "    dropout = 0  # the dropout value\n",
        "    nclasses = ntokens # classification to get output words in the same language\n",
        "    model = Model(ntokens, nhead, nhid, nlayers, nclasses, dropout).to(device)\n",
        "    dummy_input = torch.tensor([[2, 6, 2, 5, 43, 21], [8, 5, 3, 42, 43, 21]]).to(device)\n",
        "\n",
        "    sequence_length = dummy_input.shape[0] #L\n",
        "    batch_size = dummy_input.shape[1] #N\n",
        "\n",
        "    src_mask = TransformerModel.generate_square_subsequent_mask(sequence_length).to(device)\n",
        "    assert list(src_mask.shape) == [sequence_length,sequence_length]\n",
        "    # batch dimension N is not involved in the mask computation! We assume all sequences in the batch has the same sequence length L\n",
        "    out = model.forward(dummy_input, src_mask)\n",
        "    expected_size = [sequence_length, batch_size, nclasses]\n",
        "    assert list(out.shape) == expected_size, f\"{out.shape}, {expected_size}\"\n",
        "    print(out.shape)\n",
        "test_transformer_based_classifier()"
      ]
    },
    {
      "cell_type": "markdown",
      "metadata": {
        "id": "i74NN897Fcit"
      },
      "source": [
        "## Vocabulary and Tokenization"
      ]
    },
    {
      "cell_type": "code",
      "execution_count": 9,
      "metadata": {
        "id": "vFdH_-JeFbGA"
      },
      "outputs": [
        {
          "name": "stdout",
          "output_type": "stream",
          "text": [
            "▁trop\n"
          ]
        }
      ],
      "source": [
        "SRC = \"source_sequence\"\n",
        "TGT = \"target\"\n",
        "SOS = \"<sos>\"\n",
        "PAD = \"<pad>\"\n",
        "EOS = \"<eos>\"\n",
        "OOV = \"<oov>\"\n",
        "LM_TASK = \"language_modeling\"\n",
        "DS_TASK = \"classification\"\n",
        "token2ind = {SOS: 0, PAD : 1, EOS: 2, OOV: 3} # the 4 first indices are reserved to special tokens\n",
        "offset = max(token2ind.values())+1\n",
        "with open(path_vocab, \"r\") as f:\n",
        "    for idx, line in enumerate(f):\n",
        "        word = line.split()[0].strip()\n",
        "        token2ind[word] = idx+offset\n",
        "ind2token = {index: token for token, index in token2ind.items()}\n",
        "print(ind2token[1111])"
      ]
    },
    {
      "cell_type": "markdown",
      "metadata": {
        "id": "XOExGODajN8p"
      },
      "source": [
        "### Data Loader\n"
      ]
    },
    {
      "cell_type": "code",
      "execution_count": 10,
      "metadata": {
        "id": "Y0jN-Ar9i5Q1"
      },
      "outputs": [],
      "source": [
        "class Dataset(Dataset):\n",
        "    \"\"\"Dataset \n",
        "    Input data:\n",
        "        - a sentence from the corpus\n",
        "    Targets / Labels\n",
        "        - shifted sentence for the language modeling task\n",
        "        - label for classification\n",
        "    Dataset deals with loading text from file\n",
        "    Note: put everything in RAM at init won't work for large corpuses...\n",
        "    \"\"\"\n",
        "    def __init__(\n",
        "        self,\n",
        "        path_documents: Path,\n",
        "        path_labels: Path = None,\n",
        "        token2ind: Dict[str, int]={},\n",
        "        max_len: int=512,\n",
        "        task: str=LM_TASK,\n",
        "    ):\n",
        "        self.task = task\n",
        "        self.max_len = max_len\n",
        "        self.token2ind = token2ind\n",
        "        self.documents = []\n",
        "        self.labels = []\n",
        "        with open(path_documents, \"r\") as f1:\n",
        "            for line in f1:\n",
        "                self.documents.append(line.strip())\n",
        "        if task == \"classification\":\n",
        "            with open(path_labels, \"r\") as f1:\n",
        "                for line in f1:\n",
        "                    self.labels.append(int(line.strip()))\n",
        "            assert len(self.labels) == len(self.documents)\n",
        "        self.oov_index = self.token2ind[OOV]\n",
        "    def __len__(self):\n",
        "        return len(self.documents)\n",
        "\n",
        "    def __getitem__(self, index: int):\n",
        "        sequence = self.documents[index].split()\n",
        "        if len(sequence) > self.max_len - 1:\n",
        "            sequence = sequence[: self.max_len - 1] \n",
        "        \n",
        "        source_sequence = [self.token2ind.get(token, self.oov_index) for token in sequence]\n",
        "        source_sequence.insert(0, self.token2ind[SOS]) \n",
        "        # (constract the input sequence using token2ind, sequence and special tokens)\n",
        "        if self.task == LM_TASK:\n",
        "            target = source_sequence[1:] # offset the sequence by one\n",
        "            # A, B , C, D , <EOS>\n",
        "            target.append(self.token2ind[EOS])\n",
        "            assert len(target) == len(source_sequence)\n",
        "        elif self.task == DS_TASK:\n",
        "            target = [self.labels[index]]\n",
        "        sample = {\n",
        "            SRC: torch.tensor(source_sequence),\n",
        "            TGT: torch.tensor(target),\n",
        "        }\n",
        "        return sample\n",
        "\n",
        "\n",
        "def collate_sentences_keep_dim(batch: List[Dict[str, torch.LongTensor]]) -> Tuple[torch.LongTensor, torch.LongTensor]:\n",
        "    \"\"\"Uniformize batches (have the same sentence length with padding for all sentences across the batch)\n",
        "\n",
        "    Args:\n",
        "        batch (List[Dict[str, torch.LongTensor]]): List of dict samples containing \n",
        "\n",
        "    Returns:\n",
        "        Tuple[torch.LongTensor, torch.LongTensor]: \n",
        "            - source [L, N, V]\n",
        "            where L is the maximum length along all sentences in the batch\n",
        "            - target \n",
        "                - [L, N, V] for language modeling task\n",
        "                - [N, C] for classification with C the number of classes\n",
        "            \n",
        "    \"\"\"\n",
        "    source_sequences = pad_sequence(\n",
        "        #we use padding to match the length of the sequences in the same batch\n",
        "        [sample[SRC] for sample in batch], padding_value=token2ind[PAD]\n",
        "    )\n",
        "    target = pad_sequence(\n",
        "        [sample[TGT] for sample in batch], padding_value=token2ind[PAD]\n",
        "    )\n",
        "    return source_sequences, target\n",
        "\n",
        "\n",
        "def collate_sentences(batch: List[Dict[str, torch.LongTensor]]) -> Tuple[torch.LongTensor, torch.LongTensor]:\n",
        "    \"\"\"Uniformization of batches through padding + flatten target labels\"\"\"\n",
        "    source_sequences, target = collate_sentences_keep_dim(batch)\n",
        "    return source_sequences, target.reshape(-1)\n",
        "\n",
        "def get_loader(\n",
        "    path_documents :Path,\n",
        "    path_labels: Path = None,\n",
        "    token2ind : Dict[str, int]={},\n",
        "    max_len: int =512,\n",
        "    batch_size: int = 32,\n",
        "    task: str=LM_TASK,\n",
        "    collate_fn: Callable = collate_sentences,\n",
        "    shuffle=True\n",
        ") -> DataLoader:\n",
        "    \"\"\"Unified data loader for both Language modeling and classification task\n",
        "\n",
        "    Args:\n",
        "        path_documents (Path): Path to a text file (each sentence is on a different line)\n",
        "        path_labels (Path, optional): Path to classification labels. \n",
        "            Defaults to None for language modeling\n",
        "        token2ind (Dict[str, int], optional): Mapping (look up table) between tokens and integer indexes. Defaults to {}.\n",
        "        max_len (int, optional): Maximum sentence length, Defaults to 512.\n",
        "            Please note that you may miss the <SOS> token a lot if max_len is low \n",
        "        batch_size (int, optional): Batch size sampled every time.\n",
        "            Be careful with the last sample of the batch but here `drop_last=True`.  Defaults to 32.\n",
        "        task (str, optional): \n",
        "            Choice `LM_TASK`, `DS_TASK`. Defaults to LM_TASK.\n",
        "        collate_fn (Callable, optional): Collate function describing how to pad. Defaults to collate_sentences.\n",
        "        shuffle (bool, optional): shuffle inputs. usually disable for validation set. Defaults to True.\n",
        "\n",
        "    Returns:\n",
        "        DataLoader: Pytorch dataloader.\n",
        "            - inputs = sentence, target = offset sentence for language modeling\n",
        "            - inputs = sentence, target = label for classification task\n",
        "    \"\"\"\n",
        "    dataset = Dataset(\n",
        "        path_documents,\n",
        "        path_labels=path_labels,\n",
        "        token2ind=token2ind,\n",
        "        max_len=max_len,\n",
        "        task=task,\n",
        "    )\n",
        "    data_loader = DataLoader(\n",
        "        dataset=dataset,\n",
        "        batch_size=batch_size,\n",
        "        shuffle=shuffle,\n",
        "        collate_fn=collate_fn,\n",
        "        pin_memory=True,\n",
        "        drop_last=True,\n",
        "    )\n",
        "    return data_loader"
      ]
    },
    {
      "cell_type": "markdown",
      "metadata": {},
      "source": [
        "## Sanity check on data loader and collate functions"
      ]
    },
    {
      "cell_type": "code",
      "execution_count": 11,
      "metadata": {},
      "outputs": [
        {
          "name": "stdout",
          "output_type": "stream",
          "text": [
            "<sos> Et j ’ ai dû mettre du temps et m ' appliquer , pour bien saisir les oli viers et les donner avec leur juste physion omie .\n",
            "Et j ’ ai dû mettre du temps et m ' appliquer , pour bien saisir les oli viers et les donner avec leur juste physion omie . <eos>\n",
            "<sos> Les cheveux sont faits de 1.500 boucles individuelles , avec chacune son propre degré de fris ure et de roux , placées sur le crâne de la jeune fille et programmées pour interagir les unes avec les autres et avec l ’ environnement extérieur .\n",
            "Les cheveux sont faits de 1.500 boucles individuelles , avec chacune son propre degré de fris ure et de roux , placées sur le crâne de la jeune fille et programmées pour interagir les unes avec les autres et avec l ’ environnement extérieur . <eos>\n",
            "<sos> Des scientifiques pourraient toutefois avoir trouvé une parade au problème .\n",
            "Des scientifiques pourraient toutefois avoir trouvé une parade au problème . <eos>\n",
            "<sos> Mais des jeux plus dangereux étaient en cours de réalisation .\n",
            "Mais des jeux plus dangereux étaient en cours de réalisation . <eos>\n",
            "<sos> Née à Lunéville , le 20 juin 1924, elle avait épousé le 5 septembre 1947 Maurice Ch aff in , décédé le 17 novembre 1960 à Chal igny .\n",
            "Née à Lunéville , le 20 juin 1924, elle avait épousé le 5 septembre 1947 Maurice Ch aff in , décédé le 17 novembre 1960 à Chal igny . <eos>\n"
          ]
        }
      ],
      "source": [
        "# Own implemenation of ...\n",
        "N = 32\n",
        "data_loader = get_loader(\n",
        "    pretraining_path_data_train,\n",
        "    token2ind=token2ind,\n",
        "    batch_size=N,\n",
        "    task=LM_TASK,\n",
        "    collate_fn=collate_sentences_keep_dim\n",
        ")\n",
        "token2ind[OOV]\n",
        "it = iter(data_loader)\n",
        "\n",
        "def tensor_to_sentence(tensor_sentence):\n",
        "        return \" \".join([ind2token.get(el, \"not found\").replace(\"▁\", \"\") for el in tensor_sentence.numpy() if el != token2ind[PAD]])\n",
        "\n",
        "for u in range(5):\n",
        "    sampled_batch = next(it)\n",
        "    # first[0].shape, first[1].shape\n",
        "    # first[0][:, 0] # first sentence # L, N\n",
        "    first_sentence = sampled_batch[0][:, 0]\n",
        "    def tensor_to_sentence(tensor_sentence):\n",
        "        return \" \".join([ind2token.get(el, \"not found\").replace(\"▁\", \"\") for el in tensor_sentence.numpy() if el != token2ind[PAD]])\n",
        "    print(tensor_to_sentence(first_sentence))\n",
        "    print(tensor_to_sentence(sampled_batch[1][:, 0]))"
      ]
    },
    {
      "cell_type": "markdown",
      "metadata": {},
      "source": [
        "# Model definition"
      ]
    },
    {
      "cell_type": "code",
      "execution_count": 120,
      "metadata": {},
      "outputs": [
        {
          "name": "stdout",
          "output_type": "stream",
          "text": [
            "TOTAL TOKENS 50001\n"
          ]
        }
      ],
      "source": [
        "ntokens = len(ind2token) # the size of vocabulary\n",
        "print(f\"TOTAL TOKENS {len(ind2token)}\")\n",
        "nhid = 200  # the dimension of the feedforward network model in nn.TransformerEncoder\n",
        "nlayers = 4  # the number of nn.TransformerEncoderLayer in nn.TransformerEncoder\n",
        "nhead = 2  # the number of heads in the multiheadattention models\n",
        "dropout = 0  # the dropout value\n",
        "\n",
        "nclasses = 2 # for classification task only"
      ]
    },
    {
      "cell_type": "markdown",
      "metadata": {},
      "source": [
        "# Question 3 code: amount of parameters analytic validation\n",
        "\n",
        "We'll use `sympy` to check that our analytic formula match with `torch.numel` values"
      ]
    },
    {
      "cell_type": "code",
      "execution_count": 121,
      "metadata": {},
      "outputs": [
        {
          "data": {
            "text/markdown": [
              "Embeddings linear projection weights: $D V$ =  $ D V = 10000200 $"
            ],
            "text/plain": [
              "<IPython.core.display.Markdown object>"
            ]
          },
          "metadata": {},
          "output_type": "display_data"
        },
        {
          "data": {
            "text/markdown": [
              "MHA inputs Weights (Key, Query, Value): $A 3 D D \\frac{1}{A}$ =  $ 3 D^{2} = 120000 $"
            ],
            "text/plain": [
              "<IPython.core.display.Markdown object>"
            ]
          },
          "metadata": {},
          "output_type": "display_data"
        },
        {
          "data": {
            "text/markdown": [
              "MHA inputs Bias (Key, Query, Value): $A 3 D \\frac{1}{A}$ =  $ 3 D = 600 $"
            ],
            "text/plain": [
              "<IPython.core.display.Markdown object>"
            ]
          },
          "metadata": {},
          "output_type": "display_data"
        },
        {
          "data": {
            "text/markdown": [
              "MHA output Weights: $\\frac{A D D}{A}$ =  $ D^{2} = 40000 $"
            ],
            "text/plain": [
              "<IPython.core.display.Markdown object>"
            ]
          },
          "metadata": {},
          "output_type": "display_data"
        },
        {
          "data": {
            "text/markdown": [
              "MHA output Bias: $\\frac{A D}{A}$ =  $ D = 200 $"
            ],
            "text/plain": [
              "<IPython.core.display.Markdown object>"
            ]
          },
          "metadata": {},
          "output_type": "display_data"
        },
        {
          "data": {
            "text/markdown": [
              "Position-wise #1 Linear MLP weights: $D D$ =  $ D^{2} = 40000 $"
            ],
            "text/plain": [
              "<IPython.core.display.Markdown object>"
            ]
          },
          "metadata": {},
          "output_type": "display_data"
        },
        {
          "data": {
            "text/markdown": [
              "Position-wise #1 Linear MLP bias: $D$ =  $ D = 200 $"
            ],
            "text/plain": [
              "<IPython.core.display.Markdown object>"
            ]
          },
          "metadata": {},
          "output_type": "display_data"
        },
        {
          "data": {
            "text/markdown": [
              "Position-wise #2 Linear MLP weights: $D D$ =  $ D^{2} = 40000 $"
            ],
            "text/plain": [
              "<IPython.core.display.Markdown object>"
            ]
          },
          "metadata": {},
          "output_type": "display_data"
        },
        {
          "data": {
            "text/markdown": [
              "Position-wise #2 Linear MLP bias: $D$ =  $ D = 200 $"
            ],
            "text/plain": [
              "<IPython.core.display.Markdown object>"
            ]
          },
          "metadata": {},
          "output_type": "display_data"
        },
        {
          "data": {
            "text/markdown": [
              "Layer norm #1 coefficient: $D$ =  $ D = 200 $"
            ],
            "text/plain": [
              "<IPython.core.display.Markdown object>"
            ]
          },
          "metadata": {},
          "output_type": "display_data"
        },
        {
          "data": {
            "text/markdown": [
              "Layer norm #1 bias: $D$ =  $ D = 200 $"
            ],
            "text/plain": [
              "<IPython.core.display.Markdown object>"
            ]
          },
          "metadata": {},
          "output_type": "display_data"
        },
        {
          "data": {
            "text/markdown": [
              "Layer norm #2 coefficient: $D$ =  $ D = 200 $"
            ],
            "text/plain": [
              "<IPython.core.display.Markdown object>"
            ]
          },
          "metadata": {},
          "output_type": "display_data"
        },
        {
          "data": {
            "text/markdown": [
              "Layer norm #2 bias: $D$ =  $ D = 200 $"
            ],
            "text/plain": [
              "<IPython.core.display.Markdown object>"
            ]
          },
          "metadata": {},
          "output_type": "display_data"
        },
        {
          "data": {
            "text/markdown": [
              "Classifier weights: $C D$ =  $ C D = 10000200 $"
            ],
            "text/plain": [
              "<IPython.core.display.Markdown object>"
            ]
          },
          "metadata": {},
          "output_type": "display_data"
        },
        {
          "data": {
            "text/markdown": [
              "Classifier bias: $C$ =  $ C = 50001 $"
            ],
            "text/plain": [
              "<IPython.core.display.Markdown object>"
            ]
          },
          "metadata": {},
          "output_type": "display_data"
        },
        {
          "name": "stdout",
          "output_type": "stream",
          "text": [
            "+-------------------------------------------------------------+------------+---------------------+------------------+\n",
            "|                           Modules                           | Parameters | Analytic validation | Analytic formula |\n",
            "+-------------------------------------------------------------+------------+---------------------+------------------+\n",
            "|                     base.encoder.weight                     |  10000200  |       10000200      |       D*V        |\n",
            "|  base.transformer_encoder.layers.0.self_attn.in_proj_weight |   120000   |        120000       |       3*D²       |\n",
            "|   base.transformer_encoder.layers.0.self_attn.in_proj_bias  |    600     |         600         |       3*D        |\n",
            "| base.transformer_encoder.layers.0.self_attn.out_proj.weight |   40000    |        40000        |        D²        |\n",
            "|  base.transformer_encoder.layers.0.self_attn.out_proj.bias  |    200     |         200         |        D         |\n",
            "|       base.transformer_encoder.layers.0.linear1.weight      |   40000    |        40000        |        D²        |\n",
            "|        base.transformer_encoder.layers.0.linear1.bias       |    200     |         200         |        D         |\n",
            "|       base.transformer_encoder.layers.0.linear2.weight      |   40000    |        40000        |        D²        |\n",
            "|        base.transformer_encoder.layers.0.linear2.bias       |    200     |         200         |        D         |\n",
            "|        base.transformer_encoder.layers.0.norm1.weight       |    200     |         200         |        D         |\n",
            "|         base.transformer_encoder.layers.0.norm1.bias        |    200     |         200         |        D         |\n",
            "|        base.transformer_encoder.layers.0.norm2.weight       |    200     |         200         |        D         |\n",
            "|         base.transformer_encoder.layers.0.norm2.bias        |    200     |         200         |        D         |\n",
            "|                  classifier.decoder.weight                  |  10000200  |       10000200      |       C*D        |\n",
            "|                   classifier.decoder.bias                   |   50001    |        50001        |        C         |\n",
            "+-------------------------------------------------------------+------------+---------------------+------------------+\n",
            "Total Trainable Params: 20292401\n",
            "⚠️ ⚠️ ⚠️ ⚠️ ⚠️ ⚠️ ⚠️ ⚠️ ⚠️ ⚠️ ⚠️ ⚠️ ⚠️ ⚠️ ⚠️ ⚠️ ⚠️ ⚠️ ⚠️ ⚠️ Simplified M=1 layer model\n"
          ]
        }
      ],
      "source": [
        "from sympy import symbols, Eq, sympify\n",
        "from IPython.display import display, Markdown\n",
        "import sympy\n",
        "from prettytable import PrettyTable\n",
        "\n",
        "def count_parameters(current_model: torch.nn.Module, table_flag: bool =True, details: List[List[str]]=[]) -> int:\n",
        "    \"\"\"Created Count parameters for each torch module\n",
        "    \"\"\"\n",
        "    table = PrettyTable([\"Modules\", \"Parameters\", \"Analytic validation\", \"Analytic formula\"])\n",
        "    total_params = 0\n",
        "    for index, (name, parameter) in enumerate(current_model.named_parameters()):\n",
        "        if not parameter.requires_grad:\n",
        "            continue\n",
        "        params = parameter.numel()\n",
        "        detail = [\"\", \"\"] if index>=len(details) else details[index]\n",
        "        table.add_row([name, params, detail[0], detail[1]])\n",
        "        total_params += params\n",
        "    if table_flag:\n",
        "        print(table)\n",
        "    print(f\"Total Trainable Params: {total_params}\")\n",
        "    return total_params\n",
        "\n",
        "\n",
        "\n",
        "V, D, A, C, M = symbols(\"V, D, A, C, M\")\n",
        "embedding_size = V*D\n",
        "true_values = {\n",
        "    M: int(nlayers),\n",
        "    V: int(ntokens),\n",
        "    D: int(nhid),\n",
        "    A: int(nhead),\n",
        "    C: int(ntokens)\n",
        "}\n",
        "list_computations = []\n",
        "def get_analytic_expression(name, expr_:str):\n",
        "    expr = sympify(expr_)\n",
        "    res = expr.evalf(subs=true_values)\n",
        "    equation = Eq(expr, int(res))\n",
        "    latex_eq = sympy.latex(equation)\n",
        "    eq_original  = sympy.latex(sympify(expr_, evaluate=False))\n",
        "    display(Markdown(f\"{name}: ${eq_original}$ =  $ {latex_eq} $\"))\n",
        "    list_computations.append([int(res) , str(expr).replace(\"**2\", \"²\")]) #[f\"{name}: ${eq_original}$ =  $ {latex_eq} $\", ])\n",
        "get_analytic_expression(\"Embeddings linear projection weights\", \"V*D\")\n",
        "get_analytic_expression(\"MHA inputs Weights (Key, Query, Value)\", \"A*3*(D*(D/A))\")\n",
        "get_analytic_expression(\"MHA inputs Bias (Key, Query, Value)\", \"A*3*(D/A)\")\n",
        "\n",
        "get_analytic_expression(\"MHA output Weights\", \"A*((D/A)*D)\")\n",
        "get_analytic_expression(\"MHA output Bias\", \"A*(D/A)\")\n",
        "\n",
        "for linear_layer in range(1, 2+1):\n",
        "    get_analytic_expression(f\"Position-wise #{linear_layer} Linear MLP weights\", \"D*D\")\n",
        "    get_analytic_expression(f\"Position-wise #{linear_layer} Linear MLP bias\", \"D\")\n",
        "\n",
        "for linear_layer in range(1, 2+1):\n",
        "    get_analytic_expression(f\"Layer norm #{linear_layer} coefficient\", \"D\")\n",
        "    get_analytic_expression(f\"Layer norm #{linear_layer} bias\", \"D\")\n",
        "\n",
        "\n",
        "get_analytic_expression(\"Classifier weights\", \"D*C\")\n",
        "get_analytic_expression(\"Classifier bias\", \"C\")\n",
        "\n",
        "# Layer Normalization applies per-element scale and bias... so to each D dimension\n",
        "model_dissect = Model(ntokens, nhead, nhid, 1, ntokens, dropout).to(device)\n",
        "count_parameters(model_dissect, table_flag=True, details=list_computations)\n",
        "\n",
        "print(20*\"⚠️ \" + \"Simplified M=1 layer model\")"
      ]
    },
    {
      "cell_type": "code",
      "execution_count": 122,
      "metadata": {},
      "outputs": [
        {
          "name": "stdout",
          "output_type": "stream",
          "text": [
            "Total Trainable Params: 21018401\n"
          ]
        },
        {
          "data": {
            "text/markdown": [
              "Matches - Full model: $C \\left(D + 1\\right) + D V + M \\left(4 D + 6 \\left(D^{2} + D\\right)\\right)$ =  $ C \\left(D + 1\\right) + D V + M \\left(6 D^{2} + 10 D\\right) = 21018401 $"
            ],
            "text/plain": [
              "<IPython.core.display.Markdown object>"
            ]
          },
          "metadata": {},
          "output_type": "display_data"
        },
        {
          "data": {
            "text/markdown": [
              "Classification model - frozen transformer backbone: $2 \\left(D + 1\\right)$ =  $ 2 D + 2 = 402 $"
            ],
            "text/plain": [
              "<IPython.core.display.Markdown object>"
            ]
          },
          "metadata": {},
          "output_type": "display_data"
        }
      ],
      "source": [
        "model_total = Model(ntokens, nhead, nhid, nlayers, ntokens, dropout)\n",
        "total = count_parameters(model_total, table_flag=False, details=[])\n",
        "get_analytic_expression(\"Matches - Full model\", \"V*D + M*(6*(D^2+D) + 4*D) + C*(D+1)\")\n",
        "\n",
        "get_analytic_expression(\"Classification model - frozen transformer backbone\", \"2*(D+1)\")"
      ]
    },
    {
      "cell_type": "markdown",
      "metadata": {
        "id": "uTns4lHrjUTa"
      },
      "source": [
        "## Training loop\n",
        "Valid both for language modeling (next word prediction) and downstream task (sentiment analyzis/classification)"
      ]
    },
    {
      "cell_type": "code",
      "execution_count": 124,
      "metadata": {},
      "outputs": [],
      "source": [
        "# Blank model\n",
        "model_pretraining = Model(ntokens, nhead, nhid, nlayers, ntokens, dropout).to(device)\n",
        "\n",
        "# optimization parameters\n",
        "criterion = nn.CrossEntropyLoss(ignore_index=token2ind[PAD])\n",
        "lr = 0.0003  # learning rate\n",
        "optimizer = torch.optim.Adam(model_pretraining.parameters(), lr=lr)"
      ]
    },
    {
      "cell_type": "code",
      "execution_count": 125,
      "metadata": {},
      "outputs": [],
      "source": [
        "def train(\n",
        "    model: Model,\n",
        "    path_data_train: Path,\n",
        "    path_labels_train: Path =None,\n",
        "    save_interval: int =-1,\n",
        "    log_interval: int=5,\n",
        "    task: str=LM_TASK,\n",
        "    batch_size: int =32,\n",
        "    max_len: int =512,\n",
        "    epoch: int =0,\n",
        "    name: str =\"\",\n",
        "    freeze_backbone: bool =False,\n",
        "    debugging_prints: bool =False\n",
        ") -> List[float]:\n",
        "    \"\"\"Train a given model for 1 epoch. Need to call several times to run a full training.\n",
        "    Creates dataloader internally\n",
        "\n",
        "    Args:\n",
        "        model (Model): Model for Language modeling or downstream task\n",
        "        path_data_train (Path): path to training data corpus\n",
        "        path_labels_train (Path, optional): path to training data corpus. Defaults to None.\n",
        "        save_interval (int, optional): save model to disk every save_interval . Defaults to -1.\n",
        "        log_interval (int, optional): log metrics every log_interval. Defaults to 5.\n",
        "        task (str, optional): LM_TASK / DS_TASK . Defaults to LM_TASK.\n",
        "        batch_size (int, optional): batch size (hihgly dependant on your GPU). Defaults to 32.\n",
        "        max_len (int, optional): max sentence length. Defaults to 512.\n",
        "        epoch (int, optional): for logging only, to display the epoch nicely . Defaults to 0.\n",
        "        name (str, optional): for logging only, to print the configuration aswell.\n",
        "        freeze_backbone (bool, optional): Freeze transformer backbone (for DS_TASK only). Lightweight training! Defaults to False.\n",
        "        debugging_prints (bool, optional): Debug prints to check that the last word is correctly extracted... \n",
        "        took me a while to figure it out. Defaults to False.\n",
        "\n",
        "    Returns:\n",
        "        List[float]: List of losses\n",
        "    \"\"\"\n",
        "    model.train()\n",
        "    if freeze_backbone:\n",
        "        print(\"FREEZE TRANSFORMER BACKBONE\")\n",
        "        for param in model.base.parameters():\n",
        "            param.requires_grad = False\n",
        "    total_loss = 0.0\n",
        "    # ntokens = len(token2ind)\n",
        "    data_loader = get_loader(\n",
        "        path_data_train,\n",
        "        path_labels_train,\n",
        "        token2ind,\n",
        "        max_len=max_len,\n",
        "        task=task,\n",
        "        batch_size=batch_size,\n",
        "    )\n",
        "    losses = []\n",
        "    for idx, data in enumerate(data_loader): # get a batch of samples\n",
        "        # reset gradients to zero\n",
        "        optimizer.zero_grad()\n",
        "        \n",
        "        if task==DS_TASK:\n",
        "            # For the downstream task, let each word attend the whole sequence without a mask...\n",
        "            src_mask = None\n",
        "        else:\n",
        "            src_mask = TransformerModel.generate_square_subsequent_mask(data[0].size(0)).to(device)\n",
        "        input = data[0].to(device)\n",
        "        # forward pass\n",
        "        output = model(input, src_mask) \n",
        "\n",
        "        if task == DS_TASK:\n",
        "        # --------------------------------------------------------------\n",
        "        # THIS CODE DEALS WITH RETRIEVING THE LAST WORD\n",
        "        # OF THE SENTENCE FOR SENTIMENT ANALYZIS / DOWNSTREAM TASK.\n",
        "        # IN THE CASE OF PADDING, WE NEED TO RETRIEVE THE LAST WORDS WHICH DO NOT CONTAIN PADDING\n",
        "        # --------------------------------------------------------------\n",
        "        # A for loop almost seemed required. \n",
        "        # Check that this indexing does not break backprop\n",
        "            last_indexes = []\n",
        "            for batch_index in range(input.shape[1]):\n",
        "                pad_idx_list = torch.where(input[:, batch_index]==token2ind[PAD])\n",
        "                if len(pad_idx_list[0]) == 0:\n",
        "                    last = -1\n",
        "                    if debugging_prints:\n",
        "                        print(f\"{batch_index}, No padding, last element OK\")\n",
        "                else:\n",
        "                    last = pad_idx_list[0][0] - 1\n",
        "                    if debugging_prints:\n",
        "                        print(f\"{batch_index} {last} {input[last, batch_index]}, {output[last, batch_index, :]}\")\n",
        "                last_indexes.append(last)\n",
        "            last_indexes = torch.tensor(last_indexes).to(device)\n",
        "            # ADVANCED INDEXING!\n",
        "            batch_indices = torch.arange(input.shape[1], dtype=torch.long).to(device)\n",
        "            output = output[last_indexes, batch_indices, :]\n",
        "            if debugging_prints:\n",
        "                print(input[last_indexes, batch_indices])\n",
        "                print(output)\n",
        "        output = output.view(-1, output.shape[-1])\n",
        "        target = data[1]\n",
        "        target = target.to(device)\n",
        "        loss =  criterion(output, target) # CROSS ENTROPY\n",
        "        loss.backward() # compute gradients\n",
        "        torch.nn.utils.clip_grad_norm_(model.parameters(), 0.5) # prevent exploding gradient\n",
        "        optimizer.step()\n",
        "\n",
        "        total_loss += loss.item()\n",
        "        if idx % log_interval == 0 and idx > 0:\n",
        "            cur_loss = total_loss / log_interval\n",
        "            print(\n",
        "                f\"| epoch {epoch:3d} | {idx:5d}/{len(data_loader):5d} steps | \"+\n",
        "                f\"loss {cur_loss:5.5f} | ppl {math.exp(cur_loss):8.3f}\"\n",
        "            )\n",
        "            losses.append(cur_loss)\n",
        "            total_loss = 0\n",
        "    if epoch % save_interval == 0 and save_interval>=1:\n",
        "        torch.save(model, f\"weights_{task}{name}_{epoch:02d}.pt\")\n",
        "    return losses"
      ]
    },
    {
      "cell_type": "code",
      "execution_count": 126,
      "metadata": {},
      "outputs": [],
      "source": [
        "import gc\n",
        "gc.collect()\n",
        "torch.cuda.empty_cache()\n",
        "# EMPTY THE GPU - linux issue when going back from sleep mode / gpu memory does not get freed naturally"
      ]
    },
    {
      "cell_type": "code",
      "execution_count": 127,
      "metadata": {
        "id": "0m11g4ScjZaR"
      },
      "outputs": [
        {
          "name": "stdout",
          "output_type": "stream",
          "text": [
            "| epoch   1 |   500/ 3125 steps | loss 7.27380 | ppl 1442.014\n",
            "| epoch   1 |  1000/ 3125 steps | loss 6.48027 | ppl  652.149\n",
            "| epoch   1 |  1500/ 3125 steps | loss 6.19076 | ppl  488.215\n",
            "| epoch   1 |  2000/ 3125 steps | loss 6.02345 | ppl  413.003\n",
            "| epoch   1 |  2500/ 3125 steps | loss 5.92190 | ppl  373.120\n",
            "| epoch   1 |  3000/ 3125 steps | loss 5.79985 | ppl  330.251\n",
            "| epoch   2 |   500/ 3125 steps | loss 5.50282 | ppl  245.384\n",
            "| epoch   2 |  1000/ 3125 steps | loss 5.45501 | ppl  233.927\n",
            "| epoch   2 |  1500/ 3125 steps | loss 5.42722 | ppl  227.515\n",
            "| epoch   2 |  2000/ 3125 steps | loss 5.40138 | ppl  221.712\n",
            "| epoch   2 |  2500/ 3125 steps | loss 5.35385 | ppl  211.421\n",
            "| epoch   2 |  3000/ 3125 steps | loss 5.35391 | ppl  211.434\n"
          ]
        }
      ],
      "source": [
        "#pretraining on a tiny subset\n",
        "log_interval = 500\n",
        "epochs = 2\n",
        "for epoch in range(1, epochs + 1): #5\n",
        "    train(\n",
        "        model_pretraining,\n",
        "        pretraining_path_data_train,\n",
        "        path_labels_train=None,\n",
        "        save_interval=-1,\n",
        "        task=LM_TASK,\n",
        "        batch_size=16,\n",
        "        max_len=64,\n",
        "        log_interval=log_interval,\n",
        "        epoch=epoch,\n",
        "        freeze_backbone=False\n",
        "    )"
      ]
    },
    {
      "cell_type": "markdown",
      "metadata": {
        "id": "MeOM1dOvkO4e"
      },
      "source": [
        "## Text Generation\n"
      ]
    },
    {
      "cell_type": "code",
      "execution_count": 128,
      "metadata": {
        "id": "-BcBC6FSkMH3"
      },
      "outputs": [
        {
          "data": {
            "text/plain": [
              "<All keys matched successfully>"
            ]
          },
          "execution_count": 128,
          "metadata": {},
          "output_type": "execute_result"
        }
      ],
      "source": [
        "model_pretrained = Model(ntokens, nhead, nhid, nlayers, ntokens).to(device)\n",
        "\n",
        "#load the checkpoint\n",
        "checkpoint = torch.load('pretrained_model_4layers.pt')\n",
        "#load state dict\n",
        "model_pretrained.load_state_dict(checkpoint['model_state_dict'])"
      ]
    },
    {
      "cell_type": "code",
      "execution_count": 129,
      "metadata": {
        "id": "tBRRVsWqlIoQ"
      },
      "outputs": [
        {
          "name": "stdout",
          "output_type": "stream",
          "text": [
            "['▁Bonjour', '▁les', '▁amis', '!']\n",
            "Bonjour les amis!\n"
          ]
        }
      ],
      "source": [
        "import sentencepiece as spm\n",
        "\n",
        "s = spm.SentencePieceProcessor(model_file='sentencepiece.french.model') #load sentencepiece model\n",
        "\n",
        "#examples\n",
        "encoded = s.encode_as_pieces(\"Bonjour les amis!\")\n",
        "decoded = s.decode_pieces(encoded)\n",
        "print(encoded)\n",
        "print(decoded)"
      ]
    },
    {
      "cell_type": "code",
      "execution_count": 132,
      "metadata": {
        "id": "TtLlV05pkQI3"
      },
      "outputs": [
        {
          "name": "stdout",
          "output_type": "stream",
          "text": [
            "Bonjour les deux ans, les deux premiers jours, les deux premiers jours, les deux premiers jours, les deux premiers jours, les deux premiers mois de la fin de la recherche, les deux ans, les deux premiers mois de la fin de la fin de l'article L'article L'article 14 h,\n",
            "PRETRAINED CORRECT MODEL FROM DISK\n",
            "Bonjour les gens qui ont été très accueillants et sympathiques.\n"
          ]
        }
      ],
      "source": [
        "def infer_next_token(sent, model):\n",
        "    model.eval()\n",
        "    sent_pieces = s.encode_as_pieces(sent)\n",
        "    source = [token2ind['<sos>']] + [token2ind[el] for el in sent_pieces] # list of tokens\n",
        "    source = torch.tensor(source).to(device)\n",
        "    source = source.reshape(-1, 1)\n",
        "    src_mask = model.base.generate_square_subsequent_mask(source.size(0)).to(device)\n",
        "    out = model(source, src_mask)\n",
        "    next_token_ind =  int(torch.argmax(torch.nn.Softmax(dim=-1)(out[-1, 0, :])).detach()) #FORCE N=1\n",
        "    return next_token_ind, out\n",
        "\n",
        "def infer_next_tokens(sent, model, max_len=50):\n",
        "    next_token_list = []\n",
        "    next_token_index=-1\n",
        "    iter = 0\n",
        "    while next_token_index!=token2ind[EOS]:\n",
        "        if iter>max_len:\n",
        "            break\n",
        "        next_token_index, out = infer_next_token(sent, model)\n",
        "        next_token = ind2token.get(next_token_index)\n",
        "        sent+= next_token\n",
        "        next_token_list.append(next_token)\n",
        "    return next_token_list\n",
        "\n",
        "\n",
        "sent = \"Bonjour les\"\n",
        "out = infer_next_tokens(sent,model_pretraining)\n",
        "print(sent + \" \" + s.decode_pieces(out[:-1]))\n",
        "print(\"PRETRAINED CORRECT MODEL FROM DISK\")\n",
        "out = infer_next_tokens(sent, model_pretrained)\n",
        "print(sent + \" \" + s.decode_pieces(out[:-1]))\n"
      ]
    },
    {
      "cell_type": "markdown",
      "metadata": {
        "id": "Lp7mjVzomoZ3"
      },
      "source": [
        "### Supervised task"
      ]
    },
    {
      "cell_type": "code",
      "execution_count": 27,
      "metadata": {},
      "outputs": [
        {
          "name": "stdout",
          "output_type": "stream",
          "text": [
            "2000 sentences in the validation set\n",
            "1600 sentences in the training set \n"
          ]
        }
      ],
      "source": [
        "data_loader_validation = get_loader(\n",
        "    downstream_path_data_valid,\n",
        "    downstream_path_labels_valid,\n",
        "    token2ind=token2ind,\n",
        "    # batch_size=20,\n",
        "    batch_size=1, # Let's use a batch size of 1 so a sentence always has maximum length\n",
        "    task=DS_TASK,\n",
        "    shuffle=False # AVOID SHUFFLING FOR OBVIOUS REASONS - even if we're going through the whole validation set - let's do it in the same order everytime (batches will always be the same, no matter the configuration)\n",
        ")\n",
        "print(f\"{len(data_loader_validation.dataset)} sentences in the validation set\")\n",
        "\n",
        "\n",
        "data_loader_train = get_loader(\n",
        "    downstream_path_data_train,\n",
        "    downstream_path_labels_train,\n",
        "    token2ind=token2ind,\n",
        "    # batch_size=20,\n",
        "    batch_size=1, # Let's use a batch size of 1 so a sentence always has maximum length\n",
        "    task=DS_TASK,\n",
        "    shuffle=False # AVOID SHUFFLING FOR OBVIOUS REASONS - even if we're going through the whole validation set - let's do it in the same order everytime (batches will always be the same, no matter the configuration)\n",
        ")\n",
        "print(f\"{len(data_loader_train.dataset)} sentences in the training set \")"
      ]
    },
    {
      "cell_type": "code",
      "execution_count": 28,
      "metadata": {},
      "outputs": [
        {
          "name": "stdout",
          "output_type": "stream",
          "text": [
            "<sos> J ' ai lu ce livre car dans ma ville , tout le monde s ' en sert et le commande . C ' est ma pharmaci enne qui me l ' a conseillé , elle a t ellement maig ri que je lui ai demandé ce qu ' elle avait fait et au lieu de me vendre du per li mp in pin en gé lules , elle m ' a conseillé ce livre à 5 euros . Bien sur , il faut faire un effort pour perdre 25 kilos mais avec le livre , j ' avais un compagnon de route . L ' auteur a su me parler simplement avec des arguments très forts et surtout j ' ai senti qu ' il connaissait bien des cas comme le mien . Il y a dans son texte de l ' expérience , de la simplicité et de la compassion pour ceux qui comme moi vivait avec tout ce poids qui me col lait au corps sans jamais vouloir partir . Je ne crois pas qu ' il existe un régime miracle qui surp asse les autres mais je crois vraiment qu ' il y a des personnes qui savent parler aux autres et faire n aitre des déclic s . Je croyais être faible mais ce livre m ' a rendu forte , je l ' ai t ellement ann oté que j ' en suis à mon troisième . Quand on est très grosse comme je l ' ai été , les non - gros ne vous comprennent pas ou ont peur de vous frois ser en vous en parlant , alors ce livre a été comme un compagnon - journal . Je suis pé dic ure et je l ' ai conseillé à tous mes clients gros dont je lis la souffrance sur les pieds déform és et gonf lés . je rends aux autres le service que m ' a rendu ma pharmaci enne . Je le conseille à tous ceux qui souffrent car après avoir maig ri c ' est un tel bonheur que j ' ai accepté de passer à la phase 3 de ce plan qui impose 10 jours de consolidation pour chaque kilo perdu en s ' ouvrant progressivement à tout . Maintenant , je suis en phase 4, c ' est à dire que je mange de tout sauf le jeudi où je contrôle . Je remercier ai jamais assez l ' auteur de ce livre .\n",
            "True\n",
            "<sos> Recettes appréciées de toute la famille ( petits et grands ) de plus on peut faire son régime en ayant des invités , ils n ' y voient que du feu . Pour la vinaigrette il ne faut surtout pas dire quelle est faite avec de l ' huile de par af ine alors elle est excellente , s inon .... Le régime est super efficace il ne fatigue pas du tout . J ' encourage ceux qui ont des kilos en trop , à le faire , il ne faut pas beaucoup de volonté car on mange toujours à sa faim .\n",
            "True\n",
            "<sos> Be ig be der se dra pe de mystère . Il pose avec des airs sombres , en rou lé dans une cape noire , façon Z oz o ( com mentaire écrit sur fond musical : \" Z orro est arrivé \" de Henri Salvador ). Et pourtant , le seul mystère réservé aux ni ais , serait celui du \" mi ra cule ux \" succès obtenu sans aucun talent . La publicité a montré que le talent n ' était pas une condition nécessaire pour réussir . Un plat de nouilles a du succès s ' il est bien médi atisé . Les motoc ro ttes firent beaucoup pour la popularité du maire de Paris , Jacques C . \" Un roman français \" est un plat sans saveur , composé d ' ingrédients sans relief , qui n ' é veille ni l ' appétit , ni l ' esprit . Vous en doute z ? Au chapitre de l ' éducation sexuelle , cette autobiographie , nous conte les premiers ém ois à 13 ans de l ' auteur qui embrasse sur la bouche avec la langue dehors . Les goûts littéraires sont présentés à la manière d ' un feu d ' artifice Internet . Vous n ' avez rien lu de ce dont vous parlez . Pas grave , c itez p êle - mêle des noms d ' écriv ains aux cons on ances exotiques , anglo - sax onnes . Une pause . Qu ' il est fort ce Z oz o ! Be ig be der , dans la lignée de l ' émission \" lit té raire \" qu ' il avait \" anim ée \" nous apprend que San Antonio ( sic !) est un auteur de droite , comme Rab elais ( !). Rab elais , un écrivain de droite ! Le délire , l ' in culture et l ' absence de syntaxe soutiennent pénible ment la démonstration : Be ig be der appréci ait ces écrivains de droite car ils sont rigol os ( je cite ) alors que les auteurs de gauche , Sartre , Camus ne le sont pas ... à l ' exception précise - t - il des \" M ots \" et de \" La Ch ute \". Ces ouvrages seraient donc \" rig olos \". En quoi Céline , \" écrivain de droite \" peut - il être rigolo ? Trou bles ( ment aux ). Ce dro gué , coc aï nom ane , cra che sur la justice , les mesures de salubrité publique prises pour le sauver de lui - même . Z oz o était p af . Z oz o était malade . Z oz o était en infraction . Ah , ces 17 heures de mise \" en prison \" ( au poste de police seulement ) valent les années de goul ag de Sol j én its yne , celles du camp d ' extermination de Prim o Levi , celles de D\n",
            "False\n",
            "<sos> Un petit livre si facile à lire et si puissant . Le racisme ne peut pas résister longtemps devant une telle mise en perspective . Les \" ra ces \" soi - disant dominantes d ' aujourd ' hui ne seront pas celles de demain ... Un excellent livre à lire et offrir aussi souvent que l ' on peut\n",
            "True\n",
            "<sos> Saint - Ex upéry réalise à travers l ' histoire du petit prince l ' un des plus grands chefs - d ' oeuvres littéraires , poétiques et révolu tionnaires de tous les temps . La morale magique \" l ' essentiel est invisible pour les yeux \" semble rés onner partout où notre regard se porte , vibrant dans l ' harmonie retrouvée des premiers matins du monde . Change ton regard , là est la clé ! semble nous indiquer Saint - Ex . Ange d ' espoir , reviens ! nous lance - t - il en re tenant des larmes d ' enfant . Ce conte philosophique est une ode à la vie , au bonheur , à la compréhension et à la fraternité humaine . Il s ' agit d ' un testament poétique , d ' une oeuvre intemp orelle et universelle , d ' une tentative pour restaurer le lien secret entre l ' Homme et l ' Univers , entre l ' Homme et Lui - même . Mais la portée véritable et finale est d ' un autre ordre : la Fleur est destinée ...\n",
            "True\n",
            "<sos> je suis tres de çue de la taille de ce livre ( il tiens dans le creux de la main ... et les recettes y sont N ULES ( il n ' y a rien de nouveau et d ' in ven tif ) je ne le recommande a personne !!!\n",
            "False\n",
            "<sos> Ce livre n ' est pas cher et il comporte un grand nombre de recettes originales . Par contre , il est bourré de fautes : soit vous avez des ingrédients qui sont oubliés dans la recette ( quand les mettre ? ), ou la recette demandent des ingrédients mais ils ne sont pas dans la liste des ingrédients ( quelle quantité mettre ?) A acheter en connaissance de cause ...\n",
            "False\n",
            "<sos> Un roman de rentrée de la fille de B HL , a - t - on vraiment besoin d ' en dire plus pour vous convaincre que la lecture de cet ouvrage , au style aussi peu inspiré que lourd , vous fera perdre de précieuses heures ? A mon humble avis , le seul fait d ' être la fille d ' un philosophe milliardaire ne donne pas automatiquement toutes les qualités requises pour faire un bon écrivain . Pour ma part j ' ai assez rapidement laissé tomber ce bouquin pour me plonger dans .\n",
            "False\n",
            "<sos> Contrairement au commentaire de Seb , je trouve ce livre vraiment très pratique . Il y a certes quelques erreurs comme l ' IG du cass oulet effectivement non nul . Mais le reste de la ligne montre qu ' il y a bien de n bre uses glucides et plus important qu ' il est à limiter pour les diabétiques . Les pages sont bien dans le bon ordre ( c ' est ton exemplaire qui est mauvais Seb !) et surtout il n ' y a pas d ' erreurs sur les quantités de G , L ou P car le n bre noté est pour la quantité indiquée . Donc pour le N ute lla pas d ' erreur à noter puisqu ' il s ' agit de 15 g rs de produit étudié et pas la valeur pour 100 g rs comme sur le pot . Donc monsieur Seb devrait chercher à mieux comprendre le tableau avant de critiquer ce fabuleux outils qui a tout de même le mérite , en format poche , de regrouper 11 40 aliments ! Trés utile pour les diab étique .\n",
            "True\n",
            "<sos> j ' ai acheté ce bouquin sur le seul nom de Gran gé . On ne m ' y reprendra plus ! On n ' y croit pas un seul instant , c ' est creux , comme l ' héroïne . Je me suis forcée à le finir , en croyant au miracle . Que n enni !\n",
            "False\n",
            "<sos> Je dis non à la facilité ..... et non à l ' auteur qui n ' a même pas fait l ' effort de rencontrer la famille avant d ' écrire son bouquin , qui ne connait rien au personnage de Gregory et encore moins à l ' artiste !! ..... Comment parler correctement de quelqu ' un qu ' on a jamais rencontré de son vivant , et dont on ne s ' est intéressé qu ' après sa mort ??? Franchement à la place de l ' auteur j ' aurais vraiment honte de vouloir profiter de la douleur des fans !! Si vous voulez lire un bon livre sur GRE G OR Y LE MAR CH AL , achetez plutôt celui de sa soeur Leslie \" Mon Frère , l ' Ar tiste \" et en plus vous fer rez une bonne action , puisque tout est entièrement re versé à l ' association GRE G OR Y LE MAR CH AL !!\n",
            "False\n"
          ]
        }
      ],
      "source": [
        "for idx, sentence_batch in enumerate(data_loader_validation):\n",
        "    if idx>10:\n",
        "        break\n",
        "    first_sentence = sentence_batch[0][:, 0]\n",
        "    print(tensor_to_sentence(first_sentence))\n",
        "    print(bool(sentence_batch[1][0]))"
      ]
    },
    {
      "cell_type": "code",
      "execution_count": 29,
      "metadata": {
        "id": "_MLfvjiom2SL"
      },
      "outputs": [
        {
          "name": "stderr",
          "output_type": "stream",
          "text": [
            "/home/bneveu/.local/lib/python3.10/site-packages/torch/nn/modules/transformer.py:255: UserWarning: enable_nested_tensor is True, but self.use_nested_tensor is False because  encoder_layer.self_attn.batch_first was not True\n",
            "  warnings.warn(f\"enable_nested_tensor is True, but self.use_nested_tensor is False because {why_not_sparsity_fast_path}\")\n"
          ]
        },
        {
          "name": "stdout",
          "output_type": "stream",
          "text": [
            "accuracy of a randomly initalized classifier 0.5045 ~ shall be around 0.5\n"
          ]
        }
      ],
      "source": [
        "# a function to evaluate the validation accuracy of the model.\n",
        "def evaluate_accuracy(data_loader: DataLoader, model):\n",
        "    accuracy = 0\n",
        "    for _idx, sentence_batch in enumerate(data_loader):\n",
        "        input_sentences = sentence_batch[0].to(device)\n",
        "        target_labels = sentence_batch[1].to(device)\n",
        "        logits = model(input_sentences, src_mask=None)\n",
        "        logits = logits[-1, ...]\n",
        "        predicted_class = torch.argmax(logits, dim=-1)\n",
        "        accuracy += torch.sum(predicted_class==target_labels).detach()\n",
        "    accuracy = float(accuracy)/len(data_loader.dataset)\n",
        "    return accuracy\n",
        "\n",
        "def test_evaluate_accuracy():\n",
        "    # FAKE DOWNSTREAM MODEL ~ accuracy shall be around 0.5\n",
        "    model_ds = Model(ntokens, nhead, nhid, nlayers, 2, dropout).to(device)\n",
        "    model_ds.eval()\n",
        "\n",
        "    data_loader_validation_ds = get_loader(\n",
        "        downstream_path_data_valid,\n",
        "        downstream_path_labels_valid,\n",
        "        token2ind=token2ind,\n",
        "        batch_size=20, # Let's use a batch size of 1 so a sentence always has maximum length\n",
        "        task=DS_TASK,\n",
        "        shuffle=False # AVOID SHUFFLING FOR OBVIOUS REASONS - even if we're going through the whole validation set - let's do it in the same order everytime (batches will always be the same, no matter the configuration)\n",
        "    )\n",
        "    acc = evaluate_accuracy(\n",
        "        data_loader_validation_ds,\n",
        "        model_ds\n",
        "    )\n",
        "\n",
        "    \n",
        "    print(f\"accuracy of a randomly initalized classifier {acc} ~ shall be around 0.5\")\n",
        "\n",
        "test_evaluate_accuracy()"
      ]
    },
    {
      "cell_type": "code",
      "execution_count": 30,
      "metadata": {
        "id": "qzmx7T7xoa6v"
      },
      "outputs": [],
      "source": [
        "#save the base model to be loaded later in the fine-tuning phase\n",
        "torch.save({\"model_state_dict\": model_pretrained.base.state_dict(),}, \"pretrained_model_4layers_no_class_head.pt\")"
      ]
    },
    {
      "cell_type": "code",
      "execution_count": 64,
      "metadata": {},
      "outputs": [],
      "source": [
        "metrics = {}"
      ]
    },
    {
      "cell_type": "code",
      "execution_count": 67,
      "metadata": {},
      "outputs": [
        {
          "name": "stderr",
          "output_type": "stream",
          "text": [
            "/home/bneveu/.local/lib/python3.10/site-packages/torch/nn/modules/transformer.py:255: UserWarning: enable_nested_tensor is True, but self.use_nested_tensor is False because  encoder_layer.self_attn.batch_first was not True\n",
            "  warnings.warn(f\"enable_nested_tensor is True, but self.use_nested_tensor is False because {why_not_sparsity_fast_path}\")\n"
          ]
        },
        {
          "name": "stdout",
          "output_type": "stream",
          "text": [
            "=====Trainig FROM SCRATCH======\n",
            "| epoch   1 |    50/  200 steps | loss 0.79506 | ppl    2.215\n",
            "| epoch   1 |   100/  200 steps | loss 0.77254 | ppl    2.165\n",
            "| epoch   1 |   150/  200 steps | loss 0.70462 | ppl    2.023\n",
            "from_scratch=True - ACCURACY TRAIN 0.523125 VALIDATION=0.5015\n",
            "| epoch   2 |    50/  200 steps | loss 0.68053 | ppl    1.975\n",
            "| epoch   2 |   100/  200 steps | loss 0.67020 | ppl    1.955\n",
            "| epoch   2 |   150/  200 steps | loss 0.70899 | ppl    2.032\n",
            "from_scratch=True - ACCURACY TRAIN 0.70625 VALIDATION=0.645\n",
            "| epoch   3 |    50/  200 steps | loss 0.57985 | ppl    1.786\n",
            "| epoch   3 |   100/  200 steps | loss 0.49842 | ppl    1.646\n",
            "| epoch   3 |   150/  200 steps | loss 0.42744 | ppl    1.533\n",
            "from_scratch=True - ACCURACY TRAIN 0.898125 VALIDATION=0.74\n",
            "| epoch   4 |    50/  200 steps | loss 0.21825 | ppl    1.244\n",
            "| epoch   4 |   100/  200 steps | loss 0.19572 | ppl    1.216\n",
            "| epoch   4 |   150/  200 steps | loss 0.23191 | ppl    1.261\n",
            "from_scratch=True - ACCURACY TRAIN 0.978125 VALIDATION=0.768\n",
            "| epoch   5 |    50/  200 steps | loss 0.04454 | ppl    1.046\n",
            "| epoch   5 |   100/  200 steps | loss 0.02594 | ppl    1.026\n",
            "| epoch   5 |   150/  200 steps | loss 0.07671 | ppl    1.080\n",
            "from_scratch=True - ACCURACY TRAIN 0.99625 VALIDATION=0.7765\n",
            "| epoch   6 |    50/  200 steps | loss 0.00017 | ppl    1.000\n",
            "| epoch   6 |   100/  200 steps | loss 0.00837 | ppl    1.008\n",
            "| epoch   6 |   150/  200 steps | loss 0.01486 | ppl    1.015\n",
            "from_scratch=True - ACCURACY TRAIN 0.99375 VALIDATION=0.768\n",
            "| epoch   7 |    50/  200 steps | loss 0.00020 | ppl    1.000\n",
            "| epoch   7 |   100/  200 steps | loss 0.00004 | ppl    1.000\n",
            "| epoch   7 |   150/  200 steps | loss 0.00003 | ppl    1.000\n",
            "from_scratch=True - ACCURACY TRAIN 0.999375 VALIDATION=0.7825\n",
            "| epoch   8 |    50/  200 steps | loss 0.00002 | ppl    1.000\n",
            "| epoch   8 |   100/  200 steps | loss 0.00002 | ppl    1.000\n",
            "| epoch   8 |   150/  200 steps | loss 0.00003 | ppl    1.000\n",
            "from_scratch=True - ACCURACY TRAIN 1.0 VALIDATION=0.7845\n",
            "| epoch   9 |    50/  200 steps | loss 0.00002 | ppl    1.000\n",
            "| epoch   9 |   100/  200 steps | loss 0.00002 | ppl    1.000\n",
            "| epoch   9 |   150/  200 steps | loss 0.00001 | ppl    1.000\n",
            "from_scratch=True - ACCURACY TRAIN 1.0 VALIDATION=0.779\n",
            "| epoch  10 |    50/  200 steps | loss 0.00001 | ppl    1.000\n",
            "| epoch  10 |   100/  200 steps | loss 0.00001 | ppl    1.000\n",
            "| epoch  10 |   150/  200 steps | loss 0.00001 | ppl    1.000\n",
            "from_scratch=True - ACCURACY TRAIN 1.0 VALIDATION=0.78\n",
            "| epoch  11 |    50/  200 steps | loss 0.00001 | ppl    1.000\n",
            "| epoch  11 |   100/  200 steps | loss 0.00001 | ppl    1.000\n",
            "| epoch  11 |   150/  200 steps | loss 0.00001 | ppl    1.000\n",
            "from_scratch=True - ACCURACY TRAIN 1.0 VALIDATION=0.7805\n",
            "| epoch  12 |    50/  200 steps | loss 0.00001 | ppl    1.000\n",
            "| epoch  12 |   100/  200 steps | loss 0.00001 | ppl    1.000\n",
            "| epoch  12 |   150/  200 steps | loss 0.00001 | ppl    1.000\n",
            "from_scratch=True - ACCURACY TRAIN 1.0 VALIDATION=0.7805\n",
            "| epoch  13 |    50/  200 steps | loss 0.00001 | ppl    1.000\n",
            "| epoch  13 |   100/  200 steps | loss 0.00001 | ppl    1.000\n",
            "| epoch  13 |   150/  200 steps | loss 0.00001 | ppl    1.000\n",
            "from_scratch=True - ACCURACY TRAIN 1.0 VALIDATION=0.7805\n",
            "| epoch  14 |    50/  200 steps | loss 0.00001 | ppl    1.000\n",
            "| epoch  14 |   100/  200 steps | loss 0.00001 | ppl    1.000\n",
            "| epoch  14 |   150/  200 steps | loss 0.00001 | ppl    1.000\n",
            "from_scratch=True - ACCURACY TRAIN 1.0 VALIDATION=0.7795\n",
            "| epoch  15 |    50/  200 steps | loss 0.00001 | ppl    1.000\n",
            "| epoch  15 |   100/  200 steps | loss 0.00001 | ppl    1.000\n",
            "| epoch  15 |   150/  200 steps | loss 0.00001 | ppl    1.000\n",
            "from_scratch=True - ACCURACY TRAIN 1.0 VALIDATION=0.7805\n",
            "| epoch  16 |    50/  200 steps | loss 0.00000 | ppl    1.000\n",
            "| epoch  16 |   100/  200 steps | loss 0.00000 | ppl    1.000\n",
            "| epoch  16 |   150/  200 steps | loss 0.00000 | ppl    1.000\n",
            "from_scratch=True - ACCURACY TRAIN 1.0 VALIDATION=0.78\n",
            "| epoch  17 |    50/  200 steps | loss 0.00000 | ppl    1.000\n",
            "| epoch  17 |   100/  200 steps | loss 0.00000 | ppl    1.000\n",
            "| epoch  17 |   150/  200 steps | loss 0.00000 | ppl    1.000\n",
            "from_scratch=True - ACCURACY TRAIN 1.0 VALIDATION=0.78\n",
            "| epoch  18 |    50/  200 steps | loss 0.00000 | ppl    1.000\n",
            "| epoch  18 |   100/  200 steps | loss 0.00000 | ppl    1.000\n",
            "| epoch  18 |   150/  200 steps | loss 0.00000 | ppl    1.000\n",
            "from_scratch=True - ACCURACY TRAIN 1.0 VALIDATION=0.78\n",
            "| epoch  19 |    50/  200 steps | loss 0.00000 | ppl    1.000\n",
            "| epoch  19 |   100/  200 steps | loss 0.00000 | ppl    1.000\n",
            "| epoch  19 |   150/  200 steps | loss 0.00000 | ppl    1.000\n",
            "from_scratch=True - ACCURACY TRAIN 1.0 VALIDATION=0.78\n",
            "| epoch  20 |    50/  200 steps | loss 0.00000 | ppl    1.000\n",
            "| epoch  20 |   100/  200 steps | loss 0.00000 | ppl    1.000\n",
            "| epoch  20 |   150/  200 steps | loss 0.00000 | ppl    1.000\n",
            "from_scratch=True - ACCURACY TRAIN 1.0 VALIDATION=0.78\n",
            "| epoch  21 |    50/  200 steps | loss 0.00000 | ppl    1.000\n",
            "| epoch  21 |   100/  200 steps | loss 0.00000 | ppl    1.000\n",
            "| epoch  21 |   150/  200 steps | loss 0.00000 | ppl    1.000\n",
            "from_scratch=True - ACCURACY TRAIN 1.0 VALIDATION=0.78\n",
            "| epoch  22 |    50/  200 steps | loss 0.00000 | ppl    1.000\n",
            "| epoch  22 |   100/  200 steps | loss 0.00000 | ppl    1.000\n",
            "| epoch  22 |   150/  200 steps | loss 0.00000 | ppl    1.000\n",
            "from_scratch=True - ACCURACY TRAIN 1.0 VALIDATION=0.779\n",
            "| epoch  23 |    50/  200 steps | loss 0.00000 | ppl    1.000\n",
            "| epoch  23 |   100/  200 steps | loss 0.00000 | ppl    1.000\n",
            "| epoch  23 |   150/  200 steps | loss 0.00000 | ppl    1.000\n",
            "from_scratch=True - ACCURACY TRAIN 1.0 VALIDATION=0.779\n",
            "| epoch  24 |    50/  200 steps | loss 0.00000 | ppl    1.000\n",
            "| epoch  24 |   100/  200 steps | loss 0.00000 | ppl    1.000\n",
            "| epoch  24 |   150/  200 steps | loss 0.00000 | ppl    1.000\n",
            "from_scratch=True - ACCURACY TRAIN 1.0 VALIDATION=0.7795\n",
            "| epoch  25 |    50/  200 steps | loss 0.00000 | ppl    1.000\n",
            "| epoch  25 |   100/  200 steps | loss 0.00000 | ppl    1.000\n",
            "| epoch  25 |   150/  200 steps | loss 0.00000 | ppl    1.000\n",
            "from_scratch=True - ACCURACY TRAIN 1.0 VALIDATION=0.779\n",
            "=====PRETRAINED MODEL======\n",
            "| epoch   1 |    50/  200 steps | loss 0.79450 | ppl    2.213\n",
            "| epoch   1 |   100/  200 steps | loss 0.68367 | ppl    1.981\n",
            "| epoch   1 |   150/  200 steps | loss 0.57305 | ppl    1.774\n",
            "from_scratch=False - ACCURACY TRAIN 0.80125 VALIDATION=0.7675\n",
            "| epoch   2 |    50/  200 steps | loss 0.52439 | ppl    1.689\n",
            "| epoch   2 |   100/  200 steps | loss 0.50915 | ppl    1.664\n",
            "| epoch   2 |   150/  200 steps | loss 0.40783 | ppl    1.504\n",
            "from_scratch=False - ACCURACY TRAIN 0.84375 VALIDATION=0.7705\n",
            "| epoch   3 |    50/  200 steps | loss 0.37426 | ppl    1.454\n",
            "| epoch   3 |   100/  200 steps | loss 0.29468 | ppl    1.343\n",
            "| epoch   3 |   150/  200 steps | loss 0.45700 | ppl    1.579\n",
            "from_scratch=False - ACCURACY TRAIN 0.854375 VALIDATION=0.7595\n",
            "| epoch   4 |    50/  200 steps | loss 0.27734 | ppl    1.320\n",
            "| epoch   4 |   100/  200 steps | loss 0.24931 | ppl    1.283\n",
            "| epoch   4 |   150/  200 steps | loss 0.36177 | ppl    1.436\n",
            "from_scratch=False - ACCURACY TRAIN 0.91875 VALIDATION=0.7785\n",
            "| epoch   5 |    50/  200 steps | loss 0.22696 | ppl    1.255\n",
            "| epoch   5 |   100/  200 steps | loss 0.22775 | ppl    1.256\n",
            "| epoch   5 |   150/  200 steps | loss 0.18522 | ppl    1.203\n",
            "from_scratch=False - ACCURACY TRAIN 0.9525 VALIDATION=0.8\n",
            "| epoch   6 |    50/  200 steps | loss 0.16088 | ppl    1.175\n",
            "| epoch   6 |   100/  200 steps | loss 0.10853 | ppl    1.115\n",
            "| epoch   6 |   150/  200 steps | loss 0.13958 | ppl    1.150\n",
            "from_scratch=False - ACCURACY TRAIN 0.97875 VALIDATION=0.7975\n",
            "| epoch   7 |    50/  200 steps | loss 0.08556 | ppl    1.089\n",
            "| epoch   7 |   100/  200 steps | loss 0.03449 | ppl    1.035\n",
            "| epoch   7 |   150/  200 steps | loss 0.10059 | ppl    1.106\n",
            "from_scratch=False - ACCURACY TRAIN 0.983125 VALIDATION=0.781\n",
            "| epoch   8 |    50/  200 steps | loss 0.02310 | ppl    1.023\n",
            "| epoch   8 |   100/  200 steps | loss 0.01085 | ppl    1.011\n",
            "| epoch   8 |   150/  200 steps | loss 0.03566 | ppl    1.036\n",
            "from_scratch=False - ACCURACY TRAIN 0.991875 VALIDATION=0.794\n",
            "| epoch   9 |    50/  200 steps | loss 0.01466 | ppl    1.015\n",
            "| epoch   9 |   100/  200 steps | loss 0.00036 | ppl    1.000\n",
            "| epoch   9 |   150/  200 steps | loss 0.00658 | ppl    1.007\n",
            "from_scratch=False - ACCURACY TRAIN 0.99625 VALIDATION=0.7865\n",
            "| epoch  10 |    50/  200 steps | loss 0.00013 | ppl    1.000\n",
            "| epoch  10 |   100/  200 steps | loss 0.00004 | ppl    1.000\n",
            "| epoch  10 |   150/  200 steps | loss 0.00005 | ppl    1.000\n",
            "from_scratch=False - ACCURACY TRAIN 0.99625 VALIDATION=0.787\n",
            "| epoch  11 |    50/  200 steps | loss 0.00145 | ppl    1.001\n",
            "| epoch  11 |   100/  200 steps | loss 0.00413 | ppl    1.004\n",
            "| epoch  11 |   150/  200 steps | loss 0.00049 | ppl    1.000\n",
            "from_scratch=False - ACCURACY TRAIN 0.990625 VALIDATION=0.774\n",
            "| epoch  12 |    50/  200 steps | loss 0.01479 | ppl    1.015\n",
            "| epoch  12 |   100/  200 steps | loss 0.00004 | ppl    1.000\n",
            "| epoch  12 |   150/  200 steps | loss 0.00001 | ppl    1.000\n",
            "from_scratch=False - ACCURACY TRAIN 0.99875 VALIDATION=0.7915\n",
            "| epoch  13 |    50/  200 steps | loss 0.02450 | ppl    1.025\n",
            "| epoch  13 |   100/  200 steps | loss 0.00013 | ppl    1.000\n",
            "| epoch  13 |   150/  200 steps | loss 0.00004 | ppl    1.000\n",
            "from_scratch=False - ACCURACY TRAIN 0.999375 VALIDATION=0.788\n",
            "| epoch  14 |    50/  200 steps | loss 0.00034 | ppl    1.000\n",
            "| epoch  14 |   100/  200 steps | loss 0.00014 | ppl    1.000\n",
            "| epoch  14 |   150/  200 steps | loss 0.01150 | ppl    1.012\n",
            "from_scratch=False - ACCURACY TRAIN 0.99625 VALIDATION=0.784\n",
            "| epoch  15 |    50/  200 steps | loss 0.00091 | ppl    1.001\n",
            "| epoch  15 |   100/  200 steps | loss 0.00004 | ppl    1.000\n",
            "| epoch  15 |   150/  200 steps | loss 0.00000 | ppl    1.000\n",
            "from_scratch=False - ACCURACY TRAIN 0.9975 VALIDATION=0.789\n",
            "| epoch  16 |    50/  200 steps | loss 0.00003 | ppl    1.000\n",
            "| epoch  16 |   100/  200 steps | loss 0.00297 | ppl    1.003\n",
            "| epoch  16 |   150/  200 steps | loss 0.01989 | ppl    1.020\n",
            "from_scratch=False - ACCURACY TRAIN 0.9975 VALIDATION=0.7925\n",
            "| epoch  17 |    50/  200 steps | loss 0.00001 | ppl    1.000\n",
            "| epoch  17 |   100/  200 steps | loss 0.00001 | ppl    1.000\n",
            "| epoch  17 |   150/  200 steps | loss 0.00001 | ppl    1.000\n",
            "from_scratch=False - ACCURACY TRAIN 0.9925 VALIDATION=0.7845\n",
            "| epoch  18 |    50/  200 steps | loss 0.00516 | ppl    1.005\n",
            "| epoch  18 |   100/  200 steps | loss 0.06320 | ppl    1.065\n",
            "| epoch  18 |   150/  200 steps | loss 0.05627 | ppl    1.058\n",
            "from_scratch=False - ACCURACY TRAIN 0.984375 VALIDATION=0.7835\n",
            "| epoch  19 |    50/  200 steps | loss 0.18296 | ppl    1.201\n",
            "| epoch  19 |   100/  200 steps | loss 0.03731 | ppl    1.038\n",
            "| epoch  19 |   150/  200 steps | loss 0.03234 | ppl    1.033\n",
            "from_scratch=False - ACCURACY TRAIN 0.995 VALIDATION=0.7935\n",
            "| epoch  20 |    50/  200 steps | loss 0.00015 | ppl    1.000\n",
            "| epoch  20 |   100/  200 steps | loss 0.00005 | ppl    1.000\n",
            "| epoch  20 |   150/  200 steps | loss 0.04233 | ppl    1.043\n",
            "from_scratch=False - ACCURACY TRAIN 0.995 VALIDATION=0.7775\n",
            "| epoch  21 |    50/  200 steps | loss 0.00024 | ppl    1.000\n",
            "| epoch  21 |   100/  200 steps | loss 0.01127 | ppl    1.011\n",
            "| epoch  21 |   150/  200 steps | loss 0.00061 | ppl    1.001\n",
            "from_scratch=False - ACCURACY TRAIN 0.999375 VALIDATION=0.7925\n",
            "| epoch  22 |    50/  200 steps | loss 0.04067 | ppl    1.042\n",
            "| epoch  22 |   100/  200 steps | loss 0.02538 | ppl    1.026\n",
            "| epoch  22 |   150/  200 steps | loss 0.00000 | ppl    1.000\n",
            "from_scratch=False - ACCURACY TRAIN 0.99875 VALIDATION=0.788\n",
            "| epoch  23 |    50/  200 steps | loss 0.00004 | ppl    1.000\n",
            "| epoch  23 |   100/  200 steps | loss 0.00000 | ppl    1.000\n",
            "| epoch  23 |   150/  200 steps | loss 0.00000 | ppl    1.000\n",
            "from_scratch=False - ACCURACY TRAIN 0.994375 VALIDATION=0.78\n",
            "| epoch  24 |    50/  200 steps | loss 0.00001 | ppl    1.000\n",
            "| epoch  24 |   100/  200 steps | loss 0.00000 | ppl    1.000\n",
            "| epoch  24 |   150/  200 steps | loss 0.00000 | ppl    1.000\n",
            "from_scratch=False - ACCURACY TRAIN 0.9875 VALIDATION=0.772\n",
            "| epoch  25 |    50/  200 steps | loss 0.00188 | ppl    1.002\n",
            "| epoch  25 |   100/  200 steps | loss 0.00617 | ppl    1.006\n",
            "| epoch  25 |   150/  200 steps | loss 0.00001 | ppl    1.000\n",
            "from_scratch=False - ACCURACY TRAIN 0.99875 VALIDATION=0.787\n",
            "=====PRETRAINED MODEL======\n",
            "FREEZE TRANSFORMER BACKBONE\n",
            "| epoch   1 |    50/  200 steps | loss 0.90517 | ppl    2.472\n",
            "| epoch   1 |   100/  200 steps | loss 0.77000 | ppl    2.160\n",
            "| epoch   1 |   150/  200 steps | loss 0.78502 | ppl    2.192\n",
            "from_scratch=False - ACCURACY TRAIN 0.450625 VALIDATION=0.48\n",
            "FREEZE TRANSFORMER BACKBONE\n",
            "| epoch   2 |    50/  200 steps | loss 0.76748 | ppl    2.154\n",
            "| epoch   2 |   100/  200 steps | loss 0.74525 | ppl    2.107\n",
            "| epoch   2 |   150/  200 steps | loss 0.72169 | ppl    2.058\n",
            "from_scratch=False - ACCURACY TRAIN 0.48125 VALIDATION=0.509\n",
            "FREEZE TRANSFORMER BACKBONE\n",
            "| epoch   3 |    50/  200 steps | loss 0.73767 | ppl    2.091\n",
            "| epoch   3 |   100/  200 steps | loss 0.68680 | ppl    1.987\n",
            "| epoch   3 |   150/  200 steps | loss 0.72659 | ppl    2.068\n",
            "from_scratch=False - ACCURACY TRAIN 0.496875 VALIDATION=0.5595\n",
            "FREEZE TRANSFORMER BACKBONE\n",
            "| epoch   4 |    50/  200 steps | loss 0.71312 | ppl    2.040\n",
            "| epoch   4 |   100/  200 steps | loss 0.70863 | ppl    2.031\n",
            "| epoch   4 |   150/  200 steps | loss 0.65253 | ppl    1.920\n",
            "from_scratch=False - ACCURACY TRAIN 0.513125 VALIDATION=0.576\n",
            "FREEZE TRANSFORMER BACKBONE\n",
            "| epoch   5 |    50/  200 steps | loss 0.66754 | ppl    1.949\n",
            "| epoch   5 |   100/  200 steps | loss 0.66277 | ppl    1.940\n",
            "| epoch   5 |   150/  200 steps | loss 0.71529 | ppl    2.045\n",
            "from_scratch=False - ACCURACY TRAIN 0.519375 VALIDATION=0.589\n",
            "FREEZE TRANSFORMER BACKBONE\n",
            "| epoch   6 |    50/  200 steps | loss 0.69089 | ppl    1.995\n",
            "| epoch   6 |   100/  200 steps | loss 0.65988 | ppl    1.935\n",
            "| epoch   6 |   150/  200 steps | loss 0.66437 | ppl    1.943\n",
            "from_scratch=False - ACCURACY TRAIN 0.53625 VALIDATION=0.601\n",
            "FREEZE TRANSFORMER BACKBONE\n",
            "| epoch   7 |    50/  200 steps | loss 0.65538 | ppl    1.926\n",
            "| epoch   7 |   100/  200 steps | loss 0.66010 | ppl    1.935\n",
            "| epoch   7 |   150/  200 steps | loss 0.64671 | ppl    1.909\n",
            "from_scratch=False - ACCURACY TRAIN 0.56875 VALIDATION=0.608\n",
            "FREEZE TRANSFORMER BACKBONE\n",
            "| epoch   8 |    50/  200 steps | loss 0.63889 | ppl    1.894\n",
            "| epoch   8 |   100/  200 steps | loss 0.64284 | ppl    1.902\n",
            "| epoch   8 |   150/  200 steps | loss 0.65494 | ppl    1.925\n",
            "from_scratch=False - ACCURACY TRAIN 0.5625 VALIDATION=0.617\n",
            "FREEZE TRANSFORMER BACKBONE\n",
            "| epoch   9 |    50/  200 steps | loss 0.64432 | ppl    1.905\n",
            "| epoch   9 |   100/  200 steps | loss 0.65899 | ppl    1.933\n",
            "| epoch   9 |   150/  200 steps | loss 0.61765 | ppl    1.855\n",
            "from_scratch=False - ACCURACY TRAIN 0.586875 VALIDATION=0.643\n",
            "FREEZE TRANSFORMER BACKBONE\n",
            "| epoch  10 |    50/  200 steps | loss 0.65221 | ppl    1.920\n",
            "| epoch  10 |   100/  200 steps | loss 0.64169 | ppl    1.900\n",
            "| epoch  10 |   150/  200 steps | loss 0.62596 | ppl    1.870\n",
            "from_scratch=False - ACCURACY TRAIN 0.579375 VALIDATION=0.6245\n",
            "FREEZE TRANSFORMER BACKBONE\n",
            "| epoch  11 |    50/  200 steps | loss 0.63699 | ppl    1.891\n",
            "| epoch  11 |   100/  200 steps | loss 0.64742 | ppl    1.911\n",
            "| epoch  11 |   150/  200 steps | loss 0.61525 | ppl    1.850\n",
            "from_scratch=False - ACCURACY TRAIN 0.59375 VALIDATION=0.6375\n",
            "FREEZE TRANSFORMER BACKBONE\n",
            "| epoch  12 |    50/  200 steps | loss 0.64929 | ppl    1.914\n",
            "| epoch  12 |   100/  200 steps | loss 0.60930 | ppl    1.839\n",
            "| epoch  12 |   150/  200 steps | loss 0.62382 | ppl    1.866\n",
            "from_scratch=False - ACCURACY TRAIN 0.61125 VALIDATION=0.653\n",
            "FREEZE TRANSFORMER BACKBONE\n",
            "| epoch  13 |    50/  200 steps | loss 0.64528 | ppl    1.907\n",
            "| epoch  13 |   100/  200 steps | loss 0.62306 | ppl    1.865\n",
            "| epoch  13 |   150/  200 steps | loss 0.61195 | ppl    1.844\n",
            "from_scratch=False - ACCURACY TRAIN 0.62 VALIDATION=0.664\n",
            "FREEZE TRANSFORMER BACKBONE\n",
            "| epoch  14 |    50/  200 steps | loss 0.61944 | ppl    1.858\n",
            "| epoch  14 |   100/  200 steps | loss 0.60799 | ppl    1.837\n",
            "| epoch  14 |   150/  200 steps | loss 0.61731 | ppl    1.854\n",
            "from_scratch=False - ACCURACY TRAIN 0.6175 VALIDATION=0.6625\n",
            "FREEZE TRANSFORMER BACKBONE\n",
            "| epoch  15 |    50/  200 steps | loss 0.59482 | ppl    1.813\n",
            "| epoch  15 |   100/  200 steps | loss 0.61718 | ppl    1.854\n",
            "| epoch  15 |   150/  200 steps | loss 0.63202 | ppl    1.881\n",
            "from_scratch=False - ACCURACY TRAIN 0.625625 VALIDATION=0.6655\n",
            "FREEZE TRANSFORMER BACKBONE\n",
            "| epoch  16 |    50/  200 steps | loss 0.60698 | ppl    1.835\n",
            "| epoch  16 |   100/  200 steps | loss 0.63057 | ppl    1.879\n",
            "| epoch  16 |   150/  200 steps | loss 0.61190 | ppl    1.844\n",
            "from_scratch=False - ACCURACY TRAIN 0.63625 VALIDATION=0.6665\n",
            "FREEZE TRANSFORMER BACKBONE\n",
            "| epoch  17 |    50/  200 steps | loss 0.59530 | ppl    1.814\n",
            "| epoch  17 |   100/  200 steps | loss 0.58449 | ppl    1.794\n",
            "| epoch  17 |   150/  200 steps | loss 0.62156 | ppl    1.862\n",
            "from_scratch=False - ACCURACY TRAIN 0.620625 VALIDATION=0.6565\n",
            "FREEZE TRANSFORMER BACKBONE\n",
            "| epoch  18 |    50/  200 steps | loss 0.63046 | ppl    1.878\n",
            "| epoch  18 |   100/  200 steps | loss 0.58141 | ppl    1.789\n",
            "| epoch  18 |   150/  200 steps | loss 0.57162 | ppl    1.771\n",
            "from_scratch=False - ACCURACY TRAIN 0.630625 VALIDATION=0.661\n",
            "FREEZE TRANSFORMER BACKBONE\n",
            "| epoch  19 |    50/  200 steps | loss 0.59201 | ppl    1.808\n",
            "| epoch  19 |   100/  200 steps | loss 0.60636 | ppl    1.834\n",
            "| epoch  19 |   150/  200 steps | loss 0.62632 | ppl    1.871\n",
            "from_scratch=False - ACCURACY TRAIN 0.63 VALIDATION=0.6595\n",
            "FREEZE TRANSFORMER BACKBONE\n",
            "| epoch  20 |    50/  200 steps | loss 0.61995 | ppl    1.859\n",
            "| epoch  20 |   100/  200 steps | loss 0.56488 | ppl    1.759\n",
            "| epoch  20 |   150/  200 steps | loss 0.58735 | ppl    1.799\n",
            "from_scratch=False - ACCURACY TRAIN 0.650625 VALIDATION=0.681\n",
            "FREEZE TRANSFORMER BACKBONE\n",
            "| epoch  21 |    50/  200 steps | loss 0.62661 | ppl    1.871\n",
            "| epoch  21 |   100/  200 steps | loss 0.57913 | ppl    1.784\n",
            "| epoch  21 |   150/  200 steps | loss 0.57251 | ppl    1.773\n",
            "from_scratch=False - ACCURACY TRAIN 0.654375 VALIDATION=0.679\n",
            "FREEZE TRANSFORMER BACKBONE\n",
            "| epoch  22 |    50/  200 steps | loss 0.61758 | ppl    1.854\n",
            "| epoch  22 |   100/  200 steps | loss 0.56682 | ppl    1.763\n",
            "| epoch  22 |   150/  200 steps | loss 0.60176 | ppl    1.825\n",
            "from_scratch=False - ACCURACY TRAIN 0.65625 VALIDATION=0.68\n",
            "FREEZE TRANSFORMER BACKBONE\n",
            "| epoch  23 |    50/  200 steps | loss 0.59769 | ppl    1.818\n",
            "| epoch  23 |   100/  200 steps | loss 0.61480 | ppl    1.849\n",
            "| epoch  23 |   150/  200 steps | loss 0.57394 | ppl    1.775\n",
            "from_scratch=False - ACCURACY TRAIN 0.66125 VALIDATION=0.6835\n",
            "FREEZE TRANSFORMER BACKBONE\n",
            "| epoch  24 |    50/  200 steps | loss 0.59052 | ppl    1.805\n",
            "| epoch  24 |   100/  200 steps | loss 0.58394 | ppl    1.793\n",
            "| epoch  24 |   150/  200 steps | loss 0.55995 | ppl    1.751\n",
            "from_scratch=False - ACCURACY TRAIN 0.663125 VALIDATION=0.684\n",
            "FREEZE TRANSFORMER BACKBONE\n",
            "| epoch  25 |    50/  200 steps | loss 0.57615 | ppl    1.779\n",
            "| epoch  25 |   100/  200 steps | loss 0.59511 | ppl    1.813\n",
            "| epoch  25 |   150/  200 steps | loss 0.61200 | ppl    1.844\n",
            "from_scratch=False - ACCURACY TRAIN 0.66625 VALIDATION=0.686\n",
            "=====PRETRAINED MODEL======\n",
            "FREEZE TRANSFORMER BACKBONE\n",
            "| epoch   1 |    50/  200 steps | loss 0.71617 | ppl    2.047\n",
            "| epoch   1 |   100/  200 steps | loss 0.67713 | ppl    1.968\n",
            "| epoch   1 |   150/  200 steps | loss 0.64048 | ppl    1.897\n",
            "from_scratch=False - ACCURACY TRAIN 0.545 VALIDATION=0.529\n",
            "FREEZE TRANSFORMER BACKBONE\n",
            "| epoch   2 |    50/  200 steps | loss 0.62574 | ppl    1.870\n",
            "| epoch   2 |   100/  200 steps | loss 0.61599 | ppl    1.851\n",
            "| epoch   2 |   150/  200 steps | loss 0.57470 | ppl    1.777\n",
            "from_scratch=False - ACCURACY TRAIN 0.65375 VALIDATION=0.6345\n",
            "FREEZE TRANSFORMER BACKBONE\n",
            "| epoch   3 |    50/  200 steps | loss 0.58037 | ppl    1.787\n",
            "| epoch   3 |   100/  200 steps | loss 0.59160 | ppl    1.807\n",
            "| epoch   3 |   150/  200 steps | loss 0.57484 | ppl    1.777\n",
            "from_scratch=False - ACCURACY TRAIN 0.67 VALIDATION=0.656\n",
            "FREEZE TRANSFORMER BACKBONE\n",
            "| epoch   4 |    50/  200 steps | loss 0.58056 | ppl    1.787\n",
            "| epoch   4 |   100/  200 steps | loss 0.60306 | ppl    1.828\n",
            "| epoch   4 |   150/  200 steps | loss 0.60510 | ppl    1.831\n",
            "from_scratch=False - ACCURACY TRAIN 0.71625 VALIDATION=0.718\n",
            "FREEZE TRANSFORMER BACKBONE\n",
            "| epoch   5 |    50/  200 steps | loss 0.58741 | ppl    1.799\n",
            "| epoch   5 |   100/  200 steps | loss 0.53389 | ppl    1.706\n",
            "| epoch   5 |   150/  200 steps | loss 0.58032 | ppl    1.787\n",
            "from_scratch=False - ACCURACY TRAIN 0.71 VALIDATION=0.7155\n",
            "FREEZE TRANSFORMER BACKBONE\n",
            "| epoch   6 |    50/  200 steps | loss 0.58767 | ppl    1.800\n",
            "| epoch   6 |   100/  200 steps | loss 0.53031 | ppl    1.699\n",
            "| epoch   6 |   150/  200 steps | loss 0.54729 | ppl    1.729\n",
            "from_scratch=False - ACCURACY TRAIN 0.669375 VALIDATION=0.665\n",
            "FREEZE TRANSFORMER BACKBONE\n",
            "| epoch   7 |    50/  200 steps | loss 0.53343 | ppl    1.705\n",
            "| epoch   7 |   100/  200 steps | loss 0.56081 | ppl    1.752\n",
            "| epoch   7 |   150/  200 steps | loss 0.52062 | ppl    1.683\n",
            "from_scratch=False - ACCURACY TRAIN 0.701875 VALIDATION=0.706\n",
            "FREEZE TRANSFORMER BACKBONE\n",
            "| epoch   8 |    50/  200 steps | loss 0.51217 | ppl    1.669\n",
            "| epoch   8 |   100/  200 steps | loss 0.54600 | ppl    1.726\n",
            "| epoch   8 |   150/  200 steps | loss 0.57536 | ppl    1.778\n",
            "from_scratch=False - ACCURACY TRAIN 0.6725 VALIDATION=0.6765\n",
            "FREEZE TRANSFORMER BACKBONE\n",
            "| epoch   9 |    50/  200 steps | loss 0.57786 | ppl    1.782\n",
            "| epoch   9 |   100/  200 steps | loss 0.53301 | ppl    1.704\n",
            "| epoch   9 |   150/  200 steps | loss 0.52046 | ppl    1.683\n",
            "from_scratch=False - ACCURACY TRAIN 0.706875 VALIDATION=0.7045\n",
            "FREEZE TRANSFORMER BACKBONE\n",
            "| epoch  10 |    50/  200 steps | loss 0.55707 | ppl    1.746\n",
            "| epoch  10 |   100/  200 steps | loss 0.54216 | ppl    1.720\n",
            "| epoch  10 |   150/  200 steps | loss 0.53936 | ppl    1.715\n",
            "from_scratch=False - ACCURACY TRAIN 0.59625 VALIDATION=0.588\n",
            "FREEZE TRANSFORMER BACKBONE\n",
            "| epoch  11 |    50/  200 steps | loss 0.50869 | ppl    1.663\n",
            "| epoch  11 |   100/  200 steps | loss 0.54175 | ppl    1.719\n",
            "| epoch  11 |   150/  200 steps | loss 0.53372 | ppl    1.705\n",
            "from_scratch=False - ACCURACY TRAIN 0.635625 VALIDATION=0.6305\n",
            "FREEZE TRANSFORMER BACKBONE\n",
            "| epoch  12 |    50/  200 steps | loss 0.52531 | ppl    1.691\n",
            "| epoch  12 |   100/  200 steps | loss 0.50952 | ppl    1.664\n",
            "| epoch  12 |   150/  200 steps | loss 0.60385 | ppl    1.829\n",
            "from_scratch=False - ACCURACY TRAIN 0.72125 VALIDATION=0.725\n",
            "FREEZE TRANSFORMER BACKBONE\n",
            "| epoch  13 |    50/  200 steps | loss 0.53508 | ppl    1.708\n",
            "| epoch  13 |   100/  200 steps | loss 0.54581 | ppl    1.726\n",
            "| epoch  13 |   150/  200 steps | loss 0.51533 | ppl    1.674\n",
            "from_scratch=False - ACCURACY TRAIN 0.70375 VALIDATION=0.712\n",
            "FREEZE TRANSFORMER BACKBONE\n",
            "| epoch  14 |    50/  200 steps | loss 0.53473 | ppl    1.707\n",
            "| epoch  14 |   100/  200 steps | loss 0.53557 | ppl    1.708\n",
            "| epoch  14 |   150/  200 steps | loss 0.54301 | ppl    1.721\n",
            "from_scratch=False - ACCURACY TRAIN 0.71625 VALIDATION=0.7285\n",
            "FREEZE TRANSFORMER BACKBONE\n",
            "| epoch  15 |    50/  200 steps | loss 0.53254 | ppl    1.703\n",
            "| epoch  15 |   100/  200 steps | loss 0.57043 | ppl    1.769\n",
            "| epoch  15 |   150/  200 steps | loss 0.50192 | ppl    1.652\n",
            "from_scratch=False - ACCURACY TRAIN 0.703125 VALIDATION=0.7145\n",
            "FREEZE TRANSFORMER BACKBONE\n",
            "| epoch  16 |    50/  200 steps | loss 0.54567 | ppl    1.726\n",
            "| epoch  16 |   100/  200 steps | loss 0.54922 | ppl    1.732\n",
            "| epoch  16 |   150/  200 steps | loss 0.50341 | ppl    1.654\n",
            "from_scratch=False - ACCURACY TRAIN 0.640625 VALIDATION=0.6395\n",
            "FREEZE TRANSFORMER BACKBONE\n",
            "| epoch  17 |    50/  200 steps | loss 0.51943 | ppl    1.681\n",
            "| epoch  17 |   100/  200 steps | loss 0.50081 | ppl    1.650\n",
            "| epoch  17 |   150/  200 steps | loss 0.52217 | ppl    1.686\n",
            "from_scratch=False - ACCURACY TRAIN 0.641875 VALIDATION=0.634\n",
            "FREEZE TRANSFORMER BACKBONE\n",
            "| epoch  18 |    50/  200 steps | loss 0.52337 | ppl    1.688\n",
            "| epoch  18 |   100/  200 steps | loss 0.50815 | ppl    1.662\n",
            "| epoch  18 |   150/  200 steps | loss 0.52829 | ppl    1.696\n",
            "from_scratch=False - ACCURACY TRAIN 0.6175 VALIDATION=0.619\n",
            "FREEZE TRANSFORMER BACKBONE\n",
            "| epoch  19 |    50/  200 steps | loss 0.52931 | ppl    1.698\n",
            "| epoch  19 |   100/  200 steps | loss 0.47686 | ppl    1.611\n",
            "| epoch  19 |   150/  200 steps | loss 0.54676 | ppl    1.728\n",
            "from_scratch=False - ACCURACY TRAIN 0.670625 VALIDATION=0.673\n",
            "FREEZE TRANSFORMER BACKBONE\n",
            "| epoch  20 |    50/  200 steps | loss 0.54040 | ppl    1.717\n",
            "| epoch  20 |   100/  200 steps | loss 0.48256 | ppl    1.620\n",
            "| epoch  20 |   150/  200 steps | loss 0.52761 | ppl    1.695\n",
            "from_scratch=False - ACCURACY TRAIN 0.685 VALIDATION=0.6915\n",
            "FREEZE TRANSFORMER BACKBONE\n",
            "| epoch  21 |    50/  200 steps | loss 0.50505 | ppl    1.657\n",
            "| epoch  21 |   100/  200 steps | loss 0.53595 | ppl    1.709\n",
            "| epoch  21 |   150/  200 steps | loss 0.50201 | ppl    1.652\n",
            "from_scratch=False - ACCURACY TRAIN 0.70625 VALIDATION=0.712\n",
            "FREEZE TRANSFORMER BACKBONE\n",
            "| epoch  22 |    50/  200 steps | loss 0.50100 | ppl    1.650\n",
            "| epoch  22 |   100/  200 steps | loss 0.56121 | ppl    1.753\n",
            "| epoch  22 |   150/  200 steps | loss 0.53095 | ppl    1.701\n",
            "from_scratch=False - ACCURACY TRAIN 0.69125 VALIDATION=0.6955\n",
            "FREEZE TRANSFORMER BACKBONE\n",
            "| epoch  23 |    50/  200 steps | loss 0.56170 | ppl    1.754\n",
            "| epoch  23 |   100/  200 steps | loss 0.48897 | ppl    1.631\n",
            "| epoch  23 |   150/  200 steps | loss 0.46962 | ppl    1.599\n",
            "from_scratch=False - ACCURACY TRAIN 0.584375 VALIDATION=0.5805\n",
            "FREEZE TRANSFORMER BACKBONE\n",
            "| epoch  24 |    50/  200 steps | loss 0.53863 | ppl    1.714\n",
            "| epoch  24 |   100/  200 steps | loss 0.48179 | ppl    1.619\n",
            "| epoch  24 |   150/  200 steps | loss 0.52644 | ppl    1.693\n",
            "from_scratch=False - ACCURACY TRAIN 0.688125 VALIDATION=0.6935\n",
            "FREEZE TRANSFORMER BACKBONE\n",
            "| epoch  25 |    50/  200 steps | loss 0.52242 | ppl    1.686\n",
            "| epoch  25 |   100/  200 steps | loss 0.47248 | ppl    1.604\n",
            "| epoch  25 |   150/  200 steps | loss 0.56011 | ppl    1.751\n",
            "from_scratch=False - ACCURACY TRAIN 0.714375 VALIDATION=0.722\n"
          ]
        }
      ],
      "source": [
        "training_configs = {\n",
        "    \"from scratch\": [True, False, 1.E-4],\n",
        "    \"pretrained trainable backbone\": [False, False, 1.E-4],\n",
        "    #  \"pretrained trainable backbone LR 3E-5\": [False, False, 3.E-5],\n",
        "    \"pretrained frozen backbone LR 1E-4\": [False, True, 1.E-4],\n",
        "    \"pretrained frozen backbone LR 1E-3\": [False, True, 1.E-3],\n",
        "}\n",
        "\n",
        "TRAIN = \"training\"\n",
        "VALID = \"validation\"\n",
        "\n",
        "\n",
        "batch_size_eval = 20\n",
        "train_dl = get_loader(\n",
        "    downstream_path_data_train,\n",
        "    downstream_path_labels_train,\n",
        "    token2ind=token2ind,\n",
        "    batch_size=batch_size_eval,\n",
        "    task=DS_TASK,\n",
        "    shuffle=False # AVOID SHUFFLING FOR OBVIOUS REASONS - even if we're going through the whole validation set - let's do it in the same order everytime (batches will always be the same, no matter the configuration)\n",
        ")\n",
        "valid_dl = get_loader(\n",
        "    downstream_path_data_valid,\n",
        "    downstream_path_labels_valid,\n",
        "    token2ind=token2ind,\n",
        "    batch_size=batch_size_eval,\n",
        "    task=DS_TASK,\n",
        "    shuffle=False\n",
        ")\n",
        "\n",
        "epochs = 25\n",
        "for config, config_vals in training_configs.items():\n",
        "    from_scratch, frozen, lr = config_vals\n",
        "    metrics[config] = {\n",
        "        TRAIN:[],\n",
        "        VALID:[]\n",
        "    }\n",
        "    model_ds = Model(ntokens, nhead, nhid, nlayers, 2, dropout).to(device)\n",
        "    criterion = nn.CrossEntropyLoss()\n",
        "    optimizer = torch.optim.Adam(model_ds.parameters(), lr=lr)\n",
        "    if not from_scratch:\n",
        "        print(\"=====PRETRAINED MODEL======\")\n",
        "        #load checkpoint\n",
        "        checkpoint = torch.load(\"pretrained_model_4layers_no_class_head.pt\")\n",
        "        #load state dict\n",
        "        model_ds.base.load_state_dict(checkpoint['model_state_dict'])\n",
        "    else:\n",
        "        print(\"=====Trainig FROM SCRATCH======\")\n",
        "    \n",
        "    # @TODO: check batch size subtlety on the last element (we want to classify the last feature of the sentence!)\n",
        "    for epoch in range(1, epochs + 1):\n",
        "        model_ds.train()\n",
        "        train(\n",
        "            model_ds,\n",
        "            downstream_path_data_train,\n",
        "            downstream_path_labels_train,\n",
        "            save_interval=-1,\n",
        "            task=DS_TASK,\n",
        "            freeze_backbone=frozen,\n",
        "            batch_size=8,\n",
        "            # batch_size=1, # TO AVOID THE NEED TO RETRIEVE THE RIGHT LAST TOKEN IN A BATCH\n",
        "            log_interval=50,\n",
        "            epoch=epoch,\n",
        "            name=\"_from_scratch\" if from_scratch else \"_pretrained\"\n",
        "        )\n",
        "        model_ds.eval()\n",
        "        acc_train = evaluate_accuracy(train_dl, model_ds)\n",
        "        acc_valid = evaluate_accuracy(valid_dl, model_ds)\n",
        "        \n",
        "        metrics[config][TRAIN].append(acc_train)\n",
        "        metrics[config][VALID].append(acc_valid)\n",
        "        print(f\"{from_scratch=} - ACCURACY TRAIN {acc_train} VALIDATION={acc_valid}\")"
      ]
    },
    {
      "cell_type": "code",
      "execution_count": 68,
      "metadata": {},
      "outputs": [
        {
          "data": {
            "image/png": "[encoded data removed]",
            "text/plain": [
              "<Figure size 800x800 with 1 Axes>"
            ]
          },
          "metadata": {},
          "output_type": "display_data"
        }
      ],
      "source": [
        "#Visualize the accuracy\n",
        "import matplotlib.pyplot as plt\n",
        "plt.figure(figsize=(8, 8))\n",
        "for idx, conf in enumerate(metrics.keys()):\n",
        "    color = \"rgbcp\"[idx]\n",
        "    for mode in [TRAIN, VALID]:\n",
        "        plt.plot(100.*np.array(metrics[conf][mode]), color+(\"--+\" if mode==TRAIN else \"-o\"), label=f\"{conf} - {mode} accuracy\")\n",
        "    # plt.plot(100.*np.array(pretrained_valid_acc), \"-+b\", label=\"pretrained model\")\n",
        "plt.grid()\n",
        "plt.title(\"Classifier accuracy on a downstream task [Sentiment analyzis]\")\n",
        "plt.legend()\n",
        "plt.ylim(40., 100)\n",
        "plt.xlabel(\"Epoch\")\n",
        "plt.ylabel(\"Accuracy [%]\")\n",
        "plt.show()"
      ]
    },
    {
      "cell_type": "markdown",
      "metadata": {},
      "source": [
        "# Results analyzis\n",
        "Let's take a look at some of the predictions"
      ]
    },
    {
      "cell_type": "code",
      "execution_count": 109,
      "metadata": {},
      "outputs": [
        {
          "name": "stdout",
          "output_type": "stream",
          "text": [
            "GROUNDTRUTH=POSITIVE\n",
            "LABEL tensor([0]) LABEL GROUNDTRUTH tensor(1)\n",
            "Ce chef d ' oeuvre de la science - fiction , est sans hésiter , le meilleur de René Bar j avel . Il est magist ra lement écrit , le scénario ... sans précédent ,...\n",
            "GROUNDTRUTH=NEGATIVE\n",
            "LABEL tensor([1]) LABEL GROUNDTRUTH tensor(0)\n",
            "je ne recommande absolue ment pas ce torchon , véritable off ense à la mémoire de Michael Jackson . Il repose enfin en paix ...\n",
            "GROUNDTRUTH=POSITIVE\n",
            "LABEL tensor([0]) LABEL GROUNDTRUTH tensor(1)\n",
            "Cette série de 5 livres , en cours de sortie en bandes dessinées est une référence , à mi chemin entre la science fiction et la Fantasy .\n",
            "GROUNDTRUTH=NEGATIVE\n",
            "LABEL tensor([1]) LABEL GROUNDTRUTH tensor(0)\n",
            "R arement lu quelque chose d ' aussi em ... Le C lez io dans toute son horreur , avec sa morale de boy - sc out et son écriture de rédaction de terminale . A fuir à toutes jambes .\n",
            "GROUNDTRUTH=POSITIVE\n",
            "LABEL tensor([0]) LABEL GROUNDTRUTH tensor(1)\n",
            "ce livres et une vrai drogue ! la der nie re fois je n ' arri vais meme pas a m ' ar re ter ! A LIRE ABS OL U MENT !!!! !!!! !!!! !!!\n",
            "GROUNDTRUTH=POSITIVE\n",
            "LABEL tensor([0]) LABEL GROUNDTRUTH tensor(1)\n",
            "pas mal comme livre mais je préfère \" un trader ne meurt jamais \" du même auteur .\n",
            "GROUNDTRUTH=POSITIVE\n",
            "LABEL tensor([0]) LABEL GROUNDTRUTH tensor(1)\n",
            "Très satisfait , les livres sont neufs , et ma fille les à déjà tous dév orés . Moi it ou d ' ailleurs ...\n",
            "GROUNDTRUTH=NEGATIVE\n",
            "LABEL tensor([1]) LABEL GROUNDTRUTH tensor(0)\n",
            "Un livre qui nous rappelle que nous devons vivre au rythme des saisons pour notre alimentation . Il y a des recettes intéressantes , un petit regret cependant : il manque les poissons et les viandes\n",
            "GROUNDTRUTH=NEGATIVE\n",
            "LABEL tensor([1]) LABEL GROUNDTRUTH tensor(0)\n",
            "Remp lac é le titre par \" c ' est moi le plus fort \" et vous avez vu le livre ... Cela reste quand même un livre pour la petite histoire du soir ..\n",
            "GROUNDTRUTH=NEGATIVE\n",
            "LABEL tensor([1]) LABEL GROUNDTRUTH tensor(0)\n",
            "j ' ai été trés déc ue par j ohn ir ving sur ce dernier livre .\n",
            "GROUNDTRUTH=NEGATIVE\n",
            "LABEL tensor([1]) LABEL GROUNDTRUTH tensor(0)\n",
            "Petit livre par le contenu et le contenant . Néanmoins il reste une bonne distraction lorsque on ne dispose que de peu de temps pour sa lecture . Ce récit est adapté aux juniors de 11 -13 ans .\n",
            "GROUNDTRUTH=NEGATIVE\n",
            "LABEL tensor([1]) LABEL GROUNDTRUTH tensor(0)\n",
            "Beaucoup de blab las et peu d ' action , j ' ai été bien déçue de ce livre que j ' ai eu hâte de finir pour en commencer un bien plus palp itant !\n",
            "GROUNDTRUTH=POSITIVE\n",
            "LABEL tensor([0]) LABEL GROUNDTRUTH tensor(1)\n",
            "FI DEL AU GENERAL , CE LIVRE D RES SE UN CON ST AT DE NOTRE SOCIETE ET DE LA FRANCE ACT UELLE . A LIRE ET A ME DIT ER ( TRES SER IE USE MENT ).\n",
            "GROUNDTRUTH=POSITIVE\n",
            "LABEL tensor([0]) LABEL GROUNDTRUTH tensor(1)\n",
            "Le combat ordinaire est une bombe . De la b édé qui prend aux tripes comme jamais b édé ne me l ' avait fait !\n",
            "GROUNDTRUTH=POSITIVE\n",
            "LABEL tensor([0]) LABEL GROUNDTRUTH tensor(1)\n",
            "Encore une bonne idée de départ ;) L ' intrigue est posée ... il ne manque que le tome 2. Les dessins sont tres sympas ... ( et p out je ne suis pas fan de BD )\n",
            "GROUNDTRUTH=NEGATIVE\n",
            "LABEL tensor([1]) LABEL GROUNDTRUTH tensor(0)\n",
            "l ' histoire s ' essouff le on commence à avoir du mal à suivre les reb ondissement et on y croit plus , on se demande si l ' auteur sait vraiment ou il va\n",
            "GROUNDTRUTH=POSITIVE\n",
            "LABEL tensor([0]) LABEL GROUNDTRUTH tensor(1)\n",
            "A ' en juger tout de suite par les apparences la révolution semble changer tout mais si on juge après , en tenant compte du res ultat final , on doit conclure que le cout du changement est énorme ment dispropor tionné .\n",
            "GROUNDTRUTH=POSITIVE\n",
            "LABEL tensor([0]) LABEL GROUNDTRUTH tensor(1)\n",
            "pour q oi refuser d ' y croire , pour q oi ne pas se laisser gl acer par ses perspectives qui ne doivent pas être si loin de la réalité , pou q oi ne pas avouer que ce livre ne laisse pas indifférent ?\n",
            "GROUNDTRUTH=POSITIVE\n",
            "LABEL tensor([0]) LABEL GROUNDTRUTH tensor(1)\n",
            "les illustrations sont extra s . Le texte , avec sa pointe d ' humour à peine mas quée , est super amusante . Ce texte donn envie d ' aller au bout du livre sans s ' arrêter . Vraiment chouette .\n",
            "GROUNDTRUTH=POSITIVE\n",
            "LABEL tensor([0]) LABEL GROUNDTRUTH tensor(1)\n",
            "Je suis heureuse d ' avoir acheté HTML et X H TML : La référence , car quand je cherche des renseignements précis , je les trouve .\n",
            "GROUNDTRUTH=POSITIVE\n",
            "LABEL tensor([0]) LABEL GROUNDTRUTH tensor(1)\n",
            "Entièrement d ' accord avec les commentaires à 5 étoiles . Je rajouter ai simplement que je l ' ai commencé vers 22 h et terminé vers 9 h , après une nuit blanche . Vous êtes prévenus , difficile à lâcher , une fois ouvert .\n",
            "GROUNDTRUTH=POSITIVE\n",
            "LABEL tensor([0]) LABEL GROUNDTRUTH tensor(1)\n",
            "Ce livre contient en fait 3 histoires : - Le Hor la : 1 er version ( la plus courte ) - Le Hor la : 2 eme version ( la définitive ) - L ettre d ' un fou ( une variante du Hor la )\n",
            "GROUNDTRUTH=NEGATIVE\n",
            "LABEL tensor([1]) LABEL GROUNDTRUTH tensor(0)\n",
            "J ' ai dû mal à cerner la psychologie du tueur . Vraiment torturé le type . Tout ça est un peu al ambi qué et peu crédible . Les flash - backs trop nombreux sont fati g ants . Je reconnais juste une bonne écriture ?\n",
            "GROUNDTRUTH=POSITIVE\n",
            "LABEL tensor([0]) LABEL GROUNDTRUTH tensor(1)\n",
            "Enfin , une véritable mini - enc yclopédie des \" t ours de main \" des cuisiniers ... En effet , aucune recette .. que des trucs . Pour le cuisinier amateur mais averti ... Un investissement qui en vaut vraiment la peine !\n",
            "GROUNDTRUTH=POSITIVE\n",
            "LABEL tensor([0]) LABEL GROUNDTRUTH tensor(1)\n",
            "On peut regretter que les discu tions avec Mr Gur dj ie ff ne soient pas traitées plus en profondeur . Cela reste toutefois un bon complément à la suite de Fra gment .\n",
            "GROUNDTRUTH=POSITIVE\n",
            "LABEL tensor([0]) LABEL GROUNDTRUTH tensor(1)\n",
            "l E LIVRE ET COL OR ES ET L HISTOIRE ET JOL IE LE LIVRE RES TE FI DE LE A L ES PR IT DU DESS IN AN IME .\n",
            "GROUNDTRUTH=POSITIVE\n",
            "LABEL tensor([0]) LABEL GROUNDTRUTH tensor(1)\n",
            "De la premiere a la der nie re page , on est tenu en haleine . Les personnages sont bien camp és , l ' at mosph ere elect rique , une ambiance que seul Bruss olo arrive a créer . Aucune de ception\n",
            "GROUNDTRUTH=NEGATIVE\n",
            "LABEL tensor([1]) LABEL GROUNDTRUTH tensor(0)\n",
            "Ce livre des frères Bog dan ov introduit des outils mathématiques puissants , pour tenter de nous montrer l ' univers avant et pendant sa naissance . Malgré cela , les 2 frères ont tenté de rendre se livre accessible par tous .\n",
            "GROUNDTRUTH=NEGATIVE\n",
            "LABEL tensor([1]) LABEL GROUNDTRUTH tensor(0)\n",
            "bonjour je viens de recevoir ce livre et franchement je suis tres dec ue trop complexes et trop originales je n aime pas du tout\n",
            "GROUNDTRUTH=POSITIVE\n",
            "LABEL tensor([0]) LABEL GROUNDTRUTH tensor(1)\n",
            "Presque 70 ans après les évènements , enfin un livre solidement argument é , sans biais nationaliste , ni politique . L ' authenticité de quelques citations est discutable mais ne diminuent pas l ' intérêt du travail d ' historien .\n",
            "GROUNDTRUTH=POSITIVE\n",
            "LABEL tensor([0]) LABEL GROUNDTRUTH tensor(1)\n",
            "Ce livre est très bien , l ' auteur Kath rine K ress mann Taylor fait passer beaucoup d ' émotions dans sa plume , le contenu du livre en lui - même est très interess ant , ... enfin bref , un très bon livre .\n",
            "GROUNDTRUTH=POSITIVE\n",
            "LABEL tensor([0]) LABEL GROUNDTRUTH tensor(1)\n",
            "Cette version n ' est pas la version couleurs à laquelle fait référence q mon te bel lo , mais celle en N / B . Ne vous trompe z pas !\n",
            "GROUNDTRUTH=NEGATIVE\n",
            "LABEL tensor([1]) LABEL GROUNDTRUTH tensor(0)\n",
            "Rien à dire t ellement c ' est constern ant , de mauvaise foi et contre toute recherche objective de l ' histoire et du présent .\n",
            "GROUNDTRUTH=NEGATIVE\n",
            "LABEL tensor([1]) LABEL GROUNDTRUTH tensor(0)\n",
            "Et voila le récompensé qui va faire son discours ... Vous qui vous endorm iez déjà devant les Cés ars , comment allez - vous résister devant merci ?\n",
            "GROUNDTRUTH=NEGATIVE\n",
            "LABEL tensor([1]) LABEL GROUNDTRUTH tensor(0)\n",
            "Un gros pavé un peu trop romanesque pour être vrai ! M anque cruellement de témoignages de première main !\n",
            "GROUNDTRUTH=NEGATIVE\n",
            "LABEL tensor([1]) LABEL GROUNDTRUTH tensor(0)\n",
            "J ' ai cal é ., c ' est rare chez moi mais il ne faut jamais d se forcer sur un livre Pas passionné . Je ret enter ai ultérieurement\n",
            "GROUNDTRUTH=POSITIVE\n",
            "LABEL tensor([0]) LABEL GROUNDTRUTH tensor(1)\n",
            "Très bonne BD , tout à fait dans la suite du volume 1. On attend la suite ...\n",
            "GROUNDTRUTH=NEGATIVE\n",
            "LABEL tensor([1]) LABEL GROUNDTRUTH tensor(0)\n",
            "J ' avais vraiment adoré 99 F et ai été bien déçue par ce roman . La forme est toujours conforme à l ' auteur mais le fond est , pour moi , dén ué de tout intérêt .\n",
            "GROUNDTRUTH=POSITIVE\n",
            "LABEL tensor([0]) LABEL GROUNDTRUTH tensor(1)\n",
            "Toujours très bien dans la tradition L An fe ust de Troy . On reprocher a peut être son coté \" trans ition \" à ce tome\n",
            "GROUNDTRUTH=POSITIVE\n",
            "LABEL tensor([0]) LABEL GROUNDTRUTH tensor(1)\n",
            "Ce livre très bien écrit , facile à lire , parfaitement chap it ré est bien plus qu ' une introduction , une véritable ex ég èse du Tal m ud . A ne manquer sous aucun prétexte .\n",
            "GROUNDTRUTH=POSITIVE\n",
            "LABEL tensor([0]) LABEL GROUNDTRUTH tensor(1)\n",
            "Ouv rage très intéressant pour aide aux mots croisés par exemple , livré neuf dans le délai annoncé . Pas déçu par cet achat d ' un prix intéressant .\n",
            "GROUNDTRUTH=POSITIVE\n",
            "LABEL tensor([0]) LABEL GROUNDTRUTH tensor(1)\n",
            "Merci pour l ' article de presse qui était inséré dans le livre , cela m ' a beaucoup touchée\n",
            "GROUNDTRUTH=NEGATIVE\n",
            "LABEL tensor([1]) LABEL GROUNDTRUTH tensor(0)\n",
            "L ' histoire de deux frères tord us et mal dans leurs peaux , et l ' on nous assure que son auteur est un génie . Ce roman est désagréable à lire , voire très très désagréable à lire .\n",
            "GROUNDTRUTH=POSITIVE\n",
            "LABEL tensor([0]) LABEL GROUNDTRUTH tensor(1)\n",
            "Rien ne sert de revenir sur la beauté de cet ouvrage , tout le monde la dite mieux que je ne peu le faire .\n",
            "GROUNDTRUTH=POSITIVE\n",
            "LABEL tensor([0]) LABEL GROUNDTRUTH tensor(1)\n",
            "toujours la meme intrigue la meme rapidité dans les scen es d ' actions , se lit en une fois mais par mom em t on passe des pages descrip tives inutiles , dommage\n",
            "GROUNDTRUTH=POSITIVE\n",
            "LABEL tensor([0]) LABEL GROUNDTRUTH tensor(1)\n",
            "L ' auteur a fait des bonnes choses . Il en a fait des moins bonnes .\n",
            "GROUNDTRUTH=NEGATIVE\n",
            "LABEL tensor([1]) LABEL GROUNDTRUTH tensor(0)\n",
            "L ' histoire de deux frères tord us et mal dans leurs peaux , et l ' on nous assure que son auteur est un génie . Ce roman est désagréable à lire , voire très très désagréable à lire .\n",
            "GROUNDTRUTH=NEGATIVE\n",
            "LABEL tensor([1]) LABEL GROUNDTRUTH tensor(0)\n",
            "Ce livre est agréable , il se lit facilement , mais si on l ' analyse vraiment , il a plus sa place dans un rayon du relais de la gare que dans une grande bibliothèque . Son succès n ' est pas mérité .\n",
            "GROUNDTRUTH=POSITIVE\n",
            "LABEL tensor([0]) LABEL GROUNDTRUTH tensor(1)\n",
            "Les lecteurs de ce livre seront d ' accord avec moi pour affirmer qu ' ils ne consid eront plus jamais leur ordinateur comme avant !\n",
            "GROUNDTRUTH=NEGATIVE\n",
            "LABEL tensor([1]) LABEL GROUNDTRUTH tensor(0)\n",
            "Trop d ' humour noir tue l ' humour . Peu d ' intérêt dans les différentes nouvelles . Livre présenté à un forum de lectures pour col èg iens . Ne mérite pas de détour .\n",
            "GROUNDTRUTH=NEGATIVE\n",
            "LABEL tensor([1]) LABEL GROUNDTRUTH tensor(0)\n",
            "Symp a mais sans plus . A force de toujours prendre à peu près les mêmes sujets , on commence à voir les grosses ficelles . Sans surprise .\n",
            "GROUNDTRUTH=NEGATIVE\n",
            "LABEL tensor([1]) LABEL GROUNDTRUTH tensor(0)\n",
            "Monsieur Jack , ceux qui ont apprécié votre premier livre seront déçus par ce second , qui décidément est plus celui de votre épouse qui le co si gne , que le vôtre .\n",
            "GROUNDTRUTH=POSITIVE\n",
            "LABEL tensor([0]) LABEL GROUNDTRUTH tensor(1)\n",
            "Livre très précis sur les différentes techniques traditionnelles de construction de p aliss ades , bordures , t ress ages divers . Beaucoup de références aux techniques japonaises avec leurs noms japonais . Nombreux croquis explic atifs et photos de p aliss ades dans des jardins japonais .\n",
            "GROUNDTRUTH=POSITIVE\n",
            "LABEL tensor([0]) LABEL GROUNDTRUTH tensor(1)\n",
            "L ' AU TEUR VOUS FAIT PART AGER SA PAS SION DES PAL MI ERS . UN GRAND NOM BRE DE PHOT OS ET P LE IN DE CONSEIL S PRATI QUES . LE LIVRE A AV OIR ABS OL U MENT SUR LE SU JET\n",
            "GROUNDTRUTH=POSITIVE\n",
            "LABEL tensor([0]) LABEL GROUNDTRUTH tensor(1)\n",
            "Un livre détaillé et bien présenté ( quelques pages pour chaque sujet ) dont la préface est écrite par Régis Boyer , somm ité française dans le domaine des vi kings , ce qui assure que l ' oeuvre est fiable et constructive .\n",
            "GROUNDTRUTH=NEGATIVE\n",
            "LABEL tensor([1]) LABEL GROUNDTRUTH tensor(0)\n",
            "C ' est creux et vide . Simple juxtap osition de réflexions sans intérêts , écrites avec beaucoup de style et de classe\n",
            "GROUNDTRUTH=NEGATIVE\n",
            "LABEL tensor([1]) LABEL GROUNDTRUTH tensor(0)\n",
            "Il faut considérer ce livre comme un instant de détente .... Bien écrit il se lit facilement .\n",
            "GROUNDTRUTH=POSITIVE\n",
            "LABEL tensor([0]) LABEL GROUNDTRUTH tensor(1)\n",
            "biographie de Viktor Sch au berger ce génial observateur de la Nature . Nos technologies gagner aient à s ' inspirer des travaux de ce grand Homme hélas méconnu . Sch au berger est le \" p ape \" de l ' eau\n",
            "GROUNDTRUTH=NEGATIVE\n",
            "LABEL tensor([1]) LABEL GROUNDTRUTH tensor(0)\n",
            "Je n ' ai pas apprécié ce livre que l ' on m ' avait offert . des longueurs , des scènes trop violentes à mon goût , et un côté mor alisateur qui m ' a dép lut .\n",
            "GROUNDTRUTH=POSITIVE\n",
            "LABEL tensor([0]) LABEL GROUNDTRUTH tensor(1)\n",
            "Ess entiel si la Connaissance de Dieu et de ses Oeu vres au sens ésotéri que de ces mots , vous appelle ... A lire de toute façon si on s ' intéresse à la Thé urgie , de près ou de loin ...\n",
            "GROUNDTRUTH=NEGATIVE\n",
            "LABEL tensor([1]) LABEL GROUNDTRUTH tensor(0)\n",
            "Un gros pavé un peu trop romanesque pour être vrai ! M anque cruellement de témoignages de première main !\n",
            "GROUNDTRUTH=NEGATIVE\n",
            "LABEL tensor([1]) LABEL GROUNDTRUTH tensor(0)\n",
            "Katherine P anc ol a rassemblé tous ses articles de Paris Match et cela ne fait pas un livre !\n",
            "GROUNDTRUTH=POSITIVE\n",
            "LABEL tensor([0]) LABEL GROUNDTRUTH tensor(1)\n",
            "Si comme moi vous avez deja lu tous les livres interess ants sur la vente et le marketing , vous comprendrez encore mieux pourquoi ce livre m ' a plu .\n",
            "GROUNDTRUTH=NEGATIVE\n",
            "LABEL tensor([1]) LABEL GROUNDTRUTH tensor(0)\n",
            "Kris h nam ur ti pense qu ' on peut tout dec ouvrir simplement par soi - me me est il rejette toutes les religions sans meme les avoir et u die es . C ' est son erreur principale . Je recommande ses autres livres .\n",
            "GROUNDTRUTH=NEGATIVE\n",
            "LABEL tensor([1]) LABEL GROUNDTRUTH tensor(0)\n",
            "J ' ai eu la joie de redécouvrir avec mon fils de 4 ans cette histoire et malgré des illustrations un peu vieill otes , la magie et la poésie du texte continuent d ' opérer ... A lire et relire absolument !\n",
            "GROUNDTRUTH=POSITIVE\n",
            "LABEL tensor([0]) LABEL GROUNDTRUTH tensor(1)\n",
            "mon fils de 7 ans a adoré ... \" trop rigol ot \", surtout qu ' une mait resse ait peur du noir\n",
            "GROUNDTRUTH=NEGATIVE\n",
            "LABEL tensor([1]) LABEL GROUNDTRUTH tensor(0)\n",
            "On n ' y apprend véritablement pas grand chose , hormis quelques histoires de marins à propos des intervenants à la découverte de ce phénomène . Je le décon seille à tous les curieux qui émettent le souhait de comprendre le Gul fs tream .\n",
            "GROUNDTRUTH=POSITIVE\n",
            "LABEL tensor([0]) LABEL GROUNDTRUTH tensor(1)\n",
            "1000 pages de techniques , complet et accessible à la fois . Rés umés , questions , exercices , aide en ligne . Rien à reprocher ...\n",
            "GROUNDTRUTH=NEGATIVE\n",
            "LABEL tensor([1]) LABEL GROUNDTRUTH tensor(0)\n",
            "Etant un grand f ana de la bourse et de la finance pendant 7 années , j ' ai fini par lire plusieurs livres d ' analyse technique .\n",
            "GROUNDTRUTH=NEGATIVE\n",
            "LABEL tensor([1]) LABEL GROUNDTRUTH tensor(0)\n",
            "Ce fut mon premier livre d ' hypnose . A l ' époque il était déjà complètement dépassé par les techniques et concepts développés après la seconde guerre mondiale , c ' est dire !\n",
            "GROUNDTRUTH=NEGATIVE\n",
            "LABEL tensor([1]) LABEL GROUNDTRUTH tensor(0)\n",
            "Etant un lecteur habituel et assidu de Tom Cl ancy , j ' ai été très déçu par cet ouvrage très répéti tif où le héros est trop parfait pour être réel . Je me suis ennuy é !\n",
            "GROUNDTRUTH=POSITIVE\n",
            "LABEL tensor([0]) LABEL GROUNDTRUTH tensor(1)\n",
            "Une lecture toujours aussi prenante pour un manga phare de la culture japonaise . Dommage que la série vienne à se terminer bientôt .\n",
            "GROUNDTRUTH=NEGATIVE\n",
            "LABEL tensor([1]) LABEL GROUNDTRUTH tensor(0)\n",
            "Quel dommage que les nombreuses informations dont fourm ille ce livre soient mêlées à des approxim ations et des inex ac titudes sur des éléments cruciaux de la démonstration !\n",
            "GROUNDTRUTH=NEGATIVE\n",
            "LABEL tensor([1]) LABEL GROUNDTRUTH tensor(0)\n",
            "Un vrai album sympa de Boule et Bill ... mais avec un format plus petit que les traditionnels (17 cm x 22 cm au lieu de 22 cm x 30 cm ) ds la série de la bibliothèque ça fait bizarre !\n",
            "GROUNDTRUTH=NEGATIVE\n",
            "LABEL tensor([1]) LABEL GROUNDTRUTH tensor(0)\n",
            "l ' histoire est un peu longue , et on se lasse , j ' ai eu de la peine a lire les deux tomes l ' idée est bonne mais trop de longueurs\n",
            "GROUNDTRUTH=NEGATIVE\n",
            "LABEL tensor([1]) LABEL GROUNDTRUTH tensor(0)\n",
            "Il faut déjà bien connaître le sujet pour lire cet ouvrage , sinon il est difficile à comprendre , ardu à lire .\n",
            "GROUNDTRUTH=NEGATIVE\n",
            "LABEL tensor([1]) LABEL GROUNDTRUTH tensor(0)\n",
            "Ce livre n ' est pas aussi bien qu ' en a donné l ' impression de la bande annonce . Pas passionnant , pas à lire dans les priorités ..\n",
            "GROUNDTRUTH=NEGATIVE\n",
            "LABEL tensor([1]) LABEL GROUNDTRUTH tensor(0)\n",
            "Un livre aff lige ant , qui ferait presque rire . Les quelques informations sérieuses sont noy ées sous les autres . Un livre totalement parti ale qui casse la W ic ca et fais passer ses pratiquant pour des illum inés .\n",
            "GROUNDTRUTH=POSITIVE\n",
            "LABEL tensor([0]) LABEL GROUNDTRUTH tensor(1)\n",
            "La mécanique quantique présentée de manière très claire . Tous les calculs sont très proprement faits et une analyse physique de la mécanique quantique est systématique ment proposée . Une bible de mécanique quantique .\n",
            "GROUNDTRUTH=POSITIVE\n",
            "LABEL tensor([0]) LABEL GROUNDTRUTH tensor(1)\n",
            "Ce n ' est pas mon genre de lire des livres de cette épaisseur là , mais je peux vous dire que je l ' ai lit ter alement dévoré .\n",
            "GROUNDTRUTH=POSITIVE\n",
            "LABEL tensor([0]) LABEL GROUNDTRUTH tensor(1)\n",
            "Que du bonheur et de la poésie dans l ' univers de Camille . Prix intéressant pour 5 histoires par rapport aux albums .\n",
            "GROUNDTRUTH=NEGATIVE\n",
            "LABEL tensor([1]) LABEL GROUNDTRUTH tensor(0)\n",
            "J ' ai du lire ce livre pour un exposé sur le progrès\n",
            "GROUNDTRUTH=POSITIVE\n",
            "LABEL tensor([0]) LABEL GROUNDTRUTH tensor(1)\n",
            "j ' ai ete agra ble ment surpris par la cl arte des explications de ce livre , et je pense que pour ceux qui ont encore quelques questions à se poser sur v ista devraient le pos se der\n",
            "GROUNDTRUTH=POSITIVE\n",
            "LABEL tensor([0]) LABEL GROUNDTRUTH tensor(1)\n",
            "M . Germain pose les grandes lignes des enjeux de l ' In t ranet pour les entreprises . Cet ouvrage est une prospective pour , disons , les 15 prochaines années .\n",
            "GROUNDTRUTH=NEGATIVE\n",
            "LABEL tensor([1]) LABEL GROUNDTRUTH tensor(0)\n",
            "Histoire ronde ment men ee , bon rythmes , at mosph eres , rebondissements ... tout y est . On peut peut etre regretter l absence de profondeur des personnages principaux et ce cote un peu caricat ural qu ils ont\n",
            "GROUNDTRUTH=NEGATIVE\n",
            "LABEL tensor([1]) LABEL GROUNDTRUTH tensor(0)\n",
            "à totalement déconse iller à un débutant ! beaucoup trop intelle c tuel et théorique . L ' opposé de la grammaire de kh av ron ina basée sur les exemples et exercices progressi fs .\n",
            "GROUNDTRUTH=POSITIVE\n",
            "LABEL tensor([0]) LABEL GROUNDTRUTH tensor(1)\n",
            "Ce bloc est pratique , évolu tif et complet . Un point faible : beaucoup de colori ages et cela peut être fasti dieux pour les enfants peu patients ...\n",
            "GROUNDTRUTH=POSITIVE\n",
            "LABEL tensor([0]) LABEL GROUNDTRUTH tensor(1)\n",
            "Ces deux volumes nous offrent des textes majeurs dans une édition remarquable ( ce n ' est pas une surprise )...\n",
            "GROUNDTRUTH=NEGATIVE\n",
            "LABEL tensor([1]) LABEL GROUNDTRUTH tensor(0)\n",
            "passionne e de peinture sur bois et aimant la nature avec beaucoup d observation , de çue rien a apprendre dans ce livre\n",
            "GROUNDTRUTH=POSITIVE\n",
            "LABEL tensor([0]) LABEL GROUNDTRUTH tensor(1)\n",
            "Très beau ( et gros !) livre , richement documenté . On prend beaucoup de plaisir à le feuillet er . Attention , le colis risque de ne pas rentrer dans la boîte aux lettres !\n",
            "GROUNDTRUTH=POSITIVE\n",
            "LABEL tensor([0]) LABEL GROUNDTRUTH tensor(1)\n",
            "SI VOS ENFANTS ONT A IM ES LES DR OLES DE PETI TES B ET ES DE AN TO ON K RIE GS , I LS V ONT AD OR ER CES PETI TS R OIS ET RE INES QUI LE URS RES SE MBL ENT T ANT\n",
            "GROUNDTRUTH=NEGATIVE\n",
            "LABEL tensor([1]) LABEL GROUNDTRUTH tensor(0)\n",
            "J ' ai du lire ce livre pour un exposé sur le progrès\n",
            "GROUNDTRUTH=POSITIVE\n",
            "LABEL tensor([0]) LABEL GROUNDTRUTH tensor(1)\n",
            "Un ouvrage qui permet d ' éviter des ét ym ologies fondées sur des analog ies superfici elles . Aide à une réflexion plus rationnelle sur le vocabulaire in do - européen .\n"
          ]
        }
      ],
      "source": [
        "# a function to evaluate the validation accuracy of the model.\n",
        "def evaluate_accuracy(data_loader: DataLoader, model, print_fails=False, max_print=50):\n",
        "    accuracy = 0\n",
        "    failed_sentences_length = []\n",
        "    correctly_classified_sentences_length = []\n",
        "    for _idx, sentence_batch in enumerate(data_loader):\n",
        "        input_sentences = sentence_batch[0].to(device)\n",
        "        target_labels = sentence_batch[1].to(device)\n",
        "        logits = model(input_sentences, src_mask=None)\n",
        "        logits = logits[-1, ...]\n",
        "        predicted_class = torch.argmax(logits, dim=-1)\n",
        "        if print_fails:\n",
        "            if predicted_class!=target_labels:\n",
        "                if input_sentences.shape[0] < 50:\n",
        "                    print(\"GROUNDTRUTH=\" + (\"POSITIVE\" if bool(target_labels[0].cpu()) else \"NEGATIVE\"))\n",
        "                    print(\"LABEL\", predicted_class.cpu(),  \"LABEL GROUNDTRUTH\", target_labels[0].cpu())\n",
        "                    print(tensor_to_sentence(input_sentences[1:, 0].cpu()))\n",
        "                failed_sentences_length.append(input_sentences.shape[0])\n",
        "                \n",
        "            else:\n",
        "                correctly_classified_sentences_length.append(input_sentences.shape[0])\n",
        "        accuracy += torch.sum(predicted_class==target_labels).detach()\n",
        "    accuracy = float(accuracy)/len(data_loader.dataset)\n",
        "    return accuracy, failed_sentences_length, correctly_classified_sentences_length\n",
        "\n",
        "def check_samples(model_ds):\n",
        "    model_ds.eval()\n",
        "\n",
        "    data_loader_validation_ds = get_loader(\n",
        "        downstream_path_data_valid,\n",
        "        downstream_path_labels_valid,\n",
        "        token2ind=token2ind,\n",
        "        batch_size=1, # Let's use a batch size of 1 so a sentence always has maximum length\n",
        "        task=DS_TASK,\n",
        "        shuffle=False # AVOID SHUFFLING FOR OBVIOUS REASONS - even if we're going through the whole validation set - let's do it in the same order everytime (batches will always be the same, no matter the configuration)\n",
        "    )\n",
        "    acc, failed_sentences_length, correctly_classified_sentences_length = evaluate_accuracy(\n",
        "        data_loader_validation_ds,\n",
        "        model_ds,\n",
        "        print_fails=True\n",
        "    )\n",
        "    return acc, failed_sentences_length, correctly_classified_sentences_length\n",
        "\n",
        "acc, failed_sentences_length, correctly_classified_sentences_length = check_samples(model_ds)\n"
      ]
    },
    {
      "cell_type": "code",
      "execution_count": 103,
      "metadata": {},
      "outputs": [
        {
          "data": {
            "image/png": "[encoded data removed]",
            "text/plain": [
              "<Figure size 640x480 with 1 Axes>"
            ]
          },
          "metadata": {},
          "output_type": "display_data"
        }
      ],
      "source": [
        "\n",
        "plt.hist(failed_sentences_length, bins=50, color=\"r\", density=True, label=\"Failed classification sentences\")\n",
        "plt.hist(correctly_classified_sentences_length, color=\"g\", bins=50, density=True, label=\"Correcly classified sentences\")\n",
        "plt.grid()\n",
        "plt.legend()\n",
        "plt.title(f\"Distribution of the length of the sentences - Accuracy = {acc*100}%%\")\n",
        "plt.show()\n"
      ]
    }
  ],
  "metadata": {
    "accelerator": "GPU",
    "colab": {
      "provenance": []
    },
    "kernelspec": {
      "display_name": "Python 3.6.15 ('altegrad')",
      "language": "python",
      "name": "python3"
    },
    "language_info": {
      "codemirror_mode": {
        "name": "ipython",
        "version": 3
      },
      "file_extension": ".py",
      "mimetype": "text/x-python",
      "name": "python",
      "nbconvert_exporter": "python",
      "pygments_lexer": "ipython3",
      "version": "3.10.12"
    },
    "vscode": {
      "interpreter": {
        "hash": "1f3cfdeab8dd8f9900bd16266619de191cf0f5e09365d74b1fba1714dce58066"
      }
    }
  },
  "nbformat": 4,
  "nbformat_minor": 0
}
