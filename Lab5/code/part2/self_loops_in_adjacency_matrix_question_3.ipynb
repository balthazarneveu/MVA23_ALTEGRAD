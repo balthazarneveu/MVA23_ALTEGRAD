{
 "cells": [
  {
   "cell_type": "markdown",
   "metadata": {},
   "source": [
    "# Additional checks for question 3 on the use of self loops in adjacency matrix "
   ]
  },
  {
   "cell_type": "code",
   "execution_count": 1,
   "metadata": {},
   "outputs": [],
   "source": [
    "from utils import normalize_adjacency\n",
    "import networkx as nx\n",
    "from pathlib import Path\n",
    "from scipy.sparse.linalg import eigs"
   ]
  },
  {
   "cell_type": "code",
   "execution_count": 2,
   "metadata": {},
   "outputs": [],
   "source": [
    "G = nx.complete_graph(8)"
   ]
  },
  {
   "cell_type": "code",
   "execution_count": 3,
   "metadata": {},
   "outputs": [
    {
     "name": "stdout",
     "output_type": "stream",
     "text": [
      "Self loops True: [0.00000000e+00 1.00000000e+00 0.00000000e+00 4.57726760e-34\n",
      " 1.32708915e-33 0.00000000e+00]\n",
      "Self loops False: [ 1.         -0.14285714 -0.14285714 -0.14285714 -0.14285714 -0.14285714]\n"
     ]
    }
   ],
   "source": [
    "adj = nx.adjacency_matrix(G)\n",
    "adj.toarray()\n",
    "\n",
    "for add_self_loops in [True, False]:\n",
    "    adj_norm = normalize_adjacency(adj, add_self_loops=add_self_loops)\n",
    "    adj_norm.toarray()\n",
    "    sorted_eigen_values, eigen_vectors = eigs(\n",
    "        adj_norm,\n",
    "        which=\"LR\", # HR for smallest real part\n",
    "        # k=k\n",
    "    )\n",
    "    sorted_eigen_values = sorted_eigen_values.real\n",
    "    print(f\"Self loops {add_self_loops}: {sorted_eigen_values}\")\n"
   ]
  },
  {
   "cell_type": "markdown",
   "metadata": {},
   "source": [
    "# Added Self loops\n",
    "- 1 eigen value = 1\n",
    "- other eigen values = 0"
   ]
  },
  {
   "cell_type": "code",
   "execution_count": 4,
   "metadata": {},
   "outputs": [
    {
     "data": {
      "text/plain": [
       "array([[0.125, 0.125, 0.125, 0.125, 0.125, 0.125, 0.125, 0.125],\n",
       "       [0.125, 0.125, 0.125, 0.125, 0.125, 0.125, 0.125, 0.125],\n",
       "       [0.125, 0.125, 0.125, 0.125, 0.125, 0.125, 0.125, 0.125],\n",
       "       [0.125, 0.125, 0.125, 0.125, 0.125, 0.125, 0.125, 0.125],\n",
       "       [0.125, 0.125, 0.125, 0.125, 0.125, 0.125, 0.125, 0.125],\n",
       "       [0.125, 0.125, 0.125, 0.125, 0.125, 0.125, 0.125, 0.125],\n",
       "       [0.125, 0.125, 0.125, 0.125, 0.125, 0.125, 0.125, 0.125],\n",
       "       [0.125, 0.125, 0.125, 0.125, 0.125, 0.125, 0.125, 0.125]])"
      ]
     },
     "execution_count": 4,
     "metadata": {},
     "output_type": "execute_result"
    }
   ],
   "source": [
    "adj_norm = normalize_adjacency(adj)\n",
    "adj_norm.toarray()"
   ]
  },
  {
   "cell_type": "code",
   "execution_count": 5,
   "metadata": {},
   "outputs": [
    {
     "data": {
      "text/plain": [
       "array([ 0.00000000e+00,  1.00000000e+00,  6.24935884e-34,  6.24935884e-34,\n",
       "        1.45270784e-33, -7.95928199e-50])"
      ]
     },
     "execution_count": 5,
     "metadata": {},
     "output_type": "execute_result"
    }
   ],
   "source": [
    "adj_norm = normalize_adjacency(adj)\n",
    "adj_norm.toarray()\n",
    "sorted_eigen_values, eigen_vectors = eigs(\n",
    "    adj_norm,\n",
    "    which=\"LR\", # HR for smallest real part\n",
    "    # k=k\n",
    ")\n",
    "sorted_eigen_values = sorted_eigen_values.real\n",
    "sorted_eigen_values"
   ]
  },
  {
   "cell_type": "markdown",
   "metadata": {},
   "source": [
    "# No self loops\n",
    "Negative eigen values"
   ]
  },
  {
   "cell_type": "code",
   "execution_count": 6,
   "metadata": {},
   "outputs": [
    {
     "data": {
      "text/plain": [
       "array([[0.        , 0.14285714, 0.14285714, 0.14285714, 0.14285714,\n",
       "        0.14285714, 0.14285714, 0.14285714],\n",
       "       [0.14285714, 0.        , 0.14285714, 0.14285714, 0.14285714,\n",
       "        0.14285714, 0.14285714, 0.14285714],\n",
       "       [0.14285714, 0.14285714, 0.        , 0.14285714, 0.14285714,\n",
       "        0.14285714, 0.14285714, 0.14285714],\n",
       "       [0.14285714, 0.14285714, 0.14285714, 0.        , 0.14285714,\n",
       "        0.14285714, 0.14285714, 0.14285714],\n",
       "       [0.14285714, 0.14285714, 0.14285714, 0.14285714, 0.        ,\n",
       "        0.14285714, 0.14285714, 0.14285714],\n",
       "       [0.14285714, 0.14285714, 0.14285714, 0.14285714, 0.14285714,\n",
       "        0.        , 0.14285714, 0.14285714],\n",
       "       [0.14285714, 0.14285714, 0.14285714, 0.14285714, 0.14285714,\n",
       "        0.14285714, 0.        , 0.14285714],\n",
       "       [0.14285714, 0.14285714, 0.14285714, 0.14285714, 0.14285714,\n",
       "        0.14285714, 0.14285714, 0.        ]])"
      ]
     },
     "execution_count": 6,
     "metadata": {},
     "output_type": "execute_result"
    }
   ],
   "source": [
    "adj_norm_no_loops = normalize_adjacency(adj, add_self_loops=False)\n",
    "adj_norm_no_loops.toarray()"
   ]
  },
  {
   "cell_type": "code",
   "execution_count": 7,
   "metadata": {},
   "outputs": [
    {
     "data": {
      "text/plain": [
       "array([ 1.        , -0.14285714, -0.14285714, -0.14285714, -0.14285714,\n",
       "       -0.14285714])"
      ]
     },
     "execution_count": 7,
     "metadata": {},
     "output_type": "execute_result"
    }
   ],
   "source": [
    "sorted_eigen_values, eigen_vectors = eigs(\n",
    "    adj_norm_no_loops,\n",
    "    which=\"LR\",\n",
    ")\n",
    "sorted_eigen_values = sorted_eigen_values.real\n",
    "sorted_eigen_values\n"
   ]
  }
 ],
 "metadata": {
  "kernelspec": {
   "display_name": "Python 3",
   "language": "python",
   "name": "python3"
  },
  "language_info": {
   "codemirror_mode": {
    "name": "ipython",
    "version": 3
   },
   "file_extension": ".py",
   "mimetype": "text/x-python",
   "name": "python",
   "nbconvert_exporter": "python",
   "pygments_lexer": "ipython3",
   "version": "3.10.12"
  }
 },
 "nbformat": 4,
 "nbformat_minor": 2
}
