{
 "cells": [
  {
   "cell_type": "code",
   "execution_count": null,
   "metadata": {},
   "outputs": [],
   "source": [
    "# import array_to_latex as a2l \n",
    "# import numpy as np"
   ]
  },
  {
   "cell_type": "code",
   "execution_count": 27,
   "metadata": {},
   "outputs": [],
   "source": [
    "from sympy import symbols, Matrix, sqrt, Rational, latex, evaluate, N\n",
    "from sympy import Max"
   ]
  },
  {
   "cell_type": "code",
   "execution_count": 64,
   "metadata": {},
   "outputs": [],
   "source": [
    "# Input features\n",
    "X = Matrix([[1], [1], [1], [1]])\n",
    "# First layer\n",
    "W_0 = Matrix([[Rational(1, 2), -Rational(2, 10)]])\n"
   ]
  },
  {
   "cell_type": "markdown",
   "metadata": {},
   "source": [
    "# Star graph $S^{4}$"
   ]
  },
  {
   "cell_type": "code",
   "execution_count": 35,
   "metadata": {},
   "outputs": [
    {
     "data": {
      "text/latex": [
       "$\\displaystyle \\left[\\begin{matrix}\\frac{1}{8} + \\frac{3 \\sqrt{2}}{8} & 0\\\\\\frac{\\sqrt{2}}{8} + \\frac{1}{4} & 0\\\\\\frac{\\sqrt{2}}{8} + \\frac{1}{4} & 0\\\\\\frac{\\sqrt{2}}{8} + \\frac{1}{4} & 0\\end{matrix}\\right]$"
      ],
      "text/plain": [
       "Matrix([\n",
       "[1/8 + 3*sqrt(2)/8, 0],\n",
       "[  sqrt(2)/8 + 1/4, 0],\n",
       "[  sqrt(2)/8 + 1/4, 0],\n",
       "[  sqrt(2)/8 + 1/4, 0]])"
      ]
     },
     "execution_count": 35,
     "metadata": {},
     "output_type": "execute_result"
    }
   ],
   "source": [
    "# Define the variable u\n",
    "u = 1/sqrt(2)\n",
    "\n",
    "A = Rational(1, 2) * Matrix([\n",
    "    [Rational(1, 2), u, u, u],\n",
    "    [u, 1, 0, 0],\n",
    "    [u, 0, 1, 0],\n",
    "    [u, 0, 0, 1]\n",
    "])\n",
    "Z_0_before_relu = A*X*W_0\n",
    "Z_0 = Z_0_before_relu.applyfunc(lambda x: Max(0, x))\n",
    "Z_0\n"
   ]
  },
  {
   "cell_type": "code",
   "execution_count": 34,
   "metadata": {},
   "outputs": [
    {
     "data": {
      "text/latex": [
       "$\\displaystyle \\left[\\begin{matrix}\\frac{3}{320} + \\frac{9 \\sqrt{2}}{320} + \\frac{9 \\sqrt{2} \\left(\\frac{\\sqrt{2}}{8} + \\frac{1}{4}\\right)}{40} & 0 & \\frac{1}{40} + \\frac{3 \\sqrt{2}}{40} + \\frac{3 \\sqrt{2} \\left(\\frac{\\sqrt{2}}{8} + \\frac{1}{4}\\right)}{5} & \\frac{1}{64} + \\frac{3 \\sqrt{2}}{64} + \\frac{3 \\sqrt{2} \\left(\\frac{\\sqrt{2}}{8} + \\frac{1}{4}\\right)}{8}\\\\\\frac{3 \\sqrt{2}}{160} + \\frac{3}{80} + \\frac{3 \\sqrt{2} \\cdot \\left(\\frac{1}{8} + \\frac{3 \\sqrt{2}}{8}\\right)}{40} & 0 & \\frac{\\sqrt{2}}{20} + \\frac{1}{10} + \\frac{\\sqrt{2} \\cdot \\left(\\frac{1}{8} + \\frac{3 \\sqrt{2}}{8}\\right)}{5} & \\frac{\\sqrt{2}}{32} + \\frac{1}{16} + \\frac{\\sqrt{2} \\cdot \\left(\\frac{1}{8} + \\frac{3 \\sqrt{2}}{8}\\right)}{8}\\\\\\frac{3 \\sqrt{2}}{160} + \\frac{3}{80} + \\frac{3 \\sqrt{2} \\cdot \\left(\\frac{1}{8} + \\frac{3 \\sqrt{2}}{8}\\right)}{40} & 0 & \\frac{\\sqrt{2}}{20} + \\frac{1}{10} + \\frac{\\sqrt{2} \\cdot \\left(\\frac{1}{8} + \\frac{3 \\sqrt{2}}{8}\\right)}{5} & \\frac{\\sqrt{2}}{32} + \\frac{1}{16} + \\frac{\\sqrt{2} \\cdot \\left(\\frac{1}{8} + \\frac{3 \\sqrt{2}}{8}\\right)}{8}\\\\\\frac{3 \\sqrt{2}}{160} + \\frac{3}{80} + \\frac{3 \\sqrt{2} \\cdot \\left(\\frac{1}{8} + \\frac{3 \\sqrt{2}}{8}\\right)}{40} & 0 & \\frac{\\sqrt{2}}{20} + \\frac{1}{10} + \\frac{\\sqrt{2} \\cdot \\left(\\frac{1}{8} + \\frac{3 \\sqrt{2}}{8}\\right)}{5} & \\frac{\\sqrt{2}}{32} + \\frac{1}{16} + \\frac{\\sqrt{2} \\cdot \\left(\\frac{1}{8} + \\frac{3 \\sqrt{2}}{8}\\right)}{8}\\end{matrix}\\right]$"
      ],
      "text/plain": [
       "Matrix([\n",
       "[ 3/320 + 9*sqrt(2)/320 + 9*sqrt(2)*(sqrt(2)/8 + 1/4)/40, 0, 1/40 + 3*sqrt(2)/40 + 3*sqrt(2)*(sqrt(2)/8 + 1/4)/5, 1/64 + 3*sqrt(2)/64 + 3*sqrt(2)*(sqrt(2)/8 + 1/4)/8],\n",
       "[3*sqrt(2)/160 + 3/80 + 3*sqrt(2)*(1/8 + 3*sqrt(2)/8)/40, 0,   sqrt(2)/20 + 1/10 + sqrt(2)*(1/8 + 3*sqrt(2)/8)/5,   sqrt(2)/32 + 1/16 + sqrt(2)*(1/8 + 3*sqrt(2)/8)/8],\n",
       "[3*sqrt(2)/160 + 3/80 + 3*sqrt(2)*(1/8 + 3*sqrt(2)/8)/40, 0,   sqrt(2)/20 + 1/10 + sqrt(2)*(1/8 + 3*sqrt(2)/8)/5,   sqrt(2)/32 + 1/16 + sqrt(2)*(1/8 + 3*sqrt(2)/8)/8],\n",
       "[3*sqrt(2)/160 + 3/80 + 3*sqrt(2)*(1/8 + 3*sqrt(2)/8)/40, 0,   sqrt(2)/20 + 1/10 + sqrt(2)*(1/8 + 3*sqrt(2)/8)/5,   sqrt(2)/32 + 1/16 + sqrt(2)*(1/8 + 3*sqrt(2)/8)/8]])"
      ]
     },
     "execution_count": 34,
     "metadata": {},
     "output_type": "execute_result"
    }
   ],
   "source": [
    "W_1 = Matrix([\n",
    "    [Rational(3,10), -Rational(2,5), Rational(4,5), Rational(1,2)],\n",
    "    [-1.1, 0.6, -0.1, 0.7]\n",
    "])\n",
    "Z_1 = (A*Z_0*W_1).applyfunc(lambda x: Max(0, x))\n",
    "Z_1"
   ]
  },
  {
   "cell_type": "code",
   "execution_count": 47,
   "metadata": {},
   "outputs": [
    {
     "name": "stdout",
     "output_type": "stream",
     "text": [
      "[[0.65533009 0.        ]\n",
      " [0.4267767  0.        ]\n",
      " [0.4267767  0.        ]\n",
      " [0.4267767  0.        ]] \n",
      "[[0.655330085889911 0]\n",
      " [0.426776695296637 0]\n",
      " [0.426776695296637 0]\n",
      " [0.426776695296637 0]]\n",
      "[[0.18494927 0.         0.49319805 0.30824878]\n",
      " [0.13352476 0.         0.35606602 0.22254126]\n",
      " [0.13352476 0.         0.35606602 0.22254126]\n",
      " [0.13352476 0.         0.35606602 0.22254126]] \n",
      "[[0.184949269325230 0 0.493198051533946 0.308248782208716]\n",
      " [0.133524756441743 0 0.356066017177982 0.222541260736239]\n",
      " [0.133524756441743 0 0.356066017177982 0.222541260736239]\n",
      " [0.133524756441743 0 0.356066017177982 0.222541260736239]]\n"
     ]
    }
   ],
   "source": [
    "from utils import normalize_adjacency\n",
    "import networkx as nx\n",
    "import numpy as np\n",
    "G = nx.star_graph(3)\n",
    "Anorm = normalize_adjacency(nx.adjacency_matrix(G))\n",
    "X = np.ones((4, 1))\n",
    "W0 = np.array([[0.5, -0.2]])\n",
    "W1 = np.array([[0.3, -0.4, 0.8, 0.5], [-1.1, 0.6, -0.1, 0.7]])\n",
    "Z0 = (Anorm@X@W0).clip(0, None)\n",
    "Z1 = (Anorm@Z0@W1).clip(0, None)\n",
    "print(f\"{Z0} \\n{np.array(N(Z_0))}\")\n",
    "print(f\"{Z1} \\n{np.array(N(Z_1))}\")\n"
   ]
  },
  {
   "cell_type": "code",
   "execution_count": 90,
   "metadata": {},
   "outputs": [],
   "source": [
    "# import array_to_latex as a2l "
   ]
  },
  {
   "cell_type": "markdown",
   "metadata": {},
   "source": [
    "# Cycle graph $C^{4}$"
   ]
  },
  {
   "cell_type": "code",
   "execution_count": 91,
   "metadata": {},
   "outputs": [
    {
     "data": {
      "text/plain": [
       "array([[0.33333333, 0.33333333, 0.        , 0.33333333],\n",
       "       [0.33333333, 0.33333333, 0.33333333, 0.        ],\n",
       "       [0.        , 0.33333333, 0.33333333, 0.33333333],\n",
       "       [0.33333333, 0.        , 0.33333333, 0.33333333]])"
      ]
     },
     "execution_count": 91,
     "metadata": {},
     "output_type": "execute_result"
    }
   ],
   "source": [
    "C = nx.cycle_graph(4)\n",
    "Anorm = normalize_adjacency(nx.adjacency_matrix(C))\n",
    "Anorm.toarray()\n",
    "# a2l.to_ltx(nx.adjacency_matrix(C).toarray(), frmt='{:.2f}', arraytype = 'bmatrix')\n",
    "# a2l.to_ltx(Anorm.toarray(), frmt='{:.2f}', arraytype = 'bmatrix')"
   ]
  },
  {
   "cell_type": "code",
   "execution_count": 92,
   "metadata": {},
   "outputs": [
    {
     "data": {
      "text/latex": [
       "$\\displaystyle \\left[\\begin{matrix}0.5 & 0\\\\0.5 & 0\\\\0.5 & 0\\\\0.5 & 0\\end{matrix}\\right]$"
      ],
      "text/plain": [
       "Matrix([\n",
       "[0.5, 0],\n",
       "[0.5, 0],\n",
       "[0.5, 0],\n",
       "[0.5, 0]])"
      ]
     },
     "execution_count": 92,
     "metadata": {},
     "output_type": "execute_result"
    }
   ],
   "source": [
    "A = Rational(1, 3) * Matrix([\n",
    "    [1, 1, 0, 1],\n",
    "    [1, 1, 1, 0],\n",
    "    [0, 1, 1, 1],\n",
    "    [1, 0, 1, 1]\n",
    "])\n",
    "Z_0_before_relu = A*X*W_0\n",
    "Z_0 = Z_0_before_relu.applyfunc(lambda x: Max(0, x))\n",
    "# print(latex(Z_0))\n",
    "Z_0"
   ]
  },
  {
   "cell_type": "code",
   "execution_count": 93,
   "metadata": {},
   "outputs": [
    {
     "data": {
      "text/latex": [
       "$\\displaystyle \\left[\\begin{matrix}0.15 & 0 & 0.4 & 0.25\\\\0.15 & 0 & 0.4 & 0.25\\\\0.15 & 0 & 0.4 & 0.25\\\\0.15 & 0 & 0.4 & 0.25\\end{matrix}\\right]$"
      ],
      "text/plain": [
       "Matrix([\n",
       "[0.15, 0, 0.4, 0.25],\n",
       "[0.15, 0, 0.4, 0.25],\n",
       "[0.15, 0, 0.4, 0.25],\n",
       "[0.15, 0, 0.4, 0.25]])"
      ]
     },
     "execution_count": 93,
     "metadata": {},
     "output_type": "execute_result"
    }
   ],
   "source": [
    "Z_1 = (A*Z_0*W_1).applyfunc(lambda x: Max(0, x))\n",
    "# print(latex(Z_1))\n",
    "Z_1"
   ]
  },
  {
   "cell_type": "markdown",
   "metadata": {},
   "source": [
    "### Numerical validation"
   ]
  },
  {
   "cell_type": "code",
   "execution_count": 94,
   "metadata": {},
   "outputs": [
    {
     "data": {
      "text/plain": [
       "(array([[0.5, 0. ],\n",
       "        [0.5, 0. ],\n",
       "        [0.5, 0. ],\n",
       "        [0.5, 0. ]]),\n",
       " array([[0.15, 0.  , 0.4 , 0.25],\n",
       "        [0.15, 0.  , 0.4 , 0.25],\n",
       "        [0.15, 0.  , 0.4 , 0.25],\n",
       "        [0.15, 0.  , 0.4 , 0.25]]))"
      ]
     },
     "execution_count": 94,
     "metadata": {},
     "output_type": "execute_result"
    }
   ],
   "source": [
    "X = np.ones((4, 1))\n",
    "W0 = np.array([[0.5, -0.2]])\n",
    "W1 = np.array([[0.3, -0.4, 0.8, 0.5], [-1.1, 0.6, -0.1, 0.7]])\n",
    "Z0 = (Anorm@X@W0).clip(0, None)\n",
    "Z1 = (Anorm@Z0@W1).clip(0, None)\n",
    "Z0, Z1"
   ]
  }
 ],
 "metadata": {
  "kernelspec": {
   "display_name": "Python 3",
   "language": "python",
   "name": "python3"
  },
  "language_info": {
   "codemirror_mode": {
    "name": "ipython",
    "version": 3
   },
   "file_extension": ".py",
   "mimetype": "text/x-python",
   "name": "python",
   "nbconvert_exporter": "python",
   "pygments_lexer": "ipython3",
   "version": "3.10.12"
  }
 },
 "nbformat": 4,
 "nbformat_minor": 2
}
