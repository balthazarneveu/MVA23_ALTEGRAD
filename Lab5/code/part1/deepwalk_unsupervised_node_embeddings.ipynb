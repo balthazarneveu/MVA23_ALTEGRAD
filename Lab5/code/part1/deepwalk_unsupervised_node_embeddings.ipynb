{
 "cells": [
  {
   "cell_type": "code",
   "execution_count": null,
   "metadata": {},
   "outputs": [],
   "source": [
    "from deepwalk import deepwalk, generate_walks, random_walk\n",
    "%load_ext autoreload\n",
    "%autoreload 2\n",
    "\n",
    "\"\"\"\n",
    "Deep Learning on Graphs - ALTEGRAD - Nov 2023\n",
    "\"\"\"\n",
    "\n",
    "import numpy as np\n",
    "import networkx as nx\n",
    "from random import randint\n",
    "from gensim.models import Word2Vec\n",
    "G = nx.star_graph(5)\n",
    "walks = generate_walks(G, 10, 5)\n",
    "np.array(walks).shape\n"
   ]
  },
  {
   "cell_type": "code",
   "execution_count": null,
   "metadata": {},
   "outputs": [],
   "source": [
    "\"\"\"\n",
    "Deep Learning on Graphs - ALTEGRAD - Nov 2023\n",
    "\"\"\"\n",
    "\n",
    "import networkx as nx\n",
    "import numpy as np\n",
    "from deepwalk import deepwalk\n",
    "from sklearn.decomposition import PCA\n",
    "from sklearn.manifold import TSNE\n",
    "import matplotlib.pyplot as plt\n",
    "\n",
    "# Loads the web graph\n",
    "G = nx.read_weighted_edgelist('../data/web_sample.edgelist', delimiter=' ', create_using=nx.Graph())\n",
    "print(\"Number of nodes:\", G.number_of_nodes())\n",
    "print(\"Number of edges:\", G.number_of_edges())\n",
    "\n",
    "\n",
    "############## Task 3\n",
    "# Extracts a set of random walks from the web graph and feeds them to the Skipgram model\n",
    "n_dim = 128\n",
    "n_walks = 10\n",
    "walk_length = 20\n",
    "\n",
    "# OPTIONAL\n",
    "# # Create a mapping from strings to integers\n",
    "# node_mapping = {node: i for i, node in enumerate(G.nodes())}\n",
    "\n",
    "# # Create a reverse mapping if you need to convert back to strings later\n",
    "# reverse_mapping = {i: node for node, i in node_mapping.items()}\n",
    "\n",
    "# G_int = nx.relabel_nodes(G, node_mapping)"
   ]
  },
  {
   "cell_type": "code",
   "execution_count": null,
   "metadata": {},
   "outputs": [],
   "source": [
    "n_dim = 128\n",
    "n_walks = 10\n",
    "walk_length = 20\n",
    "walks = generate_walks(G, n_walks, walk_length)"
   ]
  },
  {
   "cell_type": "code",
   "execution_count": null,
   "metadata": {},
   "outputs": [],
   "source": [
    "walks.shape"
   ]
  },
  {
   "cell_type": "code",
   "execution_count": null,
   "metadata": {},
   "outputs": [],
   "source": [
    "model = Word2Vec(vector_size=n_dim, window=8, min_count=0, sg=1, workers=4, hs=1)\n",
    "model.build_vocab(walks)"
   ]
  },
  {
   "cell_type": "code",
   "execution_count": null,
   "metadata": {},
   "outputs": [],
   "source": [
    "model.train(walks, total_examples=model.corpus_count, epochs=5)"
   ]
  }
 ],
 "metadata": {
  "kernelspec": {
   "display_name": "Python 3",
   "language": "python",
   "name": "python3"
  },
  "language_info": {
   "codemirror_mode": {
    "name": "ipython",
    "version": 3
   },
   "file_extension": ".py",
   "mimetype": "text/x-python",
   "name": "python",
   "nbconvert_exporter": "python",
   "pygments_lexer": "ipython3",
   "version": "3.10.12"
  }
 },
 "nbformat": 4,
 "nbformat_minor": 2
}
